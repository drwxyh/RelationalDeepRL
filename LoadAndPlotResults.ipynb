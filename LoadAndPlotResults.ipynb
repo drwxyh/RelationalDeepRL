{
 "cells": [
  {
   "cell_type": "markdown",
   "metadata": {},
   "source": [
    "# BoxWorld Results"
   ]
  },
  {
   "cell_type": "code",
   "execution_count": null,
   "metadata": {},
   "outputs": [],
   "source": [
    "colab = False"
   ]
  },
  {
   "cell_type": "code",
   "execution_count": null,
   "metadata": {},
   "outputs": [],
   "source": [
    "import numpy as np\n",
    "import matplotlib.pyplot as plt\n",
    "import torch\n",
    "from RelationalModule import ActorCritic\n",
    "from Utils import train_agent as train\n",
    "from Utils import utils\n",
    "from importlib import reload"
   ]
  },
  {
   "cell_type": "markdown",
   "metadata": {},
   "source": [
    "## Control agent results vs random\n",
    "\n",
    "**Results for unboxed gem**"
   ]
  },
  {
   "cell_type": "code",
   "execution_count": null,
   "metadata": {},
   "outputs": [],
   "source": [
    "load_dir = \"Results/BoxWorld/\"\n",
    "queries = ['control', '5000-episodes']\n",
    "train_dict = utils.load_session(load_dir, queries)"
   ]
  },
  {
   "cell_type": "code",
   "execution_count": null,
   "metadata": {},
   "outputs": [],
   "source": [
    "game_params = train_dict['game_params']\n",
    "HPs = train_dict['HPs']\n",
    "score = train_dict['score']\n",
    "keywords = train_dict['keywords']\n",
    "ID = keywords[-1]"
   ]
  },
  {
   "cell_type": "code",
   "execution_count": null,
   "metadata": {},
   "outputs": [],
   "source": [
    "rnd_mean_score = np.load(\"Results/BoxWorld/Simplified/mean_score_rnd_agent_unboxed_gem.npy\").item()"
   ]
  },
  {
   "cell_type": "code",
   "execution_count": null,
   "metadata": {},
   "outputs": [],
   "source": [
    "plt.figure(figsize=(8,6))\n",
    "n_epochs = np.arange(100, len(score))\n",
    "average_score = np.array([np.mean(score[i:i+100]) for i in range(len(score)-100)])\n",
    "plt.plot(n_epochs, average_score, alpha=0.9, label='control agent')\n",
    "plt.axhline(score.mean(), c='darkorange', label = 'control agent mean')\n",
    "plt.axhline(rnd_mean_score, c='r', label = 'random agent mean')\n",
    "plt.title(\"Performance over time\", fontsize=16)\n",
    "plt.xlabel(\"Number of episodes\", fontsize=16)\n",
    "plt.ylabel(\"Reward moving average [last 100]\", fontsize=16)\n",
    "plt.legend(fontsize=13)\n",
    "plt.show()"
   ]
  },
  {
   "cell_type": "markdown",
   "metadata": {},
   "source": [
    "## Episode rendering\n"
   ]
  },
  {
   "cell_type": "code",
   "execution_count": null,
   "metadata": {},
   "outputs": [],
   "source": [
    "# Load agent \n",
    "if colab:\n",
    "    agent = torch.load(load_dir+\"agent_\"+ID)\n",
    "else:\n",
    "    agent = torch.load(load_dir+\"agent_\"+ID, map_location=torch.device('cpu'))\n",
    "    agent.device = 'cpu'"
   ]
  },
  {
   "cell_type": "code",
   "execution_count": null,
   "metadata": {},
   "outputs": [],
   "source": [
    "reload(utils)"
   ]
  },
  {
   "cell_type": "code",
   "execution_count": null,
   "metadata": {
    "scrolled": false
   },
   "outputs": [],
   "source": [
    "%matplotlib notebook\n",
    "utils.rendering(agent, game_params, save=False)"
   ]
  },
  {
   "cell_type": "markdown",
   "metadata": {},
   "source": [
    "## Old plots"
   ]
  },
  {
   "cell_type": "code",
   "execution_count": null,
   "metadata": {},
   "outputs": [],
   "source": [
    "def print_params(params):\n",
    "    for p in params.keys():\n",
    "        print(p, params[p])"
   ]
  },
  {
   "cell_type": "code",
   "execution_count": null,
   "metadata": {},
   "outputs": [],
   "source": [
    "# Load data\n",
    "save_dir = 'Results/BoxWorld/Simplified/'\n",
    "agent = torch.load(save_dir+\"trained_agent2\", map_location=torch.device('cpu'))\n",
    "game_params = np.load(save_dir+\"game_params2.npy\", allow_pickle=True).item()\n",
    "HPs = np.load(save_dir+\"HP2.npy\", allow_pickle=True).item()\n",
    "score1 = np.load(save_dir+\"performance1.npy\")\n",
    "score2 = np.load(save_dir+\"performance2.npy\")\n",
    "score = np.concatenate((score1,score2))"
   ]
  },
  {
   "cell_type": "code",
   "execution_count": null,
   "metadata": {},
   "outputs": [],
   "source": [
    "print_params(HPs)"
   ]
  },
  {
   "cell_type": "code",
   "execution_count": null,
   "metadata": {},
   "outputs": [],
   "source": [
    "print_params(game_params)"
   ]
  },
  {
   "cell_type": "code",
   "execution_count": null,
   "metadata": {},
   "outputs": [],
   "source": [
    "def plot_score(score):\n",
    "    plt.figure(figsize=(8,6))\n",
    "    n_epochs = np.arange(100, len(score))\n",
    "    average_score = np.array([np.mean(score[i:i+100]) for i in range(len(score)-100)])\n",
    "    plt.plot(n_epochs, average_score, alpha=0.9)\n",
    "    plt.title(\"Performance over time\", fontsize=16)\n",
    "    plt.xlabel(\"Number of episodes\", fontsize=16)\n",
    "    plt.ylabel(\"Reward moving average [last 100]\", fontsize=16)\n",
    "    plt.show()"
   ]
  },
  {
   "cell_type": "code",
   "execution_count": null,
   "metadata": {},
   "outputs": [],
   "source": [
    "plot_score(score)"
   ]
  }
 ],
 "metadata": {
  "kernelspec": {
   "display_name": "torch",
   "language": "python",
   "name": "torch"
  },
  "language_info": {
   "codemirror_mode": {
    "name": "ipython",
    "version": 3
   },
   "file_extension": ".py",
   "mimetype": "text/x-python",
   "name": "python",
   "nbconvert_exporter": "python",
   "pygments_lexer": "ipython3",
   "version": "3.7.6"
  }
 },
 "nbformat": 4,
 "nbformat_minor": 2
}
