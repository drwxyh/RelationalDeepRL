{
 "cells": [
  {
   "cell_type": "code",
   "execution_count": 1,
   "metadata": {},
   "outputs": [],
   "source": [
    "colab = False\n",
    "\n",
    "if colab:\n",
    "    from google.colab import drive\n",
    "    drive.mount('/content/gdrive')\n",
    "    !git clone https://github.com/deepmind/pycolab.git\n",
    "    !git clone https://github.com/nicoladainese96/RelationalDeepRL.git\n",
    "    !pip install pycolab"
   ]
  },
  {
   "cell_type": "code",
   "execution_count": 2,
   "metadata": {},
   "outputs": [],
   "source": [
    "import numpy as np\n",
    "import matplotlib.pyplot as plt\n",
    "import torch\n",
    "if colab: \n",
    "    import sys\n",
    "    sys.path.insert(0, 'RelationalDeepRL')\n",
    "\n",
    "from RelationalModule import ActorCritic, ControlActorCritic\n",
    "from Utils import train_agent_sandbox as train\n",
    "from Utils import test_env\n",
    "from importlib import reload"
   ]
  },
  {
   "cell_type": "code",
   "execution_count": 3,
   "metadata": {},
   "outputs": [],
   "source": [
    "def random_start(X=10, Y=10):\n",
    "    s1, s2 = np.random.choice(X*Y, 2, replace=False)\n",
    "    initial = [s1//X, s1%X]\n",
    "    goal = [s2//X, s2%X]\n",
    "    return initial, goal"
   ]
  },
  {
   "cell_type": "code",
   "execution_count": 4,
   "metadata": {},
   "outputs": [],
   "source": [
    "# Variable parameters\n",
    "X = 10\n",
    "Y = 10\n",
    "initial, goal = random_start(X, Y)\n",
    "\n",
    "# All game parameters\n",
    "game_params = dict(x=X, y=Y, initial=initial, goal=goal, max_steps=50, greyscale_state=True)"
   ]
  },
  {
   "cell_type": "code",
   "execution_count": 5,
   "metadata": {},
   "outputs": [],
   "source": [
    "HPs = dict(action_space=4, lr=0.003, gamma=0.99, TD=True, twin=True, tau=0.2, n_steps=40,\n",
    "           n_kernels=96, vocab_size = 117, n_dim=12, n_features=64, n_heads=4, n_attn_modules=2, \n",
    "           n_linears=4, max_pool=False, linear_size=X)\n",
    "if colab:\n",
    "    HPs['device'] = 'cuda'\n",
    "else:\n",
    "    HPs['device'] = 'cpu'\n",
    "    \n",
    "# Relational Agent\n",
    "agent = ActorCritic.BoxWorldA2C(**HPs)"
   ]
  },
  {
   "cell_type": "code",
   "execution_count": 6,
   "metadata": {},
   "outputs": [
    {
     "data": {
      "text/plain": [
       "<module 'Utils.train_agent_sandbox' from '/home/nicola/Nicola_unipd/MasterThesis/RelationalDeepRL/Utils/train_agent_sandbox.py'>"
      ]
     },
     "execution_count": 6,
     "metadata": {},
     "output_type": "execute_result"
    }
   ],
   "source": [
    "reload(train)"
   ]
  },
  {
   "cell_type": "code",
   "execution_count": 7,
   "metadata": {
    "scrolled": false
   },
   "outputs": [],
   "source": [
    "env = test_env.Sandbox(**game_params)\n",
    "rewards, log_probs, distributions, states, done, bootstrap = train.play_episode(agent, env, max_steps=50)"
   ]
  },
  {
   "cell_type": "code",
   "execution_count": 8,
   "metadata": {},
   "outputs": [
    {
     "name": "stdout",
     "output_type": "stream",
     "text": [
      "rewards:  (50,)\n",
      "log_probs:  50\n",
      "distributions:  50\n",
      "states:  (51, 1, 10, 10)\n",
      "done:  (50,)\n",
      "bootstrap:  (50,)\n"
     ]
    }
   ],
   "source": [
    "print(\"rewards: \", rewards.shape)\n",
    "print(\"log_probs: \", len(log_probs))\n",
    "print(\"distributions: \", len(distributions))\n",
    "print(\"states: \", states.shape)\n",
    "print(\"done: \", done.shape)\n",
    "print(\"bootstrap: \", bootstrap.shape)"
   ]
  },
  {
   "cell_type": "code",
   "execution_count": 9,
   "metadata": {
    "scrolled": true
   },
   "outputs": [
    {
     "name": "stdout",
     "output_type": "stream",
     "text": [
      "rewards: \n",
      " [ 0  0 -1  0  0 -1  0  0  0  0  0  0  0  0  0  0  0 -1  0  0 -1 -1  0  0\n",
      "  0 -1  0  0  0  0  0 -1  0  0  0 -1  0  0  0  0  0  0  0 -1  0  0  0  0\n",
      "  0  0]\n",
      "log_probs: \n",
      " [tensor(-0.4518, grad_fn=<SelectBackward>), tensor(-0.4462, grad_fn=<SelectBackward>), tensor(-0.6891, grad_fn=<SelectBackward>), tensor(-1.3542, grad_fn=<SelectBackward>), tensor(-0.6778, grad_fn=<SelectBackward>), tensor(-1.9877, grad_fn=<SelectBackward>), tensor(-1.9982, grad_fn=<SelectBackward>), tensor(-1.5862, grad_fn=<SelectBackward>), tensor(-0.9418, grad_fn=<SelectBackward>), tensor(-0.9508, grad_fn=<SelectBackward>), tensor(-1.3853, grad_fn=<SelectBackward>), tensor(-2.0988, grad_fn=<SelectBackward>), tensor(-1.7523, grad_fn=<SelectBackward>), tensor(-1.0987, grad_fn=<SelectBackward>), tensor(-1.3572, grad_fn=<SelectBackward>), tensor(-1.3141, grad_fn=<SelectBackward>), tensor(-1.5587, grad_fn=<SelectBackward>), tensor(-1.0980, grad_fn=<SelectBackward>), tensor(-1.4323, grad_fn=<SelectBackward>), tensor(-1.1094, grad_fn=<SelectBackward>), tensor(-1.2708, grad_fn=<SelectBackward>), tensor(-0.3433, grad_fn=<SelectBackward>), tensor(-1.0611, grad_fn=<SelectBackward>), tensor(-0.8222, grad_fn=<SelectBackward>), tensor(-1.4284, grad_fn=<SelectBackward>), tensor(-0.6619, grad_fn=<SelectBackward>), tensor(-1.3741, grad_fn=<SelectBackward>), tensor(-1.7153, grad_fn=<SelectBackward>), tensor(-0.7584, grad_fn=<SelectBackward>), tensor(-1.2846, grad_fn=<SelectBackward>), tensor(-1.0077, grad_fn=<SelectBackward>), tensor(-1.6678, grad_fn=<SelectBackward>), tensor(-0.9701, grad_fn=<SelectBackward>), tensor(-1.5030, grad_fn=<SelectBackward>), tensor(-0.8346, grad_fn=<SelectBackward>), tensor(-1.4426, grad_fn=<SelectBackward>), tensor(-1.8977, grad_fn=<SelectBackward>), tensor(-1.3726, grad_fn=<SelectBackward>), tensor(-0.9637, grad_fn=<SelectBackward>), tensor(-1.3715, grad_fn=<SelectBackward>), tensor(-0.9615, grad_fn=<SelectBackward>), tensor(-0.4297, grad_fn=<SelectBackward>), tensor(-1.1071, grad_fn=<SelectBackward>), tensor(-1.2397, grad_fn=<SelectBackward>), tensor(-1.2753, grad_fn=<SelectBackward>), tensor(-0.6074, grad_fn=<SelectBackward>), tensor(-1.3572, grad_fn=<SelectBackward>), tensor(-1.2741, grad_fn=<SelectBackward>), tensor(-1.4217, grad_fn=<SelectBackward>), tensor(-1.1570, grad_fn=<SelectBackward>)]\n",
      "distributions: \n",
      " [tensor([[0.1488, 0.0340, 0.6365, 0.1807]], grad_fn=<ExpBackward>), tensor([[0.1340, 0.1050, 0.6400, 0.1209]], grad_fn=<ExpBackward>), tensor([[0.1566, 0.0919, 0.5020, 0.2495]], grad_fn=<ExpBackward>), tensor([[0.1842, 0.0554, 0.5023, 0.2581]], grad_fn=<ExpBackward>), tensor([[0.1732, 0.0442, 0.5077, 0.2748]], grad_fn=<ExpBackward>), tensor([[0.1560, 0.2850, 0.1370, 0.4220]], grad_fn=<ExpBackward>), tensor([[0.1356, 0.0908, 0.4195, 0.3541]], grad_fn=<ExpBackward>), tensor([[0.1219, 0.2047, 0.3693, 0.3041]], grad_fn=<ExpBackward>), tensor([[0.3899, 0.1414, 0.3292, 0.1395]], grad_fn=<ExpBackward>), tensor([[0.0935, 0.0757, 0.4444, 0.3864]], grad_fn=<ExpBackward>), tensor([[0.3021, 0.1754, 0.2502, 0.2723]], grad_fn=<ExpBackward>), tensor([[0.1226, 0.2702, 0.1214, 0.4859]], grad_fn=<ExpBackward>), tensor([[0.3134, 0.1734, 0.3314, 0.1818]], grad_fn=<ExpBackward>), tensor([[0.2762, 0.0935, 0.2969, 0.3333]], grad_fn=<ExpBackward>), tensor([[0.4693, 0.0510, 0.2574, 0.2223]], grad_fn=<ExpBackward>), tensor([[0.2606, 0.0810, 0.3897, 0.2687]], grad_fn=<ExpBackward>), tensor([[0.3206, 0.2020, 0.2104, 0.2670]], grad_fn=<ExpBackward>), tensor([[0.1682, 0.1276, 0.3335, 0.3707]], grad_fn=<ExpBackward>), tensor([[0.1858, 0.0884, 0.4871, 0.2388]], grad_fn=<ExpBackward>), tensor([[0.1656, 0.1878, 0.3298, 0.3168]], grad_fn=<ExpBackward>), tensor([[0.2045, 0.1337, 0.2806, 0.3813]], grad_fn=<ExpBackward>), tensor([[0.1074, 0.0534, 0.7094, 0.1298]], grad_fn=<ExpBackward>), tensor([[0.1916, 0.1970, 0.2653, 0.3461]], grad_fn=<ExpBackward>), tensor([[0.0872, 0.1282, 0.4394, 0.3452]], grad_fn=<ExpBackward>), tensor([[0.2397, 0.0585, 0.2925, 0.4093]], grad_fn=<ExpBackward>), tensor([[0.1480, 0.1148, 0.5158, 0.2214]], grad_fn=<ExpBackward>), tensor([[0.2181, 0.2391, 0.2898, 0.2531]], grad_fn=<ExpBackward>), tensor([[0.2638, 0.3490, 0.1799, 0.2073]], grad_fn=<ExpBackward>), tensor([[0.1908, 0.1931, 0.1476, 0.4684]], grad_fn=<ExpBackward>), tensor([[0.0719, 0.0344, 0.6170, 0.2768]], grad_fn=<ExpBackward>), tensor([[0.1218, 0.1049, 0.3650, 0.4082]], grad_fn=<ExpBackward>), tensor([[0.1887, 0.1008, 0.3576, 0.3529]], grad_fn=<ExpBackward>), tensor([[0.2606, 0.2113, 0.3790, 0.1490]], grad_fn=<ExpBackward>), tensor([[0.1635, 0.0974, 0.5166, 0.2225]], grad_fn=<ExpBackward>), tensor([[0.1434, 0.1562, 0.2663, 0.4340]], grad_fn=<ExpBackward>), tensor([[0.2363, 0.1105, 0.4959, 0.1573]], grad_fn=<ExpBackward>), tensor([[0.1475, 0.1499, 0.3097, 0.3929]], grad_fn=<ExpBackward>), tensor([[0.0640, 0.0408, 0.6417, 0.2535]], grad_fn=<ExpBackward>), tensor([[0.1846, 0.1774, 0.2565, 0.3815]], grad_fn=<ExpBackward>), tensor([[0.2923, 0.0707, 0.3832, 0.2537]], grad_fn=<ExpBackward>), tensor([[0.3823, 0.0709, 0.3239, 0.2229]], grad_fn=<ExpBackward>), tensor([[0.1408, 0.0466, 0.6507, 0.1619]], grad_fn=<ExpBackward>), tensor([[0.2132, 0.3304, 0.1258, 0.3305]], grad_fn=<ExpBackward>), tensor([[0.2895, 0.1831, 0.2376, 0.2899]], grad_fn=<ExpBackward>), tensor([[0.1166, 0.3293, 0.2793, 0.2748]], grad_fn=<ExpBackward>), tensor([[0.0491, 0.0752, 0.5448, 0.3309]], grad_fn=<ExpBackward>), tensor([[0.2876, 0.1465, 0.2574, 0.3085]], grad_fn=<ExpBackward>), tensor([[0.1464, 0.2454, 0.3286, 0.2797]], grad_fn=<ExpBackward>), tensor([[0.2198, 0.1195, 0.2413, 0.4194]], grad_fn=<ExpBackward>), tensor([[0.1236, 0.4836, 0.0783, 0.3144]], grad_fn=<ExpBackward>)]\n",
      "states: \n",
      " [[[[32 32 32 ... 32 32 32]\n",
      "   [32 32 32 ... 32 32 32]\n",
      "   [32 32 32 ... 32 32 32]\n",
      "   ...\n",
      "   [32 32 42 ... 46 32 32]\n",
      "   [32 32 32 ... 32 32 32]\n",
      "   [32 32 32 ... 32 32 32]]]\n",
      "\n",
      "\n",
      " [[[32 32 32 ... 32 32 32]\n",
      "   [32 32 32 ... 32 32 32]\n",
      "   [32 32 32 ... 32 32 32]\n",
      "   ...\n",
      "   [32 32 42 ... 32 32 32]\n",
      "   [32 32 32 ... 46 32 32]\n",
      "   [32 32 32 ... 32 32 32]]]\n",
      "\n",
      "\n",
      " [[[32 32 32 ... 32 32 32]\n",
      "   [32 32 32 ... 32 32 32]\n",
      "   [32 32 32 ... 32 32 32]\n",
      "   ...\n",
      "   [32 32 42 ... 32 32 32]\n",
      "   [32 32 32 ... 32 32 32]\n",
      "   [32 32 32 ... 46 32 32]]]\n",
      "\n",
      "\n",
      " ...\n",
      "\n",
      "\n",
      " [[[32 32 32 ... 32 32 32]\n",
      "   [32 32 32 ... 32 32 32]\n",
      "   [32 32 32 ... 32 32 32]\n",
      "   ...\n",
      "   [32 32 42 ... 32 32 32]\n",
      "   [32 32 32 ... 32 32 32]\n",
      "   [32 32 32 ... 32 32 32]]]\n",
      "\n",
      "\n",
      " [[[32 32 32 ... 32 32 32]\n",
      "   [32 32 32 ... 32 32 32]\n",
      "   [32 32 32 ... 32 32 32]\n",
      "   ...\n",
      "   [32 32 42 ... 32 32 46]\n",
      "   [32 32 32 ... 32 32 32]\n",
      "   [32 32 32 ... 32 32 32]]]\n",
      "\n",
      "\n",
      " [[[32 32 32 ... 32 32 32]\n",
      "   [32 32 32 ... 32 32 32]\n",
      "   [32 32 32 ... 32 32 32]\n",
      "   ...\n",
      "   [32 32 42 ... 32 32 32]\n",
      "   [32 32 32 ... 32 32 32]\n",
      "   [32 32 32 ... 32 32 32]]]]\n",
      "done: \n",
      " [False False False False False False False False False False False False\n",
      " False False False False False False False False False False False False\n",
      " False False False False False False False False False False False False\n",
      " False False False False False False False False False False False False\n",
      " False  True]\n",
      "bootstrap: \n",
      " [False False False False False False False False False False False False\n",
      " False False False False False False False False False False False False\n",
      " False False False False False False False False False False False False\n",
      " False False False False False False False False False False False False\n",
      " False False]\n"
     ]
    }
   ],
   "source": [
    "print(\"rewards: \\n\", rewards)\n",
    "print(\"log_probs: \\n\", log_probs)\n",
    "print(\"distributions: \\n\", distributions)\n",
    "print(\"states: \\n\", states)\n",
    "print(\"done: \\n\", done)\n",
    "print(\"bootstrap: \\n\", bootstrap)"
   ]
  },
  {
   "cell_type": "markdown",
   "metadata": {},
   "source": [
    "Variables log_probs and distributions have a gradient attached, as it should be. Distributions is used only if the entropy regularization is active."
   ]
  },
  {
   "cell_type": "code",
   "execution_count": 10,
   "metadata": {
    "scrolled": false
   },
   "outputs": [
    {
     "data": {
      "text/plain": [
       "(20.554664611816406, -116.46737670898438)"
      ]
     },
     "execution_count": 10,
     "metadata": {},
     "output_type": "execute_result"
    }
   ],
   "source": [
    "agent.update(rewards, log_probs, distributions, states, done, bootstrap)"
   ]
  },
  {
   "cell_type": "markdown",
   "metadata": {},
   "source": [
    "# Training cycle"
   ]
  },
  {
   "cell_type": "code",
   "execution_count": 13,
   "metadata": {},
   "outputs": [
    {
     "data": {
      "text/plain": [
       "<module 'Utils.train_agent_sandbox' from '/home/nicola/Nicola_unipd/MasterThesis/RelationalDeepRL/Utils/train_agent_sandbox.py'>"
      ]
     },
     "execution_count": 13,
     "metadata": {},
     "output_type": "execute_result"
    }
   ],
   "source": [
    "reload(train)"
   ]
  },
  {
   "cell_type": "code",
   "execution_count": 14,
   "metadata": {},
   "outputs": [
    {
     "name": "stdout",
     "output_type": "stream",
     "text": [
      "Episode 10 - reward: -16.50\n",
      "Episode 20 - reward: -11.80\n",
      "Episode 30 - reward: -6.70\n",
      "Episode 40 - reward: -6.80\n",
      "Episode 50 - reward: -5.30\n",
      "Episode 60 - reward: -5.30\n",
      "Episode 70 - reward: -2.50\n",
      "Episode 80 - reward: -5.30\n",
      "Episode 90 - reward: 1.00\n",
      "Episode 100 - reward: 1.00\n"
     ]
    }
   ],
   "source": [
    "results = train.train_sandbox(agent, game_params, n_episodes = 100, max_steps=50, return_agent=False)"
   ]
  },
  {
   "cell_type": "code",
   "execution_count": 16,
   "metadata": {},
   "outputs": [],
   "source": [
    "score, asymptotic_score, asymptotic_std = results"
   ]
  },
  {
   "cell_type": "code",
   "execution_count": 20,
   "metadata": {},
   "outputs": [
    {
     "data": {
      "image/png": "[encoded data removed]",
      "text/plain": [
       "<Figure size 576x432 with 1 Axes>"
      ]
     },
     "metadata": {
      "needs_background": "light"
     },
     "output_type": "display_data"
    }
   ],
   "source": [
    "plt.figure(figsize=(8,6))\n",
    "n_epochs = np.arange(len(score))\n",
    "plt.plot(n_epochs, score, alpha=0.9)\n",
    "plt.title(\"Performance\", fontsize=16)\n",
    "plt.xlabel(\"Number of epochs\", fontsize=16)\n",
    "plt.ylabel(\"Total reward\", fontsize=16)\n",
    "plt.show()"
   ]
  },
  {
   "cell_type": "code",
   "execution_count": null,
   "metadata": {},
   "outputs": [],
   "source": []
  }
 ],
 "metadata": {
  "kernelspec": {
   "display_name": "torch",
   "language": "python",
   "name": "torch"
  },
  "language_info": {
   "codemirror_mode": {
    "name": "ipython",
    "version": 3
   },
   "file_extension": ".py",
   "mimetype": "text/x-python",
   "name": "python",
   "nbconvert_exporter": "python",
   "pygments_lexer": "ipython3",
   "version": "3.7.6"
  }
 },
 "nbformat": 4,
 "nbformat_minor": 2
}
