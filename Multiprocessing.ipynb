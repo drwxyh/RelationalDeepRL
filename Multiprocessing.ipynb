{
 "cells": [
  {
   "cell_type": "code",
   "execution_count": 1,
   "metadata": {},
   "outputs": [],
   "source": [
    "from AC_modules.Constructor import *\n",
    "from Utils import A3C_training\n",
    "from importlib import reload"
   ]
  },
  {
   "cell_type": "code",
   "execution_count": 2,
   "metadata": {},
   "outputs": [],
   "source": [
    "# Variable parameters\n",
    "X = 5\n",
    "Y = 5\n",
    "initial = [0,0]\n",
    "goal = [4,4]\n",
    "MAX_STEPS = 100\n",
    "\n",
    "game_params = dict(x=X, y=Y, initial=initial, goal=goal, max_steps=MAX_STEPS, \n",
    "                   greyscale_state=True, return_ohe=True)"
   ]
  },
  {
   "cell_type": "code",
   "execution_count": 3,
   "metadata": {},
   "outputs": [
    {
     "data": {
      "text/plain": [
       "{'n_kernels': 36,\n",
       " 'n_features': 16,\n",
       " 'n_heads': 1,\n",
       " 'n_attn_modules': 2,\n",
       " 'feature_hidden_dim': 16,\n",
       " 'feature_n_residuals': 1}"
      ]
     },
     "execution_count": 3,
     "metadata": {},
     "output_type": "execute_result"
    }
   ],
   "source": [
    "relational_HPs = torch.load(\"Results/Sandbox/Supervised/best_HP_S_chosen-residual_UMUT\")\n",
    "relational_HPs['n_features'] = 16 # reduce because otherwise it crashes\n",
    "relational_HPs"
   ]
  },
  {
   "cell_type": "code",
   "execution_count": 4,
   "metadata": {},
   "outputs": [
    {
     "name": "stdout",
     "output_type": "stream",
     "text": [
      "Using device cpu\n",
      "Model:  <class 'AC_modules.Networks.OheNet'>\n",
      "self.model:  <class 'AC_modules.Networks.OheNet'>\n",
      "self.shared:  True\n",
      "self.args:  (4,)\n",
      "self.kwargs:  {'gamma': 0.99, 'tau': 0.3, 'n_steps': 5, 'H': 0.001, 'n_features': 32, 'map_size': 5, 'device': 'cpu'}\n"
     ]
    }
   ],
   "source": [
    "name = \"OheNet\"\n",
    "action_space = 4\n",
    "#n_features = 16\n",
    "\n",
    "#HPs = dict(gamma=0.99, tau=0.3, n_steps=5, H=1e-3, **relational_HPs)\n",
    "HPs = dict(gamma=0.99, tau=0.3, n_steps=5, H=1e-3, n_features=32, map_size=X)\n",
    "learning_rate = 1e-4\n",
    "\n",
    "if torch.cuda.is_available():\n",
    "    HPs['device'] = 'cuda'\n",
    "else:\n",
    "    HPs['device'] = 'cpu'\n",
    "    \n",
    "print(\"Using device \"+HPs['device'])\n",
    "agent_constructor = ActorCriticConstructor(name, True, action_space, **HPs)"
   ]
  },
  {
   "cell_type": "code",
   "execution_count": 17,
   "metadata": {},
   "outputs": [
    {
     "data": {
      "text/plain": [
       "<module 'Utils.A3C_training' from '/home/nicola/Nicola_unipd/MasterThesis/RelationalDeepRL/Utils/A3C_training.py'>"
      ]
     },
     "execution_count": 17,
     "metadata": {},
     "output_type": "execute_result"
    }
   ],
   "source": [
    "reload(A3C_training)"
   ]
  },
  {
   "cell_type": "code",
   "execution_count": null,
   "metadata": {
    "scrolled": false
   },
   "outputs": [
    {
     "name": "stdout",
     "output_type": "stream",
     "text": [
      "device:  cpu\n",
      "device:  cpu\n",
      "Test process started\n",
      "Process 1 started\n",
      "Process 2 started\n",
      "Process 3 started\n",
      "All processes started\n"
     ]
    }
   ],
   "source": [
    "results = A3C_training.train_sandbox(agent_constructor, learning_rate, game_params, n_training_threads=3, n_episodes=10,\n",
    "                  max_steps=MAX_STEPS, return_agent=True, random_init=True)"
   ]
  },
  {
   "cell_type": "code",
   "execution_count": 14,
   "metadata": {},
   "outputs": [],
   "source": [
    "import torch.multiprocessing as mp"
   ]
  },
  {
   "cell_type": "code",
   "execution_count": 16,
   "metadata": {},
   "outputs": [
    {
     "name": "stdout",
     "output_type": "stream",
     "text": [
      "Help on method put in module multiprocessing.queues:\n",
      "\n",
      "put(obj, block=True, timeout=None) method of multiprocessing.queues.Queue instance\n",
      "\n"
     ]
    }
   ],
   "source": [
    "help(mp.Queue().put )"
   ]
  },
  {
   "cell_type": "code",
   "execution_count": null,
   "metadata": {},
   "outputs": [],
   "source": []
  }
 ],
 "metadata": {
  "kernelspec": {
   "display_name": "torch",
   "language": "python",
   "name": "torch"
  },
  "language_info": {
   "codemirror_mode": {
    "name": "ipython",
    "version": 3
   },
   "file_extension": ".py",
   "mimetype": "text/x-python",
   "name": "python",
   "nbconvert_exporter": "python",
   "pygments_lexer": "ipython3",
   "version": "3.7.6"
  }
 },
 "nbformat": 4,
 "nbformat_minor": 2
}
