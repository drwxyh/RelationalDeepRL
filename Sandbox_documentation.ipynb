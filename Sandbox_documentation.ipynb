{
 "cells": [
  {
   "cell_type": "markdown",
   "metadata": {},
   "source": [
    "# Interactive documentation of the environment"
   ]
  },
  {
   "cell_type": "code",
   "execution_count": 1,
   "metadata": {},
   "outputs": [],
   "source": [
    "import numpy as np\n",
    "import matplotlib.pyplot as plt\n",
    "from Utils import test_env, utils\n",
    "\n",
    "from importlib import reload"
   ]
  },
  {
   "cell_type": "code",
   "execution_count": 2,
   "metadata": {},
   "outputs": [
    {
     "data": {
      "text/plain": [
       "<module 'Utils.test_env' from '/m/home/home9/94/dainesn1/unix/Workdir/RelationalDeepRL/Utils/test_env.py'>"
      ]
     },
     "execution_count": 2,
     "metadata": {},
     "output_type": "execute_result"
    }
   ],
   "source": [
    "reload(test_env)"
   ]
  },
  {
   "cell_type": "code",
   "execution_count": 3,
   "metadata": {},
   "outputs": [],
   "source": [
    "# Variable parameters\n",
    "X = 5\n",
    "Y = 5\n",
    "initial = [2,0]\n",
    "goal = [2,2]\n",
    "MAX_STEPS = 10\n",
    "\n",
    "game_params = dict(x=X, y=Y, initial=initial, goal=goal, max_steps=MAX_STEPS, \n",
    "                   greyscale_state=False, return_coord=True)"
   ]
  },
  {
   "cell_type": "code",
   "execution_count": 4,
   "metadata": {},
   "outputs": [],
   "source": [
    "env = test_env.Sandbox(**game_params)"
   ]
  },
  {
   "cell_type": "code",
   "execution_count": 5,
   "metadata": {},
   "outputs": [
    {
     "name": "stdout",
     "output_type": "stream",
     "text": [
      "Use greyscale state:  False\n",
      "Use coordinate state:  True\n",
      "Use one hot encoding state:  False\n",
      "Boundary:  [5 5]\n",
      "Initial position:  [2 0]\n",
      "Current position:  [2 0]\n",
      "Goal position:  [2, 2]\n",
      "Optimal actions: \n",
      "\tRight\n",
      "Greyscale representation: \n",
      " [[[3 3 3 3 3 3 3]\n",
      "  [3 0 0 0 0 0 3]\n",
      "  [3 0 0 0 0 0 3]\n",
      "  [3 1 0 2 0 0 3]\n",
      "  [3 0 0 0 0 0 3]\n",
      "  [3 0 0 0 0 0 3]\n",
      "  [3 3 3 3 3 3 3]]]\n",
      "\n"
     ]
    }
   ],
   "source": [
    "print(env)"
   ]
  },
  {
   "cell_type": "code",
   "execution_count": 6,
   "metadata": {},
   "outputs": [
    {
     "name": "stdout",
     "output_type": "stream",
     "text": [
      "Use greyscale state:  False\n",
      "Use coordinate state:  True\n",
      "Use one hot encoding state:  False\n",
      "Boundary:  [5 5]\n",
      "Initial position:  [2 0]\n",
      "Current position:  [0, 2]\n",
      "Goal position:  [2, 2]\n",
      "Optimal actions: \n",
      "\tDown\n",
      "Greyscale representation: \n",
      " [[[3 3 3 3 3 3 3]\n",
      "  [3 0 0 1 0 0 3]\n",
      "  [3 0 0 0 0 0 3]\n",
      "  [3 0 0 2 0 0 3]\n",
      "  [3 0 0 0 0 0 3]\n",
      "  [3 0 0 0 0 0 3]\n",
      "  [3 3 3 3 3 3 3]]]\n",
      "\n"
     ]
    }
   ],
   "source": [
    "env.state = [0,2]\n",
    "print(env)"
   ]
  }
 ],
 "metadata": {
  "kernelspec": {
   "display_name": "Python 3",
   "language": "python",
   "name": "python3"
  },
  "language_info": {
   "codemirror_mode": {
    "name": "ipython",
    "version": 3
   },
   "file_extension": ".py",
   "mimetype": "text/x-python",
   "name": "python",
   "nbconvert_exporter": "python",
   "pygments_lexer": "ipython3",
   "version": "3.7.6"
  }
 },
 "nbformat": 4,
 "nbformat_minor": 2
}
