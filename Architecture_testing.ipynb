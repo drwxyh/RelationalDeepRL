{
 "cells": [
  {
   "cell_type": "markdown",
   "metadata": {},
   "source": [
    "# Relational Deep Reinforcement Learning\n",
    "\n",
    "**Plan:**\n",
    "1. Architecture\n",
    "2. Agent\n",
    "3. Environment\n",
    "4. Training cycle"
   ]
  },
  {
   "cell_type": "markdown",
   "metadata": {},
   "source": [
    "## Relational architecture\n",
    "\n",
    "**Input: (b,n,n,1)** = (batch length, linear size, linear size, greyscale)\n",
    "\n",
    "**Extract entities: (b,n,n,1) -> (b, m, m, 2k)** \n",
    "* embedding layer: vocab_size = MAX_PIXELS+1, embedding_dim = n_dim\n",
    "* convolutional_layer1(kernel_size = (2,2), input_filters = n_dim, output_filters = k, stride = 1, pad = (1,1))\n",
    "* convolutional_layer2(kernel_size = (2,2), input_filters = k, output_filters = 2k, stride = 1, pad = (1,1))\n",
    "\n",
    "**Relational block: (b, m, m, 2k) -> (b,d_m)**\n",
    "* Positional Encoding: (b, m, m, 2k) -> (b, m^2, d_m)\n",
    "* N Multi-Headed Attention blocks: (b, m^2, d_m) -> (b, m^2, d_m)\n",
    "\n",
    "**Feature-wise max pooling: (b, m^2, d_m) -> (b, d_m)**\n",
    "\n",
    "**Multi-Layer Perceptron: (b, d_m) -> (b, d_m)**\n",
    "* 4 fully connected layers (d_m,d_m) with ReLUs (TODO: add skip-connections)\n",
    "\n",
    "**Actor output: (b,d_m) -> (b,a)** [a = number of possible actions]\n",
    "* Single linear layer with softmax at the end\n",
    "\n",
    "**Critic output: (b,d_m) -> (b,1)** \n",
    "* Single linear layer without activation function"
   ]
  },
  {
   "cell_type": "markdown",
   "metadata": {},
   "source": [
    "## Control architecture\n",
    "\n",
    "**Input: (b,n,n,1)** = (batch length, linear size, linear size, greyscale)\n",
    "\n",
    "**Extract entities: (b,n,n,1) -> (b, m, m, 2k)** \n",
    "* embedding layer: vocab_size = MAX_PIXELS+1, embedding_dim = n_dim\n",
    "* convolutional_layer1(kernel_size = (2,2), input_filters = n_dim, output_filters = k, stride = 1, pad = (1,1))\n",
    "* convolutional_layer2(kernel_size = (2,2), input_filters = k, output_filters = 2k, stride = 1, pad = (1,1))\n",
    "\n",
    "**1D Convolutional block: (b, m, m, 2k) -> (b, m^2, d_m)**\n",
    "* Positional Encoding: (b, m, m, 2k) -> (b, m^2, d_m)\n",
    "* 2 1D convolutional blocks with ReLUs: (b, m^2, d_m) -> (b, m^2, d_m) - pixel-wise\n",
    "\n",
    "**Feature-wise max pooling: (b, m^2, d_m) -> (b, d_m)**\n",
    "\n",
    "**Multi-Layer Perceptron: (b, d_m) -> (b, d_m)**\n",
    "* 4 fully connected layers (d_m,d_m) with ReLUs - feature-wise\n",
    "* (TODO: add skip-connections)\n",
    "\n",
    "**Actor output: (b,d_m) -> (b,a)** [a = number of possible actions]\n",
    "* Single linear layer with softmax at the end\n",
    "\n",
    "**Critic output: (b,d_m) -> (b,1)** \n",
    "* Single linear layer without activation function"
   ]
  },
  {
   "cell_type": "code",
   "execution_count": 1,
   "metadata": {},
   "outputs": [],
   "source": [
    "import numpy as np\n",
    "import torch \n",
    "\n",
    "import torch.nn as nn\n",
    "import torch.nn.functional as F"
   ]
  },
  {
   "cell_type": "code",
   "execution_count": 2,
   "metadata": {},
   "outputs": [],
   "source": [
    "from RelationalModule import RelationalNetworks as rnet\n",
    "from RelationalModule import ControlNetworks as cnet"
   ]
  },
  {
   "cell_type": "code",
   "execution_count": 3,
   "metadata": {},
   "outputs": [
    {
     "data": {
      "text/plain": [
       "<module 'RelationalModule.ControlNetworks' from '/home/nicola/Nicola_unipd/MasterThesis/RelationalDeepRL/RelationalModule/ControlNetworks.py'>"
      ]
     },
     "execution_count": 3,
     "metadata": {},
     "output_type": "execute_result"
    }
   ],
   "source": [
    "from importlib import reload\n",
    "reload(rnet)\n",
    "reload(cnet)"
   ]
  },
  {
   "cell_type": "markdown",
   "metadata": {},
   "source": [
    "# Sample image from the game"
   ]
  },
  {
   "cell_type": "code",
   "execution_count": 4,
   "metadata": {},
   "outputs": [],
   "source": [
    "import sys\n",
    "sys.path.insert(0, \"pycolab/pycolab/examples/research/box_world\")\n",
    "import box_world as bw"
   ]
  },
  {
   "cell_type": "code",
   "execution_count": 5,
   "metadata": {},
   "outputs": [],
   "source": [
    "def get_state(observation, mask=True):\n",
    "    #print(\"Keys: \", observation.layers.keys())\n",
    "    board = observation.board#.astype('float')\n",
    "    \n",
    "    if mask:\n",
    "        walls = observation.layers['#'].astype(int)\n",
    "        #print(\"walls: \", walls)\n",
    "        background = observation.layers[' '].astype(int)\n",
    "        #print(\"background: \", background)\n",
    "        ambient = walls + background\n",
    "        #print(\"ambient: \", ambient)\n",
    "        board[ambient.astype(bool)] = 0\n",
    "        #print(\"board (masked): \", board)\n",
    "    grid_size = board.shape[0]\n",
    "    board = board.reshape(1, grid_size, grid_size)\n",
    "    return board #/MAX_PIXEL"
   ]
  },
  {
   "cell_type": "code",
   "execution_count": 6,
   "metadata": {},
   "outputs": [],
   "source": [
    "def print_key_values(observation):\n",
    "    layers = observation.layers\n",
    "    board = observation.board\n",
    "    print(\"\\nKeys: \", layers.keys())\n",
    "    for k in layers.keys():\n",
    "        values = board[layers[k]]\n",
    "        if k == ' ':\n",
    "            print(\"background \", np.max(values))\n",
    "        elif k == '#':\n",
    "            print(\"wall \", np.max(values))\n",
    "        elif k == '.':\n",
    "            print(\"agent \",  np.max(values))\n",
    "        else:\n",
    "            print(k, np.max(values))"
   ]
  },
  {
   "cell_type": "code",
   "execution_count": 7,
   "metadata": {},
   "outputs": [],
   "source": [
    "def get_init_state():\n",
    "    GRID_SIZE = 12\n",
    "    game_params = dict(grid_size=GRID_SIZE,\n",
    "                    solution_length=[2], # number of boxes to be opened to get the gem\n",
    "                    num_forward = [1], # number of distractors\n",
    "                    num_backward=[0], # just set to 0 for now\n",
    "                    branch_length=1, # length of forward distractors\n",
    "                    max_num_steps = 50\n",
    "                   )\n",
    "    game = bw.make_game(**game_params)\n",
    "\n",
    "\n",
    "\n",
    "    observation, _, _ = game.its_showtime()\n",
    "    print_key_values(observation)\n",
    "    state = get_state(observation)\n",
    "    state = torch.from_numpy(state.astype(int))\n",
    "    return state"
   ]
  },
  {
   "cell_type": "code",
   "execution_count": 8,
   "metadata": {
    "scrolled": true
   },
   "outputs": [
    {
     "name": "stdout",
     "output_type": "stream",
     "text": [
      "\n",
      "Keys:  dict_keys([' ', 'a', '.', 'A', '*', 'l', 'L', '#', 'h'])\n",
      "background  32\n",
      "a 97\n",
      "agent  46\n",
      "A 65\n",
      "* 42\n",
      "l 108\n",
      "L 76\n",
      "wall  35\n",
      "h 104\n",
      "\n",
      "Keys:  dict_keys(['p', ' ', '.', 'P', '*', 'Q', '#', 'k', 'q'])\n",
      "p 112\n",
      "background  32\n",
      "agent  46\n",
      "P 80\n",
      "* 42\n",
      "Q 81\n",
      "wall  35\n",
      "k 107\n",
      "q 113\n",
      "\n",
      "Keys:  dict_keys([' ', 'o', '.', 'O', '*', 'l', 'L', '#', 'd'])\n",
      "background  32\n",
      "o 111\n",
      "agent  46\n",
      "O 79\n",
      "* 42\n",
      "l 108\n",
      "L 76\n",
      "wall  35\n",
      "d 100\n",
      "\n",
      "Keys:  dict_keys([' ', '.', 'c', '*', 'l', 'L', 'Q', '#', 'q'])\n",
      "background  32\n",
      "agent  46\n",
      "c 99\n",
      "* 42\n",
      "l 108\n",
      "L 76\n",
      "Q 81\n",
      "wall  35\n",
      "q 113\n",
      "\n",
      "Keys:  dict_keys(['n', 'p', ' ', '.', 'P', '*', 'f', '#', 'N'])\n",
      "n 110\n",
      "p 112\n",
      "background  32\n",
      "agent  46\n",
      "P 80\n",
      "* 42\n",
      "f 102\n",
      "wall  35\n",
      "N 78\n"
     ]
    },
    {
     "name": "stderr",
     "output_type": "stream",
     "text": [
      "/home/nicola/anaconda3/envs/torch/lib/python3.7/site-packages/pycolab/ascii_art.py:318: FutureWarning: arrays to stack must be passed as a \"sequence\" type such as list or tuple. Support for non-sequence iterables such as generators is deprecated as of NumPy 1.16 and will raise an error in the future.\n",
      "  art = np.vstack(np.fromstring(line, dtype=np.uint8) for line in art)\n"
     ]
    }
   ],
   "source": [
    "states = [get_init_state() for _ in range(5)]"
   ]
  },
  {
   "cell_type": "markdown",
   "metadata": {},
   "source": [
    "So we can see that actually the agent, the wall, the background and the gem have always the same value along episodes. Also same key-box couples have the same pair color, so once experienced a certain opening, that opening can be memorized and used in the future (otherwise the agent should rely on pure chance and trying to open every box every time).\n",
    "\n",
    "A simpler setup would be that of masking to 0 all walls and background, at least to see if there is anything about them that is impeding the learning process."
   ]
  },
  {
   "cell_type": "markdown",
   "metadata": {},
   "source": [
    "# Embedding layer"
   ]
  },
  {
   "cell_type": "code",
   "execution_count": 9,
   "metadata": {},
   "outputs": [],
   "source": [
    "import matplotlib.pyplot as plt"
   ]
  },
  {
   "cell_type": "code",
   "execution_count": 10,
   "metadata": {},
   "outputs": [],
   "source": [
    "vocab_size = 256\n",
    "n_dim = 3\n",
    "embed = nn.Embedding(vocab_size, n_dim, padding_idx=0)"
   ]
  },
  {
   "cell_type": "code",
   "execution_count": 11,
   "metadata": {
    "scrolled": true
   },
   "outputs": [
    {
     "name": "stdout",
     "output_type": "stream",
     "text": [
      "y_zeros.shape:  torch.Size([10, 10, 3])\n",
      "tensor([[-1.9763, -1.9763, -1.9763, -1.9763, -1.9763, -1.9763, -1.9763, -1.9763,\n",
      "         -1.9763, -1.9763],\n",
      "        [-1.9763, -1.9763, -1.9763, -1.9763, -1.9763, -1.9763, -1.9763, -1.9763,\n",
      "         -1.9763, -1.9763],\n",
      "        [-1.9763, -1.9763, -1.9763, -1.9763, -1.9763, -1.9763, -1.9763, -1.9763,\n",
      "         -1.9763, -1.9763],\n",
      "        [-1.9763, -1.9763, -1.9763, -1.9763, -1.9763, -1.9763, -1.9763, -1.9763,\n",
      "         -1.9763, -1.9763],\n",
      "        [-1.9763, -1.9763, -1.9763, -1.9763, -1.9763, -1.9763, -1.9763, -1.9763,\n",
      "         -1.9763, -1.9763],\n",
      "        [-1.9763, -1.9763, -1.9763, -1.9763, -1.9763, -1.9763, -1.9763, -1.9763,\n",
      "         -1.9763, -1.9763],\n",
      "        [-1.9763, -1.9763, -1.9763, -1.9763, -1.9763, -1.9763, -1.9763, -1.9763,\n",
      "         -1.9763, -1.9763],\n",
      "        [-1.9763, -1.9763, -1.9763, -1.9763, -1.9763, -1.9763, -1.9763, -1.9763,\n",
      "         -1.9763, -1.9763],\n",
      "        [-1.9763, -1.9763, -1.9763, -1.9763, -1.9763, -1.9763, -1.9763, -1.9763,\n",
      "         -1.9763, -1.9763],\n",
      "        [-1.9763, -1.9763, -1.9763, -1.9763, -1.9763, -1.9763, -1.9763, -1.9763,\n",
      "         -1.9763, -1.9763]], grad_fn=<SelectBackward>)\n",
      "tensor([[0.2382, 0.2382, 0.2382, 0.2382, 0.2382, 0.2382, 0.2382, 0.2382, 0.2382,\n",
      "         0.2382],\n",
      "        [0.2382, 0.2382, 0.2382, 0.2382, 0.2382, 0.2382, 0.2382, 0.2382, 0.2382,\n",
      "         0.2382],\n",
      "        [0.2382, 0.2382, 0.2382, 0.2382, 0.2382, 0.2382, 0.2382, 0.2382, 0.2382,\n",
      "         0.2382],\n",
      "        [0.2382, 0.2382, 0.2382, 0.2382, 0.2382, 0.2382, 0.2382, 0.2382, 0.2382,\n",
      "         0.2382],\n",
      "        [0.2382, 0.2382, 0.2382, 0.2382, 0.2382, 0.2382, 0.2382, 0.2382, 0.2382,\n",
      "         0.2382],\n",
      "        [0.2382, 0.2382, 0.2382, 0.2382, 0.2382, 0.2382, 0.2382, 0.2382, 0.2382,\n",
      "         0.2382],\n",
      "        [0.2382, 0.2382, 0.2382, 0.2382, 0.2382, 0.2382, 0.2382, 0.2382, 0.2382,\n",
      "         0.2382],\n",
      "        [0.2382, 0.2382, 0.2382, 0.2382, 0.2382, 0.2382, 0.2382, 0.2382, 0.2382,\n",
      "         0.2382],\n",
      "        [0.2382, 0.2382, 0.2382, 0.2382, 0.2382, 0.2382, 0.2382, 0.2382, 0.2382,\n",
      "         0.2382],\n",
      "        [0.2382, 0.2382, 0.2382, 0.2382, 0.2382, 0.2382, 0.2382, 0.2382, 0.2382,\n",
      "         0.2382]], grad_fn=<SelectBackward>)\n",
      "tensor([[-0.4184, -0.4184, -0.4184, -0.4184, -0.4184, -0.4184, -0.4184, -0.4184,\n",
      "         -0.4184, -0.4184],\n",
      "        [-0.4184, -0.4184, -0.4184, -0.4184, -0.4184, -0.4184, -0.4184, -0.4184,\n",
      "         -0.4184, -0.4184],\n",
      "        [-0.4184, -0.4184, -0.4184, -0.4184, -0.4184, -0.4184, -0.4184, -0.4184,\n",
      "         -0.4184, -0.4184],\n",
      "        [-0.4184, -0.4184, -0.4184, -0.4184, -0.4184, -0.4184, -0.4184, -0.4184,\n",
      "         -0.4184, -0.4184],\n",
      "        [-0.4184, -0.4184, -0.4184, -0.4184, -0.4184, -0.4184, -0.4184, -0.4184,\n",
      "         -0.4184, -0.4184],\n",
      "        [-0.4184, -0.4184, -0.4184, -0.4184, -0.4184, -0.4184, -0.4184, -0.4184,\n",
      "         -0.4184, -0.4184],\n",
      "        [-0.4184, -0.4184, -0.4184, -0.4184, -0.4184, -0.4184, -0.4184, -0.4184,\n",
      "         -0.4184, -0.4184],\n",
      "        [-0.4184, -0.4184, -0.4184, -0.4184, -0.4184, -0.4184, -0.4184, -0.4184,\n",
      "         -0.4184, -0.4184],\n",
      "        [-0.4184, -0.4184, -0.4184, -0.4184, -0.4184, -0.4184, -0.4184, -0.4184,\n",
      "         -0.4184, -0.4184],\n",
      "        [-0.4184, -0.4184, -0.4184, -0.4184, -0.4184, -0.4184, -0.4184, -0.4184,\n",
      "         -0.4184, -0.4184]], grad_fn=<SelectBackward>)\n"
     ]
    }
   ],
   "source": [
    "zeros = torch.ones((10,10), dtype=int)\n",
    "y_zeros = embed(zeros)\n",
    "print(\"y_zeros.shape: \", y_zeros.shape)\n",
    "print(y_zeros[:,:,0])\n",
    "print(y_zeros[:,:,1])\n",
    "print(y_zeros[:,:,2])"
   ]
  },
  {
   "cell_type": "markdown",
   "metadata": {},
   "source": [
    "Same integer values get mapped to same vectors, as it should be. "
   ]
  },
  {
   "cell_type": "code",
   "execution_count": 12,
   "metadata": {},
   "outputs": [
    {
     "name": "stderr",
     "output_type": "stream",
     "text": [
      "Clipping input data to the valid range for imshow with RGB data ([0..1] for floats or [0..255] for integers).\n"
     ]
    },
    {
     "data": {
      "text/plain": [
       "<matplotlib.image.AxesImage at 0x7fc86cdb6f50>"
      ]
     },
     "execution_count": 12,
     "metadata": {},
     "output_type": "execute_result"
    },
    {
     "data": {
      "image/png": "[encoded data removed]",
      "text/plain": [
       "<Figure size 432x288 with 1 Axes>"
      ]
     },
     "metadata": {
      "needs_background": "light"
     },
     "output_type": "display_data"
    }
   ],
   "source": [
    "eye = torch.eye(10, dtype=int)\n",
    "y_eye = embed(eye).detach()\n",
    "plt.imshow(y_eye.numpy())"
   ]
  },
  {
   "cell_type": "markdown",
   "metadata": {},
   "source": [
    "Again the embedding works, since each integer value is associated to a particular vector (in this case 3D vector, that can be represented as RGB color once clipped)."
   ]
  },
  {
   "cell_type": "code",
   "execution_count": 13,
   "metadata": {
    "scrolled": true
   },
   "outputs": [
    {
     "data": {
      "image/png": "[encoded data removed]",
      "text/plain": [
       "<Figure size 432x288 with 1 Axes>"
      ]
     },
     "metadata": {
      "needs_background": "light"
     },
     "output_type": "display_data"
    },
    {
     "data": {
      "image/png": "[encoded data removed]",
      "text/plain": [
       "<Figure size 432x288 with 1 Axes>"
      ]
     },
     "metadata": {
      "needs_background": "light"
     },
     "output_type": "display_data"
    },
    {
     "data": {
      "image/png": "[encoded data removed]",
      "text/plain": [
       "<Figure size 432x288 with 1 Axes>"
      ]
     },
     "metadata": {
      "needs_background": "light"
     },
     "output_type": "display_data"
    },
    {
     "data": {
      "image/png": "[encoded data removed]",
      "text/plain": [
       "<Figure size 432x288 with 1 Axes>"
      ]
     },
     "metadata": {
      "needs_background": "light"
     },
     "output_type": "display_data"
    },
    {
     "data": {
      "image/png": "[encoded data removed]",
      "text/plain": [
       "<Figure size 432x288 with 1 Axes>"
      ]
     },
     "metadata": {
      "needs_background": "light"
     },
     "output_type": "display_data"
    }
   ],
   "source": [
    "for state in states:\n",
    "    x = state\n",
    "    if len(x.shape) <= 3:\n",
    "        x = x.unsqueeze(0)\n",
    "    #print(\"x.shape (before embed): \", x.shape)\n",
    "    x = embed(x)\n",
    "    #print(\"x.shape (after embed): \", x.shape)\n",
    "    #print(\"x.sum in slices: \", sum_slices(x,(0,1)))\n",
    "    x = x.transpose(-1,-3)\n",
    "    #print(\"x.shape: \", x.shape)\n",
    "    x = x.transpose(-1,-2).reshape(x.shape[0],-1,x.shape[-2],x.shape[-1]).squeeze()\n",
    "    #print(\"x.shape: \", x.shape)\n",
    "    ### This part is just for correct visualization after embedding ###\n",
    "    x = x.transpose(-1,0)\n",
    "    x = x.transpose(1,0)\n",
    "    #print(\"x.shape: \", x.shape)\n",
    "    x = x.detach().numpy()\n",
    "    M = x.max(axis=(0,1))\n",
    "    m= x.min(axis=(0,1))\n",
    "    #print(\"M: \", M.shape )\n",
    "    #print(\"m: \", m.shape)\n",
    "    x = (x - m)/(M-m)\n",
    "    plt.imshow(x)\n",
    "    plt.show()"
   ]
  },
  {
   "cell_type": "markdown",
   "metadata": {},
   "source": [
    "Given this simple rendering (after embedding) from naked eye we can only see that:\n",
    "1. keys have different colors from the boxes they should open\n",
    "2. distractors are identical to the right boxes\n",
    "\n",
    "Then we also have to notice that in this representation colors are biased because I had to normalize in [0,1] the \"RGB\" channels given by the embedding."
   ]
  },
  {
   "cell_type": "markdown",
   "metadata": {},
   "source": [
    "# Convolution layers"
   ]
  },
  {
   "cell_type": "code",
   "execution_count": 14,
   "metadata": {},
   "outputs": [],
   "source": [
    "use_state = True"
   ]
  },
  {
   "cell_type": "code",
   "execution_count": 15,
   "metadata": {},
   "outputs": [],
   "source": [
    "k_in = 1\n",
    "k_out = 24\n",
    "kernel_size = 2\n",
    "stride = 1\n",
    "padding = 0\n",
    "\n",
    "layers = []\n",
    "layers.append(nn.Conv2d(n_dim*k_in, k_out//2, kernel_size, stride, padding))\n",
    "layers.append(nn.ReLU())\n",
    "layers.append(nn.Conv2d(k_out//2, k_out, kernel_size, stride, padding))\n",
    "#layers.append(nn.ReLU())\n",
    "net = nn.Sequential(*layers)"
   ]
  },
  {
   "cell_type": "code",
   "execution_count": 16,
   "metadata": {},
   "outputs": [],
   "source": [
    "def sum_slices(x, axes):\n",
    "    return x.squeeze().sum(axis=axes).detach()"
   ]
  },
  {
   "cell_type": "code",
   "execution_count": 22,
   "metadata": {
    "scrolled": true
   },
   "outputs": [
    {
     "name": "stdout",
     "output_type": "stream",
     "text": [
      "x.shape (before embed):  torch.Size([1, 1, 14, 14])\n",
      "x.shape (after embed):  torch.Size([1, 1, 14, 14, 3])\n",
      "x.sum in slices:  tensor([ 1.3879, -0.2590,  2.5170])\n",
      "x.shape:  torch.Size([1, 1, 3, 14, 14])\n",
      "x.shape:  torch.Size([1, 3, 14, 14])\n",
      "y.shape:  torch.Size([1, 24, 12, 12])\n"
     ]
    }
   ],
   "source": [
    "if use_state:\n",
    "    x = states[0]\n",
    "else:\n",
    "    x = torch.zeros((1,14,14), dtype=int) # this is the structure of the state retrieved by the game\n",
    "if len(x.shape) <= 3:\n",
    "    x = x.unsqueeze(0)\n",
    "print(\"x.shape (before embed): \", x.shape)\n",
    "x = embed(x)\n",
    "print(\"x.shape (after embed): \", x.shape)\n",
    "print(\"x.sum in slices: \", sum_slices(x,(0,1)))\n",
    "x = x.transpose(-1,-3)\n",
    "print(\"x.shape: \", x.shape)\n",
    "x = x.transpose(-1,-2).reshape(x.shape[0],-1,x.shape[-2],x.shape[-1])\n",
    "print(\"x.shape: \", x.shape)\n",
    "y = net(x)\n",
    "print(\"y.shape: \", y.shape)"
   ]
  },
  {
   "cell_type": "code",
   "execution_count": 23,
   "metadata": {
    "scrolled": false
   },
   "outputs": [
    {
     "name": "stdout",
     "output_type": "stream",
     "text": [
      "tensor([ 2.0620e+00, -3.1811e+00,  2.2768e+01, -9.3916e+00, -1.2845e+01,\n",
      "         5.1800e+00, -1.4314e-02,  4.1540e+00,  2.9496e+00,  1.2349e+01,\n",
      "        -2.6502e+01, -1.6440e+01,  4.7265e+00, -2.3553e+01,  2.7272e+01,\n",
      "        -4.4397e+00, -2.0161e+00,  2.2240e+01,  1.3975e+01, -3.1565e+01,\n",
      "         1.7266e+01,  2.6112e+01,  1.9545e+01,  1.1354e+01])\n",
      "y[0,:,:]:  tensor([[ 0.0101,  0.0101,  0.0247,  0.0744, -0.0088, -0.0348,  0.0101,  0.0101,\n",
      "          0.0101,  0.0101,  0.0101,  0.0101],\n",
      "        [ 0.0101,  0.0101,  0.0227,  0.2801,  0.2147, -0.0833,  0.0101,  0.0101,\n",
      "          0.0101,  0.0101,  0.0101,  0.0101],\n",
      "        [ 0.0101,  0.0101, -0.0743, -0.0861,  0.0504, -0.0067,  0.0101,  0.0921,\n",
      "         -0.0189,  0.0344,  0.0101,  0.0101],\n",
      "        [ 0.0101,  0.0101,  0.0101,  0.0101,  0.0101,  0.0101,  0.0101,  0.0572,\n",
      "         -0.1741,  0.0627,  0.0101,  0.0101],\n",
      "        [ 0.0101,  0.0101,  0.0101,  0.0101,  0.0101,  0.0101,  0.0101,  0.0514,\n",
      "          0.0956,  0.0343,  0.0101,  0.0101],\n",
      "        [ 0.0101,  0.0101,  0.0101,  0.0101,  0.0101,  0.0566, -0.0197, -0.0778,\n",
      "         -0.1074,  0.0101,  0.0101,  0.0101],\n",
      "        [ 0.0101,  0.0101,  0.0101,  0.0101,  0.0101,  0.0098, -0.1053,  0.1659,\n",
      "          0.1776,  0.0101,  0.0101,  0.0101],\n",
      "        [ 0.0101,  0.0101,  0.0101,  0.0101,  0.0101,  0.0388, -0.0710,  0.0741,\n",
      "          0.1217,  0.0101,  0.0101,  0.0101],\n",
      "        [ 0.0101,  0.0101,  0.0101,  0.0101,  0.0101,  0.0101,  0.1256, -0.0774,\n",
      "          0.1916, -0.0348,  0.0101,  0.0101],\n",
      "        [ 0.0101, -0.0428,  0.1511, -0.1483,  0.0101,  0.0101,  0.0337, -0.2602,\n",
      "          0.2609, -0.0833,  0.0101,  0.0101],\n",
      "        [ 0.0101, -0.0096,  0.2281, -0.1675,  0.0101,  0.0101,  0.0157,  0.1140,\n",
      "          0.0810, -0.0067,  0.0101,  0.0101],\n",
      "        [ 0.0101, -0.0067, -0.0156, -0.0711,  0.0101,  0.0101,  0.0101,  0.0101,\n",
      "          0.0101,  0.0101,  0.0101,  0.0101]])\n"
     ]
    }
   ],
   "source": [
    "y = y.squeeze().detach()\n",
    "print(sum_slices(y,(1,2)))\n",
    "print(\"y[0,:,:]: \", y[0,:,:])"
   ]
  },
  {
   "cell_type": "markdown",
   "metadata": {},
   "source": [
    "So basically each layer is uniform thanks to the input and how convolution works (each slice is the result of the convolution from the same kernel of the same input). All the zeros that can be seen are due to the ReLU activations."
   ]
  },
  {
   "cell_type": "markdown",
   "metadata": {},
   "source": [
    "# Positional Encoding"
   ]
  },
  {
   "cell_type": "code",
   "execution_count": 24,
   "metadata": {},
   "outputs": [],
   "source": [
    "def add_encoding2D(x):\n",
    "    x_ax = x.shape[-2]\n",
    "    y_ax = x.shape[-1]\n",
    "\n",
    "    x_lin = torch.linspace(-1,1,x_ax)\n",
    "    xx = x_lin.repeat(x.shape[0],y_ax,1).view(-1, 1, y_ax, x_ax).transpose(3,2)\n",
    "\n",
    "    y_lin = torch.linspace(-1,1,y_ax).view(-1,1)\n",
    "    yy = y_lin.repeat(x.shape[0],1,x_ax).view(-1, 1, y_ax, x_ax).transpose(3,2)\n",
    "\n",
    "    x = torch.cat((x,xx,yy), axis=1)\n",
    "    return x"
   ]
  },
  {
   "cell_type": "code",
   "execution_count": 25,
   "metadata": {},
   "outputs": [
    {
     "name": "stdout",
     "output_type": "stream",
     "text": [
      "x.shape (before embed):  torch.Size([1, 1, 14, 14])\n",
      "x.shape (after embed):  torch.Size([1, 1, 14, 14, 3])\n",
      "x.sum in slices:  tensor([ 1.3879, -0.2590,  2.5170])\n",
      "x.shape:  torch.Size([1, 1, 3, 14, 14])\n",
      "x.shape:  torch.Size([1, 3, 14, 14])\n",
      "y.shape:  torch.Size([1, 24, 12, 12])\n",
      "y_enc.shape:  torch.Size([1, 26, 12, 12])\n"
     ]
    }
   ],
   "source": [
    "if use_state:\n",
    "    x = states[0]\n",
    "else:\n",
    "    x = torch.zeros((1,14,14), dtype=int) # this is the structure of the state retrieved by the game\n",
    "if len(x.shape) <= 3:\n",
    "    x = x.unsqueeze(0)\n",
    "print(\"x.shape (before embed): \", x.shape)\n",
    "x = embed(x)\n",
    "print(\"x.shape (after embed): \", x.shape)\n",
    "print(\"x.sum in slices: \", sum_slices(x,(0,1)))\n",
    "x = x.transpose(-1,-3)\n",
    "print(\"x.shape: \", x.shape)\n",
    "x = x.transpose(-1,-2).reshape(x.shape[0],-1,x.shape[-2],x.shape[-1])\n",
    "print(\"x.shape: \", x.shape)\n",
    "y = net(x)\n",
    "print(\"y.shape: \", y.shape)\n",
    "y_enc = add_encoding2D(y)\n",
    "print(\"y_enc.shape: \", y_enc.shape)"
   ]
  },
  {
   "cell_type": "markdown",
   "metadata": {},
   "source": [
    "Let's verify that the last 2 layers have a positional encoding:"
   ]
  },
  {
   "cell_type": "code",
   "execution_count": 26,
   "metadata": {},
   "outputs": [
    {
     "name": "stdout",
     "output_type": "stream",
     "text": [
      "y_tmp.shape:  torch.Size([26, 12, 12])\n"
     ]
    },
    {
     "data": {
      "image/png": "[encoded data removed]",
      "text/plain": [
       "<Figure size 432x288 with 1 Axes>"
      ]
     },
     "metadata": {
      "needs_background": "light"
     },
     "output_type": "display_data"
    },
    {
     "data": {
      "image/png": "[encoded data removed]",
      "text/plain": [
       "<Figure size 432x288 with 1 Axes>"
      ]
     },
     "metadata": {
      "needs_background": "light"
     },
     "output_type": "display_data"
    }
   ],
   "source": [
    "y_tmp = y_enc.squeeze().detach()\n",
    "print(\"y_tmp.shape: \", y_tmp.shape)\n",
    "plt.imshow(y_tmp[-2])\n",
    "plt.show()\n",
    "plt.imshow(y_tmp[-1])\n",
    "plt.show()"
   ]
  },
  {
   "cell_type": "markdown",
   "metadata": {},
   "source": [
    "A different approach would be to sum these two layers pixel-wise to all other features. Probably it would amplify the importance of the position, at the risk that if the magnitude is too high we would lose data.\n",
    "\n",
    "Also more complicated encodings are possible; this one is the one I think they used in the paper."
   ]
  },
  {
   "cell_type": "markdown",
   "metadata": {},
   "source": [
    "# Projection from 26 to n_features (default 256)"
   ]
  },
  {
   "cell_type": "code",
   "execution_count": 27,
   "metadata": {},
   "outputs": [],
   "source": [
    "n_features = 256\n",
    "projection = nn.Linear(k_out + 2, n_features)"
   ]
  },
  {
   "cell_type": "code",
   "execution_count": 28,
   "metadata": {},
   "outputs": [
    {
     "name": "stdout",
     "output_type": "stream",
     "text": [
      "x.shape (before embed):  torch.Size([1, 1, 14, 14])\n",
      "x.shape (after embed):  torch.Size([1, 1, 14, 14, 3])\n",
      "x.sum in slices:  tensor([ 1.3879, -0.2590,  2.5170])\n",
      "x.shape:  torch.Size([1, 1, 3, 14, 14])\n",
      "x.shape:  torch.Size([1, 3, 14, 14])\n",
      "x.shape:  torch.Size([1, 24, 12, 12])\n",
      "x.shape:  torch.Size([1, 26, 12, 12])\n",
      "x.shape:  torch.Size([1, 26, 144])\n",
      "x.shape:  torch.Size([1, 144, 26])\n",
      "x.shape:  torch.Size([1, 144, 256])\n",
      "x.shape:  torch.Size([144, 1, 256])\n"
     ]
    }
   ],
   "source": [
    "if use_state:\n",
    "    x = states[0]\n",
    "else:\n",
    "    x = torch.zeros((1,14,14), dtype=int) # this is the structure of the state retrieved by the game\n",
    "if len(x.shape) <= 3:\n",
    "    x = x.unsqueeze(0)\n",
    "print(\"x.shape (before embed): \", x.shape)\n",
    "x = embed(x)\n",
    "print(\"x.shape (after embed): \", x.shape)\n",
    "print(\"x.sum in slices: \", sum_slices(x,(0,1)))\n",
    "x = x.transpose(-1,-3)\n",
    "print(\"x.shape: \", x.shape)\n",
    "x = x.transpose(-1,-2).reshape(x.shape[0],-1,x.shape[-2],x.shape[-1])\n",
    "print(\"x.shape: \", x.shape)\n",
    "x = net(x)\n",
    "print(\"x.shape: \", x.shape)\n",
    "x= add_encoding2D(x)\n",
    "print(\"x.shape: \", x.shape)\n",
    "x = x.view(x.shape[0], x.shape[1],-1)\n",
    "print(\"x.shape: \", x.shape)\n",
    "x = x.transpose(2,1)\n",
    "print(\"x.shape: \", x.shape)\n",
    "x = projection(x)\n",
    "print(\"x.shape: \", x.shape)\n",
    "x = x.transpose(1,0)\n",
    "print(\"x.shape: \", x.shape)"
   ]
  },
  {
   "cell_type": "markdown",
   "metadata": {},
   "source": [
    "Here everything seems clean. Let's see if there is some trace of the positional encoding left. Ideally thanks to the projection now each feature potentially has a positional encoding."
   ]
  },
  {
   "cell_type": "code",
   "execution_count": 29,
   "metadata": {},
   "outputs": [
    {
     "data": {
      "image/png": "[encoded data removed]",
      "text/plain": [
       "<Figure size 432x288 with 1 Axes>"
      ]
     },
     "metadata": {
      "needs_background": "light"
     },
     "output_type": "display_data"
    },
    {
     "data": {
      "image/png": "[encoded data removed]",
      "text/plain": [
       "<Figure size 432x288 with 1 Axes>"
      ]
     },
     "metadata": {
      "needs_background": "light"
     },
     "output_type": "display_data"
    },
    {
     "data": {
      "image/png": "[encoded data removed]",
      "text/plain": [
       "<Figure size 432x288 with 1 Axes>"
      ]
     },
     "metadata": {
      "needs_background": "light"
     },
     "output_type": "display_data"
    }
   ],
   "source": [
    "x_tmp = x.squeeze().detach().view(12,12,256)\n",
    "plt.imshow(x_tmp[:,:,0])\n",
    "plt.show()\n",
    "plt.imshow(x_tmp[:,:,128])\n",
    "plt.show()\n",
    "plt.imshow(x_tmp[:,:,-2])\n",
    "plt.show()"
   ]
  },
  {
   "cell_type": "markdown",
   "metadata": {},
   "source": [
    "Again everything seems fine."
   ]
  },
  {
   "cell_type": "markdown",
   "metadata": {},
   "source": [
    "# Relational Block \n",
    "Implements the relational block, composed by a Multi-Headed Dot-Product Attention layer followed by a Position-wise Feed-Forward layer. I implement here the former one, whereas I just import the latter from the module, since it's very basic."
   ]
  },
  {
   "cell_type": "code",
   "execution_count": 30,
   "metadata": {},
   "outputs": [],
   "source": [
    "hidden_dim = 64\n",
    "dropout = 0\n",
    "n_heads = 4\n",
    "\n",
    "norm = nn.LayerNorm(n_features)\n",
    "drop = nn.Dropout(dropout) # disabled\n",
    "attn = nn.MultiheadAttention(n_features, n_heads, dropout)\n",
    "ff = rnet.PositionwiseFeedForward(n_features, hidden_dim, dropout)"
   ]
  },
  {
   "cell_type": "code",
   "execution_count": 31,
   "metadata": {
    "scrolled": true
   },
   "outputs": [
    {
     "name": "stdout",
     "output_type": "stream",
     "text": [
      "x.shape (before embed):  torch.Size([1, 1, 14, 14])\n",
      "x.shape (after embed):  torch.Size([1, 1, 14, 14, 3])\n",
      "x.sum in slices:  tensor([ 1.3879, -0.2590,  2.5170])\n",
      "x.shape:  torch.Size([1, 1, 3, 14, 14])\n",
      "x.shape:  torch.Size([1, 3, 14, 14])\n",
      "x.shape:  torch.Size([1, 24, 12, 12])\n",
      "x.shape:  torch.Size([1, 26, 12, 12])\n",
      "x.shape:  torch.Size([1, 26, 144])\n",
      "x.shape:  torch.Size([1, 144, 26])\n",
      "x.shape:  torch.Size([1, 144, 256])\n",
      "x.shape:  torch.Size([144, 1, 256])\n",
      "attn_output.shape:  torch.Size([144, 1, 256])\n",
      "x_add.shape:  torch.Size([144, 1, 256])\n",
      "x_norm.shape:  torch.Size([144, 1, 256])\n",
      "x_ff.shape:  torch.Size([144, 1, 256])\n",
      "out.shape:  torch.Size([144, 1, 256])\n"
     ]
    }
   ],
   "source": [
    "if use_state:\n",
    "    x = states[0]\n",
    "else:\n",
    "    x = torch.zeros((1,14,14), dtype=int) # this is the structure of the state retrieved by the game\n",
    "if len(x.shape) <= 3:\n",
    "    x = x.unsqueeze(0)\n",
    "print(\"x.shape (before embed): \", x.shape)\n",
    "x = embed(x)\n",
    "print(\"x.shape (after embed): \", x.shape)\n",
    "print(\"x.sum in slices: \", sum_slices(x,(0,1)))\n",
    "x = x.transpose(-1,-3)\n",
    "print(\"x.shape: \", x.shape)\n",
    "x = x.transpose(-1,-2).reshape(x.shape[0],-1,x.shape[-2],x.shape[-1])\n",
    "print(\"x.shape: \", x.shape)\n",
    "x = net(x)\n",
    "print(\"x.shape: \", x.shape)\n",
    "x= add_encoding2D(x)\n",
    "print(\"x.shape: \", x.shape)\n",
    "x = x.view(x.shape[0], x.shape[1],-1)\n",
    "print(\"x.shape: \", x.shape)\n",
    "x = x.transpose(2,1)\n",
    "print(\"x.shape: \", x.shape)\n",
    "x = projection(x)\n",
    "print(\"x.shape: \", x.shape)\n",
    "x = x.transpose(1,0)\n",
    "print(\"x.shape: \", x.shape)\n",
    "\n",
    "x_tmp = x # save it for plotting\n",
    "\n",
    "# From here it has always the same shape\n",
    "attn_output, attn_output_weights =  attn(x,x,x, key_padding_mask=None) # MHA step\n",
    "print(\"attn_output.shape: \", attn_output.shape)\n",
    "x_add = attn_output + x\n",
    "print(\"x_add.shape: \", x_add.shape)\n",
    "x_norm = drop(norm(x_add))\n",
    "print(\"x_norm.shape: \", x_norm.shape)\n",
    "x_ff = ff(x_norm)\n",
    "print(\"x_ff.shape: \", x_ff.shape)\n",
    "out = drop(norm(x_ff))\n",
    "print(\"out.shape: \", out.shape)"
   ]
  },
  {
   "cell_type": "code",
   "execution_count": 32,
   "metadata": {},
   "outputs": [],
   "source": [
    "def plot_layer(x, layer=0):\n",
    "    x = x.squeeze().detach()[:,layer]\n",
    "    plt.imshow(x.view(12,12))\n",
    "    plt.show()"
   ]
  },
  {
   "cell_type": "code",
   "execution_count": 33,
   "metadata": {},
   "outputs": [
    {
     "name": "stdout",
     "output_type": "stream",
     "text": [
      "Input\n"
     ]
    },
    {
     "data": {
      "image/png": "[encoded data removed]",
      "text/plain": [
       "<Figure size 432x288 with 1 Axes>"
      ]
     },
     "metadata": {
      "needs_background": "light"
     },
     "output_type": "display_data"
    },
    {
     "name": "stdout",
     "output_type": "stream",
     "text": [
      "Attention output\n"
     ]
    },
    {
     "data": {
      "image/png": "[encoded data removed]",
      "text/plain": [
       "<Figure size 432x288 with 1 Axes>"
      ]
     },
     "metadata": {
      "needs_background": "light"
     },
     "output_type": "display_data"
    },
    {
     "name": "stdout",
     "output_type": "stream",
     "text": [
      "Input + attention\n"
     ]
    },
    {
     "data": {
      "image/png": "[encoded data removed]",
      "text/plain": [
       "<Figure size 432x288 with 1 Axes>"
      ]
     },
     "metadata": {
      "needs_background": "light"
     },
     "output_type": "display_data"
    },
    {
     "name": "stdout",
     "output_type": "stream",
     "text": [
      "After LayerNorm\n"
     ]
    },
    {
     "data": {
      "image/png": "[encoded data removed]",
      "text/plain": [
       "<Figure size 432x288 with 1 Axes>"
      ]
     },
     "metadata": {
      "needs_background": "light"
     },
     "output_type": "display_data"
    },
    {
     "name": "stdout",
     "output_type": "stream",
     "text": [
      "After position-wise FF\n"
     ]
    },
    {
     "data": {
      "image/png": "[encoded data removed]",
      "text/plain": [
       "<Figure size 432x288 with 1 Axes>"
      ]
     },
     "metadata": {
      "needs_background": "light"
     },
     "output_type": "display_data"
    },
    {
     "name": "stdout",
     "output_type": "stream",
     "text": [
      "After LayerNorm\n"
     ]
    },
    {
     "data": {
      "image/png": "[encoded data removed]",
      "text/plain": [
       "<Figure size 432x288 with 1 Axes>"
      ]
     },
     "metadata": {
      "needs_background": "light"
     },
     "output_type": "display_data"
    }
   ],
   "source": [
    "print(\"Input\")\n",
    "plot_layer(x_tmp)\n",
    "print(\"Attention output\")\n",
    "plot_layer(attn_output)\n",
    "print(\"Input + attention\")\n",
    "plot_layer(x_add)\n",
    "print(\"After LayerNorm\")\n",
    "plot_layer(x_norm)\n",
    "print(\"After position-wise FF\")\n",
    "plot_layer(x_ff)\n",
    "print(\"After LayerNorm\")\n",
    "plot_layer(out)"
   ]
  },
  {
   "cell_type": "markdown",
   "metadata": {},
   "source": [
    "Here we didn't see anything suspicious, with the attention layer not doing much and the only real change happening during the positionwise feed forward, in which we make a convolution of the 256 features to obtain new ones, so of course after that we are looking at a different feature plane."
   ]
  },
  {
   "cell_type": "markdown",
   "metadata": {},
   "source": [
    "To see if the attention layer is working correctly, we can play with the pixel and batch asix and see if the result is affected by those changes. Since the attention mechanism works taking into account relations between pixels, masking some of them should change the output for the others. Instead the batch dimension shouldn't intefrere with the result."
   ]
  },
  {
   "cell_type": "code",
   "execution_count": 34,
   "metadata": {},
   "outputs": [
    {
     "name": "stdout",
     "output_type": "stream",
     "text": [
      "x.shape (before embed):  torch.Size([1, 1, 14, 14])\n",
      "x.shape (after embed):  torch.Size([1, 1, 14, 14, 3])\n",
      "x.sum in slices:  tensor([ 1.3879, -0.2590,  2.5170])\n",
      "x.shape:  torch.Size([1, 1, 3, 14, 14])\n",
      "x.shape:  torch.Size([1, 3, 14, 14])\n",
      "x.shape:  torch.Size([1, 24, 12, 12])\n",
      "x.shape:  torch.Size([1, 26, 12, 12])\n",
      "x.shape:  torch.Size([1, 26, 144])\n",
      "x.shape:  torch.Size([1, 144, 26])\n",
      "x.shape:  torch.Size([1, 144, 256])\n",
      "x.shape:  torch.Size([144, 1, 256])\n",
      "attn_output.shape:  torch.Size([144, 2, 256])\n",
      "x_add.shape:  torch.Size([144, 2, 256])\n",
      "x_norm.shape:  torch.Size([144, 2, 256])\n",
      "x_ff.shape:  torch.Size([144, 2, 256])\n",
      "out2.shape:  torch.Size([144, 1, 256])\n",
      "out2:  tensor([[[-0.6083,  0.3994, -0.2562,  ..., -0.3693, -0.5908,  1.2448]],\n",
      "\n",
      "        [[-0.7134,  0.4369, -0.2584,  ..., -0.4044, -0.5366,  1.3318]],\n",
      "\n",
      "        [[-1.1623,  0.6602, -0.2445,  ..., -0.5412, -0.3463,  1.3839]],\n",
      "\n",
      "        ...,\n",
      "\n",
      "        [[-1.4822,  0.1489, -1.1564,  ...,  1.2361,  1.7429,  0.5685]],\n",
      "\n",
      "        [[-1.4683,  0.0864, -1.1661,  ...,  1.1983,  1.7806,  0.5742]],\n",
      "\n",
      "        [[-1.4397,  0.0266, -1.1990,  ...,  1.1741,  1.7974,  0.5806]]],\n",
      "       grad_fn=<UnsqueezeBackward0>)\n",
      "out:  tensor([[[-0.6083,  0.3994, -0.2562,  ..., -0.3693, -0.5908,  1.2448]],\n",
      "\n",
      "        [[-0.7134,  0.4369, -0.2584,  ..., -0.4044, -0.5366,  1.3318]],\n",
      "\n",
      "        [[-1.1623,  0.6602, -0.2445,  ..., -0.5412, -0.3463,  1.3839]],\n",
      "\n",
      "        ...,\n",
      "\n",
      "        [[-1.4822,  0.1489, -1.1564,  ...,  1.2361,  1.7429,  0.5685]],\n",
      "\n",
      "        [[-1.4683,  0.0864, -1.1661,  ...,  1.1983,  1.7806,  0.5742]],\n",
      "\n",
      "        [[-1.4397,  0.0266, -1.1990,  ...,  1.1741,  1.7974,  0.5806]]],\n",
      "       grad_fn=<NativeLayerNormBackward>)\n",
      "Element sum of the difference 2-3:  0.0\n",
      "Element sum of the difference 2-0:  0.0\n"
     ]
    }
   ],
   "source": [
    "# Check if batch size changes the output\n",
    "if use_state:\n",
    "    x = states[0]\n",
    "else:\n",
    "    x = torch.zeros((1,14,14), dtype=int) # this is the structure of the state retrieved by the game\n",
    "if len(x.shape) <= 3:\n",
    "    x = x.unsqueeze(0)\n",
    "print(\"x.shape (before embed): \", x.shape)\n",
    "x = embed(x)\n",
    "print(\"x.shape (after embed): \", x.shape)\n",
    "print(\"x.sum in slices: \", sum_slices(x,(0,1)))\n",
    "x = x.transpose(-1,-3)\n",
    "print(\"x.shape: \", x.shape)\n",
    "x = x.transpose(-1,-2).reshape(x.shape[0],-1,x.shape[-2],x.shape[-1])\n",
    "print(\"x.shape: \", x.shape)\n",
    "x = net(x)\n",
    "print(\"x.shape: \", x.shape)\n",
    "x= add_encoding2D(x)\n",
    "print(\"x.shape: \", x.shape)\n",
    "x = x.view(x.shape[0], x.shape[1],-1)\n",
    "print(\"x.shape: \", x.shape)\n",
    "x = x.transpose(2,1)\n",
    "print(\"x.shape: \", x.shape)\n",
    "x = projection(x)\n",
    "print(\"x.shape: \", x.shape)\n",
    "x = x.transpose(1,0)\n",
    "print(\"x.shape: \", x.shape)\n",
    "\n",
    "x_tmp2 = torch.cat((x,x), axis=1)\n",
    "attn_output, attn_output_weights =  attn(x_tmp2,x_tmp2,x_tmp2, key_padding_mask=None) # MHA step\n",
    "print(\"attn_output.shape: \", attn_output.shape)\n",
    "x_add = attn_output + x\n",
    "print(\"x_add.shape: \", x_add.shape)\n",
    "x_norm = drop(norm(x_add))\n",
    "print(\"x_norm.shape: \", x_norm.shape)\n",
    "x_ff = ff(x_norm)\n",
    "print(\"x_ff.shape: \", x_ff.shape)\n",
    "out2 = drop(norm(x_ff))\n",
    "out3 = out2[:,1,:].unsqueeze(1)\n",
    "out2 = out2[:,0,:].unsqueeze(1)\n",
    "\n",
    "print(\"out2.shape: \", out2.shape)\n",
    "print(\"out2: \", out2)\n",
    "print(\"out: \", out)\n",
    "print(\"Element sum of the difference 2-3: \", torch.sum(out2- out3).item())\n",
    "print(\"Element sum of the difference 2-0: \", torch.sum(out2- out).item())"
   ]
  },
  {
   "cell_type": "markdown",
   "metadata": {},
   "source": [
    "out2 = out3 means that the batch dimension correctly hasn't changed the result, because the same input has been concatenated along that axes and the same two outputs have been obtained on the other end. out2 = out shows that different samples are handled independently, as it should happen."
   ]
  },
  {
   "cell_type": "code",
   "execution_count": 35,
   "metadata": {},
   "outputs": [
    {
     "name": "stdout",
     "output_type": "stream",
     "text": [
      "x.shape (before embed):  torch.Size([1, 1, 14, 14])\n",
      "x.shape (after embed):  torch.Size([1, 1, 14, 14, 3])\n",
      "x.sum in slices:  tensor([ 1.3879, -0.2590,  2.5170])\n",
      "x.shape:  torch.Size([1, 1, 3, 14, 14])\n",
      "x.shape:  torch.Size([1, 3, 14, 14])\n",
      "x.shape:  torch.Size([1, 24, 12, 12])\n",
      "x.shape:  torch.Size([1, 26, 12, 12])\n",
      "x.shape:  torch.Size([1, 26, 144])\n",
      "x.shape:  torch.Size([1, 144, 26])\n",
      "x.shape:  torch.Size([1, 144, 256])\n",
      "x.shape:  torch.Size([144, 1, 256])\n",
      "attn_output.shape:  torch.Size([144, 1, 256])\n",
      "x_add.shape:  torch.Size([144, 1, 256])\n",
      "x_norm.shape:  torch.Size([144, 1, 256])\n",
      "x_ff.shape:  torch.Size([144, 1, 256])\n",
      "out1:  tensor([[[-0.4642,  0.4443, -0.2035,  ..., -0.2997, -0.6089,  1.2338]],\n",
      "\n",
      "        [[-0.5812,  0.4760, -0.2043,  ..., -0.3123, -0.5370,  1.3368]],\n",
      "\n",
      "        [[-1.0335,  0.7024, -0.1829,  ..., -0.4527, -0.3384,  1.3889]],\n",
      "\n",
      "        ...,\n",
      "\n",
      "        [[-1.0077, -0.0759, -2.1653,  ...,  0.4125,  0.2383,  0.5650]],\n",
      "\n",
      "        [[-1.0077, -0.0759, -2.1653,  ...,  0.4125,  0.2383,  0.5650]],\n",
      "\n",
      "        [[-1.0077, -0.0759, -2.1653,  ...,  0.4125,  0.2383,  0.5650]]],\n",
      "       grad_fn=<NativeLayerNormBackward>)\n",
      "out:  tensor([[[-0.6083,  0.3994, -0.2562,  ..., -0.3693, -0.5908,  1.2448]],\n",
      "\n",
      "        [[-0.7134,  0.4369, -0.2584,  ..., -0.4044, -0.5366,  1.3318]],\n",
      "\n",
      "        [[-1.1623,  0.6602, -0.2445,  ..., -0.5412, -0.3463,  1.3839]],\n",
      "\n",
      "        ...,\n",
      "\n",
      "        [[-1.4822,  0.1489, -1.1564,  ...,  1.2361,  1.7429,  0.5685]],\n",
      "\n",
      "        [[-1.4683,  0.0864, -1.1661,  ...,  1.1983,  1.7806,  0.5742]],\n",
      "\n",
      "        [[-1.4397,  0.0266, -1.1990,  ...,  1.1741,  1.7974,  0.5806]]],\n",
      "       grad_fn=<NativeLayerNormBackward>)\n",
      "Element sum of the difference:  -0.00012969970703125\n"
     ]
    }
   ],
   "source": [
    "# Check if pixel sequence changes the output\n",
    "if use_state:\n",
    "    x = states[0]\n",
    "else:\n",
    "    x = torch.zeros((1,14,14), dtype=int) # this is the structure of the state retrieved by the game\n",
    "if len(x.shape) <= 3:\n",
    "    x = x.unsqueeze(0)\n",
    "print(\"x.shape (before embed): \", x.shape)\n",
    "x = embed(x)\n",
    "print(\"x.shape (after embed): \", x.shape)\n",
    "print(\"x.sum in slices: \", sum_slices(x,(0,1)))\n",
    "x = x.transpose(-1,-3)\n",
    "print(\"x.shape: \", x.shape)\n",
    "x = x.transpose(-1,-2).reshape(x.shape[0],-1,x.shape[-2],x.shape[-1])\n",
    "print(\"x.shape: \", x.shape)\n",
    "x = net(x)\n",
    "print(\"x.shape: \", x.shape)\n",
    "x= add_encoding2D(x)\n",
    "print(\"x.shape: \", x.shape)\n",
    "x = x.view(x.shape[0], x.shape[1],-1)\n",
    "print(\"x.shape: \", x.shape)\n",
    "x = x.transpose(2,1)\n",
    "print(\"x.shape: \", x.shape)\n",
    "x = projection(x)\n",
    "print(\"x.shape: \", x.shape)\n",
    "x = x.transpose(1,0)\n",
    "print(\"x.shape: \", x.shape)\n",
    "x_tmp1 = x\n",
    "x_tmp1[100:] = 0. # mask last 44 positions\n",
    "attn_output, attn_output_weights =  attn(x_tmp1,x_tmp1,x_tmp1, key_padding_mask=None) # MHA step\n",
    "print(\"attn_output.shape: \", attn_output.shape)\n",
    "x_add = attn_output + x\n",
    "print(\"x_add.shape: \", x_add.shape)\n",
    "x_norm = drop(norm(x_add))\n",
    "print(\"x_norm.shape: \", x_norm.shape)\n",
    "x_ff = ff(x_norm)\n",
    "print(\"x_ff.shape: \", x_ff.shape)\n",
    "out1 = drop(norm(x_ff))\n",
    "\n",
    "print(\"out1: \", out1)\n",
    "print(\"out: \", out)\n",
    "print(\"Element sum of the difference: \", torch.sum(out1 - out).item())"
   ]
  },
  {
   "cell_type": "markdown",
   "metadata": {},
   "source": [
    "As can be seen, the new output has changed, as it should."
   ]
  },
  {
   "cell_type": "markdown",
   "metadata": {},
   "source": [
    "**LayerNorm formula**\n",
    "$$y = \\frac{x - \\mathrm{E}[x]}{ \\sqrt{\\mathrm{Var}[x] + \\epsilon}} * \\gamma + \\beta$$"
   ]
  },
  {
   "cell_type": "code",
   "execution_count": 36,
   "metadata": {
    "scrolled": true
   },
   "outputs": [
    {
     "name": "stdout",
     "output_type": "stream",
     "text": [
      "E:  tensor(-0.0010, grad_fn=<MeanBackward0>)\n",
      "V:  tensor(0.0400, grad_fn=<VarBackward0>)\n",
      "LayerNorm by hand: \n",
      " tensor([ 1.2367e+00, -1.7835e+00, -2.4441e-03, -4.0270e-01, -1.5139e+00,\n",
      "        -2.6386e-01, -5.4572e-01, -2.6003e-01, -9.6030e-01,  1.6345e+00,\n",
      "        -5.2845e-01, -1.4107e+00,  3.9938e-01,  7.0202e-01,  1.5320e+00,\n",
      "        -1.6737e+00, -8.7468e-01,  5.5113e-01, -3.0708e-01,  7.7496e-03,\n",
      "        -1.6494e-01, -1.1000e+00,  9.6776e-01,  8.5888e-01, -1.0210e+00,\n",
      "         2.3657e+00,  1.5177e+00, -8.7225e-01,  8.6589e-01,  8.1868e-01,\n",
      "         2.5446e-01,  5.3106e-01, -7.8711e-01, -1.8351e+00, -3.2839e-01,\n",
      "         3.3284e-01,  1.5172e+00, -8.7091e-01,  1.4141e+00,  1.0087e+00,\n",
      "        -1.0348e+00,  3.9755e-01,  9.5607e-02,  4.3761e-01,  2.0353e-01,\n",
      "        -6.6231e-01, -4.0161e-01,  1.9843e+00,  8.1999e-01, -5.1070e-01,\n",
      "         1.9279e-01,  1.7577e+00,  1.2823e+00, -4.5920e-01, -1.5976e+00,\n",
      "         1.3158e-01, -1.1832e+00, -6.4548e-01,  6.2347e-01, -7.1559e-01,\n",
      "        -4.7016e-01,  8.4042e-02, -5.2967e-01, -8.0871e-01, -5.2423e-01,\n",
      "        -4.6438e-01, -4.5582e-01,  1.3852e+00, -8.6585e-01, -1.3479e+00,\n",
      "        -9.3847e-01,  1.6569e+00,  1.7509e+00,  1.7564e+00,  2.5438e-01,\n",
      "         9.1510e-02, -3.8329e-01, -1.6263e-01, -4.3119e-01, -1.5999e+00,\n",
      "         1.0554e-01,  3.3086e-02,  7.1978e-01, -4.2217e-01, -8.1675e-01,\n",
      "        -1.1986e-01, -8.3761e-01,  1.2692e+00,  4.0887e-01, -1.1479e-03,\n",
      "        -3.0194e+00,  4.0932e-01, -5.1255e-01,  4.2961e-01,  7.6784e-01,\n",
      "         7.9169e-01, -4.0824e-01,  9.6161e-02,  1.3011e+00,  1.1046e-01,\n",
      "        -1.1882e+00, -7.7808e-01, -1.7099e+00, -1.6539e+00, -1.2898e-01,\n",
      "         5.1733e-01, -4.3670e-01,  1.3140e+00,  8.3883e-02,  5.8315e-01,\n",
      "        -8.4519e-01,  1.3612e+00,  4.0069e-01,  1.0866e+00,  1.4109e+00,\n",
      "         9.3818e-01, -8.3353e-02, -2.4870e-01, -1.8136e+00,  3.5152e-01,\n",
      "        -7.7687e-01, -2.5470e-01, -3.8727e-01, -3.0143e-01,  2.2818e-01,\n",
      "        -1.2973e+00,  9.2379e-03, -1.0287e+00, -6.8431e-01,  6.0795e-01,\n",
      "         8.3276e-01, -6.6787e-01,  7.8525e-01, -1.6501e+00, -9.6889e-01,\n",
      "         1.1414e+00,  1.7196e+00,  1.0810e+00,  5.9653e-01, -3.2084e-01,\n",
      "         1.3953e+00,  6.1869e-01,  2.6814e-01,  1.2143e+00, -2.7917e-01,\n",
      "         1.6474e+00,  1.2392e-01, -3.6699e-01,  8.5050e-01, -1.9966e+00,\n",
      "        -1.6491e+00, -1.0966e-02, -9.5824e-01,  3.3697e-02,  5.3522e-01,\n",
      "        -4.8617e-01, -1.8594e+00,  1.4216e+00,  9.6006e-01, -1.8956e-01,\n",
      "         6.5900e-01,  2.2774e+00, -6.6381e-01,  8.8960e-01, -2.7965e-01,\n",
      "        -8.9626e-01,  1.9028e+00, -9.1798e-01,  1.7430e+00, -1.1763e+00,\n",
      "        -2.9892e-01,  5.8426e-01,  7.5587e-01,  7.9751e-01, -2.2622e-01,\n",
      "        -9.4742e-01, -3.9977e-01, -5.6251e-01,  7.2320e-01,  4.8324e-01,\n",
      "        -1.1600e+00,  2.2738e-01, -8.9279e-01,  1.8240e-01, -6.9065e-01,\n",
      "         8.3641e-01, -1.0823e-01, -1.5301e+00, -4.3627e-01, -1.3877e-01,\n",
      "         2.5144e-01, -3.0924e-01,  2.4453e-01,  1.1206e+00,  3.8983e-01,\n",
      "         2.9930e+00, -6.2005e-01, -6.6799e-03,  1.7677e+00, -7.0879e-01,\n",
      "         1.5167e+00,  2.8142e-01,  4.3441e-01,  3.4991e-01, -4.3898e-01,\n",
      "         2.6969e-01, -4.3795e-01,  2.1790e+00, -1.3948e+00,  9.1328e-01,\n",
      "        -4.8368e-01,  6.3475e-02,  5.1006e-02, -9.7999e-01,  7.7462e-01,\n",
      "        -2.4217e+00, -1.1016e-01, -9.1220e-01,  1.1597e+00, -2.3983e-01,\n",
      "         5.3457e-01, -7.3219e-01, -5.9876e-01, -6.4072e-01, -7.7357e-01,\n",
      "        -1.0152e+00,  2.7635e+00,  1.9775e+00, -4.6083e-01,  1.7679e-02,\n",
      "         5.8600e-01, -2.1341e-01, -1.0784e+00,  9.8430e-01, -7.7610e-01,\n",
      "         1.1623e+00,  2.0912e-01, -6.7764e-01,  1.5475e-01, -8.0873e-01,\n",
      "         3.9889e-02, -7.0798e-01, -1.1047e+00,  9.8677e-01, -1.2675e+00,\n",
      "         3.6318e-01, -1.2091e+00,  1.4400e+00, -2.0254e+00,  2.0527e-01,\n",
      "        -4.9035e-01, -1.0655e+00, -1.5975e+00,  2.7220e-01,  1.0278e-01,\n",
      "        -1.1393e-01], grad_fn=<DivBackward0>)\n",
      "LayerNorm: \n",
      " tensor([ 1.2391e+00, -1.7870e+00, -2.4488e-03, -4.0348e-01, -1.5168e+00,\n",
      "        -2.6438e-01, -5.4679e-01, -2.6054e-01, -9.6219e-01,  1.6377e+00,\n",
      "        -5.2949e-01, -1.4135e+00,  4.0017e-01,  7.0340e-01,  1.5350e+00,\n",
      "        -1.6769e+00, -8.7640e-01,  5.5221e-01, -3.0769e-01,  7.7648e-03,\n",
      "        -1.6527e-01, -1.1022e+00,  9.6965e-01,  8.6056e-01, -1.0230e+00,\n",
      "         2.3703e+00,  1.5206e+00, -8.7396e-01,  8.6758e-01,  8.2029e-01,\n",
      "         2.5496e-01,  5.3210e-01, -7.8865e-01, -1.8387e+00, -3.2903e-01,\n",
      "         3.3350e-01,  1.5202e+00, -8.7262e-01,  1.4168e+00,  1.0107e+00,\n",
      "        -1.0368e+00,  3.9833e-01,  9.5795e-02,  4.3847e-01,  2.0393e-01,\n",
      "        -6.6361e-01, -4.0240e-01,  1.9882e+00,  8.2159e-01, -5.1170e-01,\n",
      "         1.9317e-01,  1.7611e+00,  1.2848e+00, -4.6010e-01, -1.6007e+00,\n",
      "         1.3184e-01, -1.1855e+00, -6.4675e-01,  6.2469e-01, -7.1700e-01,\n",
      "        -4.7108e-01,  8.4207e-02, -5.3070e-01, -8.1029e-01, -5.2526e-01,\n",
      "        -4.6529e-01, -4.5672e-01,  1.3879e+00, -8.6754e-01, -1.3506e+00,\n",
      "        -9.4031e-01,  1.6602e+00,  1.7544e+00,  1.7598e+00,  2.5488e-01,\n",
      "         9.1690e-02, -3.8404e-01, -1.6295e-01, -4.3203e-01, -1.6031e+00,\n",
      "         1.0575e-01,  3.3151e-02,  7.2119e-01, -4.2300e-01, -8.1835e-01,\n",
      "        -1.2010e-01, -8.3926e-01,  1.2716e+00,  4.0967e-01, -1.1501e-03,\n",
      "        -3.0253e+00,  4.1012e-01, -5.1355e-01,  4.3046e-01,  7.6934e-01,\n",
      "         7.9324e-01, -4.0904e-01,  9.6349e-02,  1.3037e+00,  1.1068e-01,\n",
      "        -1.1905e+00, -7.7960e-01, -1.7132e+00, -1.6571e+00, -1.2923e-01,\n",
      "         5.1834e-01, -4.3755e-01,  1.3166e+00,  8.4047e-02,  5.8429e-01,\n",
      "        -8.4684e-01,  1.3639e+00,  4.0148e-01,  1.0888e+00,  1.4136e+00,\n",
      "         9.4002e-01, -8.3516e-02, -2.4919e-01, -1.8171e+00,  3.5221e-01,\n",
      "        -7.7840e-01, -2.5520e-01, -3.8803e-01, -3.0202e-01,  2.2863e-01,\n",
      "        -1.2998e+00,  9.2559e-03, -1.0307e+00, -6.8565e-01,  6.0914e-01,\n",
      "         8.3439e-01, -6.6918e-01,  7.8678e-01, -1.6533e+00, -9.7079e-01,\n",
      "         1.1436e+00,  1.7230e+00,  1.0831e+00,  5.9770e-01, -3.2147e-01,\n",
      "         1.3980e+00,  6.1991e-01,  2.6866e-01,  1.2167e+00, -2.7972e-01,\n",
      "         1.6506e+00,  1.2416e-01, -3.6771e-01,  8.5216e-01, -2.0005e+00,\n",
      "        -1.6524e+00, -1.0987e-02, -9.6012e-01,  3.3763e-02,  5.3627e-01,\n",
      "        -4.8712e-01, -1.8631e+00,  1.4244e+00,  9.6194e-01, -1.8993e-01,\n",
      "         6.6029e-01,  2.2819e+00, -6.6511e-01,  8.9134e-01, -2.8019e-01,\n",
      "        -8.9801e-01,  1.9066e+00, -9.1978e-01,  1.7465e+00, -1.1786e+00,\n",
      "        -2.9950e-01,  5.8541e-01,  7.5735e-01,  7.9908e-01, -2.2666e-01,\n",
      "        -9.4928e-01, -4.0056e-01, -5.6361e-01,  7.2462e-01,  4.8418e-01,\n",
      "        -1.1623e+00,  2.2782e-01, -8.9454e-01,  1.8276e-01, -6.9200e-01,\n",
      "         8.3805e-01, -1.0844e-01, -1.5331e+00, -4.3712e-01, -1.3904e-01,\n",
      "         2.5193e-01, -3.0984e-01,  2.4501e-01,  1.1228e+00,  3.9059e-01,\n",
      "         2.9988e+00, -6.2127e-01, -6.6929e-03,  1.7711e+00, -7.1018e-01,\n",
      "         1.5197e+00,  2.8197e-01,  4.3526e-01,  3.5059e-01, -4.3984e-01,\n",
      "         2.7021e-01, -4.3881e-01,  2.1833e+00, -1.3975e+00,  9.1507e-01,\n",
      "        -4.8463e-01,  6.3600e-02,  5.1105e-02, -9.8191e-01,  7.7614e-01,\n",
      "        -2.4264e+00, -1.1037e-01, -9.1398e-01,  1.1619e+00, -2.4030e-01,\n",
      "         5.3562e-01, -7.3362e-01, -5.9994e-01, -6.4197e-01, -7.7509e-01,\n",
      "        -1.0172e+00,  2.7689e+00,  1.9814e+00, -4.6173e-01,  1.7714e-02,\n",
      "         5.8715e-01, -2.1383e-01, -1.0805e+00,  9.8623e-01, -7.7762e-01,\n",
      "         1.1646e+00,  2.0953e-01, -6.7897e-01,  1.5505e-01, -8.1032e-01,\n",
      "         3.9967e-02, -7.0937e-01, -1.1068e+00,  9.8870e-01, -1.2699e+00,\n",
      "         3.6389e-01, -1.2115e+00,  1.4429e+00, -2.0293e+00,  2.0567e-01,\n",
      "        -4.9131e-01, -1.0675e+00, -1.6007e+00,  2.7273e-01,  1.0299e-01,\n",
      "        -1.1415e-01], grad_fn=<SliceBackward>)\n"
     ]
    }
   ],
   "source": [
    "# What LayerNorm does\n",
    "\n",
    "E = x_add[0,0,:].mean()\n",
    "print(\"E: \", E)\n",
    "V = x_add[0,0,:].var()\n",
    "print(\"V: \", V)\n",
    "y = (x_add[0,0,:]-E)/torch.sqrt(V+1e-5)\n",
    "print(\"LayerNorm by hand: \\n\", y)\n",
    "print(\"LayerNorm: \\n\", x_norm[0,0,:])"
   ]
  },
  {
   "cell_type": "markdown",
   "metadata": {},
   "source": [
    "# Featurewise MaxPooling\n",
    "\n",
    "For each feature, take the maximum value among the pixels."
   ]
  },
  {
   "cell_type": "code",
   "execution_count": 37,
   "metadata": {},
   "outputs": [
    {
     "name": "stdout",
     "output_type": "stream",
     "text": [
      "x.shape (before embed):  torch.Size([1, 1, 14, 14])\n",
      "x.shape (after embed):  torch.Size([1, 1, 14, 14, 3])\n",
      "x.sum in slices:  tensor([0., 0., 0.])\n",
      "x.shape:  torch.Size([1, 1, 3, 14, 14])\n",
      "x.shape:  torch.Size([1, 3, 14, 14])\n",
      "x.shape:  torch.Size([1, 24, 12, 12])\n",
      "x.shape:  torch.Size([1, 26, 12, 12])\n",
      "x.shape:  torch.Size([1, 26, 144])\n",
      "x.shape:  torch.Size([1, 144, 26])\n",
      "x.shape:  torch.Size([1, 144, 256])\n",
      "x.shape:  torch.Size([144, 1, 256])\n",
      "attn_output.shape:  torch.Size([144, 1, 256])\n",
      "x_add.shape:  torch.Size([144, 1, 256])\n",
      "x_norm.shape:  torch.Size([144, 1, 256])\n",
      "x_ff.shape:  torch.Size([144, 1, 256])\n",
      "x.shape:  torch.Size([144, 1, 256])\n",
      "x.shape:  torch.Size([1, 256])\n"
     ]
    }
   ],
   "source": [
    "x = torch.zeros((1,14,14), dtype=int) # this is the structure of the state retrieved by the game\n",
    "if len(x.shape) <= 3:\n",
    "    x = x.unsqueeze(0)\n",
    "print(\"x.shape (before embed): \", x.shape)\n",
    "x = embed(x)\n",
    "print(\"x.shape (after embed): \", x.shape)\n",
    "print(\"x.sum in slices: \", sum_slices(x,(0,1)))\n",
    "x = x.transpose(-1,-3)\n",
    "print(\"x.shape: \", x.shape)\n",
    "x = x.transpose(-1,-2).reshape(x.shape[0],-1,x.shape[-2],x.shape[-1])\n",
    "print(\"x.shape: \", x.shape)\n",
    "x = net(x)\n",
    "print(\"x.shape: \", x.shape)\n",
    "x= add_encoding2D(x)\n",
    "print(\"x.shape: \", x.shape)\n",
    "x = x.view(x.shape[0], x.shape[1],-1)\n",
    "print(\"x.shape: \", x.shape)\n",
    "x = x.transpose(2,1)\n",
    "print(\"x.shape: \", x.shape)\n",
    "x = projection(x)\n",
    "print(\"x.shape: \", x.shape)\n",
    "x = x.transpose(1,0)\n",
    "print(\"x.shape: \", x.shape)\n",
    "\n",
    "x_tmp = x # save it for plotting\n",
    "\n",
    "# From here it has always the same shape\n",
    "attn_output, attn_output_weights =  attn(x,x,x, key_padding_mask=None) # MHA step\n",
    "print(\"attn_output.shape: \", attn_output.shape)\n",
    "x_add = attn_output + x\n",
    "print(\"x_add.shape: \", x_add.shape)\n",
    "x_norm = drop(norm(x_add))\n",
    "print(\"x_norm.shape: \", x_norm.shape)\n",
    "x_ff = ff(x_norm)\n",
    "print(\"x_ff.shape: \", x_ff.shape)\n",
    "x = drop(norm(x_ff))\n",
    "print(\"x.shape: \", x.shape)\n",
    "# Max pooling feature-wise\n",
    "x, _ = torch.max(x, axis=0)\n",
    "print(\"x.shape: \", x.shape)"
   ]
  },
  {
   "cell_type": "markdown",
   "metadata": {},
   "source": [
    "Nothing much to control here."
   ]
  },
  {
   "cell_type": "markdown",
   "metadata": {},
   "source": [
    "# Alternative to max pooling - Linear projection"
   ]
  },
  {
   "cell_type": "code",
   "execution_count": 38,
   "metadata": {},
   "outputs": [
    {
     "data": {
      "text/plain": [
       "<module 'RelationalModule.RelationalNetworks' from '/home/nicola/Nicola_unipd/MasterThesis/RelationalDeepRL/RelationalModule/RelationalNetworks.py'>"
      ]
     },
     "execution_count": 38,
     "metadata": {},
     "output_type": "execute_result"
    }
   ],
   "source": [
    "reload(rnet)"
   ]
  },
  {
   "cell_type": "code",
   "execution_count": 39,
   "metadata": {},
   "outputs": [],
   "source": [
    "linear_proj = nn.Linear(144,1) # needs to know how many pixels there are"
   ]
  },
  {
   "cell_type": "code",
   "execution_count": 40,
   "metadata": {},
   "outputs": [
    {
     "name": "stdout",
     "output_type": "stream",
     "text": [
      "x.shape (before embed):  torch.Size([1, 1, 14, 14])\n",
      "x.shape (after embed):  torch.Size([1, 1, 14, 14, 3])\n",
      "x.sum in slices:  tensor([0., 0., 0.])\n",
      "x.shape:  torch.Size([1, 1, 3, 14, 14])\n",
      "x.shape:  torch.Size([1, 3, 14, 14])\n",
      "x.shape:  torch.Size([1, 24, 12, 12])\n",
      "x.shape:  torch.Size([1, 26, 12, 12])\n",
      "x.shape:  torch.Size([1, 26, 144])\n",
      "x.shape:  torch.Size([1, 144, 26])\n",
      "x.shape:  torch.Size([1, 144, 256])\n",
      "x.shape:  torch.Size([144, 1, 256])\n",
      "attn_output.shape:  torch.Size([144, 1, 256])\n",
      "x_add.shape:  torch.Size([144, 1, 256])\n",
      "x_norm.shape:  torch.Size([144, 1, 256])\n",
      "x_ff.shape:  torch.Size([144, 1, 256])\n",
      "x.shape:  torch.Size([144, 1, 256])\n",
      "x.shape (before linear):  torch.Size([256, 1, 144])\n",
      "x.shape:  torch.Size([256, 1])\n",
      "x.shape:  torch.Size([1, 256])\n"
     ]
    }
   ],
   "source": [
    "x = torch.zeros((1,1,14,14), dtype=int) # this is the structure of the state retrieved by the game\n",
    "if len(x.shape) <= 3:\n",
    "    x = x.unsqueeze(0)\n",
    "print(\"x.shape (before embed): \", x.shape)\n",
    "x = embed(x)\n",
    "print(\"x.shape (after embed): \", x.shape)\n",
    "print(\"x.sum in slices: \", sum_slices(x,(0,1)))\n",
    "x = x.transpose(-1,-3)\n",
    "print(\"x.shape: \", x.shape)\n",
    "x = x.transpose(-1,-2).reshape(x.shape[0],-1,x.shape[-2],x.shape[-1])\n",
    "print(\"x.shape: \", x.shape)\n",
    "x = net(x)\n",
    "print(\"x.shape: \", x.shape)\n",
    "x= add_encoding2D(x)\n",
    "print(\"x.shape: \", x.shape)\n",
    "x = x.view(x.shape[0], x.shape[1],-1)\n",
    "print(\"x.shape: \", x.shape)\n",
    "x = x.transpose(2,1)\n",
    "print(\"x.shape: \", x.shape)\n",
    "x = projection(x)\n",
    "print(\"x.shape: \", x.shape)\n",
    "x = x.transpose(1,0)\n",
    "print(\"x.shape: \", x.shape)\n",
    "\n",
    "x_tmp = x # save it for plotting\n",
    "\n",
    "# From here it has always the same shape\n",
    "attn_output, attn_output_weights =  attn(x,x,x, key_padding_mask=None) # MHA step\n",
    "print(\"attn_output.shape: \", attn_output.shape)\n",
    "x_add = attn_output + x\n",
    "print(\"x_add.shape: \", x_add.shape)\n",
    "x_norm = drop(norm(x_add))\n",
    "print(\"x_norm.shape: \", x_norm.shape)\n",
    "x_ff = ff(x_norm)\n",
    "print(\"x_ff.shape: \", x_ff.shape)\n",
    "x = drop(norm(x_ff))\n",
    "print(\"x.shape: \", x.shape)\n",
    "\n",
    "# Feature-wise projection\n",
    "x = x.transpose(-1,0)\n",
    "print(\"x.shape (before linear): \", x.shape)\n",
    "shape = x.shape\n",
    "x = linear_proj(x).reshape(shape[0],shape[1])\n",
    "print(\"x.shape: \", x.shape)\n",
    "x = x.transpose(-1,0)\n",
    "print(\"x.shape: \", x.shape)"
   ]
  },
  {
   "cell_type": "markdown",
   "metadata": {},
   "source": [
    "## Residual Layer\n",
    "\n",
    "Here the original paper uses just a Multi-Layer Perceptron, but I thought it would be nice to have sone skip connections in order to make the architecture more flexible."
   ]
  },
  {
   "cell_type": "code",
   "execution_count": 41,
   "metadata": {},
   "outputs": [
    {
     "data": {
      "text/plain": [
       "<module 'RelationalModule.RelationalNetworks' from '/home/nicola/Nicola_unipd/MasterThesis/RelationalDeepRL/RelationalModule/RelationalNetworks.py'>"
      ]
     },
     "execution_count": 41,
     "metadata": {},
     "output_type": "execute_result"
    }
   ],
   "source": [
    "reload(rnet)"
   ]
  },
  {
   "cell_type": "code",
   "execution_count": 42,
   "metadata": {},
   "outputs": [],
   "source": [
    "n_hiddens = 256 \n",
    "residual_layer = rnet.ResidualLayer(n_features, n_hiddens)"
   ]
  },
  {
   "cell_type": "code",
   "execution_count": 43,
   "metadata": {
    "scrolled": true
   },
   "outputs": [
    {
     "data": {
      "text/plain": [
       "tensor([[ 3.4046e-01, -1.7799e-01, -1.3769e-01, -2.5200e-01,  1.6266e-01,\n",
       "         -1.4802e-01, -1.7744e-02, -2.6539e-01, -1.2509e-01, -5.4095e-01,\n",
       "          3.9207e-02, -2.6183e-01,  1.7606e-01,  2.9143e-01, -1.1373e-01,\n",
       "         -9.9646e-02,  2.4334e-02, -2.0447e-01, -3.5969e-01,  7.2330e-04,\n",
       "         -2.1542e-01, -8.2915e-02,  7.1921e-02,  1.9165e-01, -2.9463e-01,\n",
       "          1.4938e-01,  4.3172e-02,  2.7825e-01,  8.7676e-02,  1.9239e-01,\n",
       "          2.0212e-01,  2.0055e-02,  5.4951e-02, -5.2586e-02,  1.8078e-01,\n",
       "         -1.1327e-01, -1.8123e-01, -4.1510e-01,  1.0475e-01,  3.0863e-01,\n",
       "         -3.2263e-01,  2.6995e-01, -1.6046e-01, -1.1443e-01, -1.5249e-01,\n",
       "          2.4896e-01,  1.9913e-02, -1.8818e-01, -4.8661e-01,  6.3672e-02,\n",
       "          2.2249e-01, -2.5275e-01, -2.4951e-01,  2.6660e-01, -2.1289e-01,\n",
       "          9.6719e-02, -1.4689e-01,  2.2682e-01,  1.2186e-01, -5.8079e-01,\n",
       "          1.7860e-01,  1.7924e-01,  2.1774e-01,  2.6215e-01,  2.4848e-01,\n",
       "         -6.8410e-02,  7.2026e-02,  3.5475e-01,  1.5995e-01,  5.1737e-02,\n",
       "          2.6505e-02,  3.1281e-01,  1.9186e-01,  1.1269e-01, -2.1099e-01,\n",
       "         -1.4299e-02, -1.5379e-01, -4.0890e-01,  6.2754e-02,  3.1569e-03,\n",
       "          7.0956e-02,  4.1559e-01, -3.4550e-01,  6.1494e-01, -1.7731e-02,\n",
       "         -3.5611e-01,  6.0029e-02, -6.7635e-02, -2.9731e-01, -5.3008e-01,\n",
       "          3.9124e-01,  4.5005e-01, -1.0128e-01,  4.1737e-01,  3.9473e-04,\n",
       "         -6.2140e-02, -3.1476e-01,  3.1619e-01,  1.6154e-01, -2.0130e-01,\n",
       "         -1.1147e-01,  6.8559e-02, -2.9969e-01,  2.6984e-01, -2.9446e-01,\n",
       "          6.0338e-02,  3.0442e-01, -4.0103e-01, -2.5453e-01,  2.6748e-01,\n",
       "         -6.1661e-01, -1.5166e-01, -5.3656e-02,  4.7330e-01,  6.3457e-01,\n",
       "         -2.0477e-01, -4.4923e-03, -1.7614e-01, -1.7029e-01,  1.3962e-01,\n",
       "          7.6139e-02,  1.6602e-01, -3.9282e-02,  4.3781e-01,  1.6448e-01,\n",
       "          9.5198e-02,  2.7607e-01, -2.1943e-01, -2.0631e-01, -1.4755e-01,\n",
       "         -1.7489e-01,  1.7983e-01, -2.3489e-02, -1.3493e-01, -3.5260e-01,\n",
       "         -1.2090e-01, -9.2396e-02,  2.3990e-01,  3.3486e-01, -2.4445e-02,\n",
       "         -3.1054e-01,  7.0938e-02,  2.0025e-01,  1.8681e-01,  5.1831e-02,\n",
       "         -1.2984e-01,  1.4468e-01,  3.2318e-01, -1.0239e-01, -1.0575e-01,\n",
       "         -3.8034e-03, -1.2603e-01,  1.0121e-01, -1.9704e-03, -9.2845e-02,\n",
       "         -1.0596e-01, -1.4331e-01, -4.6190e-02,  4.0018e-01, -7.9714e-03,\n",
       "         -8.1307e-02, -3.0313e-01,  5.9296e-03, -5.6599e-01, -1.6519e-01,\n",
       "         -3.9282e-01, -1.3257e-01,  4.2153e-02, -1.2705e-02, -1.9221e-02,\n",
       "         -1.4129e-01, -1.8367e-01,  3.9313e-01, -6.7951e-02, -1.3663e-01,\n",
       "         -3.7878e-01,  1.0286e-01, -5.7205e-02,  2.9577e-01,  6.4487e-02,\n",
       "          1.3852e-01, -4.1607e-01,  7.1449e-03,  3.7809e-01, -1.3107e-01,\n",
       "          1.7986e-01, -4.0791e-02,  4.4454e-02, -2.7986e-01, -1.8519e-02,\n",
       "         -4.3610e-01, -3.5900e-01,  4.0136e-01, -2.6615e-02, -7.2638e-02,\n",
       "         -1.2851e-01,  3.9045e-01, -4.7477e-02,  2.1518e-01,  1.1343e-02,\n",
       "          1.3615e-01,  1.2783e-01, -7.4383e-02,  1.3527e-01,  9.2570e-02,\n",
       "          2.6358e-01, -2.4587e-01, -2.1814e-01,  1.9021e-01,  8.2816e-03,\n",
       "         -3.7575e-01, -1.4433e-01, -3.4286e-01, -4.6527e-01, -9.5174e-02,\n",
       "         -4.5108e-01,  3.6704e-01,  3.3172e-01,  1.2001e-01, -2.5458e-01,\n",
       "         -8.6538e-02, -1.2157e-01, -2.5989e-02, -4.0589e-01, -2.8651e-01,\n",
       "          2.8879e-03,  2.5878e-01, -2.8761e-01,  3.5244e-01, -4.9055e-03,\n",
       "         -4.4507e-02,  2.0874e-01,  2.4203e-01, -2.3626e-01,  9.7415e-02,\n",
       "          1.9830e-01, -1.5621e-01,  4.4589e-01,  7.2842e-02, -1.6837e-01,\n",
       "          1.4330e-01, -1.0134e-01, -3.3283e-01,  2.1365e-01, -2.7909e-02,\n",
       "          2.3409e-01,  4.1757e-01,  2.9993e-01, -3.0328e-01, -1.5534e-02,\n",
       "         -3.4818e-01,  2.2384e-01,  5.2036e-01, -7.6309e-02,  2.4561e-02,\n",
       "         -2.3222e-01]], grad_fn=<SubBackward0>)"
      ]
     },
     "execution_count": 43,
     "metadata": {},
     "output_type": "execute_result"
    }
   ],
   "source": [
    "residual_layer(x) - x # residual after ReLU"
   ]
  },
  {
   "cell_type": "markdown",
   "metadata": {},
   "source": [
    "# Full architecture"
   ]
  },
  {
   "cell_type": "code",
   "execution_count": 44,
   "metadata": {},
   "outputs": [
    {
     "data": {
      "text/plain": [
       "<module 'RelationalModule.ControlNetworks' from '/home/nicola/Nicola_unipd/MasterThesis/RelationalDeepRL/RelationalModule/ControlNetworks.py'>"
      ]
     },
     "execution_count": 44,
     "metadata": {},
     "output_type": "execute_result"
    }
   ],
   "source": [
    "reload(rnet)\n",
    "reload(cnet)"
   ]
  },
  {
   "cell_type": "code",
   "execution_count": 45,
   "metadata": {},
   "outputs": [],
   "source": [
    "box_net = rnet.BoxWorldNet(in_channels=1, n_kernels=24, vocab_size=117, n_dim=3,\n",
    "                              n_features=256, n_attn_modules=2, n_linears=4)"
   ]
  },
  {
   "cell_type": "code",
   "execution_count": 46,
   "metadata": {},
   "outputs": [],
   "source": [
    "box_net_v1 = rnet.BoxWorldNet(in_channels=1, n_kernels=24, vocab_size=117, n_dim=3,\n",
    "                              n_features=256, n_attn_modules=2, n_linears=4, max_pool=False,\n",
    "                              linear_size=14)"
   ]
  },
  {
   "cell_type": "code",
   "execution_count": 47,
   "metadata": {},
   "outputs": [],
   "source": [
    "control_net_v0 = cnet.ControlNet_v0(in_channels=1, n_kernels=24, vocab_size=117, n_dim=3,\n",
    "                              n_features=256, hidden_dim=64, n_control_modules=2, n_linears=4)"
   ]
  },
  {
   "cell_type": "code",
   "execution_count": 48,
   "metadata": {},
   "outputs": [],
   "source": [
    "control_net = cnet.ControlNet(vocab_size=117, n_dim=3, linear_size=14, n_features=256)"
   ]
  },
  {
   "cell_type": "code",
   "execution_count": 49,
   "metadata": {},
   "outputs": [],
   "source": [
    "x = torch.randint(high=116, size = (1,14,14))"
   ]
  },
  {
   "cell_type": "code",
   "execution_count": 50,
   "metadata": {
    "scrolled": true
   },
   "outputs": [
    {
     "name": "stdout",
     "output_type": "stream",
     "text": [
      "y.shape:  torch.Size([1, 256])\n"
     ]
    },
    {
     "data": {
      "text/plain": [
       "tensor([[-1.5471,  0.7092,  0.5043, -1.2739,  0.0324,  0.2127,  1.7151,  0.0751,\n",
       "         -2.3387,  0.1834,  0.2383, -2.3373,  0.0369, -0.7664, -0.4881,  2.2223,\n",
       "         -1.1776,  1.3026,  1.3231,  0.8333, -0.5764,  0.3505, -0.3746,  1.0520,\n",
       "          0.5198, -0.3401, -0.8135,  0.1093, -0.2884,  0.5106, -1.3198, -0.2201,\n",
       "          1.7641, -1.0023, -0.3313,  1.1627,  1.3143, -0.1267, -0.1660,  0.0924,\n",
       "          2.0611,  0.2529, -0.4643,  0.8536,  0.6581,  0.6627, -0.6524, -0.6981,\n",
       "          0.8051,  0.8584, -0.7634, -0.6335,  0.2901,  1.4189,  1.7123,  0.5484,\n",
       "          0.1138, -0.1882, -0.7701, -0.1332, -0.3580,  0.3199,  0.6733, -1.3979,\n",
       "          0.8738, -2.0288,  0.2479,  3.8308, -0.9740,  0.6822, -0.5714,  0.0234,\n",
       "         -1.0608, -0.2284, -0.2640,  0.2480,  0.5699,  1.1917,  0.8775,  1.7140,\n",
       "         -0.1189, -1.9704,  0.8235,  0.7952, -2.0623,  1.3243, -0.4739,  0.2564,\n",
       "         -0.3251,  1.0365, -1.2325,  0.4224, -0.3622,  0.7392,  0.0558, -0.6540,\n",
       "         -0.3492,  1.2301,  2.0843,  0.5813,  0.8650,  1.4275,  0.6219,  0.8802,\n",
       "          1.1591, -0.6672,  0.7997,  0.5128,  0.0174, -0.3719, -1.3907,  0.2998,\n",
       "          0.5685, -0.8724,  1.1824,  2.2379,  1.7667, -0.4897, -0.5456,  0.7909,\n",
       "         -1.2068, -0.5416, -0.1304,  0.1983,  0.0959,  1.0144,  0.0364, -0.8620,\n",
       "          0.7441, -0.6192, -1.2235, -0.0515,  1.6450,  0.6437,  0.8365,  1.8153,\n",
       "          0.8291,  0.5406, -1.1828,  0.5787,  1.0067, -0.0319,  1.6063, -1.0376,\n",
       "          1.3407, -0.3251,  0.4864,  0.7845, -1.3161,  0.8276, -1.0287,  0.1910,\n",
       "          0.1074, -1.3716,  0.0538, -0.3672,  0.5405,  0.8647,  2.5618, -0.2019,\n",
       "          1.1991,  0.7162,  0.4404,  0.6670, -0.3929,  0.5611, -1.0416,  1.0643,\n",
       "          0.6875, -1.0635,  0.6043, -1.2560,  0.9725,  1.6278, -1.1422, -0.9194,\n",
       "         -0.4768, -0.5272, -0.7036, -0.0107, -0.3020,  1.3244,  1.2034,  0.4073,\n",
       "          0.5228,  0.7222, -0.7065,  0.1212, -0.4195,  0.1012, -0.1144,  0.8966,\n",
       "         -1.1808, -0.6249,  1.1457, -2.5790,  0.6808,  0.2712,  1.9208, -1.3685,\n",
       "         -0.0107, -0.6395, -0.5594, -1.6262,  0.9290,  1.5577, -0.5051,  0.3751,\n",
       "          2.4535,  0.0328,  0.4107, -0.1140,  1.4511, -0.4270,  1.4195, -1.7802,\n",
       "          1.3993,  0.2397, -1.6050, -0.5627,  1.7610,  0.0655, -0.2391, -1.7453,\n",
       "         -0.5298, -0.0163, -0.5168, -1.0997, -0.3276,  0.1344, -1.3639,  0.6431,\n",
       "         -1.3612, -0.6799,  0.7480,  1.4066, -0.1213, -1.2101,  0.3774,  0.4071,\n",
       "         -2.1186, -1.5839, -0.1614, -1.2739, -0.0131, -0.9448, -0.2614,  0.2230,\n",
       "         -0.1667,  0.0329, -1.6514,  0.4861,  0.7832, -0.7462, -0.3340,  1.3037]],\n",
       "       grad_fn=<AddBackward0>)"
      ]
     },
     "execution_count": 50,
     "metadata": {},
     "output_type": "execute_result"
    }
   ],
   "source": [
    "y = box_net_v1(x)\n",
    "print(\"y.shape: \", y.shape)\n",
    "y"
   ]
  },
  {
   "cell_type": "code",
   "execution_count": 51,
   "metadata": {},
   "outputs": [
    {
     "name": "stdout",
     "output_type": "stream",
     "text": [
      "y.shape:  torch.Size([1, 256])\n"
     ]
    },
    {
     "data": {
      "text/plain": [
       "tensor([[ 0.6275, -0.4645,  0.3161, -0.0920,  0.7217,  0.1190,  0.2420,  0.1939,\n",
       "         -0.0770,  0.2359, -0.0147, -0.5581, -0.6168, -0.0540,  0.0092, -0.0842,\n",
       "          0.1390,  0.3213, -0.0755, -0.1262, -0.1170,  0.7106, -0.3194,  0.7719,\n",
       "         -0.4422,  0.1247, -0.1539, -0.3418,  1.1937,  0.7901,  0.8286, -0.2074,\n",
       "         -0.1138,  0.3759,  0.1102,  0.6604,  0.1150, -0.0102, -0.2906,  0.3861,\n",
       "         -0.8664, -0.2144,  1.1945, -0.1598,  0.1662,  1.1691,  0.1277, -0.2408,\n",
       "         -0.4073, -0.0022,  0.0661,  0.6392,  0.0334, -0.1118,  0.7087,  0.0787,\n",
       "         -0.1119,  0.0699,  0.9235,  0.0037, -0.1871, -0.0035,  0.1199, -0.3411,\n",
       "         -0.2219,  0.0796, -0.1917, -0.1970,  0.7169,  0.0927,  0.0127, -0.0470,\n",
       "          0.1690, -0.2687,  0.3930,  0.0331,  0.1590,  0.0702, -0.2854,  0.3378,\n",
       "          0.5696, -0.0744,  0.0178, -0.5231,  0.7048, -0.1098,  0.3590,  0.3561,\n",
       "          0.5504, -0.0755, -0.1009,  0.4380, -0.0596, -0.2309, -0.0082, -0.3103,\n",
       "         -0.2520, -0.4410,  0.0449, -0.2753,  0.0143, -0.4961,  0.1619,  0.5168,\n",
       "          0.1644,  0.0499,  0.0655,  0.2009,  0.1321,  0.7903,  1.0388, -0.1101,\n",
       "          0.6045,  0.3273,  0.1312,  0.1644, -0.0342,  0.0410, -0.7405,  0.1560,\n",
       "          0.4590,  0.1169,  0.0233,  0.7692,  0.3899, -0.0161, -0.2568,  0.9514,\n",
       "         -0.1643,  0.2008, -0.0170,  0.0240, -0.0550,  0.8834,  0.4645,  0.1947,\n",
       "         -0.3955,  0.4820,  0.2248,  0.1516,  0.3518,  0.4987, -0.1625,  0.8188,\n",
       "          0.5263,  0.2361,  0.8194,  0.2792,  0.1319,  0.1396,  0.3845,  0.3847,\n",
       "         -0.5871,  0.0479, -0.7123,  0.1758,  0.4096, -0.2462, -0.0481,  0.5522,\n",
       "          0.3061, -0.0887,  0.0537,  0.5695,  0.6360,  0.2641,  0.4310, -0.4099,\n",
       "          0.1677, -0.0226, -0.2434,  0.7099,  0.7233, -0.3087, -0.2593,  0.3948,\n",
       "          0.4278, -0.2560, -0.4015,  0.2449,  0.2573,  0.6944,  0.0592, -0.0961,\n",
       "          0.0334, -0.2556,  0.0098, -0.0997,  0.1117,  0.2356,  0.4055,  0.0760,\n",
       "          0.0499,  0.0252,  0.6975, -0.2829, -0.1631,  0.2040,  0.2929, -0.0982,\n",
       "         -0.5234,  0.0408,  0.2530, -0.0201,  0.5878, -0.5445, -0.1971,  0.0978,\n",
       "         -0.2508,  0.0326,  0.3169,  0.2719, -0.6158,  0.3247, -0.4823, -0.1473,\n",
       "         -0.1069, -0.2614,  0.2250,  0.3413,  0.4934,  0.1526, -0.4751, -0.4367,\n",
       "         -0.3185, -0.0775, -0.2838,  0.0425, -0.0080, -0.1362,  0.4856, -0.1161,\n",
       "         -0.0714, -0.0817, -0.3893,  0.3568,  0.5500, -0.8181,  0.0467,  0.1458,\n",
       "         -0.2578,  0.1796,  0.0996,  0.3344,  0.3717,  0.5663, -0.1623,  0.1556,\n",
       "          0.7077, -0.3985, -0.2376, -0.0056,  0.2877,  0.5140,  0.6364,  0.0568]],\n",
       "       grad_fn=<AddBackward0>)"
      ]
     },
     "execution_count": 51,
     "metadata": {},
     "output_type": "execute_result"
    }
   ],
   "source": [
    "y = control_net(x)\n",
    "print(\"y.shape: \", y.shape)\n",
    "y"
   ]
  },
  {
   "cell_type": "markdown",
   "metadata": {},
   "source": [
    "# Multi-channel embedding layer test\n",
    "\n",
    "Here I just wanted to see how to embed even images with more than one channel"
   ]
  },
  {
   "cell_type": "code",
   "execution_count": 52,
   "metadata": {},
   "outputs": [
    {
     "data": {
      "text/plain": [
       "<module 'RelationalModule.RelationalNetworks' from '/home/nicola/Nicola_unipd/MasterThesis/RelationalDeepRL/RelationalModule/RelationalNetworks.py'>"
      ]
     },
     "execution_count": 52,
     "metadata": {},
     "output_type": "execute_result"
    }
   ],
   "source": [
    "reload(rnet)"
   ]
  },
  {
   "cell_type": "code",
   "execution_count": 53,
   "metadata": {},
   "outputs": [],
   "source": [
    "get_entities = rnet.ExtractEntities(k_out = 24, k_in=3, n_dim=3)"
   ]
  },
  {
   "cell_type": "code",
   "execution_count": 54,
   "metadata": {},
   "outputs": [],
   "source": [
    "embed = nn.Embedding(255,3)"
   ]
  },
  {
   "cell_type": "code",
   "execution_count": 55,
   "metadata": {},
   "outputs": [],
   "source": [
    "x = torch.randint(high=116, size = (3,14,14))"
   ]
  },
  {
   "cell_type": "code",
   "execution_count": 56,
   "metadata": {},
   "outputs": [
    {
     "data": {
      "text/plain": [
       "torch.Size([1, 24, 12, 12])"
      ]
     },
     "execution_count": 56,
     "metadata": {},
     "output_type": "execute_result"
    }
   ],
   "source": [
    "get_entities(x).shape"
   ]
  },
  {
   "cell_type": "code",
   "execution_count": 57,
   "metadata": {},
   "outputs": [
    {
     "data": {
      "text/plain": [
       "torch.Size([3, 1, 14, 14])"
      ]
     },
     "execution_count": 57,
     "metadata": {},
     "output_type": "execute_result"
    }
   ],
   "source": [
    "x = x.transpose(-1,-2).reshape(x.shape[0],-1,x.shape[-2],x.shape[-1])\n",
    "x.shape"
   ]
  },
  {
   "cell_type": "code",
   "execution_count": 58,
   "metadata": {},
   "outputs": [],
   "source": [
    "bw_net = rnet.BoxWorldNet()"
   ]
  },
  {
   "cell_type": "code",
   "execution_count": 59,
   "metadata": {},
   "outputs": [
    {
     "data": {
      "text/plain": [
       "torch.Size([3, 256])"
      ]
     },
     "execution_count": 59,
     "metadata": {},
     "output_type": "execute_result"
    }
   ],
   "source": [
    "bw_net(x).shape"
   ]
  }
 ],
 "metadata": {
  "kernelspec": {
   "display_name": "torch",
   "language": "python",
   "name": "torch"
  },
  "language_info": {
   "codemirror_mode": {
    "name": "ipython",
    "version": 3
   },
   "file_extension": ".py",
   "mimetype": "text/x-python",
   "name": "python",
   "nbconvert_exporter": "python",
   "pygments_lexer": "ipython3",
   "version": "3.7.6"
  }
 },
 "nbformat": 4,
 "nbformat_minor": 2
}
