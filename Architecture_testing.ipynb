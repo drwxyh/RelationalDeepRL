{
 "cells": [
  {
   "cell_type": "markdown",
   "metadata": {},
   "source": [
    "# Relational Deep Reinforcement Learning\n",
    "\n",
    "**Plan:**\n",
    "1. Architecture\n",
    "2. Agent\n",
    "3. Environment\n",
    "4. Training cycle"
   ]
  },
  {
   "cell_type": "markdown",
   "metadata": {},
   "source": [
    "## Relational architecture\n",
    "\n",
    "**Input: (b,n,n,1)** = (batch length, linear size, linear size, greyscale)\n",
    "\n",
    "**Extract entities: (b,n,n,1) -> (b, m, m, 2k)** \n",
    "* embedding layer: vocab_size = MAX_PIXELS+1, embedding_dim = n_dim\n",
    "* convolutional_layer1(kernel_size = (2,2), input_filters = n_dim, output_filters = k, stride = 1, pad = (1,1))\n",
    "* convolutional_layer2(kernel_size = (2,2), input_filters = k, output_filters = 2k, stride = 1, pad = (1,1))\n",
    "\n",
    "**Relational block: (b, m, m, 2k) -> (b,d_m)**\n",
    "* Positional Encoding: (b, m, m, 2k) -> (b, m^2, d_m)\n",
    "* N Multi-Headed Attention blocks: (b, m^2, d_m) -> (b, m^2, d_m)\n",
    "\n",
    "**Feature-wise max pooling: (b, m^2, d_m) -> (b, d_m)**\n",
    "\n",
    "**Multi-Layer Perceptron: (b, d_m) -> (b, d_m)**\n",
    "* 4 fully connected layers (d_m,d_m) with ReLUs (TODO: add skip-connections)\n",
    "\n",
    "**Actor output: (b,d_m) -> (b,a)** [a = number of possible actions]\n",
    "* Single linear layer with softmax at the end\n",
    "\n",
    "**Critic output: (b,d_m) -> (b,1)** \n",
    "* Single linear layer without activation function"
   ]
  },
  {
   "cell_type": "markdown",
   "metadata": {},
   "source": [
    "## Control architecture\n",
    "\n",
    "**Input: (b,n,n,1)** = (batch length, linear size, linear size, greyscale)\n",
    "\n",
    "**Extract entities: (b,n,n,1) -> (b, m, m, 2k)** \n",
    "* embedding layer: vocab_size = MAX_PIXELS+1, embedding_dim = n_dim\n",
    "* convolutional_layer1(kernel_size = (2,2), input_filters = n_dim, output_filters = k, stride = 1, pad = (1,1))\n",
    "* convolutional_layer2(kernel_size = (2,2), input_filters = k, output_filters = 2k, stride = 1, pad = (1,1))\n",
    "\n",
    "**1D Convolutional block: (b, m, m, 2k) -> (b, m^2, d_m)**\n",
    "* Positional Encoding: (b, m, m, 2k) -> (b, m^2, d_m)\n",
    "* 2 1D convolutional blocks with ReLUs: (b, m^2, d_m) -> (b, m^2, d_m) - pixel-wise\n",
    "\n",
    "**Feature-wise max pooling: (b, m^2, d_m) -> (b, d_m)**\n",
    "\n",
    "**Multi-Layer Perceptron: (b, d_m) -> (b, d_m)**\n",
    "* 4 fully connected layers (d_m,d_m) with ReLUs - feature-wise\n",
    "* (TODO: add skip-connections)\n",
    "\n",
    "**Actor output: (b,d_m) -> (b,a)** [a = number of possible actions]\n",
    "* Single linear layer with softmax at the end\n",
    "\n",
    "**Critic output: (b,d_m) -> (b,1)** \n",
    "* Single linear layer without activation function"
   ]
  },
  {
   "cell_type": "code",
   "execution_count": 1,
   "metadata": {},
   "outputs": [],
   "source": [
    "import numpy as np\n",
    "import torch \n",
    "\n",
    "import torch.nn as nn\n",
    "import torch.nn.functional as F"
   ]
  },
  {
   "cell_type": "code",
   "execution_count": 2,
   "metadata": {},
   "outputs": [],
   "source": [
    "from RelationalModule import RelationalNetworks as rnet\n",
    "from RelationalModule import ControlNetworks as cnet"
   ]
  },
  {
   "cell_type": "code",
   "execution_count": 3,
   "metadata": {},
   "outputs": [
    {
     "data": {
      "text/plain": [
       "<module 'RelationalModule.ControlNetworks' from '/home/nicola/Nicola_unipd/MasterThesis/RelationalDeepRL/RelationalModule/ControlNetworks.py'>"
      ]
     },
     "execution_count": 3,
     "metadata": {},
     "output_type": "execute_result"
    }
   ],
   "source": [
    "from importlib import reload\n",
    "reload(rnet)\n",
    "reload(cnet)"
   ]
  },
  {
   "cell_type": "markdown",
   "metadata": {},
   "source": [
    "# Sample image from the game"
   ]
  },
  {
   "cell_type": "code",
   "execution_count": 4,
   "metadata": {},
   "outputs": [],
   "source": [
    "import sys\n",
    "sys.path.insert(0, \"pycolab/pycolab/examples/research/box_world\")\n",
    "import box_world as bw"
   ]
  },
  {
   "cell_type": "code",
   "execution_count": 5,
   "metadata": {},
   "outputs": [],
   "source": [
    "def get_state(observation, mask=True):\n",
    "    #print(\"Keys: \", observation.layers.keys())\n",
    "    board = observation.board#.astype('float')\n",
    "    \n",
    "    if mask:\n",
    "        walls = observation.layers['#'].astype(int)\n",
    "        #print(\"walls: \", walls)\n",
    "        background = observation.layers[' '].astype(int)\n",
    "        #print(\"background: \", background)\n",
    "        ambient = walls + background\n",
    "        #print(\"ambient: \", ambient)\n",
    "        board[ambient.astype(bool)] = 0\n",
    "        #print(\"board (masked): \", board)\n",
    "    grid_size = board.shape[0]\n",
    "    board = board.reshape(1, grid_size, grid_size)\n",
    "    return board #/MAX_PIXEL"
   ]
  },
  {
   "cell_type": "code",
   "execution_count": 6,
   "metadata": {},
   "outputs": [],
   "source": [
    "def print_key_values(observation):\n",
    "    layers = observation.layers\n",
    "    board = observation.board\n",
    "    print(\"\\nKeys: \", layers.keys())\n",
    "    for k in layers.keys():\n",
    "        values = board[layers[k]]\n",
    "        if k == ' ':\n",
    "            print(\"background \", np.max(values))\n",
    "        elif k == '#':\n",
    "            print(\"wall \", np.max(values))\n",
    "        elif k == '.':\n",
    "            print(\"agent \",  np.max(values))\n",
    "        else:\n",
    "            print(k, np.max(values))"
   ]
  },
  {
   "cell_type": "code",
   "execution_count": 7,
   "metadata": {},
   "outputs": [],
   "source": [
    "def get_init_state():\n",
    "    GRID_SIZE = 12\n",
    "    game_params = dict(grid_size=GRID_SIZE,\n",
    "                    solution_length=[2], # number of boxes to be opened to get the gem\n",
    "                    num_forward = [1], # number of distractors\n",
    "                    num_backward=[0], # just set to 0 for now\n",
    "                    branch_length=1, # length of forward distractors\n",
    "                    max_num_steps = 50\n",
    "                   )\n",
    "    game = bw.make_game(**game_params)\n",
    "\n",
    "\n",
    "\n",
    "    observation, _, _ = game.its_showtime()\n",
    "    print_key_values(observation)\n",
    "    state = get_state(observation)\n",
    "    state = torch.from_numpy(state.astype(int))\n",
    "    return state"
   ]
  },
  {
   "cell_type": "code",
   "execution_count": 8,
   "metadata": {
    "scrolled": false
   },
   "outputs": [
    {
     "name": "stdout",
     "output_type": "stream",
     "text": [
      "\n",
      "Keys:  dict_keys(['#', 'G', '*', 'm', 'L', 'g', 'l', '.', ' '])\n",
      "wall  35\n",
      "G 71\n",
      "* 42\n",
      "m 109\n",
      "L 76\n",
      "g 103\n",
      "l 108\n",
      "agent  46\n",
      "background  32\n",
      "\n",
      "Keys:  dict_keys(['#', 'r', 'o', '*', 'p', 'P', '.', ' ', 'R'])\n",
      "wall  35\n",
      "r 114\n",
      "o 111\n",
      "* 42\n",
      "p 112\n",
      "P 80\n",
      "agent  46\n",
      "background  32\n",
      "R 82\n",
      "\n",
      "Keys:  dict_keys(['#', 'r', 'o', '*', 'm', 'O', '.', ' ', 'R'])\n",
      "wall  35\n",
      "r 114\n",
      "o 111\n",
      "* 42\n",
      "m 109\n",
      "O 79\n",
      "agent  46\n",
      "background  32\n",
      "R 82\n",
      "\n",
      "Keys:  dict_keys(['#', 'G', '*', 'g', 'f', 'l', 'F', '.', ' '])\n",
      "wall  35\n",
      "G 71\n",
      "* 42\n",
      "g 103\n",
      "f 102\n",
      "l 108\n",
      "F 70\n",
      "agent  46\n",
      "background  32\n",
      "\n",
      "Keys:  dict_keys(['#', 's', 'G', '*', 'p', 'P', 'g', '.', ' '])\n",
      "wall  35\n",
      "s 115\n",
      "G 71\n",
      "* 42\n",
      "p 112\n",
      "P 80\n",
      "g 103\n",
      "agent  46\n",
      "background  32\n"
     ]
    },
    {
     "name": "stderr",
     "output_type": "stream",
     "text": [
      "/home/nicola/anaconda3/envs/torch/lib/python3.7/site-packages/pycolab/ascii_art.py:318: FutureWarning: arrays to stack must be passed as a \"sequence\" type such as list or tuple. Support for non-sequence iterables such as generators is deprecated as of NumPy 1.16 and will raise an error in the future.\n",
      "  art = np.vstack(np.fromstring(line, dtype=np.uint8) for line in art)\n"
     ]
    }
   ],
   "source": [
    "states = [get_init_state() for _ in range(5)]"
   ]
  },
  {
   "cell_type": "markdown",
   "metadata": {},
   "source": [
    "So we can see that actually the agent, the wall, the background and the gem have always the same value along episodes. Also same key-box couples have the same pair color, so once experienced a certain opening, that opening can be memorized and used in the future (otherwise the agent should rely on pure chance and trying to open every box every time).\n",
    "\n",
    "A simpler setup would be that of masking to 0 all walls and background, at least to see if there is anything about them that is impeding the learning process."
   ]
  },
  {
   "cell_type": "markdown",
   "metadata": {},
   "source": [
    "# Embedding layer"
   ]
  },
  {
   "cell_type": "code",
   "execution_count": 9,
   "metadata": {},
   "outputs": [],
   "source": [
    "import matplotlib.pyplot as plt"
   ]
  },
  {
   "cell_type": "code",
   "execution_count": 10,
   "metadata": {},
   "outputs": [],
   "source": [
    "vocab_size = 256\n",
    "n_dim = 3\n",
    "embed = nn.Embedding(vocab_size, n_dim, padding_idx=0)"
   ]
  },
  {
   "cell_type": "code",
   "execution_count": 11,
   "metadata": {
    "scrolled": true
   },
   "outputs": [
    {
     "name": "stdout",
     "output_type": "stream",
     "text": [
      "y_zeros.shape:  torch.Size([10, 10, 3])\n",
      "tensor([[-0.4961, -0.4961, -0.4961, -0.4961, -0.4961, -0.4961, -0.4961, -0.4961,\n",
      "         -0.4961, -0.4961],\n",
      "        [-0.4961, -0.4961, -0.4961, -0.4961, -0.4961, -0.4961, -0.4961, -0.4961,\n",
      "         -0.4961, -0.4961],\n",
      "        [-0.4961, -0.4961, -0.4961, -0.4961, -0.4961, -0.4961, -0.4961, -0.4961,\n",
      "         -0.4961, -0.4961],\n",
      "        [-0.4961, -0.4961, -0.4961, -0.4961, -0.4961, -0.4961, -0.4961, -0.4961,\n",
      "         -0.4961, -0.4961],\n",
      "        [-0.4961, -0.4961, -0.4961, -0.4961, -0.4961, -0.4961, -0.4961, -0.4961,\n",
      "         -0.4961, -0.4961],\n",
      "        [-0.4961, -0.4961, -0.4961, -0.4961, -0.4961, -0.4961, -0.4961, -0.4961,\n",
      "         -0.4961, -0.4961],\n",
      "        [-0.4961, -0.4961, -0.4961, -0.4961, -0.4961, -0.4961, -0.4961, -0.4961,\n",
      "         -0.4961, -0.4961],\n",
      "        [-0.4961, -0.4961, -0.4961, -0.4961, -0.4961, -0.4961, -0.4961, -0.4961,\n",
      "         -0.4961, -0.4961],\n",
      "        [-0.4961, -0.4961, -0.4961, -0.4961, -0.4961, -0.4961, -0.4961, -0.4961,\n",
      "         -0.4961, -0.4961],\n",
      "        [-0.4961, -0.4961, -0.4961, -0.4961, -0.4961, -0.4961, -0.4961, -0.4961,\n",
      "         -0.4961, -0.4961]], grad_fn=<SelectBackward>)\n",
      "tensor([[0.4170, 0.4170, 0.4170, 0.4170, 0.4170, 0.4170, 0.4170, 0.4170, 0.4170,\n",
      "         0.4170],\n",
      "        [0.4170, 0.4170, 0.4170, 0.4170, 0.4170, 0.4170, 0.4170, 0.4170, 0.4170,\n",
      "         0.4170],\n",
      "        [0.4170, 0.4170, 0.4170, 0.4170, 0.4170, 0.4170, 0.4170, 0.4170, 0.4170,\n",
      "         0.4170],\n",
      "        [0.4170, 0.4170, 0.4170, 0.4170, 0.4170, 0.4170, 0.4170, 0.4170, 0.4170,\n",
      "         0.4170],\n",
      "        [0.4170, 0.4170, 0.4170, 0.4170, 0.4170, 0.4170, 0.4170, 0.4170, 0.4170,\n",
      "         0.4170],\n",
      "        [0.4170, 0.4170, 0.4170, 0.4170, 0.4170, 0.4170, 0.4170, 0.4170, 0.4170,\n",
      "         0.4170],\n",
      "        [0.4170, 0.4170, 0.4170, 0.4170, 0.4170, 0.4170, 0.4170, 0.4170, 0.4170,\n",
      "         0.4170],\n",
      "        [0.4170, 0.4170, 0.4170, 0.4170, 0.4170, 0.4170, 0.4170, 0.4170, 0.4170,\n",
      "         0.4170],\n",
      "        [0.4170, 0.4170, 0.4170, 0.4170, 0.4170, 0.4170, 0.4170, 0.4170, 0.4170,\n",
      "         0.4170],\n",
      "        [0.4170, 0.4170, 0.4170, 0.4170, 0.4170, 0.4170, 0.4170, 0.4170, 0.4170,\n",
      "         0.4170]], grad_fn=<SelectBackward>)\n",
      "tensor([[-0.8873, -0.8873, -0.8873, -0.8873, -0.8873, -0.8873, -0.8873, -0.8873,\n",
      "         -0.8873, -0.8873],\n",
      "        [-0.8873, -0.8873, -0.8873, -0.8873, -0.8873, -0.8873, -0.8873, -0.8873,\n",
      "         -0.8873, -0.8873],\n",
      "        [-0.8873, -0.8873, -0.8873, -0.8873, -0.8873, -0.8873, -0.8873, -0.8873,\n",
      "         -0.8873, -0.8873],\n",
      "        [-0.8873, -0.8873, -0.8873, -0.8873, -0.8873, -0.8873, -0.8873, -0.8873,\n",
      "         -0.8873, -0.8873],\n",
      "        [-0.8873, -0.8873, -0.8873, -0.8873, -0.8873, -0.8873, -0.8873, -0.8873,\n",
      "         -0.8873, -0.8873],\n",
      "        [-0.8873, -0.8873, -0.8873, -0.8873, -0.8873, -0.8873, -0.8873, -0.8873,\n",
      "         -0.8873, -0.8873],\n",
      "        [-0.8873, -0.8873, -0.8873, -0.8873, -0.8873, -0.8873, -0.8873, -0.8873,\n",
      "         -0.8873, -0.8873],\n",
      "        [-0.8873, -0.8873, -0.8873, -0.8873, -0.8873, -0.8873, -0.8873, -0.8873,\n",
      "         -0.8873, -0.8873],\n",
      "        [-0.8873, -0.8873, -0.8873, -0.8873, -0.8873, -0.8873, -0.8873, -0.8873,\n",
      "         -0.8873, -0.8873],\n",
      "        [-0.8873, -0.8873, -0.8873, -0.8873, -0.8873, -0.8873, -0.8873, -0.8873,\n",
      "         -0.8873, -0.8873]], grad_fn=<SelectBackward>)\n"
     ]
    }
   ],
   "source": [
    "zeros = torch.ones((10,10), dtype=int)\n",
    "y_zeros = embed(zeros)\n",
    "print(\"y_zeros.shape: \", y_zeros.shape)\n",
    "print(y_zeros[:,:,0])\n",
    "print(y_zeros[:,:,1])\n",
    "print(y_zeros[:,:,2])"
   ]
  },
  {
   "cell_type": "markdown",
   "metadata": {},
   "source": [
    "Same integer values get mapped to same vectors, as it should be. "
   ]
  },
  {
   "cell_type": "code",
   "execution_count": 12,
   "metadata": {},
   "outputs": [
    {
     "name": "stderr",
     "output_type": "stream",
     "text": [
      "Clipping input data to the valid range for imshow with RGB data ([0..1] for floats or [0..255] for integers).\n"
     ]
    },
    {
     "data": {
      "text/plain": [
       "<matplotlib.image.AxesImage at 0x7fb34009bc50>"
      ]
     },
     "execution_count": 12,
     "metadata": {},
     "output_type": "execute_result"
    },
    {
     "data": {
      "image/png": "[encoded data removed]",
      "text/plain": [
       "<Figure size 432x288 with 1 Axes>"
      ]
     },
     "metadata": {
      "needs_background": "light"
     },
     "output_type": "display_data"
    }
   ],
   "source": [
    "eye = torch.eye(10, dtype=int)\n",
    "y_eye = embed(eye).detach()\n",
    "plt.imshow(y_eye.numpy())"
   ]
  },
  {
   "cell_type": "markdown",
   "metadata": {},
   "source": [
    "Again the embedding works, since each integer value is associated to a particular vector (in this case 3D vector, that can be represented as RGB color once clipped)."
   ]
  },
  {
   "cell_type": "code",
   "execution_count": 13,
   "metadata": {
    "scrolled": false
   },
   "outputs": [
    {
     "data": {
      "image/png": "[encoded data removed]",
      "text/plain": [
       "<Figure size 432x288 with 1 Axes>"
      ]
     },
     "metadata": {
      "needs_background": "light"
     },
     "output_type": "display_data"
    },
    {
     "data": {
      "image/png": "[encoded data removed]",
      "text/plain": [
       "<Figure size 432x288 with 1 Axes>"
      ]
     },
     "metadata": {
      "needs_background": "light"
     },
     "output_type": "display_data"
    },
    {
     "data": {
      "image/png": "[encoded data removed]",
      "text/plain": [
       "<Figure size 432x288 with 1 Axes>"
      ]
     },
     "metadata": {
      "needs_background": "light"
     },
     "output_type": "display_data"
    },
    {
     "data": {
      "image/png": "[encoded data removed]",
      "text/plain": [
       "<Figure size 432x288 with 1 Axes>"
      ]
     },
     "metadata": {
      "needs_background": "light"
     },
     "output_type": "display_data"
    },
    {
     "data": {
      "image/png": "[encoded data removed]",
      "text/plain": [
       "<Figure size 432x288 with 1 Axes>"
      ]
     },
     "metadata": {
      "needs_background": "light"
     },
     "output_type": "display_data"
    }
   ],
   "source": [
    "for state in states:\n",
    "    x = state\n",
    "    if len(x.shape) <= 3:\n",
    "        x = x.unsqueeze(0)\n",
    "    #print(\"x.shape (before embed): \", x.shape)\n",
    "    x = embed(x)\n",
    "    #print(\"x.shape (after embed): \", x.shape)\n",
    "    #print(\"x.sum in slices: \", sum_slices(x,(0,1)))\n",
    "    x = x.transpose(-1,-3)\n",
    "    #print(\"x.shape: \", x.shape)\n",
    "    x = x.transpose(-1,-2).reshape(x.shape[0],-1,x.shape[-2],x.shape[-1]).squeeze()\n",
    "    #print(\"x.shape: \", x.shape)\n",
    "    ### This part is just for correct visualization after embedding ###\n",
    "    x = x.transpose(-1,0)\n",
    "    x = x.transpose(1,0)\n",
    "    #print(\"x.shape: \", x.shape)\n",
    "    x = x.detach().numpy()\n",
    "    M = x.max(axis=(0,1))\n",
    "    m= x.min(axis=(0,1))\n",
    "    #print(\"M: \", M.shape )\n",
    "    #print(\"m: \", m.shape)\n",
    "    x = (x - m)/(M-m)\n",
    "    plt.imshow(x)\n",
    "    plt.show()"
   ]
  },
  {
   "cell_type": "markdown",
   "metadata": {},
   "source": [
    "Given this simple rendering (after embedding) from naked eye we can only see that:\n",
    "1. keys have different colors from the boxes they should open\n",
    "2. distractors are identical to the right boxes\n",
    "\n",
    "Then we also have to notice that in this representation colors are biased because I had to normalize in [0,1] the \"RGB\" channels given by the embedding."
   ]
  },
  {
   "cell_type": "markdown",
   "metadata": {},
   "source": [
    "# Convolution layers"
   ]
  },
  {
   "cell_type": "code",
   "execution_count": 14,
   "metadata": {},
   "outputs": [],
   "source": [
    "use_state = True"
   ]
  },
  {
   "cell_type": "code",
   "execution_count": 15,
   "metadata": {},
   "outputs": [],
   "source": [
    "k_in = 1\n",
    "k_out = 24\n",
    "kernel_size = 2\n",
    "stride = 1\n",
    "padding = 0\n",
    "\n",
    "layers = []\n",
    "layers.append(nn.Conv2d(n_dim*k_in, k_out//2, kernel_size, stride, padding))\n",
    "layers.append(nn.ReLU())\n",
    "layers.append(nn.Conv2d(k_out//2, k_out, kernel_size, stride, padding))\n",
    "#layers.append(nn.ReLU())\n",
    "net = nn.Sequential(*layers)"
   ]
  },
  {
   "cell_type": "code",
   "execution_count": 16,
   "metadata": {},
   "outputs": [],
   "source": [
    "def sum_slices(x, axes):\n",
    "    return x.squeeze().sum(axis=axes).detach()"
   ]
  },
  {
   "cell_type": "code",
   "execution_count": 17,
   "metadata": {
    "scrolled": true
   },
   "outputs": [
    {
     "name": "stdout",
     "output_type": "stream",
     "text": [
      "x.shape (before embed):  torch.Size([1, 1, 14, 14])\n",
      "x.shape (after embed):  torch.Size([1, 1, 14, 14, 3])\n",
      "x.sum in slices:  tensor([ 1.7472, -4.2571,  2.8076])\n",
      "x.shape:  torch.Size([1, 1, 3, 14, 14])\n",
      "x.shape:  torch.Size([1, 3, 14, 14])\n",
      "y.shape:  torch.Size([1, 24, 12, 12])\n"
     ]
    }
   ],
   "source": [
    "if use_state:\n",
    "    x = states[0]\n",
    "else:\n",
    "    x = torch.zeros((1,14,14), dtype=int) # this is the structure of the state retrieved by the game\n",
    "if len(x.shape) <= 3:\n",
    "    x = x.unsqueeze(0)\n",
    "print(\"x.shape (before embed): \", x.shape)\n",
    "x = embed(x)\n",
    "print(\"x.shape (after embed): \", x.shape)\n",
    "print(\"x.sum in slices: \", sum_slices(x,(0,1)))\n",
    "x = x.transpose(-1,-3)\n",
    "print(\"x.shape: \", x.shape)\n",
    "x = x.transpose(-1,-2).reshape(x.shape[0],-1,x.shape[-2],x.shape[-1])\n",
    "print(\"x.shape: \", x.shape)\n",
    "y = net(x)\n",
    "print(\"y.shape: \", y.shape)"
   ]
  },
  {
   "cell_type": "code",
   "execution_count": 18,
   "metadata": {
    "scrolled": false
   },
   "outputs": [
    {
     "name": "stdout",
     "output_type": "stream",
     "text": [
      "tensor([  6.6749,  14.0352,  16.6094,  14.2386, -31.9373,   2.2518, -12.9930,\n",
      "         -0.3285,   7.8860,  -4.1798,  16.8642, -14.3151,   7.9392,   1.9712,\n",
      "         27.7309,  24.8676,  16.3338, -15.4950,  30.8715,  -1.9885,   4.9507,\n",
      "        -11.7801,   1.6527,  -4.3511])\n",
      "y[0,:,:]:  tensor([[ 0.0561,  0.0561,  0.0561,  0.0561,  0.0561,  0.0561,  0.0660, -0.0124,\n",
      "          0.1527,  0.0540,  0.0561,  0.0561],\n",
      "        [ 0.0561,  0.0561,  0.0561,  0.0561,  0.0561,  0.0561,  0.0913, -0.1649,\n",
      "          0.0755,  0.0050,  0.0561,  0.0561],\n",
      "        [ 0.0561,  0.0561,  0.0561,  0.0561,  0.0561,  0.0561,  0.0047,  0.0176,\n",
      "          0.0769,  0.0260,  0.0561,  0.0561],\n",
      "        [ 0.0343,  0.0659,  0.0572,  0.0561,  0.0561,  0.0561,  0.0561,  0.0561,\n",
      "          0.0561,  0.0561,  0.0561,  0.0561],\n",
      "        [ 0.0114,  0.0756,  0.0666,  0.0561,  0.0561,  0.0561,  0.0561,  0.0561,\n",
      "          0.0561,  0.0561,  0.0561,  0.0561],\n",
      "        [ 0.0750,  0.0994,  0.0270,  0.0561,  0.0561,  0.0561,  0.0561,  0.0821,\n",
      "          0.0136,  0.1596,  0.0540,  0.0561],\n",
      "        [ 0.0561,  0.0561,  0.0561,  0.0561,  0.0561,  0.0561,  0.0561,  0.1704,\n",
      "         -0.1612,  0.0480,  0.0050,  0.0561],\n",
      "        [ 0.0561, -0.0075,  0.0594,  0.0829,  0.0561,  0.0561,  0.0561,  0.0176,\n",
      "          0.0296,  0.1169,  0.0260,  0.0561],\n",
      "        [ 0.0561, -0.0903,  0.1585, -0.1206,  0.0561,  0.0561,  0.0525, -0.0338,\n",
      "          0.1231, -0.0855,  0.0561,  0.0561],\n",
      "        [ 0.0561,  0.1425,  0.0713, -0.0936,  0.0561,  0.0561,  0.0626,  0.1235,\n",
      "         -0.0946, -0.1453,  0.0561,  0.0561],\n",
      "        [ 0.0561,  0.0561,  0.0561,  0.0561,  0.0561,  0.0561,  0.0299, -0.0879,\n",
      "         -0.0957,  0.1122,  0.0561,  0.0561],\n",
      "        [ 0.0561,  0.0561,  0.0561,  0.0561,  0.0561,  0.0561,  0.0561,  0.0561,\n",
      "          0.0561,  0.0561,  0.0561,  0.0561]])\n"
     ]
    }
   ],
   "source": [
    "y = y.squeeze().detach()\n",
    "print(sum_slices(y,(1,2)))\n",
    "print(\"y[0,:,:]: \", y[0,:,:])"
   ]
  },
  {
   "cell_type": "markdown",
   "metadata": {},
   "source": [
    "So basically each layer is uniform thanks to the input and how convolution works (each slice is the result of the convolution from the same kernel of the same input). All the zeros that can be seen are due to the ReLU activations."
   ]
  },
  {
   "cell_type": "markdown",
   "metadata": {},
   "source": [
    "# Positional Encoding"
   ]
  },
  {
   "cell_type": "code",
   "execution_count": 19,
   "metadata": {},
   "outputs": [],
   "source": [
    "def add_encoding2D(x):\n",
    "    x_ax = x.shape[-2]\n",
    "    y_ax = x.shape[-1]\n",
    "\n",
    "    x_lin = torch.linspace(-1,1,x_ax)\n",
    "    xx = x_lin.repeat(x.shape[0],y_ax,1).view(-1, 1, y_ax, x_ax).transpose(3,2)\n",
    "\n",
    "    y_lin = torch.linspace(-1,1,y_ax).view(-1,1)\n",
    "    yy = y_lin.repeat(x.shape[0],1,x_ax).view(-1, 1, y_ax, x_ax).transpose(3,2)\n",
    "\n",
    "    x = torch.cat((x,xx,yy), axis=1)\n",
    "    return x"
   ]
  },
  {
   "cell_type": "code",
   "execution_count": 20,
   "metadata": {},
   "outputs": [
    {
     "name": "stdout",
     "output_type": "stream",
     "text": [
      "x.shape (before embed):  torch.Size([1, 1, 14, 14])\n",
      "x.shape (after embed):  torch.Size([1, 1, 14, 14, 3])\n",
      "x.sum in slices:  tensor([ 1.7472, -4.2571,  2.8076])\n",
      "x.shape:  torch.Size([1, 1, 3, 14, 14])\n",
      "x.shape:  torch.Size([1, 3, 14, 14])\n",
      "y.shape:  torch.Size([1, 24, 12, 12])\n",
      "y_enc.shape:  torch.Size([1, 26, 12, 12])\n"
     ]
    }
   ],
   "source": [
    "if use_state:\n",
    "    x = states[0]\n",
    "else:\n",
    "    x = torch.zeros((1,14,14), dtype=int) # this is the structure of the state retrieved by the game\n",
    "if len(x.shape) <= 3:\n",
    "    x = x.unsqueeze(0)\n",
    "print(\"x.shape (before embed): \", x.shape)\n",
    "x = embed(x)\n",
    "print(\"x.shape (after embed): \", x.shape)\n",
    "print(\"x.sum in slices: \", sum_slices(x,(0,1)))\n",
    "x = x.transpose(-1,-3)\n",
    "print(\"x.shape: \", x.shape)\n",
    "x = x.transpose(-1,-2).reshape(x.shape[0],-1,x.shape[-2],x.shape[-1])\n",
    "print(\"x.shape: \", x.shape)\n",
    "y = net(x)\n",
    "print(\"y.shape: \", y.shape)\n",
    "y_enc = add_encoding2D(y)\n",
    "print(\"y_enc.shape: \", y_enc.shape)"
   ]
  },
  {
   "cell_type": "markdown",
   "metadata": {},
   "source": [
    "Let's verify that the last 2 layers have a positional encoding:"
   ]
  },
  {
   "cell_type": "code",
   "execution_count": 21,
   "metadata": {},
   "outputs": [
    {
     "name": "stdout",
     "output_type": "stream",
     "text": [
      "y_tmp.shape:  torch.Size([26, 12, 12])\n"
     ]
    },
    {
     "data": {
      "image/png": "[encoded data removed]",
      "text/plain": [
       "<Figure size 432x288 with 1 Axes>"
      ]
     },
     "metadata": {
      "needs_background": "light"
     },
     "output_type": "display_data"
    },
    {
     "data": {
      "image/png": "[encoded data removed]",
      "text/plain": [
       "<Figure size 432x288 with 1 Axes>"
      ]
     },
     "metadata": {
      "needs_background": "light"
     },
     "output_type": "display_data"
    }
   ],
   "source": [
    "y_tmp = y_enc.squeeze().detach()\n",
    "print(\"y_tmp.shape: \", y_tmp.shape)\n",
    "plt.imshow(y_tmp[-2])\n",
    "plt.show()\n",
    "plt.imshow(y_tmp[-1])\n",
    "plt.show()"
   ]
  },
  {
   "cell_type": "markdown",
   "metadata": {},
   "source": [
    "A different approach would be to sum these two layers pixel-wise to all other features. Probably it would amplify the importance of the position, at the risk that if the magnitude is too high we would lose data.\n",
    "\n",
    "Also more complicated encodings are possible; this one is the one I think they used in the paper."
   ]
  },
  {
   "cell_type": "markdown",
   "metadata": {},
   "source": [
    "# Projection from 26 to n_features (default 256)"
   ]
  },
  {
   "cell_type": "code",
   "execution_count": 22,
   "metadata": {},
   "outputs": [],
   "source": [
    "n_features = 256\n",
    "projection = nn.Linear(k_out + 2, n_features)"
   ]
  },
  {
   "cell_type": "code",
   "execution_count": 23,
   "metadata": {},
   "outputs": [
    {
     "name": "stdout",
     "output_type": "stream",
     "text": [
      "x.shape (before embed):  torch.Size([1, 1, 14, 14])\n",
      "x.shape (after embed):  torch.Size([1, 1, 14, 14, 3])\n",
      "x.sum in slices:  tensor([ 1.7472, -4.2571,  2.8076])\n",
      "x.shape:  torch.Size([1, 1, 3, 14, 14])\n",
      "x.shape:  torch.Size([1, 3, 14, 14])\n",
      "x.shape:  torch.Size([1, 24, 12, 12])\n",
      "x.shape:  torch.Size([1, 26, 12, 12])\n",
      "x.shape:  torch.Size([1, 26, 144])\n",
      "x.shape:  torch.Size([1, 144, 26])\n",
      "x.shape:  torch.Size([1, 144, 256])\n",
      "x.shape:  torch.Size([144, 1, 256])\n"
     ]
    }
   ],
   "source": [
    "if use_state:\n",
    "    x = states[0]\n",
    "else:\n",
    "    x = torch.zeros((1,14,14), dtype=int) # this is the structure of the state retrieved by the game\n",
    "if len(x.shape) <= 3:\n",
    "    x = x.unsqueeze(0)\n",
    "print(\"x.shape (before embed): \", x.shape)\n",
    "x = embed(x)\n",
    "print(\"x.shape (after embed): \", x.shape)\n",
    "print(\"x.sum in slices: \", sum_slices(x,(0,1)))\n",
    "x = x.transpose(-1,-3)\n",
    "print(\"x.shape: \", x.shape)\n",
    "x = x.transpose(-1,-2).reshape(x.shape[0],-1,x.shape[-2],x.shape[-1])\n",
    "print(\"x.shape: \", x.shape)\n",
    "x = net(x)\n",
    "print(\"x.shape: \", x.shape)\n",
    "x= add_encoding2D(x)\n",
    "print(\"x.shape: \", x.shape)\n",
    "x = x.view(x.shape[0], x.shape[1],-1)\n",
    "print(\"x.shape: \", x.shape)\n",
    "x = x.transpose(2,1)\n",
    "print(\"x.shape: \", x.shape)\n",
    "x = projection(x)\n",
    "print(\"x.shape: \", x.shape)\n",
    "x = x.transpose(1,0)\n",
    "print(\"x.shape: \", x.shape)"
   ]
  },
  {
   "cell_type": "markdown",
   "metadata": {},
   "source": [
    "Here everything seems clean. Let's see if there is some trace of the positional encoding left. Ideally thanks to the projection now each feature potentially has a positional encoding."
   ]
  },
  {
   "cell_type": "code",
   "execution_count": 24,
   "metadata": {},
   "outputs": [
    {
     "data": {
      "image/png": "[encoded data removed]",
      "text/plain": [
       "<Figure size 432x288 with 1 Axes>"
      ]
     },
     "metadata": {
      "needs_background": "light"
     },
     "output_type": "display_data"
    },
    {
     "data": {
      "image/png": "[encoded data removed]",
      "text/plain": [
       "<Figure size 432x288 with 1 Axes>"
      ]
     },
     "metadata": {
      "needs_background": "light"
     },
     "output_type": "display_data"
    },
    {
     "data": {
      "image/png": "[encoded data removed]",
      "text/plain": [
       "<Figure size 432x288 with 1 Axes>"
      ]
     },
     "metadata": {
      "needs_background": "light"
     },
     "output_type": "display_data"
    }
   ],
   "source": [
    "x_tmp = x.squeeze().detach().view(12,12,256)\n",
    "plt.imshow(x_tmp[:,:,0])\n",
    "plt.show()\n",
    "plt.imshow(x_tmp[:,:,128])\n",
    "plt.show()\n",
    "plt.imshow(x_tmp[:,:,-2])\n",
    "plt.show()"
   ]
  },
  {
   "cell_type": "markdown",
   "metadata": {},
   "source": [
    "Again everything seems fine."
   ]
  },
  {
   "cell_type": "markdown",
   "metadata": {},
   "source": [
    "# Relational Block \n",
    "Implements the relational block, composed by a Multi-Headed Dot-Product Attention layer followed by a Position-wise Feed-Forward layer. I implement here the former one, whereas I just import the latter from the module, since it's very basic."
   ]
  },
  {
   "cell_type": "code",
   "execution_count": 25,
   "metadata": {},
   "outputs": [],
   "source": [
    "hidden_dim = 64\n",
    "dropout = 0\n",
    "n_heads = 4\n",
    "\n",
    "norm = nn.LayerNorm(n_features)\n",
    "drop = nn.Dropout(dropout) # disabled\n",
    "attn = nn.MultiheadAttention(n_features, n_heads, dropout)\n",
    "ff = rnet.PositionwiseFeedForward(n_features, hidden_dim, dropout)"
   ]
  },
  {
   "cell_type": "code",
   "execution_count": 26,
   "metadata": {
    "scrolled": true
   },
   "outputs": [
    {
     "name": "stdout",
     "output_type": "stream",
     "text": [
      "x.shape (before embed):  torch.Size([1, 1, 14, 14])\n",
      "x.shape (after embed):  torch.Size([1, 1, 14, 14, 3])\n",
      "x.sum in slices:  tensor([ 1.7472, -4.2571,  2.8076])\n",
      "x.shape:  torch.Size([1, 1, 3, 14, 14])\n",
      "x.shape:  torch.Size([1, 3, 14, 14])\n",
      "x.shape:  torch.Size([1, 24, 12, 12])\n",
      "x.shape:  torch.Size([1, 26, 12, 12])\n",
      "x.shape:  torch.Size([1, 26, 144])\n",
      "x.shape:  torch.Size([1, 144, 26])\n",
      "x.shape:  torch.Size([1, 144, 256])\n",
      "x.shape:  torch.Size([144, 1, 256])\n",
      "attn_output.shape:  torch.Size([144, 1, 256])\n",
      "x_add.shape:  torch.Size([144, 1, 256])\n",
      "x_norm.shape:  torch.Size([144, 1, 256])\n",
      "x_ff.shape:  torch.Size([144, 1, 256])\n",
      "out.shape:  torch.Size([144, 1, 256])\n"
     ]
    }
   ],
   "source": [
    "if use_state:\n",
    "    x = states[0]\n",
    "else:\n",
    "    x = torch.zeros((1,14,14), dtype=int) # this is the structure of the state retrieved by the game\n",
    "if len(x.shape) <= 3:\n",
    "    x = x.unsqueeze(0)\n",
    "print(\"x.shape (before embed): \", x.shape)\n",
    "x = embed(x)\n",
    "print(\"x.shape (after embed): \", x.shape)\n",
    "print(\"x.sum in slices: \", sum_slices(x,(0,1)))\n",
    "x = x.transpose(-1,-3)\n",
    "print(\"x.shape: \", x.shape)\n",
    "x = x.transpose(-1,-2).reshape(x.shape[0],-1,x.shape[-2],x.shape[-1])\n",
    "print(\"x.shape: \", x.shape)\n",
    "x = net(x)\n",
    "print(\"x.shape: \", x.shape)\n",
    "x= add_encoding2D(x)\n",
    "print(\"x.shape: \", x.shape)\n",
    "x = x.view(x.shape[0], x.shape[1],-1)\n",
    "print(\"x.shape: \", x.shape)\n",
    "x = x.transpose(2,1)\n",
    "print(\"x.shape: \", x.shape)\n",
    "x = projection(x)\n",
    "print(\"x.shape: \", x.shape)\n",
    "x = x.transpose(1,0)\n",
    "print(\"x.shape: \", x.shape)\n",
    "\n",
    "x_tmp = x # save it for plotting\n",
    "\n",
    "# From here it has always the same shape\n",
    "attn_output, attn_output_weights =  attn(x,x,x, key_padding_mask=None) # MHA step\n",
    "print(\"attn_output.shape: \", attn_output.shape)\n",
    "x_add = attn_output + x\n",
    "print(\"x_add.shape: \", x_add.shape)\n",
    "x_norm = drop(norm(x_add))\n",
    "print(\"x_norm.shape: \", x_norm.shape)\n",
    "x_ff = ff(x_norm)\n",
    "print(\"x_ff.shape: \", x_ff.shape)\n",
    "out = drop(norm(x_ff))\n",
    "print(\"out.shape: \", out.shape)"
   ]
  },
  {
   "cell_type": "code",
   "execution_count": 27,
   "metadata": {},
   "outputs": [],
   "source": [
    "def plot_layer(x, layer=0):\n",
    "    x = x.squeeze().detach()[:,layer]\n",
    "    plt.imshow(x.view(12,12))\n",
    "    plt.show()"
   ]
  },
  {
   "cell_type": "code",
   "execution_count": 28,
   "metadata": {},
   "outputs": [
    {
     "name": "stdout",
     "output_type": "stream",
     "text": [
      "Input\n"
     ]
    },
    {
     "data": {
      "image/png": "[encoded data removed]",
      "text/plain": [
       "<Figure size 432x288 with 1 Axes>"
      ]
     },
     "metadata": {
      "needs_background": "light"
     },
     "output_type": "display_data"
    },
    {
     "name": "stdout",
     "output_type": "stream",
     "text": [
      "Attention output\n"
     ]
    },
    {
     "data": {
      "image/png": "[encoded data removed]",
      "text/plain": [
       "<Figure size 432x288 with 1 Axes>"
      ]
     },
     "metadata": {
      "needs_background": "light"
     },
     "output_type": "display_data"
    },
    {
     "name": "stdout",
     "output_type": "stream",
     "text": [
      "Input + attention\n"
     ]
    },
    {
     "data": {
      "image/png": "[encoded data removed]",
      "text/plain": [
       "<Figure size 432x288 with 1 Axes>"
      ]
     },
     "metadata": {
      "needs_background": "light"
     },
     "output_type": "display_data"
    },
    {
     "name": "stdout",
     "output_type": "stream",
     "text": [
      "After LayerNorm\n"
     ]
    },
    {
     "data": {
      "image/png": "[encoded data removed]",
      "text/plain": [
       "<Figure size 432x288 with 1 Axes>"
      ]
     },
     "metadata": {
      "needs_background": "light"
     },
     "output_type": "display_data"
    },
    {
     "name": "stdout",
     "output_type": "stream",
     "text": [
      "After position-wise FF\n"
     ]
    },
    {
     "data": {
      "image/png": "[encoded data removed]",
      "text/plain": [
       "<Figure size 432x288 with 1 Axes>"
      ]
     },
     "metadata": {
      "needs_background": "light"
     },
     "output_type": "display_data"
    },
    {
     "name": "stdout",
     "output_type": "stream",
     "text": [
      "After LayerNorm\n"
     ]
    },
    {
     "data": {
      "image/png": "[encoded data removed]",
      "text/plain": [
       "<Figure size 432x288 with 1 Axes>"
      ]
     },
     "metadata": {
      "needs_background": "light"
     },
     "output_type": "display_data"
    }
   ],
   "source": [
    "print(\"Input\")\n",
    "plot_layer(x_tmp)\n",
    "print(\"Attention output\")\n",
    "plot_layer(attn_output)\n",
    "print(\"Input + attention\")\n",
    "plot_layer(x_add)\n",
    "print(\"After LayerNorm\")\n",
    "plot_layer(x_norm)\n",
    "print(\"After position-wise FF\")\n",
    "plot_layer(x_ff)\n",
    "print(\"After LayerNorm\")\n",
    "plot_layer(out)"
   ]
  },
  {
   "cell_type": "markdown",
   "metadata": {},
   "source": [
    "Here we didn't see anything suspicious, with the attention layer not doing much and the only real change happening during the positionwise feed forward, in which we make a convolution of the 256 features to obtain new ones, so of course after that we are looking at a different feature plane."
   ]
  },
  {
   "cell_type": "markdown",
   "metadata": {},
   "source": [
    "To see if the attention layer is working correctly, we can play with the pixel and batch asix and see if the result is affected by those changes. Since the attention mechanism works taking into account relations between pixels, masking some of them should change the output for the others. Instead the batch dimension shouldn't intefrere with the result."
   ]
  },
  {
   "cell_type": "code",
   "execution_count": 29,
   "metadata": {},
   "outputs": [
    {
     "name": "stdout",
     "output_type": "stream",
     "text": [
      "x.shape (before embed):  torch.Size([1, 1, 14, 14])\n",
      "x.shape (after embed):  torch.Size([1, 1, 14, 14, 3])\n",
      "x.sum in slices:  tensor([ 1.7472, -4.2571,  2.8076])\n",
      "x.shape:  torch.Size([1, 1, 3, 14, 14])\n",
      "x.shape:  torch.Size([1, 3, 14, 14])\n",
      "x.shape:  torch.Size([1, 24, 12, 12])\n",
      "x.shape:  torch.Size([1, 26, 12, 12])\n",
      "x.shape:  torch.Size([1, 26, 144])\n",
      "x.shape:  torch.Size([1, 144, 26])\n",
      "x.shape:  torch.Size([1, 144, 256])\n",
      "x.shape:  torch.Size([144, 1, 256])\n",
      "attn_output.shape:  torch.Size([144, 2, 256])\n",
      "x_add.shape:  torch.Size([144, 2, 256])\n",
      "x_norm.shape:  torch.Size([144, 2, 256])\n",
      "x_ff.shape:  torch.Size([144, 2, 256])\n",
      "out2.shape:  torch.Size([144, 1, 256])\n",
      "out2:  tensor([[[ 4.7980e-02, -1.7451e+00, -5.5659e-01,  ...,  1.9715e+00,\n",
      "          -1.3585e+00,  1.7672e+00]],\n",
      "\n",
      "        [[-3.3928e-04, -1.6837e+00, -4.0887e-01,  ...,  1.9472e+00,\n",
      "          -1.4058e+00,  1.7389e+00]],\n",
      "\n",
      "        [[-2.9457e-02, -1.6042e+00, -2.0486e-01,  ...,  1.9267e+00,\n",
      "          -1.4431e+00,  1.6865e+00]],\n",
      "\n",
      "        ...,\n",
      "\n",
      "        [[-7.7888e-01, -5.1848e-01, -1.0402e+00,  ...,  1.0278e+00,\n",
      "           3.7600e-01, -1.3435e+00]],\n",
      "\n",
      "        [[-8.5934e-01, -3.7529e-01, -1.0316e+00,  ...,  9.8575e-01,\n",
      "           5.0580e-01, -1.3572e+00]],\n",
      "\n",
      "        [[-9.2357e-01, -2.4784e-01, -1.0196e+00,  ...,  9.4578e-01,\n",
      "           6.1519e-01, -1.3636e+00]]], grad_fn=<UnsqueezeBackward0>)\n",
      "out:  tensor([[[ 4.7980e-02, -1.7451e+00, -5.5659e-01,  ...,  1.9715e+00,\n",
      "          -1.3585e+00,  1.7672e+00]],\n",
      "\n",
      "        [[-3.3928e-04, -1.6837e+00, -4.0887e-01,  ...,  1.9472e+00,\n",
      "          -1.4058e+00,  1.7389e+00]],\n",
      "\n",
      "        [[-2.9457e-02, -1.6042e+00, -2.0486e-01,  ...,  1.9267e+00,\n",
      "          -1.4431e+00,  1.6865e+00]],\n",
      "\n",
      "        ...,\n",
      "\n",
      "        [[-7.7888e-01, -5.1848e-01, -1.0402e+00,  ...,  1.0278e+00,\n",
      "           3.7600e-01, -1.3435e+00]],\n",
      "\n",
      "        [[-8.5934e-01, -3.7529e-01, -1.0316e+00,  ...,  9.8575e-01,\n",
      "           5.0580e-01, -1.3572e+00]],\n",
      "\n",
      "        [[-9.2357e-01, -2.4784e-01, -1.0196e+00,  ...,  9.4578e-01,\n",
      "           6.1519e-01, -1.3636e+00]]], grad_fn=<NativeLayerNormBackward>)\n",
      "Element sum of the difference 2-3:  0.0\n",
      "Element sum of the difference 2-0:  0.0\n"
     ]
    }
   ],
   "source": [
    "# Check if batch size changes the output\n",
    "if use_state:\n",
    "    x = states[0]\n",
    "else:\n",
    "    x = torch.zeros((1,14,14), dtype=int) # this is the structure of the state retrieved by the game\n",
    "if len(x.shape) <= 3:\n",
    "    x = x.unsqueeze(0)\n",
    "print(\"x.shape (before embed): \", x.shape)\n",
    "x = embed(x)\n",
    "print(\"x.shape (after embed): \", x.shape)\n",
    "print(\"x.sum in slices: \", sum_slices(x,(0,1)))\n",
    "x = x.transpose(-1,-3)\n",
    "print(\"x.shape: \", x.shape)\n",
    "x = x.transpose(-1,-2).reshape(x.shape[0],-1,x.shape[-2],x.shape[-1])\n",
    "print(\"x.shape: \", x.shape)\n",
    "x = net(x)\n",
    "print(\"x.shape: \", x.shape)\n",
    "x= add_encoding2D(x)\n",
    "print(\"x.shape: \", x.shape)\n",
    "x = x.view(x.shape[0], x.shape[1],-1)\n",
    "print(\"x.shape: \", x.shape)\n",
    "x = x.transpose(2,1)\n",
    "print(\"x.shape: \", x.shape)\n",
    "x = projection(x)\n",
    "print(\"x.shape: \", x.shape)\n",
    "x = x.transpose(1,0)\n",
    "print(\"x.shape: \", x.shape)\n",
    "\n",
    "x_tmp2 = torch.cat((x,x), axis=1)\n",
    "attn_output, attn_output_weights =  attn(x_tmp2,x_tmp2,x_tmp2, key_padding_mask=None) # MHA step\n",
    "print(\"attn_output.shape: \", attn_output.shape)\n",
    "x_add = attn_output + x\n",
    "print(\"x_add.shape: \", x_add.shape)\n",
    "x_norm = drop(norm(x_add))\n",
    "print(\"x_norm.shape: \", x_norm.shape)\n",
    "x_ff = ff(x_norm)\n",
    "print(\"x_ff.shape: \", x_ff.shape)\n",
    "out2 = drop(norm(x_ff))\n",
    "out3 = out2[:,1,:].unsqueeze(1)\n",
    "out2 = out2[:,0,:].unsqueeze(1)\n",
    "\n",
    "print(\"out2.shape: \", out2.shape)\n",
    "print(\"out2: \", out2)\n",
    "print(\"out: \", out)\n",
    "print(\"Element sum of the difference 2-3: \", torch.sum(out2- out3).item())\n",
    "print(\"Element sum of the difference 2-0: \", torch.sum(out2- out).item())"
   ]
  },
  {
   "cell_type": "markdown",
   "metadata": {},
   "source": [
    "out2 = out3 means that the batch dimension correctly hasn't changed the result, because the same input has been concatenated along that axes and the same two outputs have been obtained on the other end. out2 = out shows that different samples are handled independently, as it should happen."
   ]
  },
  {
   "cell_type": "code",
   "execution_count": 30,
   "metadata": {},
   "outputs": [
    {
     "name": "stdout",
     "output_type": "stream",
     "text": [
      "x.shape (before embed):  torch.Size([1, 1, 14, 14])\n",
      "x.shape (after embed):  torch.Size([1, 1, 14, 14, 3])\n",
      "x.sum in slices:  tensor([ 1.7472, -4.2571,  2.8076])\n",
      "x.shape:  torch.Size([1, 1, 3, 14, 14])\n",
      "x.shape:  torch.Size([1, 3, 14, 14])\n",
      "x.shape:  torch.Size([1, 24, 12, 12])\n",
      "x.shape:  torch.Size([1, 26, 12, 12])\n",
      "x.shape:  torch.Size([1, 26, 144])\n",
      "x.shape:  torch.Size([1, 144, 26])\n",
      "x.shape:  torch.Size([1, 144, 256])\n",
      "x.shape:  torch.Size([144, 1, 256])\n",
      "attn_output.shape:  torch.Size([144, 1, 256])\n",
      "x_add.shape:  torch.Size([144, 1, 256])\n",
      "x_norm.shape:  torch.Size([144, 1, 256])\n",
      "x_ff.shape:  torch.Size([144, 1, 256])\n",
      "out1:  tensor([[[ 0.0226, -1.7670, -0.4932,  ...,  2.1063, -1.3240,  1.7334]],\n",
      "\n",
      "        [[-0.0264, -1.7003, -0.3267,  ...,  2.0839, -1.3670,  1.7042]],\n",
      "\n",
      "        [[-0.0741, -1.6122, -0.1323,  ...,  2.0432, -1.4113,  1.6621]],\n",
      "\n",
      "        ...,\n",
      "\n",
      "        [[ 0.6614, -1.2007, -0.5566,  ...,  0.0562, -1.3143, -0.0453]],\n",
      "\n",
      "        [[ 0.6614, -1.2007, -0.5566,  ...,  0.0562, -1.3143, -0.0453]],\n",
      "\n",
      "        [[ 0.6614, -1.2007, -0.5566,  ...,  0.0562, -1.3143, -0.0453]]],\n",
      "       grad_fn=<NativeLayerNormBackward>)\n",
      "out:  tensor([[[ 4.7980e-02, -1.7451e+00, -5.5659e-01,  ...,  1.9715e+00,\n",
      "          -1.3585e+00,  1.7672e+00]],\n",
      "\n",
      "        [[-3.3928e-04, -1.6837e+00, -4.0887e-01,  ...,  1.9472e+00,\n",
      "          -1.4058e+00,  1.7389e+00]],\n",
      "\n",
      "        [[-2.9457e-02, -1.6042e+00, -2.0486e-01,  ...,  1.9267e+00,\n",
      "          -1.4431e+00,  1.6865e+00]],\n",
      "\n",
      "        ...,\n",
      "\n",
      "        [[-7.7888e-01, -5.1848e-01, -1.0402e+00,  ...,  1.0278e+00,\n",
      "           3.7600e-01, -1.3435e+00]],\n",
      "\n",
      "        [[-8.5934e-01, -3.7529e-01, -1.0316e+00,  ...,  9.8575e-01,\n",
      "           5.0580e-01, -1.3572e+00]],\n",
      "\n",
      "        [[-9.2357e-01, -2.4784e-01, -1.0196e+00,  ...,  9.4578e-01,\n",
      "           6.1519e-01, -1.3636e+00]]], grad_fn=<NativeLayerNormBackward>)\n",
      "Element sum of the difference:  0.0002372264862060547\n"
     ]
    }
   ],
   "source": [
    "# Check if pixel sequence changes the output\n",
    "if use_state:\n",
    "    x = states[0]\n",
    "else:\n",
    "    x = torch.zeros((1,14,14), dtype=int) # this is the structure of the state retrieved by the game\n",
    "if len(x.shape) <= 3:\n",
    "    x = x.unsqueeze(0)\n",
    "print(\"x.shape (before embed): \", x.shape)\n",
    "x = embed(x)\n",
    "print(\"x.shape (after embed): \", x.shape)\n",
    "print(\"x.sum in slices: \", sum_slices(x,(0,1)))\n",
    "x = x.transpose(-1,-3)\n",
    "print(\"x.shape: \", x.shape)\n",
    "x = x.transpose(-1,-2).reshape(x.shape[0],-1,x.shape[-2],x.shape[-1])\n",
    "print(\"x.shape: \", x.shape)\n",
    "x = net(x)\n",
    "print(\"x.shape: \", x.shape)\n",
    "x= add_encoding2D(x)\n",
    "print(\"x.shape: \", x.shape)\n",
    "x = x.view(x.shape[0], x.shape[1],-1)\n",
    "print(\"x.shape: \", x.shape)\n",
    "x = x.transpose(2,1)\n",
    "print(\"x.shape: \", x.shape)\n",
    "x = projection(x)\n",
    "print(\"x.shape: \", x.shape)\n",
    "x = x.transpose(1,0)\n",
    "print(\"x.shape: \", x.shape)\n",
    "x_tmp1 = x\n",
    "x_tmp1[100:] = 0. # mask last 44 positions\n",
    "attn_output, attn_output_weights =  attn(x_tmp1,x_tmp1,x_tmp1, key_padding_mask=None) # MHA step\n",
    "print(\"attn_output.shape: \", attn_output.shape)\n",
    "x_add = attn_output + x\n",
    "print(\"x_add.shape: \", x_add.shape)\n",
    "x_norm = drop(norm(x_add))\n",
    "print(\"x_norm.shape: \", x_norm.shape)\n",
    "x_ff = ff(x_norm)\n",
    "print(\"x_ff.shape: \", x_ff.shape)\n",
    "out1 = drop(norm(x_ff))\n",
    "\n",
    "print(\"out1: \", out1)\n",
    "print(\"out: \", out)\n",
    "print(\"Element sum of the difference: \", torch.sum(out1 - out).item())"
   ]
  },
  {
   "cell_type": "markdown",
   "metadata": {},
   "source": [
    "As can be seen, the new output has changed, as it should."
   ]
  },
  {
   "cell_type": "markdown",
   "metadata": {},
   "source": [
    "**LayerNorm formula**\n",
    "$$y = \\frac{x - \\mathrm{E}[x]}{ \\sqrt{\\mathrm{Var}[x] + \\epsilon}} * \\gamma + \\beta$$"
   ]
  },
  {
   "cell_type": "code",
   "execution_count": 31,
   "metadata": {
    "scrolled": true
   },
   "outputs": [
    {
     "name": "stdout",
     "output_type": "stream",
     "text": [
      "E:  tensor(0.0004, grad_fn=<MeanBackward0>)\n",
      "V:  tensor(0.0381, grad_fn=<VarBackward0>)\n",
      "LayerNorm by hand: \n",
      " tensor([ 1.9893e+00, -8.5217e-01, -5.7632e-01,  1.2441e+00, -1.5713e+00,\n",
      "        -9.4162e-01,  4.3444e-02,  4.2147e-01, -4.3648e-01, -5.5045e-02,\n",
      "        -1.0682e+00,  1.5575e+00, -2.9869e-01,  2.2145e+00, -4.9988e-01,\n",
      "         6.5057e-01, -8.4595e-01,  1.3178e+00,  1.6454e+00,  2.6232e-01,\n",
      "        -2.1929e-01,  3.1652e-03,  1.1182e+00,  3.6727e-02, -4.0001e-01,\n",
      "        -1.0066e+00,  9.7930e-01, -1.5724e-01,  1.0837e+00, -1.4882e+00,\n",
      "         8.3015e-01, -5.6747e-01,  9.7446e-01,  8.8969e-01, -1.3483e+00,\n",
      "        -1.0603e+00, -1.3534e+00,  2.5337e-01,  6.4825e-01, -8.7351e-01,\n",
      "        -1.3084e-01, -1.3249e-01, -4.4854e-01,  1.9216e+00, -7.4055e-01,\n",
      "        -3.1887e-01,  2.4704e+00,  1.1530e+00, -1.5721e-01,  7.2516e-01,\n",
      "         1.0979e-01, -1.0304e+00,  2.8009e-01,  2.5901e-01, -6.1072e-02,\n",
      "         3.7586e-01,  2.4138e-01,  1.5800e+00, -2.8823e-01, -1.0391e+00,\n",
      "        -4.6264e-01,  1.1906e+00,  1.7672e+00, -1.2287e+00, -1.4610e+00,\n",
      "        -6.4740e-01,  2.2341e-01,  7.2757e-01,  4.6167e-01,  1.9794e-01,\n",
      "         3.3597e-01,  1.0121e+00,  9.9605e-01,  2.0092e-01,  2.3829e+00,\n",
      "        -7.8444e-02, -6.0204e-01, -2.5623e+00,  1.4125e-01,  5.6224e-01,\n",
      "        -9.5972e-01,  7.2314e-01, -2.0803e-01, -6.7869e-01,  2.1281e+00,\n",
      "         1.1404e+00,  4.2512e-01, -1.0113e+00,  8.1806e-02, -9.8044e-01,\n",
      "         3.7551e-01, -9.4803e-01, -1.5720e+00, -1.2379e-01, -4.8301e-01,\n",
      "         4.6514e-01, -1.1150e+00,  1.2403e-01, -7.5896e-01, -3.1929e-01,\n",
      "         1.6572e+00,  1.1009e+00,  4.1187e-01,  5.8955e-01,  5.4480e-01,\n",
      "         2.1051e+00,  2.6872e-01,  1.4616e+00,  7.8377e-01,  1.2040e+00,\n",
      "         7.6580e-01, -3.5397e-02, -8.9564e-02, -1.7484e+00,  1.7980e+00,\n",
      "         1.5535e+00,  6.4970e-01,  2.3564e-01,  1.6707e-01,  4.3617e-01,\n",
      "        -1.5235e+00,  2.6562e-01,  8.2789e-01,  1.4673e-01, -4.7945e-01,\n",
      "        -3.5621e-01, -2.4851e-01, -5.5345e-01,  1.3035e+00,  2.0872e+00,\n",
      "        -1.5041e+00, -1.4604e+00, -4.1837e-01, -2.5957e+00, -4.9907e-01,\n",
      "        -1.7269e-01,  9.6822e-01, -1.3562e-01,  1.1767e+00,  1.0552e+00,\n",
      "        -1.9491e+00, -1.0086e+00,  1.3309e+00, -2.2853e+00,  3.6044e-01,\n",
      "        -5.4612e-01, -8.6521e-01,  1.0127e-01,  9.4423e-01, -6.4853e-01,\n",
      "         1.8594e+00, -3.5522e-01, -3.4273e-01,  2.3132e-01, -3.5191e-01,\n",
      "         5.9228e-01,  2.1546e-02,  8.1071e-01, -3.2163e-01, -1.2153e+00,\n",
      "         7.1928e-01,  9.2005e-02, -1.0279e+00, -1.0556e-01, -5.7618e-01,\n",
      "         9.1313e-01,  5.6606e-01,  8.1372e-01,  2.8565e-02, -1.0709e+00,\n",
      "        -8.4329e-02, -1.9661e-01, -1.2083e-01, -2.4998e-01, -2.2504e+00,\n",
      "         3.3172e-01, -1.7589e+00, -4.3371e-01, -3.2998e+00, -1.4094e+00,\n",
      "         2.9794e-03,  6.2433e-01,  9.4047e-01, -9.0205e-01, -3.8741e-01,\n",
      "         1.1376e-01, -9.2808e-01, -2.0770e-01,  5.5952e-01,  1.4329e+00,\n",
      "         7.7885e-01,  4.0302e-01, -4.1131e-01, -7.8966e-01, -4.9123e-01,\n",
      "        -6.1173e-01, -4.4293e-01, -1.9152e-01,  9.6420e-01,  1.2602e+00,\n",
      "         7.6939e-01, -7.5982e-01, -1.2537e+00,  3.9595e-01, -4.8844e-01,\n",
      "        -8.9082e-02, -1.1763e+00,  5.3410e-01,  1.5115e+00,  1.5656e-01,\n",
      "         3.4468e-01,  1.4751e+00, -1.5522e+00, -1.1646e+00,  9.9145e-03,\n",
      "        -7.6373e-01,  5.5560e-01,  3.7687e-01, -9.2734e-01, -1.1988e-01,\n",
      "         4.4620e-01,  6.6568e-01,  3.6258e-01, -7.5008e-01,  1.0105e+00,\n",
      "        -9.4340e-01,  7.3175e-02,  7.2634e-01,  1.7779e-01,  1.4622e+00,\n",
      "         3.7319e-01, -4.6892e-02, -8.0408e-01,  2.9201e+00, -6.7539e-01,\n",
      "         1.0267e-01, -4.5754e-02, -2.8751e-01, -1.7982e+00, -3.1149e-01,\n",
      "         1.3008e+00, -1.8676e-01, -3.6874e-01, -6.8184e-01, -2.0998e+00,\n",
      "         4.7450e-01,  1.5182e-01, -1.0205e+00, -1.5231e-01, -8.8201e-02,\n",
      "         1.4993e-01, -1.1958e+00, -1.9751e+00, -1.5008e+00, -6.3773e-01,\n",
      "        -1.3933e-01], grad_fn=<DivBackward0>)\n",
      "LayerNorm: \n",
      " tensor([ 1.9932e+00, -8.5384e-01, -5.7745e-01,  1.2466e+00, -1.5744e+00,\n",
      "        -9.4347e-01,  4.3529e-02,  4.2230e-01, -4.3733e-01, -5.5153e-02,\n",
      "        -1.0703e+00,  1.5605e+00, -2.9927e-01,  2.2188e+00, -5.0086e-01,\n",
      "         6.5184e-01, -8.4761e-01,  1.3204e+00,  1.6487e+00,  2.6283e-01,\n",
      "        -2.1972e-01,  3.1714e-03,  1.1204e+00,  3.6799e-02, -4.0080e-01,\n",
      "        -1.0085e+00,  9.8122e-01, -1.5755e-01,  1.0858e+00, -1.4911e+00,\n",
      "         8.3178e-01, -5.6859e-01,  9.7637e-01,  8.9143e-01, -1.3510e+00,\n",
      "        -1.0624e+00, -1.3561e+00,  2.5386e-01,  6.4952e-01, -8.7522e-01,\n",
      "        -1.3110e-01, -1.3275e-01, -4.4942e-01,  1.9254e+00, -7.4200e-01,\n",
      "        -3.1949e-01,  2.4752e+00,  1.1553e+00, -1.5752e-01,  7.2658e-01,\n",
      "         1.1001e-01, -1.0324e+00,  2.8064e-01,  2.5951e-01, -6.1191e-02,\n",
      "         3.7659e-01,  2.4185e-01,  1.5831e+00, -2.8880e-01, -1.0412e+00,\n",
      "        -4.6355e-01,  1.1929e+00,  1.7706e+00, -1.2311e+00, -1.4639e+00,\n",
      "        -6.4867e-01,  2.2385e-01,  7.2900e-01,  4.6258e-01,  1.9833e-01,\n",
      "         3.3663e-01,  1.0141e+00,  9.9800e-01,  2.0132e-01,  2.3876e+00,\n",
      "        -7.8598e-02, -6.0322e-01, -2.5674e+00,  1.4152e-01,  5.6334e-01,\n",
      "        -9.6160e-01,  7.2456e-01, -2.0844e-01, -6.8002e-01,  2.1322e+00,\n",
      "         1.1427e+00,  4.2595e-01, -1.0133e+00,  8.1967e-02, -9.8236e-01,\n",
      "         3.7625e-01, -9.4989e-01, -1.5751e+00, -1.2403e-01, -4.8395e-01,\n",
      "         4.6605e-01, -1.1172e+00,  1.2428e-01, -7.6045e-01, -3.1992e-01,\n",
      "         1.6605e+00,  1.1031e+00,  4.1267e-01,  5.9070e-01,  5.4587e-01,\n",
      "         2.1092e+00,  2.6925e-01,  1.4645e+00,  7.8531e-01,  1.2063e+00,\n",
      "         7.6730e-01, -3.5466e-02, -8.9739e-02, -1.7518e+00,  1.8015e+00,\n",
      "         1.5566e+00,  6.5097e-01,  2.3611e-01,  1.6740e-01,  4.3702e-01,\n",
      "        -1.5265e+00,  2.6614e-01,  8.2951e-01,  1.4702e-01, -4.8039e-01,\n",
      "        -3.5691e-01, -2.4899e-01, -5.5454e-01,  1.3061e+00,  2.0913e+00,\n",
      "        -1.5071e+00, -1.4633e+00, -4.1919e-01, -2.6007e+00, -5.0005e-01,\n",
      "        -1.7303e-01,  9.7012e-01, -1.3588e-01,  1.1790e+00,  1.0572e+00,\n",
      "        -1.9530e+00, -1.0106e+00,  1.3335e+00, -2.2897e+00,  3.6115e-01,\n",
      "        -5.4719e-01, -8.6690e-01,  1.0146e-01,  9.4608e-01, -6.4980e-01,\n",
      "         1.8631e+00, -3.5591e-01, -3.4340e-01,  2.3178e-01, -3.5260e-01,\n",
      "         5.9344e-01,  2.1588e-02,  8.1230e-01, -3.2226e-01, -1.2177e+00,\n",
      "         7.2069e-01,  9.2185e-02, -1.0299e+00, -1.0577e-01, -5.7731e-01,\n",
      "         9.1492e-01,  5.6717e-01,  8.1532e-01,  2.8621e-02, -1.0730e+00,\n",
      "        -8.4494e-02, -1.9699e-01, -1.2107e-01, -2.5047e-01, -2.2548e+00,\n",
      "         3.3237e-01, -1.7623e+00, -4.3456e-01, -3.3063e+00, -1.4121e+00,\n",
      "         2.9852e-03,  6.2556e-01,  9.4231e-01, -9.0381e-01, -3.8817e-01,\n",
      "         1.1398e-01, -9.2989e-01, -2.0810e-01,  5.6062e-01,  1.4357e+00,\n",
      "         7.8038e-01,  4.0381e-01, -4.1212e-01, -7.9121e-01, -4.9219e-01,\n",
      "        -6.1293e-01, -4.4380e-01, -1.9189e-01,  9.6609e-01,  1.2627e+00,\n",
      "         7.7090e-01, -7.6130e-01, -1.2562e+00,  3.9673e-01, -4.8940e-01,\n",
      "        -8.9257e-02, -1.1786e+00,  5.3514e-01,  1.5145e+00,  1.5687e-01,\n",
      "         3.4535e-01,  1.4780e+00, -1.5553e+00, -1.1669e+00,  9.9339e-03,\n",
      "        -7.6523e-01,  5.5669e-01,  3.7761e-01, -9.2915e-01, -1.2011e-01,\n",
      "         4.4708e-01,  6.6698e-01,  3.6329e-01, -7.5155e-01,  1.0125e+00,\n",
      "        -9.4525e-01,  7.3318e-02,  7.2776e-01,  1.7814e-01,  1.4651e+00,\n",
      "         3.7392e-01, -4.6984e-02, -8.0565e-01,  2.9258e+00, -6.7671e-01,\n",
      "         1.0287e-01, -4.5844e-02, -2.8807e-01, -1.8017e+00, -3.1210e-01,\n",
      "         1.3033e+00, -1.8712e-01, -3.6946e-01, -6.8318e-01, -2.1039e+00,\n",
      "         4.7543e-01,  1.5212e-01, -1.0225e+00, -1.5260e-01, -8.8374e-02,\n",
      "         1.5022e-01, -1.1982e+00, -1.9790e+00, -1.5038e+00, -6.3898e-01,\n",
      "        -1.3960e-01], grad_fn=<SliceBackward>)\n"
     ]
    }
   ],
   "source": [
    "# What LayerNorm does\n",
    "\n",
    "E = x_add[0,0,:].mean()\n",
    "print(\"E: \", E)\n",
    "V = x_add[0,0,:].var()\n",
    "print(\"V: \", V)\n",
    "y = (x_add[0,0,:]-E)/torch.sqrt(V+1e-5)\n",
    "print(\"LayerNorm by hand: \\n\", y)\n",
    "print(\"LayerNorm: \\n\", x_norm[0,0,:])"
   ]
  },
  {
   "cell_type": "markdown",
   "metadata": {},
   "source": [
    "# Featurewise MaxPooling\n",
    "\n",
    "For each feature, take the maximum value among the pixels."
   ]
  },
  {
   "cell_type": "code",
   "execution_count": 32,
   "metadata": {},
   "outputs": [
    {
     "name": "stdout",
     "output_type": "stream",
     "text": [
      "x.shape (before embed):  torch.Size([1, 1, 14, 14])\n",
      "x.shape (after embed):  torch.Size([1, 1, 14, 14, 3])\n",
      "x.sum in slices:  tensor([0., 0., 0.])\n",
      "x.shape:  torch.Size([1, 1, 3, 14, 14])\n",
      "x.shape:  torch.Size([1, 3, 14, 14])\n",
      "x.shape:  torch.Size([1, 24, 12, 12])\n",
      "x.shape:  torch.Size([1, 26, 12, 12])\n",
      "x.shape:  torch.Size([1, 26, 144])\n",
      "x.shape:  torch.Size([1, 144, 26])\n",
      "x.shape:  torch.Size([1, 144, 256])\n",
      "x.shape:  torch.Size([144, 1, 256])\n",
      "attn_output.shape:  torch.Size([144, 1, 256])\n",
      "x_add.shape:  torch.Size([144, 1, 256])\n",
      "x_norm.shape:  torch.Size([144, 1, 256])\n",
      "x_ff.shape:  torch.Size([144, 1, 256])\n",
      "x.shape:  torch.Size([144, 1, 256])\n",
      "x.shape:  torch.Size([1, 256])\n"
     ]
    }
   ],
   "source": [
    "x = torch.zeros((1,14,14), dtype=int) # this is the structure of the state retrieved by the game\n",
    "if len(x.shape) <= 3:\n",
    "    x = x.unsqueeze(0)\n",
    "print(\"x.shape (before embed): \", x.shape)\n",
    "x = embed(x)\n",
    "print(\"x.shape (after embed): \", x.shape)\n",
    "print(\"x.sum in slices: \", sum_slices(x,(0,1)))\n",
    "x = x.transpose(-1,-3)\n",
    "print(\"x.shape: \", x.shape)\n",
    "x = x.transpose(-1,-2).reshape(x.shape[0],-1,x.shape[-2],x.shape[-1])\n",
    "print(\"x.shape: \", x.shape)\n",
    "x = net(x)\n",
    "print(\"x.shape: \", x.shape)\n",
    "x= add_encoding2D(x)\n",
    "print(\"x.shape: \", x.shape)\n",
    "x = x.view(x.shape[0], x.shape[1],-1)\n",
    "print(\"x.shape: \", x.shape)\n",
    "x = x.transpose(2,1)\n",
    "print(\"x.shape: \", x.shape)\n",
    "x = projection(x)\n",
    "print(\"x.shape: \", x.shape)\n",
    "x = x.transpose(1,0)\n",
    "print(\"x.shape: \", x.shape)\n",
    "\n",
    "x_tmp = x # save it for plotting\n",
    "\n",
    "# From here it has always the same shape\n",
    "attn_output, attn_output_weights =  attn(x,x,x, key_padding_mask=None) # MHA step\n",
    "print(\"attn_output.shape: \", attn_output.shape)\n",
    "x_add = attn_output + x\n",
    "print(\"x_add.shape: \", x_add.shape)\n",
    "x_norm = drop(norm(x_add))\n",
    "print(\"x_norm.shape: \", x_norm.shape)\n",
    "x_ff = ff(x_norm)\n",
    "print(\"x_ff.shape: \", x_ff.shape)\n",
    "x = drop(norm(x_ff))\n",
    "print(\"x.shape: \", x.shape)\n",
    "# Max pooling feature-wise\n",
    "x, _ = torch.max(x, axis=0)\n",
    "print(\"x.shape: \", x.shape)"
   ]
  },
  {
   "cell_type": "markdown",
   "metadata": {},
   "source": [
    "Nothing much to control here."
   ]
  },
  {
   "cell_type": "markdown",
   "metadata": {},
   "source": [
    "# Alternative to max pooling - Linear projection"
   ]
  },
  {
   "cell_type": "code",
   "execution_count": 33,
   "metadata": {},
   "outputs": [
    {
     "data": {
      "text/plain": [
       "<module 'RelationalModule.RelationalNetworks' from '/home/nicola/Nicola_unipd/MasterThesis/RelationalDeepRL/RelationalModule/RelationalNetworks.py'>"
      ]
     },
     "execution_count": 33,
     "metadata": {},
     "output_type": "execute_result"
    }
   ],
   "source": [
    "reload(rnet)"
   ]
  },
  {
   "cell_type": "code",
   "execution_count": 34,
   "metadata": {},
   "outputs": [],
   "source": [
    "linear_proj = nn.Linear(144,1) # needs to know how many pixels there are"
   ]
  },
  {
   "cell_type": "code",
   "execution_count": 35,
   "metadata": {},
   "outputs": [
    {
     "name": "stdout",
     "output_type": "stream",
     "text": [
      "x.shape (before embed):  torch.Size([1, 1, 14, 14])\n",
      "x.shape (after embed):  torch.Size([1, 1, 14, 14, 3])\n",
      "x.sum in slices:  tensor([0., 0., 0.])\n",
      "x.shape:  torch.Size([1, 1, 3, 14, 14])\n",
      "x.shape:  torch.Size([1, 3, 14, 14])\n",
      "x.shape:  torch.Size([1, 24, 12, 12])\n",
      "x.shape:  torch.Size([1, 26, 12, 12])\n",
      "x.shape:  torch.Size([1, 26, 144])\n",
      "x.shape:  torch.Size([1, 144, 26])\n",
      "x.shape:  torch.Size([1, 144, 256])\n",
      "x.shape:  torch.Size([144, 1, 256])\n",
      "attn_output.shape:  torch.Size([144, 1, 256])\n",
      "x_add.shape:  torch.Size([144, 1, 256])\n",
      "x_norm.shape:  torch.Size([144, 1, 256])\n",
      "x_ff.shape:  torch.Size([144, 1, 256])\n",
      "x.shape:  torch.Size([144, 1, 256])\n",
      "x.shape (before linear):  torch.Size([256, 1, 144])\n",
      "x.shape:  torch.Size([256, 1])\n",
      "x.shape:  torch.Size([1, 256])\n"
     ]
    }
   ],
   "source": [
    "x = torch.zeros((1,1,14,14), dtype=int) # this is the structure of the state retrieved by the game\n",
    "if len(x.shape) <= 3:\n",
    "    x = x.unsqueeze(0)\n",
    "print(\"x.shape (before embed): \", x.shape)\n",
    "x = embed(x)\n",
    "print(\"x.shape (after embed): \", x.shape)\n",
    "print(\"x.sum in slices: \", sum_slices(x,(0,1)))\n",
    "x = x.transpose(-1,-3)\n",
    "print(\"x.shape: \", x.shape)\n",
    "x = x.transpose(-1,-2).reshape(x.shape[0],-1,x.shape[-2],x.shape[-1])\n",
    "print(\"x.shape: \", x.shape)\n",
    "x = net(x)\n",
    "print(\"x.shape: \", x.shape)\n",
    "x= add_encoding2D(x)\n",
    "print(\"x.shape: \", x.shape)\n",
    "x = x.view(x.shape[0], x.shape[1],-1)\n",
    "print(\"x.shape: \", x.shape)\n",
    "x = x.transpose(2,1)\n",
    "print(\"x.shape: \", x.shape)\n",
    "x = projection(x)\n",
    "print(\"x.shape: \", x.shape)\n",
    "x = x.transpose(1,0)\n",
    "print(\"x.shape: \", x.shape)\n",
    "\n",
    "x_tmp = x # save it for plotting\n",
    "\n",
    "# From here it has always the same shape\n",
    "attn_output, attn_output_weights =  attn(x,x,x, key_padding_mask=None) # MHA step\n",
    "print(\"attn_output.shape: \", attn_output.shape)\n",
    "x_add = attn_output + x\n",
    "print(\"x_add.shape: \", x_add.shape)\n",
    "x_norm = drop(norm(x_add))\n",
    "print(\"x_norm.shape: \", x_norm.shape)\n",
    "x_ff = ff(x_norm)\n",
    "print(\"x_ff.shape: \", x_ff.shape)\n",
    "x = drop(norm(x_ff))\n",
    "print(\"x.shape: \", x.shape)\n",
    "\n",
    "# Feature-wise projection\n",
    "x = x.transpose(-1,0)\n",
    "print(\"x.shape (before linear): \", x.shape)\n",
    "shape = x.shape\n",
    "x = linear_proj(x).reshape(shape[0],shape[1])\n",
    "print(\"x.shape: \", x.shape)\n",
    "x = x.transpose(-1,0)\n",
    "print(\"x.shape: \", x.shape)"
   ]
  },
  {
   "cell_type": "markdown",
   "metadata": {},
   "source": [
    "## Residual Layer\n",
    "\n",
    "Here the original paper uses just a Multi-Layer Perceptron, but I thought it would be nice to have sone skip connections in order to make the architecture more flexible."
   ]
  },
  {
   "cell_type": "code",
   "execution_count": 36,
   "metadata": {},
   "outputs": [
    {
     "data": {
      "text/plain": [
       "<module 'RelationalModule.RelationalNetworks' from '/home/nicola/Nicola_unipd/MasterThesis/RelationalDeepRL/RelationalModule/RelationalNetworks.py'>"
      ]
     },
     "execution_count": 36,
     "metadata": {},
     "output_type": "execute_result"
    }
   ],
   "source": [
    "reload(rnet)"
   ]
  },
  {
   "cell_type": "code",
   "execution_count": 37,
   "metadata": {},
   "outputs": [],
   "source": [
    "n_hiddens = 256 \n",
    "residual_layer = rnet.ResidualLayer(n_features, n_hiddens)"
   ]
  },
  {
   "cell_type": "code",
   "execution_count": 38,
   "metadata": {
    "scrolled": true
   },
   "outputs": [
    {
     "data": {
      "text/plain": [
       "tensor([[ 4.8460e-01, -2.1203e-01,  3.6038e-02, -2.4075e-01, -6.1428e-02,\n",
       "         -4.3773e-01,  1.7896e-01,  9.3542e-02,  5.6518e-02, -1.3073e-01,\n",
       "          4.0516e-01,  4.1768e-02,  4.4066e-01,  2.7531e-01, -3.3811e-01,\n",
       "          6.3777e-02, -3.4310e-01, -2.5782e-01,  1.6597e-01,  1.1784e-01,\n",
       "          2.0842e-01,  6.2776e-01,  4.2080e-01,  3.6995e-01,  2.3166e-01,\n",
       "          1.6686e-02, -3.7494e-01, -1.8448e-01, -1.3369e-01,  1.6521e-01,\n",
       "          6.6117e-02,  1.8935e-01, -9.1438e-02, -1.4511e-01,  2.7670e-01,\n",
       "         -5.0264e-01, -2.6626e-01, -1.4028e-01,  1.4984e-01,  8.0465e-02,\n",
       "          1.7277e-02,  7.0212e-02,  1.3874e-01,  5.2757e-01, -4.6146e-01,\n",
       "          1.2035e-01,  1.4908e-01,  1.7456e-01,  2.8285e-01, -1.0268e-01,\n",
       "          8.5883e-03, -4.1309e-01, -2.7675e-02,  3.2127e-01, -2.7828e-02,\n",
       "         -3.0054e-01, -9.5205e-02,  8.7826e-03, -2.5902e-01,  3.1412e-01,\n",
       "         -4.2685e-01,  7.3843e-02, -2.1069e-01, -1.2601e-01,  2.3054e-01,\n",
       "          3.9778e-02, -3.0043e-01, -4.3805e-01, -3.0164e-01, -2.4630e-01,\n",
       "         -1.3494e-01, -1.9206e-01,  5.9953e-02, -1.1071e-01,  2.8983e-01,\n",
       "         -7.1312e-02,  4.1986e-01, -2.9205e-01, -4.3866e-02, -1.7871e-02,\n",
       "         -1.2143e-01,  8.2691e-02, -1.9029e-01, -3.7245e-01, -2.2476e-01,\n",
       "         -2.4127e-02,  8.2697e-02,  1.9345e-01, -6.5513e-02, -2.5169e-01,\n",
       "          3.5327e-01,  3.3213e-01,  1.4290e-01,  4.0948e-01, -2.8917e-01,\n",
       "          2.2935e-01,  3.1387e-01, -7.4701e-02,  9.9953e-02,  6.5997e-04,\n",
       "          1.3565e-01,  4.5711e-01, -4.4887e-01, -1.2451e-01, -1.2651e-01,\n",
       "          1.9919e-01,  4.6996e-02, -1.9487e-01,  9.9559e-02,  8.1766e-02,\n",
       "         -1.4267e-01, -6.9297e-02, -1.7000e-01,  1.1030e-02,  1.8900e-01,\n",
       "         -2.2394e-01,  2.6567e-01, -2.1403e-01, -1.3189e-01, -3.9881e-02,\n",
       "         -6.3589e-02, -1.3278e-01,  1.5032e-01, -2.6106e-01,  5.2456e-02,\n",
       "          3.4030e-01,  2.0591e-01, -8.0640e-02, -2.8068e-01,  1.8886e-02,\n",
       "         -2.5507e-01,  8.1250e-02, -1.2241e-02, -3.1160e-01, -5.4575e-01,\n",
       "         -5.0459e-02, -6.3178e-02, -8.8486e-02, -4.6071e-01, -1.2721e-01,\n",
       "          2.5528e-01,  4.3289e-02,  1.8387e-01, -1.0003e-01, -8.8278e-02,\n",
       "          1.6002e-01, -1.9821e-01, -3.2258e-01, -5.3860e-01, -3.6775e-01,\n",
       "         -5.8996e-03,  1.7356e-01,  3.0061e-02, -2.4248e-01, -2.8270e-01,\n",
       "          2.0052e-01, -4.4740e-02,  1.2643e-01,  5.3181e-01,  3.5646e-02,\n",
       "         -2.1565e-01,  3.0522e-01,  5.5256e-02,  6.0905e-04,  1.3199e-02,\n",
       "         -6.6582e-01,  3.3550e-02, -2.3585e-02, -1.2236e-01,  3.1445e-03,\n",
       "         -2.3891e-01, -6.1753e-02, -2.9091e-02, -1.3664e-01, -1.8897e-01,\n",
       "          9.5633e-04,  1.8615e-01, -3.2253e-01, -1.1018e-02,  4.0344e-01,\n",
       "          1.4349e-01, -9.5149e-02,  1.6394e-02, -2.7861e-01,  6.4040e-02,\n",
       "          2.9671e-01, -1.6205e-01,  1.8579e-02,  2.9089e-01,  2.1677e-01,\n",
       "          9.1246e-02, -7.6083e-02,  1.0779e-02,  1.0660e-01,  3.4036e-01,\n",
       "          1.5059e-01,  3.0531e-01, -8.7932e-02,  6.6014e-01,  2.0527e-01,\n",
       "          2.7570e-01,  1.9352e-01, -3.6314e-04, -4.7721e-01,  1.9825e-01,\n",
       "         -4.1627e-01,  1.5785e-01,  4.0736e-02, -9.8857e-02,  3.4825e-01,\n",
       "         -1.1261e-01, -8.8068e-03,  8.4321e-02, -2.4960e-03,  6.7230e-02,\n",
       "         -1.2104e-01, -8.7014e-03,  4.7521e-01, -5.1113e-02,  4.1853e-02,\n",
       "          1.0571e-01, -4.4106e-01,  4.7533e-02, -3.1608e-01, -3.1499e-01,\n",
       "          2.9868e-02, -3.7345e-01, -3.9802e-01,  1.4488e-01, -2.6461e-01,\n",
       "          2.4166e-01, -1.9104e-01,  7.7034e-02,  4.1984e-02,  7.5393e-02,\n",
       "         -4.1089e-01, -2.8077e-01, -2.3724e-01, -6.5461e-01,  1.0672e-01,\n",
       "          8.4810e-02, -2.8754e-01, -2.3537e-01, -4.8686e-01,  3.1844e-01,\n",
       "          1.4158e-01,  3.8283e-01,  4.5198e-02,  3.8171e-01, -5.6662e-01,\n",
       "          1.3028e-01, -1.0713e-01,  1.0442e-01,  1.7525e-01,  2.3123e-03,\n",
       "          2.0874e-01]], grad_fn=<SubBackward0>)"
      ]
     },
     "execution_count": 38,
     "metadata": {},
     "output_type": "execute_result"
    }
   ],
   "source": [
    "residual_layer(x) - x # residual after ReLU"
   ]
  },
  {
   "cell_type": "markdown",
   "metadata": {},
   "source": [
    "# Full architecture"
   ]
  },
  {
   "cell_type": "code",
   "execution_count": 39,
   "metadata": {},
   "outputs": [
    {
     "data": {
      "text/plain": [
       "<module 'RelationalModule.ControlNetworks' from '/home/nicola/Nicola_unipd/MasterThesis/RelationalDeepRL/RelationalModule/ControlNetworks.py'>"
      ]
     },
     "execution_count": 39,
     "metadata": {},
     "output_type": "execute_result"
    }
   ],
   "source": [
    "reload(rnet)\n",
    "reload(cnet)"
   ]
  },
  {
   "cell_type": "code",
   "execution_count": 40,
   "metadata": {},
   "outputs": [],
   "source": [
    "box_net = rnet.BoxWorldNet(in_channels=1, n_kernels=24, vocab_size=117, n_dim=3,\n",
    "                              n_features=256, n_attn_modules=2, n_linears=4)"
   ]
  },
  {
   "cell_type": "code",
   "execution_count": 41,
   "metadata": {},
   "outputs": [],
   "source": [
    "box_net_v1 = rnet.BoxWorldNet(in_channels=1, n_kernels=24, vocab_size=117, n_dim=3,\n",
    "                              n_features=256, n_attn_modules=2, n_linears=4, max_pool=False,\n",
    "                              linear_size=14)"
   ]
  },
  {
   "cell_type": "code",
   "execution_count": 42,
   "metadata": {},
   "outputs": [],
   "source": [
    "control_net = cnet.ControlNet(in_channels=1, n_kernels=24, vocab_size=117, n_dim=3,\n",
    "                              n_features=256, hidden_dim=64, n_control_modules=2, n_linears=4)"
   ]
  },
  {
   "cell_type": "code",
   "execution_count": 43,
   "metadata": {},
   "outputs": [],
   "source": [
    "x = torch.randint(high=116, size = (1,14,14))"
   ]
  },
  {
   "cell_type": "code",
   "execution_count": 44,
   "metadata": {},
   "outputs": [
    {
     "name": "stdout",
     "output_type": "stream",
     "text": [
      "y.shape:  torch.Size([1, 256])\n"
     ]
    },
    {
     "data": {
      "text/plain": [
       "tensor([[-0.3471,  0.8706, -0.4643,  1.2401, -1.6211,  0.3449,  0.2921,  1.0621,\n",
       "         -0.2333,  1.5033,  2.4991, -0.6925,  0.0790, -0.1385,  1.7330,  1.0484,\n",
       "          1.6266, -0.7349,  0.6350, -0.7732,  1.4494, -0.3380,  0.5469,  0.7647,\n",
       "         -0.2781, -0.3455,  0.2698,  0.6114,  1.7113, -0.2367,  0.5861, -0.6365,\n",
       "         -0.0982,  0.9901, -0.8879, -1.5596, -1.2381, -1.7931,  1.5929,  0.8265,\n",
       "          0.9735, -0.9042, -1.2004,  0.0615, -0.6152,  2.1911, -0.7978,  2.0214,\n",
       "         -1.0261, -0.2894,  0.5326,  0.2119,  0.3012,  1.8253, -0.3202, -1.0710,\n",
       "         -0.3215,  0.1950, -0.0233, -0.2272, -0.2524, -0.8804, -0.7720,  0.4124,\n",
       "         -1.1940,  0.6481, -0.4766,  1.7432,  0.7434, -0.5072,  0.2930, -0.4310,\n",
       "         -0.2838,  2.2826, -0.8645,  1.0152,  0.0650,  0.6260,  0.8871,  0.0907,\n",
       "         -0.8889,  1.4125, -0.2689, -0.5767, -0.4513, -0.7602,  0.7972, -1.1460,\n",
       "          0.5217, -0.5251,  0.4385, -1.9822, -0.7412,  0.9380, -0.5870, -1.2729,\n",
       "          0.1396,  0.0029, -0.7967, -0.2605, -1.5238, -0.1876, -1.0401,  0.9473,\n",
       "          0.4445, -0.7869,  0.6628,  1.0888,  1.0238, -0.6962, -1.0710, -0.8621,\n",
       "         -0.5555,  1.5239,  0.5353, -0.9979, -0.9379, -0.4790,  0.7551,  1.8721,\n",
       "          0.8722, -0.6517, -1.6701,  0.8411, -1.5811,  0.0100, -0.2930, -1.3158,\n",
       "         -1.3029, -0.3310,  1.2409, -0.5371,  0.0305,  1.5425, -1.0878,  0.0689,\n",
       "         -0.6956,  0.1012,  1.0390,  0.4488,  1.2624, -0.2477,  0.3030,  0.2317,\n",
       "          1.2615,  2.1494,  0.3154, -0.0541, -1.5655,  0.6193,  0.0352, -0.1870,\n",
       "          0.0772, -0.7752,  0.8470, -0.0130,  1.2117, -0.1795, -0.5726,  0.4791,\n",
       "         -0.0802, -1.5624, -0.9968,  2.4226, -0.1481,  0.5766,  1.2017,  0.1027,\n",
       "          1.7183, -0.6378, -1.6493, -1.5302, -0.3686,  1.1552,  0.1378,  1.9982,\n",
       "         -0.7122,  1.0130,  1.9403, -0.2921, -0.3611, -1.3730,  0.8163,  0.6413,\n",
       "         -0.8909,  0.1861, -1.0166,  0.7311,  0.5165,  0.7785, -0.9400,  0.8239,\n",
       "          1.6091, -1.3734, -1.2097,  0.7236, -2.0325,  0.0957,  1.8572,  0.8007,\n",
       "         -1.7877, -1.1719,  2.4375, -1.1267, -1.6305, -0.6533,  0.5894,  1.5796,\n",
       "          0.2540,  0.7877,  0.5410, -0.1783,  0.2006,  0.1040,  0.8004,  1.6104,\n",
       "          0.9525, -0.7547, -0.0752,  0.7111,  0.2766,  1.9871, -1.0910,  0.8285,\n",
       "          0.5500, -0.2965,  0.2191,  0.9210,  0.2062,  0.8777, -0.0853, -0.5465,\n",
       "         -0.5552,  1.2315,  0.5078, -0.6742,  0.1296,  1.4921, -0.9930,  0.4647,\n",
       "         -0.5519,  0.0389,  0.6924,  1.3476,  0.9357, -2.3144, -1.9247, -0.5175,\n",
       "          0.4737,  0.3971,  0.8695,  0.8057, -0.1850,  0.3722, -0.5774,  0.0092]],\n",
       "       grad_fn=<AddBackward0>)"
      ]
     },
     "execution_count": 44,
     "metadata": {},
     "output_type": "execute_result"
    }
   ],
   "source": [
    "y = box_net_v1(x)\n",
    "print(\"y.shape: \", y.shape)\n",
    "y"
   ]
  },
  {
   "cell_type": "code",
   "execution_count": 45,
   "metadata": {},
   "outputs": [
    {
     "name": "stdout",
     "output_type": "stream",
     "text": [
      "y.shape:  torch.Size([1, 256])\n"
     ]
    },
    {
     "data": {
      "text/plain": [
       "tensor([[-3.2803e-02,  2.0822e-02,  1.4306e+00,  6.9601e-02, -2.1392e-02,\n",
       "          9.7195e-02,  4.0695e-01,  8.9766e-02,  3.0813e-01,  2.1562e-02,\n",
       "         -4.7502e-02,  3.8975e-02,  2.4358e-01, -3.1116e-02,  1.1931e-01,\n",
       "          1.1460e+00, -7.8290e-02,  1.9484e-01,  2.3399e-01,  4.3689e-01,\n",
       "         -1.9378e-02,  1.6107e-01,  2.2890e-02,  5.7375e-01, -3.3701e-02,\n",
       "          5.0325e-01,  9.6816e-01, -7.9721e-02,  4.6646e-01,  3.9455e-01,\n",
       "          8.0544e-01,  1.2765e-01,  6.1071e-02,  1.4714e+00,  2.5545e+00,\n",
       "          7.6160e-01,  2.1509e+00, -1.3133e-02,  1.2686e-01,  1.8105e-01,\n",
       "          5.6487e-01,  1.0540e-01,  9.6941e-01,  5.1679e-01, -1.3569e-02,\n",
       "          2.2521e-01,  2.4763e-01, -2.8501e-02,  3.7218e-02,  3.0057e-02,\n",
       "          6.3495e-02,  1.1455e-01,  1.9283e-01,  1.2721e+00,  1.9387e-02,\n",
       "          3.0650e-02,  1.7011e-01, -6.2881e-02,  1.2170e+00, -4.7739e-02,\n",
       "          4.3875e-01,  3.6177e-01,  7.1898e-01,  2.0818e-01, -6.9076e-02,\n",
       "          8.9868e-01,  8.7187e-01,  4.0985e-01,  1.0408e-01,  1.3230e-01,\n",
       "          1.2130e+00,  8.5323e-02,  1.3700e-02,  1.7127e-01,  1.2340e+00,\n",
       "          2.0685e-01,  7.9035e-01,  5.8982e-02,  2.6382e-01,  1.1935e+00,\n",
       "          1.4295e-01,  2.6904e-01,  3.5020e-01,  9.1201e-03, -6.0502e-02,\n",
       "          1.3014e+00,  1.0124e-01,  5.9422e-01, -5.0119e-03,  6.7923e-01,\n",
       "         -2.2662e-04,  6.2562e-02, -1.7087e-02, -6.7453e-02,  1.7117e+00,\n",
       "          3.0912e-01,  1.4702e-01,  1.2785e-01,  7.5680e-03,  4.9544e-01,\n",
       "          9.2798e-01,  3.0117e-01,  1.8238e-01, -9.6059e-02,  2.4982e-01,\n",
       "          4.0248e-01,  1.0306e-01,  8.6736e-02,  1.1310e+00,  2.6728e-03,\n",
       "          4.2203e-01,  7.2901e-01,  2.2926e-01, -7.9211e-03,  1.9611e+00,\n",
       "          2.0629e+00, -3.1854e-02,  1.9406e+00,  2.9719e-02,  1.0635e-01,\n",
       "          1.0302e+00,  2.0540e-01,  7.6958e-01,  1.1431e-01,  8.5969e-02,\n",
       "         -1.5785e-02,  2.6137e-01,  4.9515e-02,  6.2274e-02,  4.3219e-01,\n",
       "          1.9014e-01,  4.2458e-01,  3.3349e-02,  3.8387e-01, -2.8516e-02,\n",
       "          8.9823e-02,  2.3868e-01,  6.6275e-01,  1.9603e-03, -4.0408e-03,\n",
       "          4.0156e-01,  1.4357e-01,  5.6607e-01,  8.5370e-01,  2.2705e-01,\n",
       "          8.7788e-01, -6.9005e-02,  1.5809e+00,  1.2992e+00,  1.1515e+00,\n",
       "          5.0722e-01, -1.0050e-01,  5.7135e-02, -3.6528e-03,  1.3026e-01,\n",
       "          2.7987e-01,  4.0910e-02,  4.1887e-01,  3.7862e-01, -3.6604e-03,\n",
       "          3.6220e-01,  4.9693e-01,  3.4434e-01,  2.5802e-02,  1.3529e+00,\n",
       "          7.8369e-01,  1.1114e-01,  9.7139e-02, -5.4357e-02,  2.4704e-01,\n",
       "         -1.1362e-01,  1.9388e-02,  1.8309e-01,  8.0403e-01,  3.8984e-01,\n",
       "          8.4855e-01,  1.1120e+00,  3.5994e-01,  2.6940e-01,  1.6313e-01,\n",
       "         -1.5318e-02,  1.5742e+00,  5.2427e-02,  1.9047e-02,  1.6514e-01,\n",
       "          1.5765e-01,  4.8625e-01,  1.9977e+00,  6.0838e-03,  4.5949e-01,\n",
       "          6.7557e-01,  3.4984e-01,  1.0888e+00,  3.9006e-01,  9.5076e-02,\n",
       "         -8.8605e-02,  8.1902e-01,  1.1174e-01, -1.0661e-02,  6.4729e-02,\n",
       "          1.6501e-01,  1.4265e-01,  1.7493e-01,  7.9164e-02, -3.3895e-02,\n",
       "          7.3599e-02,  1.2608e+00,  1.4675e-01,  5.9369e-01,  1.1181e-01,\n",
       "          5.8432e-01,  1.0350e-02,  4.3733e-01, -4.3854e-02,  7.4912e-01,\n",
       "          2.3780e-01, -5.0356e-02,  2.9558e-02,  2.3694e-01,  8.3045e-02,\n",
       "          2.5066e-01,  1.4626e+00,  5.8528e-01, -6.6758e-02, -4.7814e-02,\n",
       "         -8.7549e-02,  4.4908e-02,  3.6193e-01,  2.4157e-02,  1.3340e-01,\n",
       "          9.5754e-02,  1.9413e-06,  1.1519e-01, -1.8825e-02,  3.2655e-01,\n",
       "          1.5277e-02, -4.7769e-02,  1.8849e-01,  6.7301e-02,  1.0858e+00,\n",
       "          1.2202e+00,  9.4595e-01,  8.8835e-02,  5.4673e-01,  6.2995e-01,\n",
       "          4.5131e-01,  7.4278e-01,  3.9580e-01,  9.3208e-01,  1.2686e-01,\n",
       "          1.8982e-01, -1.9131e-02,  9.4827e-02,  1.5427e+00, -1.0184e-02,\n",
       "         -9.7158e-02]], grad_fn=<AddBackward0>)"
      ]
     },
     "execution_count": 45,
     "metadata": {},
     "output_type": "execute_result"
    }
   ],
   "source": [
    "y = control_net(x)\n",
    "print(\"y.shape: \", y.shape)\n",
    "y"
   ]
  },
  {
   "cell_type": "markdown",
   "metadata": {},
   "source": [
    "# Multi-channel embedding layer test\n",
    "\n",
    "Here I just wanted to see how to embed even images with more than one channel"
   ]
  },
  {
   "cell_type": "code",
   "execution_count": 46,
   "metadata": {},
   "outputs": [
    {
     "data": {
      "text/plain": [
       "<module 'RelationalModule.RelationalNetworks' from '/home/nicola/Nicola_unipd/MasterThesis/RelationalDeepRL/RelationalModule/RelationalNetworks.py'>"
      ]
     },
     "execution_count": 46,
     "metadata": {},
     "output_type": "execute_result"
    }
   ],
   "source": [
    "reload(rnet)"
   ]
  },
  {
   "cell_type": "code",
   "execution_count": 47,
   "metadata": {},
   "outputs": [],
   "source": [
    "get_entities = rnet.ExtractEntities(k_out = 24, k_in=3, n_dim=3)"
   ]
  },
  {
   "cell_type": "code",
   "execution_count": 48,
   "metadata": {},
   "outputs": [],
   "source": [
    "embed = nn.Embedding(255,3)"
   ]
  },
  {
   "cell_type": "code",
   "execution_count": 49,
   "metadata": {},
   "outputs": [],
   "source": [
    "x = torch.randint(high=116, size = (3,14,14))"
   ]
  },
  {
   "cell_type": "code",
   "execution_count": 50,
   "metadata": {},
   "outputs": [
    {
     "data": {
      "text/plain": [
       "torch.Size([1, 24, 12, 12])"
      ]
     },
     "execution_count": 50,
     "metadata": {},
     "output_type": "execute_result"
    }
   ],
   "source": [
    "get_entities(x).shape"
   ]
  },
  {
   "cell_type": "code",
   "execution_count": 51,
   "metadata": {},
   "outputs": [
    {
     "data": {
      "text/plain": [
       "torch.Size([3, 1, 14, 14])"
      ]
     },
     "execution_count": 51,
     "metadata": {},
     "output_type": "execute_result"
    }
   ],
   "source": [
    "x = x.transpose(-1,-2).reshape(x.shape[0],-1,x.shape[-2],x.shape[-1])\n",
    "x.shape"
   ]
  },
  {
   "cell_type": "code",
   "execution_count": 52,
   "metadata": {},
   "outputs": [],
   "source": [
    "bw_net = rnet.BoxWorldNet()"
   ]
  },
  {
   "cell_type": "code",
   "execution_count": 53,
   "metadata": {},
   "outputs": [
    {
     "data": {
      "text/plain": [
       "torch.Size([3, 256])"
      ]
     },
     "execution_count": 53,
     "metadata": {},
     "output_type": "execute_result"
    }
   ],
   "source": [
    "bw_net(x).shape"
   ]
  },
  {
   "cell_type": "code",
   "execution_count": null,
   "metadata": {},
   "outputs": [],
   "source": []
  }
 ],
 "metadata": {
  "kernelspec": {
   "display_name": "torch",
   "language": "python",
   "name": "torch"
  },
  "language_info": {
   "codemirror_mode": {
    "name": "ipython",
    "version": 3
   },
   "file_extension": ".py",
   "mimetype": "text/x-python",
   "name": "python",
   "nbconvert_exporter": "python",
   "pygments_lexer": "ipython3",
   "version": "3.7.6"
  }
 },
 "nbformat": 4,
 "nbformat_minor": 2
}
