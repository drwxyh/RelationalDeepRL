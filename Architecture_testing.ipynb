{
 "cells": [
  {
   "cell_type": "markdown",
   "metadata": {},
   "source": [
    "# Relational Deep Reinforcement Learning\n",
    "\n",
    "**Plan:**\n",
    "1. Architecture\n",
    "2. Agent\n",
    "3. Environment\n",
    "4. Training cycle"
   ]
  },
  {
   "cell_type": "markdown",
   "metadata": {},
   "source": [
    "## Relational architecture\n",
    "\n",
    "**Input: (b,n,n,1)** = (batch length, linear size, linear size, greyscale)\n",
    "\n",
    "**Extract entities: (b,n,n,1) -> (b, m, m, 2k)** \n",
    "* embedding layer: vocab_size = MAX_PIXELS+1, embedding_dim = n_dim\n",
    "* convolutional_layer1(kernel_size = (2,2), input_filters = n_dim, output_filters = k, stride = 1, pad = (1,1))\n",
    "* convolutional_layer2(kernel_size = (2,2), input_filters = k, output_filters = 2k, stride = 1, pad = (1,1))\n",
    "\n",
    "**Relational block: (b, m, m, 2k) -> (b,d_m)**\n",
    "* Positional Encoding: (b, m, m, 2k) -> (b, m^2, d_m)\n",
    "* N Multi-Headed Attention blocks: (b, m^2, d_m) -> (b, m^2, d_m)\n",
    "\n",
    "**Feature-wise max pooling: (b, m^2, d_m) -> (b, d_m)**\n",
    "\n",
    "**Multi-Layer Perceptron: (b, d_m) -> (b, d_m)**\n",
    "* 4 fully connected layers (d_m,d_m) with ReLUs (TODO: add skip-connections)\n",
    "\n",
    "**Actor output: (b,d_m) -> (b,a)** [a = number of possible actions]\n",
    "* Single linear layer with softmax at the end\n",
    "\n",
    "**Critic output: (b,d_m) -> (b,1)** \n",
    "* Single linear layer without activation function"
   ]
  },
  {
   "cell_type": "markdown",
   "metadata": {},
   "source": [
    "## Control architecture\n",
    "\n",
    "**Input: (b,n,n,1)** = (batch length, linear size, linear size, greyscale)\n",
    "\n",
    "**Extract entities: (b,n,n,1) -> (b, m, m, 2k)** \n",
    "* embedding layer: vocab_size = MAX_PIXELS+1, embedding_dim = n_dim\n",
    "* convolutional_layer1(kernel_size = (2,2), input_filters = n_dim, output_filters = k, stride = 1, pad = (1,1))\n",
    "* convolutional_layer2(kernel_size = (2,2), input_filters = k, output_filters = 2k, stride = 1, pad = (1,1))\n",
    "\n",
    "**1D Convolutional block: (b, m, m, 2k) -> (b, m^2, d_m)**\n",
    "* Positional Encoding: (b, m, m, 2k) -> (b, m^2, d_m)\n",
    "* 2 1D convolutional blocks with ReLUs: (b, m^2, d_m) -> (b, m^2, d_m) - pixel-wise\n",
    "\n",
    "**Feature-wise max pooling: (b, m^2, d_m) -> (b, d_m)**\n",
    "\n",
    "**Multi-Layer Perceptron: (b, d_m) -> (b, d_m)**\n",
    "* 4 fully connected layers (d_m,d_m) with ReLUs - feature-wise\n",
    "* (TODO: add skip-connections)\n",
    "\n",
    "**Actor output: (b,d_m) -> (b,a)** [a = number of possible actions]\n",
    "* Single linear layer with softmax at the end\n",
    "\n",
    "**Critic output: (b,d_m) -> (b,1)** \n",
    "* Single linear layer without activation function"
   ]
  },
  {
   "cell_type": "code",
   "execution_count": 1,
   "metadata": {},
   "outputs": [],
   "source": [
    "import numpy as np\n",
    "import torch \n",
    "\n",
    "import torch.nn as nn\n",
    "import torch.nn.functional as F"
   ]
  },
  {
   "cell_type": "code",
   "execution_count": 2,
   "metadata": {},
   "outputs": [],
   "source": [
    "from RelationalModule import RelationalNetworks as rnet\n",
    "from RelationalModule import ControlNetworks as cnet"
   ]
  },
  {
   "cell_type": "code",
   "execution_count": 3,
   "metadata": {},
   "outputs": [
    {
     "data": {
      "text/plain": [
       "<module 'RelationalModule.ControlNetworks' from '/home/nicola/Nicola_unipd/MasterThesis/RelationalDeepRL/RelationalModule/ControlNetworks.py'>"
      ]
     },
     "execution_count": 3,
     "metadata": {},
     "output_type": "execute_result"
    }
   ],
   "source": [
    "from importlib import reload\n",
    "reload(rnet)\n",
    "reload(cnet)"
   ]
  },
  {
   "cell_type": "markdown",
   "metadata": {},
   "source": [
    "# Sample image from the game"
   ]
  },
  {
   "cell_type": "code",
   "execution_count": 4,
   "metadata": {},
   "outputs": [],
   "source": [
    "import sys\n",
    "sys.path.insert(0, \"pycolab/pycolab/examples/research/box_world\")\n",
    "import box_world as bw"
   ]
  },
  {
   "cell_type": "code",
   "execution_count": 5,
   "metadata": {},
   "outputs": [],
   "source": [
    "def get_state(observation, mask=True):\n",
    "    #print(\"Keys: \", observation.layers.keys())\n",
    "    board = observation.board#.astype('float')\n",
    "    \n",
    "    if mask:\n",
    "        walls = observation.layers['#'].astype(int)\n",
    "        #print(\"walls: \", walls)\n",
    "        background = observation.layers[' '].astype(int)\n",
    "        #print(\"background: \", background)\n",
    "        ambient = walls + background\n",
    "        #print(\"ambient: \", ambient)\n",
    "        board[ambient.astype(bool)] = 0\n",
    "        #print(\"board (masked): \", board)\n",
    "    grid_size = board.shape[0]\n",
    "    board = board.reshape(1, grid_size, grid_size)\n",
    "    return board #/MAX_PIXEL"
   ]
  },
  {
   "cell_type": "code",
   "execution_count": 6,
   "metadata": {},
   "outputs": [],
   "source": [
    "def print_key_values(observation):\n",
    "    layers = observation.layers\n",
    "    board = observation.board\n",
    "    print(\"\\nKeys: \", layers.keys())\n",
    "    for k in layers.keys():\n",
    "        values = board[layers[k]]\n",
    "        if k == ' ':\n",
    "            print(\"background \", np.max(values))\n",
    "        elif k == '#':\n",
    "            print(\"wall \", np.max(values))\n",
    "        elif k == '.':\n",
    "            print(\"agent \",  np.max(values))\n",
    "        else:\n",
    "            print(k, np.max(values))"
   ]
  },
  {
   "cell_type": "code",
   "execution_count": 7,
   "metadata": {},
   "outputs": [],
   "source": [
    "def get_init_state():\n",
    "    GRID_SIZE = 12\n",
    "    game_params = dict(grid_size=GRID_SIZE,\n",
    "                    solution_length=[2], # number of boxes to be opened to get the gem\n",
    "                    num_forward = [1], # number of distractors\n",
    "                    num_backward=[0], # just set to 0 for now\n",
    "                    branch_length=1, # length of forward distractors\n",
    "                    max_num_steps = 50\n",
    "                   )\n",
    "    game = bw.make_game(**game_params)\n",
    "\n",
    "\n",
    "\n",
    "    observation, _, _ = game.its_showtime()\n",
    "    print_key_values(observation)\n",
    "    state = get_state(observation)\n",
    "    state = torch.from_numpy(state.astype(int))\n",
    "    return state"
   ]
  },
  {
   "cell_type": "code",
   "execution_count": 8,
   "metadata": {
    "scrolled": false
   },
   "outputs": [
    {
     "name": "stdout",
     "output_type": "stream",
     "text": [
      "\n",
      "Keys:  dict_keys(['#', '.', ' ', 'Q', 'o', '*', 'I', 'i', 'q'])\n",
      "wall  35\n",
      "agent  46\n",
      "background  32\n",
      "Q 81\n",
      "o 111\n",
      "* 42\n",
      "I 73\n",
      "i 105\n",
      "q 113\n",
      "\n",
      "Keys:  dict_keys(['#', 'F', '.', 'c', ' ', 'N', '*', 'f', 'n'])\n",
      "wall  35\n",
      "F 70\n",
      "agent  46\n",
      "c 99\n",
      "background  32\n",
      "N 78\n",
      "* 42\n",
      "f 102\n",
      "n 110\n",
      "\n",
      "Keys:  dict_keys(['h', '#', '.', ' ', 'O', 'H', 'o', '*', 'l'])\n",
      "h 104\n",
      "wall  35\n",
      "agent  46\n",
      "background  32\n",
      "O 79\n",
      "H 72\n",
      "o 111\n",
      "* 42\n",
      "l 108\n",
      "\n",
      "Keys:  dict_keys(['#', 'G', '.', ' ', '*', 'I', 'f', 'i', 'g'])\n",
      "wall  35\n",
      "G 71\n",
      "agent  46\n",
      "background  32\n",
      "* 42\n",
      "I 73\n",
      "f 102\n",
      "i 105\n",
      "g 103\n",
      "\n",
      "Keys:  dict_keys(['#', 't', '.', ' ', 'Q', '*', 'I', 'i', 'q'])\n",
      "wall  35\n",
      "t 116\n",
      "agent  46\n",
      "background  32\n",
      "Q 81\n",
      "* 42\n",
      "I 73\n",
      "i 105\n",
      "q 113\n"
     ]
    },
    {
     "name": "stderr",
     "output_type": "stream",
     "text": [
      "/home/nicola/anaconda3/envs/torch/lib/python3.7/site-packages/pycolab/ascii_art.py:318: FutureWarning: arrays to stack must be passed as a \"sequence\" type such as list or tuple. Support for non-sequence iterables such as generators is deprecated as of NumPy 1.16 and will raise an error in the future.\n",
      "  art = np.vstack(np.fromstring(line, dtype=np.uint8) for line in art)\n"
     ]
    }
   ],
   "source": [
    "states = [get_init_state() for _ in range(5)]"
   ]
  },
  {
   "cell_type": "markdown",
   "metadata": {},
   "source": [
    "So we can see that actually the agent, the wall, the background and the gem have always the same value along episodes. Also same key-box couples have the same pair color, so once experienced a certain opening, that opening can be memorized and used in the future (otherwise the agent should rely on pure chance and trying to open every box every time).\n",
    "\n",
    "A simpler setup would be that of masking to 0 all walls and background, at least to see if there is anything about them that is impeding the learning process."
   ]
  },
  {
   "cell_type": "markdown",
   "metadata": {},
   "source": [
    "# Embedding layer"
   ]
  },
  {
   "cell_type": "code",
   "execution_count": 9,
   "metadata": {},
   "outputs": [],
   "source": [
    "import matplotlib.pyplot as plt"
   ]
  },
  {
   "cell_type": "code",
   "execution_count": 10,
   "metadata": {},
   "outputs": [],
   "source": [
    "vocab_size = 256\n",
    "n_dim = 3\n",
    "embed = nn.Embedding(vocab_size, n_dim, padding_idx=0)"
   ]
  },
  {
   "cell_type": "code",
   "execution_count": 11,
   "metadata": {
    "scrolled": true
   },
   "outputs": [
    {
     "name": "stdout",
     "output_type": "stream",
     "text": [
      "y_zeros.shape:  torch.Size([10, 10, 3])\n",
      "tensor([[0.0056, 0.0056, 0.0056, 0.0056, 0.0056, 0.0056, 0.0056, 0.0056, 0.0056,\n",
      "         0.0056],\n",
      "        [0.0056, 0.0056, 0.0056, 0.0056, 0.0056, 0.0056, 0.0056, 0.0056, 0.0056,\n",
      "         0.0056],\n",
      "        [0.0056, 0.0056, 0.0056, 0.0056, 0.0056, 0.0056, 0.0056, 0.0056, 0.0056,\n",
      "         0.0056],\n",
      "        [0.0056, 0.0056, 0.0056, 0.0056, 0.0056, 0.0056, 0.0056, 0.0056, 0.0056,\n",
      "         0.0056],\n",
      "        [0.0056, 0.0056, 0.0056, 0.0056, 0.0056, 0.0056, 0.0056, 0.0056, 0.0056,\n",
      "         0.0056],\n",
      "        [0.0056, 0.0056, 0.0056, 0.0056, 0.0056, 0.0056, 0.0056, 0.0056, 0.0056,\n",
      "         0.0056],\n",
      "        [0.0056, 0.0056, 0.0056, 0.0056, 0.0056, 0.0056, 0.0056, 0.0056, 0.0056,\n",
      "         0.0056],\n",
      "        [0.0056, 0.0056, 0.0056, 0.0056, 0.0056, 0.0056, 0.0056, 0.0056, 0.0056,\n",
      "         0.0056],\n",
      "        [0.0056, 0.0056, 0.0056, 0.0056, 0.0056, 0.0056, 0.0056, 0.0056, 0.0056,\n",
      "         0.0056],\n",
      "        [0.0056, 0.0056, 0.0056, 0.0056, 0.0056, 0.0056, 0.0056, 0.0056, 0.0056,\n",
      "         0.0056]], grad_fn=<SelectBackward>)\n",
      "tensor([[-2.9401, -2.9401, -2.9401, -2.9401, -2.9401, -2.9401, -2.9401, -2.9401,\n",
      "         -2.9401, -2.9401],\n",
      "        [-2.9401, -2.9401, -2.9401, -2.9401, -2.9401, -2.9401, -2.9401, -2.9401,\n",
      "         -2.9401, -2.9401],\n",
      "        [-2.9401, -2.9401, -2.9401, -2.9401, -2.9401, -2.9401, -2.9401, -2.9401,\n",
      "         -2.9401, -2.9401],\n",
      "        [-2.9401, -2.9401, -2.9401, -2.9401, -2.9401, -2.9401, -2.9401, -2.9401,\n",
      "         -2.9401, -2.9401],\n",
      "        [-2.9401, -2.9401, -2.9401, -2.9401, -2.9401, -2.9401, -2.9401, -2.9401,\n",
      "         -2.9401, -2.9401],\n",
      "        [-2.9401, -2.9401, -2.9401, -2.9401, -2.9401, -2.9401, -2.9401, -2.9401,\n",
      "         -2.9401, -2.9401],\n",
      "        [-2.9401, -2.9401, -2.9401, -2.9401, -2.9401, -2.9401, -2.9401, -2.9401,\n",
      "         -2.9401, -2.9401],\n",
      "        [-2.9401, -2.9401, -2.9401, -2.9401, -2.9401, -2.9401, -2.9401, -2.9401,\n",
      "         -2.9401, -2.9401],\n",
      "        [-2.9401, -2.9401, -2.9401, -2.9401, -2.9401, -2.9401, -2.9401, -2.9401,\n",
      "         -2.9401, -2.9401],\n",
      "        [-2.9401, -2.9401, -2.9401, -2.9401, -2.9401, -2.9401, -2.9401, -2.9401,\n",
      "         -2.9401, -2.9401]], grad_fn=<SelectBackward>)\n",
      "tensor([[1.3137, 1.3137, 1.3137, 1.3137, 1.3137, 1.3137, 1.3137, 1.3137, 1.3137,\n",
      "         1.3137],\n",
      "        [1.3137, 1.3137, 1.3137, 1.3137, 1.3137, 1.3137, 1.3137, 1.3137, 1.3137,\n",
      "         1.3137],\n",
      "        [1.3137, 1.3137, 1.3137, 1.3137, 1.3137, 1.3137, 1.3137, 1.3137, 1.3137,\n",
      "         1.3137],\n",
      "        [1.3137, 1.3137, 1.3137, 1.3137, 1.3137, 1.3137, 1.3137, 1.3137, 1.3137,\n",
      "         1.3137],\n",
      "        [1.3137, 1.3137, 1.3137, 1.3137, 1.3137, 1.3137, 1.3137, 1.3137, 1.3137,\n",
      "         1.3137],\n",
      "        [1.3137, 1.3137, 1.3137, 1.3137, 1.3137, 1.3137, 1.3137, 1.3137, 1.3137,\n",
      "         1.3137],\n",
      "        [1.3137, 1.3137, 1.3137, 1.3137, 1.3137, 1.3137, 1.3137, 1.3137, 1.3137,\n",
      "         1.3137],\n",
      "        [1.3137, 1.3137, 1.3137, 1.3137, 1.3137, 1.3137, 1.3137, 1.3137, 1.3137,\n",
      "         1.3137],\n",
      "        [1.3137, 1.3137, 1.3137, 1.3137, 1.3137, 1.3137, 1.3137, 1.3137, 1.3137,\n",
      "         1.3137],\n",
      "        [1.3137, 1.3137, 1.3137, 1.3137, 1.3137, 1.3137, 1.3137, 1.3137, 1.3137,\n",
      "         1.3137]], grad_fn=<SelectBackward>)\n"
     ]
    }
   ],
   "source": [
    "zeros = torch.ones((10,10), dtype=int)\n",
    "y_zeros = embed(zeros)\n",
    "print(\"y_zeros.shape: \", y_zeros.shape)\n",
    "print(y_zeros[:,:,0])\n",
    "print(y_zeros[:,:,1])\n",
    "print(y_zeros[:,:,2])"
   ]
  },
  {
   "cell_type": "markdown",
   "metadata": {},
   "source": [
    "Same integer values get mapped to same vectors, as it should be. "
   ]
  },
  {
   "cell_type": "code",
   "execution_count": 12,
   "metadata": {},
   "outputs": [
    {
     "name": "stderr",
     "output_type": "stream",
     "text": [
      "Clipping input data to the valid range for imshow with RGB data ([0..1] for floats or [0..255] for integers).\n"
     ]
    },
    {
     "data": {
      "text/plain": [
       "<matplotlib.image.AxesImage at 0x7fd53db2f910>"
      ]
     },
     "execution_count": 12,
     "metadata": {},
     "output_type": "execute_result"
    },
    {
     "data": {
      "image/png": "[encoded data removed]",
      "text/plain": [
       "<Figure size 432x288 with 1 Axes>"
      ]
     },
     "metadata": {
      "needs_background": "light"
     },
     "output_type": "display_data"
    }
   ],
   "source": [
    "eye = torch.eye(10, dtype=int)\n",
    "y_eye = embed(eye).detach()\n",
    "plt.imshow(y_eye.numpy())"
   ]
  },
  {
   "cell_type": "markdown",
   "metadata": {},
   "source": [
    "Again the embedding works, since each integer value is associated to a particular vector (in this case 3D vector, that can be represented as RGB color once clipped)."
   ]
  },
  {
   "cell_type": "code",
   "execution_count": 13,
   "metadata": {
    "scrolled": false
   },
   "outputs": [
    {
     "data": {
      "image/png": "[encoded data removed]",
      "text/plain": [
       "<Figure size 432x288 with 1 Axes>"
      ]
     },
     "metadata": {
      "needs_background": "light"
     },
     "output_type": "display_data"
    },
    {
     "data": {
      "image/png": "[encoded data removed]",
      "text/plain": [
       "<Figure size 432x288 with 1 Axes>"
      ]
     },
     "metadata": {
      "needs_background": "light"
     },
     "output_type": "display_data"
    },
    {
     "data": {
      "image/png": "[encoded data removed]",
      "text/plain": [
       "<Figure size 432x288 with 1 Axes>"
      ]
     },
     "metadata": {
      "needs_background": "light"
     },
     "output_type": "display_data"
    },
    {
     "data": {
      "image/png": "[encoded data removed]",
      "text/plain": [
       "<Figure size 432x288 with 1 Axes>"
      ]
     },
     "metadata": {
      "needs_background": "light"
     },
     "output_type": "display_data"
    },
    {
     "data": {
      "image/png": "[encoded data removed]",
      "text/plain": [
       "<Figure size 432x288 with 1 Axes>"
      ]
     },
     "metadata": {
      "needs_background": "light"
     },
     "output_type": "display_data"
    }
   ],
   "source": [
    "for state in states:\n",
    "    x = state\n",
    "    if len(x.shape) <= 3:\n",
    "        x = x.unsqueeze(0)\n",
    "    #print(\"x.shape (before embed): \", x.shape)\n",
    "    x = embed(x)\n",
    "    #print(\"x.shape (after embed): \", x.shape)\n",
    "    #print(\"x.sum in slices: \", sum_slices(x,(0,1)))\n",
    "    x = x.transpose(-1,-3)\n",
    "    #print(\"x.shape: \", x.shape)\n",
    "    x = x.transpose(-1,-2).reshape(x.shape[0],-1,x.shape[-2],x.shape[-1]).squeeze()\n",
    "    #print(\"x.shape: \", x.shape)\n",
    "    ### This part is just for correct visualization after embedding ###\n",
    "    x = x.transpose(-1,0)\n",
    "    x = x.transpose(1,0)\n",
    "    #print(\"x.shape: \", x.shape)\n",
    "    x = x.detach().numpy()\n",
    "    M = x.max(axis=(0,1))\n",
    "    m= x.min(axis=(0,1))\n",
    "    #print(\"M: \", M.shape )\n",
    "    #print(\"m: \", m.shape)\n",
    "    x = (x - m)/(M-m)\n",
    "    plt.imshow(x)\n",
    "    plt.show()"
   ]
  },
  {
   "cell_type": "markdown",
   "metadata": {},
   "source": [
    "Given this simple rendering (after embedding) from naked eye we can only see that:\n",
    "1. keys have different colors from the boxes they should open\n",
    "2. distractors are identical to the right boxes\n",
    "\n",
    "Then we also have to notice that in this representation colors are biased because I had to normalize in [0,1] the \"RGB\" channels given by the embedding."
   ]
  },
  {
   "cell_type": "markdown",
   "metadata": {},
   "source": [
    "# Convolution layers"
   ]
  },
  {
   "cell_type": "code",
   "execution_count": 14,
   "metadata": {},
   "outputs": [],
   "source": [
    "use_state = True"
   ]
  },
  {
   "cell_type": "code",
   "execution_count": 15,
   "metadata": {},
   "outputs": [],
   "source": [
    "k_in = 1\n",
    "k_out = 24\n",
    "kernel_size = 2\n",
    "stride = 1\n",
    "padding = 0\n",
    "\n",
    "layers = []\n",
    "layers.append(nn.Conv2d(n_dim*k_in, k_out//2, kernel_size, stride, padding))\n",
    "layers.append(nn.ReLU())\n",
    "layers.append(nn.Conv2d(k_out//2, k_out, kernel_size, stride, padding))\n",
    "#layers.append(nn.ReLU())\n",
    "net = nn.Sequential(*layers)"
   ]
  },
  {
   "cell_type": "code",
   "execution_count": 16,
   "metadata": {},
   "outputs": [],
   "source": [
    "def sum_slices(x, axes):\n",
    "    return x.squeeze().sum(axis=axes).detach()"
   ]
  },
  {
   "cell_type": "code",
   "execution_count": 17,
   "metadata": {
    "scrolled": true
   },
   "outputs": [
    {
     "name": "stdout",
     "output_type": "stream",
     "text": [
      "x.shape (before embed):  torch.Size([1, 1, 14, 14])\n",
      "x.shape (after embed):  torch.Size([1, 1, 14, 14, 3])\n",
      "x.sum in slices:  tensor([-7.1762, -0.1123, -0.9260])\n",
      "x.shape:  torch.Size([1, 1, 3, 14, 14])\n",
      "x.shape:  torch.Size([1, 3, 14, 14])\n",
      "y.shape:  torch.Size([1, 24, 12, 12])\n"
     ]
    }
   ],
   "source": [
    "if use_state:\n",
    "    x = states[0]\n",
    "else:\n",
    "    x = torch.zeros((1,14,14), dtype=int) # this is the structure of the state retrieved by the game\n",
    "if len(x.shape) <= 3:\n",
    "    x = x.unsqueeze(0)\n",
    "print(\"x.shape (before embed): \", x.shape)\n",
    "x = embed(x)\n",
    "print(\"x.shape (after embed): \", x.shape)\n",
    "print(\"x.sum in slices: \", sum_slices(x,(0,1)))\n",
    "x = x.transpose(-1,-3)\n",
    "print(\"x.shape: \", x.shape)\n",
    "x = x.transpose(-1,-2).reshape(x.shape[0],-1,x.shape[-2],x.shape[-1])\n",
    "print(\"x.shape: \", x.shape)\n",
    "y = net(x)\n",
    "print(\"y.shape: \", y.shape)"
   ]
  },
  {
   "cell_type": "code",
   "execution_count": 18,
   "metadata": {
    "scrolled": false
   },
   "outputs": [
    {
     "name": "stdout",
     "output_type": "stream",
     "text": [
      "tensor([ -6.7258,  18.0752,  -2.7523,   9.8648,  -9.4755,  -0.6248, -10.5299,\n",
      "          5.7722,   3.8964, -26.6677, -19.8918,  11.5274,  31.0782,  -2.3649,\n",
      "          4.7127, -23.3308,   1.0893,  22.8496,  -5.3444,  -9.7740,   2.3473,\n",
      "         22.0017, -15.9466,  -8.1761])\n",
      "y[0,:,:]:  tensor([[-0.0490, -0.0490, -0.0490, -0.0490, -0.0490, -0.0490, -0.0490, -0.0490,\n",
      "         -0.0490, -0.0490, -0.0490, -0.0490],\n",
      "        [-0.0490, -0.0490, -0.0490, -0.0490, -0.0490, -0.0490, -0.0490, -0.0490,\n",
      "         -0.0490, -0.0490, -0.0490, -0.0490],\n",
      "        [-0.0490, -0.0490, -0.0490, -0.0490, -0.0490, -0.0490, -0.0490, -0.0490,\n",
      "         -0.0490, -0.0490, -0.0490, -0.0490],\n",
      "        [-0.0490, -0.0490, -0.0490, -0.0490, -0.0490, -0.0490, -0.0490, -0.0490,\n",
      "         -0.0490, -0.0490, -0.0490, -0.0490],\n",
      "        [-0.0490, -0.0512, -0.0462, -0.3192,  0.0269, -0.0490, -0.0490, -0.0351,\n",
      "         -0.0497, -0.0893, -0.0490, -0.0490],\n",
      "        [-0.0490, -0.3142,  0.5610,  0.0367, -0.0912, -0.0490, -0.0490, -0.1353,\n",
      "          0.0564,  0.0080, -0.0490, -0.0490],\n",
      "        [-0.0490, -0.0532, -0.1115, -0.1506, -0.0529, -0.0490, -0.0344, -0.0327,\n",
      "         -0.2815,  0.0422, -0.0490, -0.0490],\n",
      "        [-0.0490, -0.0490, -0.0490, -0.0490, -0.0490, -0.0490, -0.2109,  0.3767,\n",
      "          0.0271, -0.0912, -0.0490, -0.0490],\n",
      "        [-0.0490, -0.0490, -0.0490, -0.0490, -0.0490, -0.0490, -0.0644, -0.0427,\n",
      "         -0.2308,  0.0595, -0.1169, -0.0490],\n",
      "        [-0.0490, -0.0490, -0.0490,  0.0343, -0.1384, -0.0056, -0.0490,  0.0770,\n",
      "         -0.3191, -0.0412,  0.0586, -0.0490],\n",
      "        [-0.0490, -0.0490, -0.0490, -0.0171,  0.0231, -0.0840, -0.0490, -0.0339,\n",
      "          0.0516, -0.0097, -0.0316, -0.0490],\n",
      "        [-0.0490, -0.0490, -0.0490, -0.0704, -0.0674, -0.0422, -0.0490, -0.0490,\n",
      "         -0.0490, -0.0490, -0.0490, -0.0490]])\n"
     ]
    }
   ],
   "source": [
    "y = y.squeeze().detach()\n",
    "print(sum_slices(y,(1,2)))\n",
    "print(\"y[0,:,:]: \", y[0,:,:])"
   ]
  },
  {
   "cell_type": "markdown",
   "metadata": {},
   "source": [
    "So basically each layer is uniform thanks to the input and how convolution works (each slice is the result of the convolution from the same kernel of the same input). All the zeros that can be seen are due to the ReLU activations."
   ]
  },
  {
   "cell_type": "markdown",
   "metadata": {},
   "source": [
    "# Positional Encoding"
   ]
  },
  {
   "cell_type": "code",
   "execution_count": 19,
   "metadata": {},
   "outputs": [],
   "source": [
    "def add_encoding2D(x):\n",
    "    x_ax = x.shape[-2]\n",
    "    y_ax = x.shape[-1]\n",
    "\n",
    "    x_lin = torch.linspace(-1,1,x_ax)\n",
    "    xx = x_lin.repeat(x.shape[0],y_ax,1).view(-1, 1, y_ax, x_ax).transpose(3,2)\n",
    "\n",
    "    y_lin = torch.linspace(-1,1,y_ax).view(-1,1)\n",
    "    yy = y_lin.repeat(x.shape[0],1,x_ax).view(-1, 1, y_ax, x_ax).transpose(3,2)\n",
    "\n",
    "    x = torch.cat((x,xx,yy), axis=1)\n",
    "    return x"
   ]
  },
  {
   "cell_type": "code",
   "execution_count": 20,
   "metadata": {},
   "outputs": [
    {
     "name": "stdout",
     "output_type": "stream",
     "text": [
      "x.shape (before embed):  torch.Size([1, 1, 14, 14])\n",
      "x.shape (after embed):  torch.Size([1, 1, 14, 14, 3])\n",
      "x.sum in slices:  tensor([-7.1762, -0.1123, -0.9260])\n",
      "x.shape:  torch.Size([1, 1, 3, 14, 14])\n",
      "x.shape:  torch.Size([1, 3, 14, 14])\n",
      "y.shape:  torch.Size([1, 24, 12, 12])\n",
      "y_enc.shape:  torch.Size([1, 26, 12, 12])\n"
     ]
    }
   ],
   "source": [
    "if use_state:\n",
    "    x = states[0]\n",
    "else:\n",
    "    x = torch.zeros((1,14,14), dtype=int) # this is the structure of the state retrieved by the game\n",
    "if len(x.shape) <= 3:\n",
    "    x = x.unsqueeze(0)\n",
    "print(\"x.shape (before embed): \", x.shape)\n",
    "x = embed(x)\n",
    "print(\"x.shape (after embed): \", x.shape)\n",
    "print(\"x.sum in slices: \", sum_slices(x,(0,1)))\n",
    "x = x.transpose(-1,-3)\n",
    "print(\"x.shape: \", x.shape)\n",
    "x = x.transpose(-1,-2).reshape(x.shape[0],-1,x.shape[-2],x.shape[-1])\n",
    "print(\"x.shape: \", x.shape)\n",
    "y = net(x)\n",
    "print(\"y.shape: \", y.shape)\n",
    "y_enc = add_encoding2D(y)\n",
    "print(\"y_enc.shape: \", y_enc.shape)"
   ]
  },
  {
   "cell_type": "markdown",
   "metadata": {},
   "source": [
    "Let's verify that the last 2 layers have a positional encoding:"
   ]
  },
  {
   "cell_type": "code",
   "execution_count": 21,
   "metadata": {},
   "outputs": [
    {
     "name": "stdout",
     "output_type": "stream",
     "text": [
      "y_tmp.shape:  torch.Size([26, 12, 12])\n"
     ]
    },
    {
     "data": {
      "image/png": "[encoded data removed]",
      "text/plain": [
       "<Figure size 432x288 with 1 Axes>"
      ]
     },
     "metadata": {
      "needs_background": "light"
     },
     "output_type": "display_data"
    },
    {
     "data": {
      "image/png": "[encoded data removed]",
      "text/plain": [
       "<Figure size 432x288 with 1 Axes>"
      ]
     },
     "metadata": {
      "needs_background": "light"
     },
     "output_type": "display_data"
    }
   ],
   "source": [
    "y_tmp = y_enc.squeeze().detach()\n",
    "print(\"y_tmp.shape: \", y_tmp.shape)\n",
    "plt.imshow(y_tmp[-2])\n",
    "plt.show()\n",
    "plt.imshow(y_tmp[-1])\n",
    "plt.show()"
   ]
  },
  {
   "cell_type": "markdown",
   "metadata": {},
   "source": [
    "A different approach would be to sum these two layers pixel-wise to all other features. Probably it would amplify the importance of the position, at the risk that if the magnitude is too high we would lose data.\n",
    "\n",
    "Also more complicated encodings are possible; this one is the one I think they used in the paper."
   ]
  },
  {
   "cell_type": "markdown",
   "metadata": {},
   "source": [
    "# Projection from 26 to n_features (default 256)"
   ]
  },
  {
   "cell_type": "code",
   "execution_count": 22,
   "metadata": {},
   "outputs": [],
   "source": [
    "n_features = 256\n",
    "projection = nn.Linear(k_out + 2, n_features)"
   ]
  },
  {
   "cell_type": "code",
   "execution_count": 23,
   "metadata": {},
   "outputs": [
    {
     "name": "stdout",
     "output_type": "stream",
     "text": [
      "x.shape (before embed):  torch.Size([1, 1, 14, 14])\n",
      "x.shape (after embed):  torch.Size([1, 1, 14, 14, 3])\n",
      "x.sum in slices:  tensor([-7.1762, -0.1123, -0.9260])\n",
      "x.shape:  torch.Size([1, 1, 3, 14, 14])\n",
      "x.shape:  torch.Size([1, 3, 14, 14])\n",
      "x.shape:  torch.Size([1, 24, 12, 12])\n",
      "x.shape:  torch.Size([1, 26, 12, 12])\n",
      "x.shape:  torch.Size([1, 26, 144])\n",
      "x.shape:  torch.Size([1, 144, 26])\n",
      "x.shape:  torch.Size([1, 144, 256])\n",
      "x.shape:  torch.Size([144, 1, 256])\n"
     ]
    }
   ],
   "source": [
    "if use_state:\n",
    "    x = states[0]\n",
    "else:\n",
    "    x = torch.zeros((1,14,14), dtype=int) # this is the structure of the state retrieved by the game\n",
    "if len(x.shape) <= 3:\n",
    "    x = x.unsqueeze(0)\n",
    "print(\"x.shape (before embed): \", x.shape)\n",
    "x = embed(x)\n",
    "print(\"x.shape (after embed): \", x.shape)\n",
    "print(\"x.sum in slices: \", sum_slices(x,(0,1)))\n",
    "x = x.transpose(-1,-3)\n",
    "print(\"x.shape: \", x.shape)\n",
    "x = x.transpose(-1,-2).reshape(x.shape[0],-1,x.shape[-2],x.shape[-1])\n",
    "print(\"x.shape: \", x.shape)\n",
    "x = net(x)\n",
    "print(\"x.shape: \", x.shape)\n",
    "x= add_encoding2D(x)\n",
    "print(\"x.shape: \", x.shape)\n",
    "x = x.view(x.shape[0], x.shape[1],-1)\n",
    "print(\"x.shape: \", x.shape)\n",
    "x = x.transpose(2,1)\n",
    "print(\"x.shape: \", x.shape)\n",
    "x = projection(x)\n",
    "print(\"x.shape: \", x.shape)\n",
    "x = x.transpose(1,0)\n",
    "print(\"x.shape: \", x.shape)"
   ]
  },
  {
   "cell_type": "markdown",
   "metadata": {},
   "source": [
    "Here everything seems clean. Let's see if there is some trace of the positional encoding left. Ideally thanks to the projection now each feature potentially has a positional encoding."
   ]
  },
  {
   "cell_type": "code",
   "execution_count": 24,
   "metadata": {},
   "outputs": [
    {
     "data": {
      "image/png": "[encoded data removed]",
      "text/plain": [
       "<Figure size 432x288 with 1 Axes>"
      ]
     },
     "metadata": {
      "needs_background": "light"
     },
     "output_type": "display_data"
    },
    {
     "data": {
      "image/png": "[encoded data removed]",
      "text/plain": [
       "<Figure size 432x288 with 1 Axes>"
      ]
     },
     "metadata": {
      "needs_background": "light"
     },
     "output_type": "display_data"
    },
    {
     "data": {
      "image/png": "[encoded data removed]",
      "text/plain": [
       "<Figure size 432x288 with 1 Axes>"
      ]
     },
     "metadata": {
      "needs_background": "light"
     },
     "output_type": "display_data"
    }
   ],
   "source": [
    "x_tmp = x.squeeze().detach().view(12,12,256)\n",
    "plt.imshow(x_tmp[:,:,0])\n",
    "plt.show()\n",
    "plt.imshow(x_tmp[:,:,128])\n",
    "plt.show()\n",
    "plt.imshow(x_tmp[:,:,-2])\n",
    "plt.show()"
   ]
  },
  {
   "cell_type": "markdown",
   "metadata": {},
   "source": [
    "Again everything seems fine."
   ]
  },
  {
   "cell_type": "markdown",
   "metadata": {},
   "source": [
    "# Relational Block \n",
    "Implements the relational block, composed by a Multi-Headed Dot-Product Attention layer followed by a Position-wise Feed-Forward layer. I implement here the former one, whereas I just import the latter from the module, since it's very basic."
   ]
  },
  {
   "cell_type": "code",
   "execution_count": 25,
   "metadata": {},
   "outputs": [],
   "source": [
    "hidden_dim = 64\n",
    "dropout = 0\n",
    "n_heads = 4\n",
    "\n",
    "norm = nn.LayerNorm(n_features)\n",
    "drop = nn.Dropout(dropout) # disabled\n",
    "attn = nn.MultiheadAttention(n_features, n_heads, dropout)\n",
    "ff = rnet.PositionwiseFeedForward(n_features, hidden_dim, dropout)"
   ]
  },
  {
   "cell_type": "code",
   "execution_count": 26,
   "metadata": {
    "scrolled": true
   },
   "outputs": [
    {
     "name": "stdout",
     "output_type": "stream",
     "text": [
      "x.shape (before embed):  torch.Size([1, 1, 14, 14])\n",
      "x.shape (after embed):  torch.Size([1, 1, 14, 14, 3])\n",
      "x.sum in slices:  tensor([-7.1762, -0.1123, -0.9260])\n",
      "x.shape:  torch.Size([1, 1, 3, 14, 14])\n",
      "x.shape:  torch.Size([1, 3, 14, 14])\n",
      "x.shape:  torch.Size([1, 24, 12, 12])\n",
      "x.shape:  torch.Size([1, 26, 12, 12])\n",
      "x.shape:  torch.Size([1, 26, 144])\n",
      "x.shape:  torch.Size([1, 144, 26])\n",
      "x.shape:  torch.Size([1, 144, 256])\n",
      "x.shape:  torch.Size([144, 1, 256])\n",
      "attn_output.shape:  torch.Size([144, 1, 256])\n",
      "x_add.shape:  torch.Size([144, 1, 256])\n",
      "x_norm.shape:  torch.Size([144, 1, 256])\n",
      "x_ff.shape:  torch.Size([144, 1, 256])\n",
      "out.shape:  torch.Size([144, 1, 256])\n"
     ]
    }
   ],
   "source": [
    "if use_state:\n",
    "    x = states[0]\n",
    "else:\n",
    "    x = torch.zeros((1,14,14), dtype=int) # this is the structure of the state retrieved by the game\n",
    "if len(x.shape) <= 3:\n",
    "    x = x.unsqueeze(0)\n",
    "print(\"x.shape (before embed): \", x.shape)\n",
    "x = embed(x)\n",
    "print(\"x.shape (after embed): \", x.shape)\n",
    "print(\"x.sum in slices: \", sum_slices(x,(0,1)))\n",
    "x = x.transpose(-1,-3)\n",
    "print(\"x.shape: \", x.shape)\n",
    "x = x.transpose(-1,-2).reshape(x.shape[0],-1,x.shape[-2],x.shape[-1])\n",
    "print(\"x.shape: \", x.shape)\n",
    "x = net(x)\n",
    "print(\"x.shape: \", x.shape)\n",
    "x= add_encoding2D(x)\n",
    "print(\"x.shape: \", x.shape)\n",
    "x = x.view(x.shape[0], x.shape[1],-1)\n",
    "print(\"x.shape: \", x.shape)\n",
    "x = x.transpose(2,1)\n",
    "print(\"x.shape: \", x.shape)\n",
    "x = projection(x)\n",
    "print(\"x.shape: \", x.shape)\n",
    "x = x.transpose(1,0)\n",
    "print(\"x.shape: \", x.shape)\n",
    "\n",
    "x_tmp = x # save it for plotting\n",
    "\n",
    "# From here it has always the same shape\n",
    "attn_output, attn_output_weights =  attn(x,x,x, key_padding_mask=None) # MHA step\n",
    "print(\"attn_output.shape: \", attn_output.shape)\n",
    "x_add = attn_output + x\n",
    "print(\"x_add.shape: \", x_add.shape)\n",
    "x_norm = drop(norm(x_add))\n",
    "print(\"x_norm.shape: \", x_norm.shape)\n",
    "x_ff = ff(x_norm)\n",
    "print(\"x_ff.shape: \", x_ff.shape)\n",
    "out = drop(norm(x_ff))\n",
    "print(\"out.shape: \", out.shape)"
   ]
  },
  {
   "cell_type": "code",
   "execution_count": 27,
   "metadata": {},
   "outputs": [],
   "source": [
    "def plot_layer(x, layer=0):\n",
    "    x = x.squeeze().detach()[:,layer]\n",
    "    plt.imshow(x.view(12,12))\n",
    "    plt.show()"
   ]
  },
  {
   "cell_type": "code",
   "execution_count": 28,
   "metadata": {},
   "outputs": [
    {
     "name": "stdout",
     "output_type": "stream",
     "text": [
      "Input\n"
     ]
    },
    {
     "data": {
      "image/png": "[encoded data removed]",
      "text/plain": [
       "<Figure size 432x288 with 1 Axes>"
      ]
     },
     "metadata": {
      "needs_background": "light"
     },
     "output_type": "display_data"
    },
    {
     "name": "stdout",
     "output_type": "stream",
     "text": [
      "Attention output\n"
     ]
    },
    {
     "data": {
      "image/png": "[encoded data removed]",
      "text/plain": [
       "<Figure size 432x288 with 1 Axes>"
      ]
     },
     "metadata": {
      "needs_background": "light"
     },
     "output_type": "display_data"
    },
    {
     "name": "stdout",
     "output_type": "stream",
     "text": [
      "Input + attention\n"
     ]
    },
    {
     "data": {
      "image/png": "[encoded data removed]",
      "text/plain": [
       "<Figure size 432x288 with 1 Axes>"
      ]
     },
     "metadata": {
      "needs_background": "light"
     },
     "output_type": "display_data"
    },
    {
     "name": "stdout",
     "output_type": "stream",
     "text": [
      "After LayerNorm\n"
     ]
    },
    {
     "data": {
      "image/png": "[encoded data removed]",
      "text/plain": [
       "<Figure size 432x288 with 1 Axes>"
      ]
     },
     "metadata": {
      "needs_background": "light"
     },
     "output_type": "display_data"
    },
    {
     "name": "stdout",
     "output_type": "stream",
     "text": [
      "After position-wise FF\n"
     ]
    },
    {
     "data": {
      "image/png": "[encoded data removed]",
      "text/plain": [
       "<Figure size 432x288 with 1 Axes>"
      ]
     },
     "metadata": {
      "needs_background": "light"
     },
     "output_type": "display_data"
    },
    {
     "name": "stdout",
     "output_type": "stream",
     "text": [
      "After LayerNorm\n"
     ]
    },
    {
     "data": {
      "image/png": "[encoded data removed]",
      "text/plain": [
       "<Figure size 432x288 with 1 Axes>"
      ]
     },
     "metadata": {
      "needs_background": "light"
     },
     "output_type": "display_data"
    }
   ],
   "source": [
    "print(\"Input\")\n",
    "plot_layer(x_tmp)\n",
    "print(\"Attention output\")\n",
    "plot_layer(attn_output)\n",
    "print(\"Input + attention\")\n",
    "plot_layer(x_add)\n",
    "print(\"After LayerNorm\")\n",
    "plot_layer(x_norm)\n",
    "print(\"After position-wise FF\")\n",
    "plot_layer(x_ff)\n",
    "print(\"After LayerNorm\")\n",
    "plot_layer(out)"
   ]
  },
  {
   "cell_type": "markdown",
   "metadata": {},
   "source": [
    "Here we didn't see anything suspicious, with the attention layer not doing much and the only real change happening during the positionwise feed forward, in which we make a convolution of the 256 features to obtain new ones, so of course after that we are looking at a different feature plane."
   ]
  },
  {
   "cell_type": "markdown",
   "metadata": {},
   "source": [
    "To see if the attention layer is working correctly, we can play with the pixel and batch asix and see if the result is affected by those changes. Since the attention mechanism works taking into account relations between pixels, masking some of them should change the output for the others. Instead the batch dimension shouldn't intefrere with the result."
   ]
  },
  {
   "cell_type": "code",
   "execution_count": 29,
   "metadata": {},
   "outputs": [
    {
     "name": "stdout",
     "output_type": "stream",
     "text": [
      "x.shape (before embed):  torch.Size([1, 1, 14, 14])\n",
      "x.shape (after embed):  torch.Size([1, 1, 14, 14, 3])\n",
      "x.sum in slices:  tensor([-7.1762, -0.1123, -0.9260])\n",
      "x.shape:  torch.Size([1, 1, 3, 14, 14])\n",
      "x.shape:  torch.Size([1, 3, 14, 14])\n",
      "x.shape:  torch.Size([1, 24, 12, 12])\n",
      "x.shape:  torch.Size([1, 26, 12, 12])\n",
      "x.shape:  torch.Size([1, 26, 144])\n",
      "x.shape:  torch.Size([1, 144, 26])\n",
      "x.shape:  torch.Size([1, 144, 256])\n",
      "x.shape:  torch.Size([144, 1, 256])\n",
      "attn_output.shape:  torch.Size([144, 2, 256])\n",
      "x_add.shape:  torch.Size([144, 2, 256])\n",
      "x_norm.shape:  torch.Size([144, 2, 256])\n",
      "x_ff.shape:  torch.Size([144, 2, 256])\n",
      "out2.shape:  torch.Size([144, 1, 256])\n",
      "out2:  tensor([[[ 0.9783,  1.2520, -0.7628,  ...,  0.5209, -1.3556,  1.7192]],\n",
      "\n",
      "        [[ 1.0425,  1.1934, -0.9525,  ...,  0.3150, -1.3109,  1.7431]],\n",
      "\n",
      "        [[ 1.0421,  1.1838, -1.0926,  ...,  0.0104, -1.3050,  1.6948]],\n",
      "\n",
      "        ...,\n",
      "\n",
      "        [[ 0.2140, -0.2375, -1.1234,  ..., -0.6808, -1.9272,  1.1245]],\n",
      "\n",
      "        [[ 0.1369, -0.3542, -1.2409,  ..., -0.8129, -2.0590,  1.2538]],\n",
      "\n",
      "        [[ 0.0514, -0.4752, -1.3461,  ..., -0.8929, -2.1492,  1.3461]]],\n",
      "       grad_fn=<UnsqueezeBackward0>)\n",
      "out:  tensor([[[ 0.9783,  1.2520, -0.7628,  ...,  0.5209, -1.3556,  1.7192]],\n",
      "\n",
      "        [[ 1.0425,  1.1934, -0.9525,  ...,  0.3150, -1.3109,  1.7431]],\n",
      "\n",
      "        [[ 1.0421,  1.1838, -1.0926,  ...,  0.0104, -1.3050,  1.6948]],\n",
      "\n",
      "        ...,\n",
      "\n",
      "        [[ 0.2140, -0.2375, -1.1234,  ..., -0.6808, -1.9272,  1.1245]],\n",
      "\n",
      "        [[ 0.1369, -0.3542, -1.2409,  ..., -0.8129, -2.0590,  1.2538]],\n",
      "\n",
      "        [[ 0.0514, -0.4752, -1.3461,  ..., -0.8929, -2.1492,  1.3461]]],\n",
      "       grad_fn=<NativeLayerNormBackward>)\n",
      "Element sum of the difference 2-3:  0.0\n",
      "Element sum of the difference 2-0:  0.0\n"
     ]
    }
   ],
   "source": [
    "# Check if batch size changes the output\n",
    "if use_state:\n",
    "    x = states[0]\n",
    "else:\n",
    "    x = torch.zeros((1,14,14), dtype=int) # this is the structure of the state retrieved by the game\n",
    "if len(x.shape) <= 3:\n",
    "    x = x.unsqueeze(0)\n",
    "print(\"x.shape (before embed): \", x.shape)\n",
    "x = embed(x)\n",
    "print(\"x.shape (after embed): \", x.shape)\n",
    "print(\"x.sum in slices: \", sum_slices(x,(0,1)))\n",
    "x = x.transpose(-1,-3)\n",
    "print(\"x.shape: \", x.shape)\n",
    "x = x.transpose(-1,-2).reshape(x.shape[0],-1,x.shape[-2],x.shape[-1])\n",
    "print(\"x.shape: \", x.shape)\n",
    "x = net(x)\n",
    "print(\"x.shape: \", x.shape)\n",
    "x= add_encoding2D(x)\n",
    "print(\"x.shape: \", x.shape)\n",
    "x = x.view(x.shape[0], x.shape[1],-1)\n",
    "print(\"x.shape: \", x.shape)\n",
    "x = x.transpose(2,1)\n",
    "print(\"x.shape: \", x.shape)\n",
    "x = projection(x)\n",
    "print(\"x.shape: \", x.shape)\n",
    "x = x.transpose(1,0)\n",
    "print(\"x.shape: \", x.shape)\n",
    "\n",
    "x_tmp2 = torch.cat((x,x), axis=1)\n",
    "attn_output, attn_output_weights =  attn(x_tmp2,x_tmp2,x_tmp2, key_padding_mask=None) # MHA step\n",
    "print(\"attn_output.shape: \", attn_output.shape)\n",
    "x_add = attn_output + x\n",
    "print(\"x_add.shape: \", x_add.shape)\n",
    "x_norm = drop(norm(x_add))\n",
    "print(\"x_norm.shape: \", x_norm.shape)\n",
    "x_ff = ff(x_norm)\n",
    "print(\"x_ff.shape: \", x_ff.shape)\n",
    "out2 = drop(norm(x_ff))\n",
    "out3 = out2[:,1,:].unsqueeze(1)\n",
    "out2 = out2[:,0,:].unsqueeze(1)\n",
    "\n",
    "print(\"out2.shape: \", out2.shape)\n",
    "print(\"out2: \", out2)\n",
    "print(\"out: \", out)\n",
    "print(\"Element sum of the difference 2-3: \", torch.sum(out2- out3).item())\n",
    "print(\"Element sum of the difference 2-0: \", torch.sum(out2- out).item())"
   ]
  },
  {
   "cell_type": "markdown",
   "metadata": {},
   "source": [
    "out2 = out3 means that the batch dimension correctly hasn't changed the result, because the same input has been concatenated along that axes and the same two outputs have been obtained on the other end. out2 = out shows that different samples are handled independently, as it should happen."
   ]
  },
  {
   "cell_type": "code",
   "execution_count": 30,
   "metadata": {},
   "outputs": [
    {
     "name": "stdout",
     "output_type": "stream",
     "text": [
      "x.shape (before embed):  torch.Size([1, 1, 14, 14])\n",
      "x.shape (after embed):  torch.Size([1, 1, 14, 14, 3])\n",
      "x.sum in slices:  tensor([-7.1762, -0.1123, -0.9260])\n",
      "x.shape:  torch.Size([1, 1, 3, 14, 14])\n",
      "x.shape:  torch.Size([1, 3, 14, 14])\n",
      "x.shape:  torch.Size([1, 24, 12, 12])\n",
      "x.shape:  torch.Size([1, 26, 12, 12])\n",
      "x.shape:  torch.Size([1, 26, 144])\n",
      "x.shape:  torch.Size([1, 144, 26])\n",
      "x.shape:  torch.Size([1, 144, 256])\n",
      "x.shape:  torch.Size([144, 1, 256])\n",
      "attn_output.shape:  torch.Size([144, 1, 256])\n",
      "x_add.shape:  torch.Size([144, 1, 256])\n",
      "x_norm.shape:  torch.Size([144, 1, 256])\n",
      "x_ff.shape:  torch.Size([144, 1, 256])\n",
      "out1:  tensor([[[ 0.8739,  1.2597, -0.6931,  ...,  0.5066, -1.5127,  1.7200]],\n",
      "\n",
      "        [[ 0.9594,  1.1985, -0.8718,  ...,  0.2735, -1.4991,  1.7631]],\n",
      "\n",
      "        [[ 0.9615,  1.1611, -1.0266,  ..., -0.0086, -1.4828,  1.7446]],\n",
      "\n",
      "        ...,\n",
      "\n",
      "        [[ 0.7975, -0.4166, -0.0677,  ..., -0.2164, -0.8027, -0.1642]],\n",
      "\n",
      "        [[ 0.7975, -0.4166, -0.0677,  ..., -0.2164, -0.8027, -0.1642]],\n",
      "\n",
      "        [[ 0.7975, -0.4166, -0.0677,  ..., -0.2164, -0.8027, -0.1642]]],\n",
      "       grad_fn=<NativeLayerNormBackward>)\n",
      "out:  tensor([[[ 0.9783,  1.2520, -0.7628,  ...,  0.5209, -1.3556,  1.7192]],\n",
      "\n",
      "        [[ 1.0425,  1.1934, -0.9525,  ...,  0.3150, -1.3109,  1.7431]],\n",
      "\n",
      "        [[ 1.0421,  1.1838, -1.0926,  ...,  0.0104, -1.3050,  1.6948]],\n",
      "\n",
      "        ...,\n",
      "\n",
      "        [[ 0.2140, -0.2375, -1.1234,  ..., -0.6808, -1.9272,  1.1245]],\n",
      "\n",
      "        [[ 0.1369, -0.3542, -1.2409,  ..., -0.8129, -2.0590,  1.2538]],\n",
      "\n",
      "        [[ 0.0514, -0.4752, -1.3461,  ..., -0.8929, -2.1492,  1.3461]]],\n",
      "       grad_fn=<NativeLayerNormBackward>)\n",
      "Element sum of the difference:  -1.9073486328125e-05\n"
     ]
    }
   ],
   "source": [
    "# Check if pixel sequence changes the output\n",
    "if use_state:\n",
    "    x = states[0]\n",
    "else:\n",
    "    x = torch.zeros((1,14,14), dtype=int) # this is the structure of the state retrieved by the game\n",
    "if len(x.shape) <= 3:\n",
    "    x = x.unsqueeze(0)\n",
    "print(\"x.shape (before embed): \", x.shape)\n",
    "x = embed(x)\n",
    "print(\"x.shape (after embed): \", x.shape)\n",
    "print(\"x.sum in slices: \", sum_slices(x,(0,1)))\n",
    "x = x.transpose(-1,-3)\n",
    "print(\"x.shape: \", x.shape)\n",
    "x = x.transpose(-1,-2).reshape(x.shape[0],-1,x.shape[-2],x.shape[-1])\n",
    "print(\"x.shape: \", x.shape)\n",
    "x = net(x)\n",
    "print(\"x.shape: \", x.shape)\n",
    "x= add_encoding2D(x)\n",
    "print(\"x.shape: \", x.shape)\n",
    "x = x.view(x.shape[0], x.shape[1],-1)\n",
    "print(\"x.shape: \", x.shape)\n",
    "x = x.transpose(2,1)\n",
    "print(\"x.shape: \", x.shape)\n",
    "x = projection(x)\n",
    "print(\"x.shape: \", x.shape)\n",
    "x = x.transpose(1,0)\n",
    "print(\"x.shape: \", x.shape)\n",
    "x_tmp1 = x\n",
    "x_tmp1[100:] = 0. # mask last 44 positions\n",
    "attn_output, attn_output_weights =  attn(x_tmp1,x_tmp1,x_tmp1, key_padding_mask=None) # MHA step\n",
    "print(\"attn_output.shape: \", attn_output.shape)\n",
    "x_add = attn_output + x\n",
    "print(\"x_add.shape: \", x_add.shape)\n",
    "x_norm = drop(norm(x_add))\n",
    "print(\"x_norm.shape: \", x_norm.shape)\n",
    "x_ff = ff(x_norm)\n",
    "print(\"x_ff.shape: \", x_ff.shape)\n",
    "out1 = drop(norm(x_ff))\n",
    "\n",
    "print(\"out1: \", out1)\n",
    "print(\"out: \", out)\n",
    "print(\"Element sum of the difference: \", torch.sum(out1 - out).item())"
   ]
  },
  {
   "cell_type": "markdown",
   "metadata": {},
   "source": [
    "As can be seen, the new output has changed, as it should."
   ]
  },
  {
   "cell_type": "markdown",
   "metadata": {},
   "source": [
    "**LayerNorm formula**\n",
    "$$y = \\frac{x - \\mathrm{E}[x]}{ \\sqrt{\\mathrm{Var}[x] + \\epsilon}} * \\gamma + \\beta$$"
   ]
  },
  {
   "cell_type": "code",
   "execution_count": 31,
   "metadata": {
    "scrolled": true
   },
   "outputs": [
    {
     "name": "stdout",
     "output_type": "stream",
     "text": [
      "E:  tensor(-0.0027, grad_fn=<MeanBackward0>)\n",
      "V:  tensor(0.0367, grad_fn=<VarBackward0>)\n",
      "LayerNorm by hand: \n",
      " tensor([ 0.8653,  0.4772, -1.3970,  1.4977, -0.7830,  1.4509,  1.0359, -1.8075,\n",
      "         1.1315, -0.3389, -2.0861,  0.1255,  0.5518,  2.0756, -0.5705,  0.0177,\n",
      "         1.3909,  0.1351, -0.3694,  1.0875, -0.9630,  1.8632,  0.8050,  0.7365,\n",
      "         1.8986, -0.5238, -0.6601,  0.7987,  1.1512,  0.1293, -0.0918, -0.1798,\n",
      "        -0.5966, -0.8929,  0.1783, -1.5776, -0.8003, -0.0343, -0.5559,  0.5955,\n",
      "         1.2538, -1.0738, -0.0108, -0.0741,  0.7361,  0.7710,  0.2039,  0.7312,\n",
      "         1.4854,  0.0805,  1.0403,  0.8839,  0.0789, -0.3182, -1.0733,  0.8994,\n",
      "         0.4844,  1.5309, -1.8243, -0.1370,  0.5972, -0.2364, -0.6819, -1.5440,\n",
      "        -0.8756,  0.9563,  0.0511, -0.2958,  0.8274, -2.1155,  1.8098,  1.2961,\n",
      "        -0.4516,  0.9433, -0.4345, -0.7063, -0.8356,  0.0662,  0.1152, -0.6212,\n",
      "        -1.1674,  1.5080, -1.2722,  1.4716, -0.0427,  2.0820, -0.1661, -0.3463,\n",
      "        -0.3711, -0.8918,  0.9229,  0.7953, -1.4047, -1.2607,  0.0536,  1.8212,\n",
      "        -0.4110,  0.2951, -0.4375, -0.2165,  0.7290,  0.1230,  1.8905,  1.7002,\n",
      "        -0.6785, -1.2580, -0.4973, -1.3929,  0.4159, -0.1065,  0.1574,  2.7110,\n",
      "        -1.7319,  0.2816, -0.7755,  0.3974,  0.8532, -0.2698, -2.0453, -0.0415,\n",
      "        -0.0927,  1.3470,  1.1623, -1.1884, -0.5857, -0.8975,  0.7979,  0.5894,\n",
      "         1.6509,  0.9588, -0.7944, -1.0732, -0.3914, -0.0515,  1.6493,  0.5848,\n",
      "        -0.6133,  0.9795,  0.4491,  0.4975, -0.7411, -0.2588,  0.6577, -1.5747,\n",
      "         1.5235, -0.4359,  0.4479,  1.0956,  0.0782, -1.0544, -1.1339,  1.6291,\n",
      "        -1.4487,  0.2614, -0.0624, -0.9181, -0.3997,  0.4366, -0.8904,  0.7151,\n",
      "         0.2871, -1.3077, -0.5295, -0.7653, -0.6401,  1.1622,  0.4760,  0.3478,\n",
      "        -0.4381, -1.0665, -1.7855, -0.7348,  0.8458,  0.6486,  0.7001,  1.7358,\n",
      "        -0.1432,  0.5060,  0.5502, -0.9388, -2.0007,  0.9945,  0.4273, -0.7609,\n",
      "         0.6955,  0.4658,  1.0777, -0.5029, -1.5175, -1.8204, -0.7548, -0.6916,\n",
      "         0.2501, -1.3791,  1.2869, -1.8343, -0.1266,  0.0224, -0.7925,  0.1794,\n",
      "        -0.7827,  0.7954, -1.1219, -0.3724, -0.7201, -1.0565, -1.6003, -0.4108,\n",
      "        -0.8288,  0.2410,  0.9236,  1.3344,  0.2250,  1.5953,  1.7835, -0.5022,\n",
      "        -1.5986, -1.0294,  0.1249,  0.3838,  0.9100, -1.1848,  0.6640, -0.9924,\n",
      "         0.2515, -0.5467,  1.8736,  0.0846,  1.7876,  0.7538, -0.1563, -0.5176,\n",
      "         0.5217,  1.3360, -1.6651,  0.0709,  1.7700, -0.8187,  0.3379,  0.4617,\n",
      "         0.3720, -0.2897, -1.3454, -0.3683, -1.7823, -0.6311, -1.3471, -0.5533,\n",
      "         0.9338, -0.4604,  1.0625, -1.2782,  0.3567, -1.4246, -0.5609, -0.7685],\n",
      "       grad_fn=<DivBackward0>)\n",
      "LayerNorm: \n",
      " tensor([ 0.8670,  0.4781, -1.3997,  1.5007, -0.7845,  1.4537,  1.0380, -1.8111,\n",
      "         1.1337, -0.3396, -2.0902,  0.1257,  0.5529,  2.0797, -0.5716,  0.0177,\n",
      "         1.3936,  0.1354, -0.3701,  1.0896, -0.9649,  1.8668,  0.8066,  0.7379,\n",
      "         1.9023, -0.5248, -0.6614,  0.8002,  1.1535,  0.1295, -0.0920, -0.1802,\n",
      "        -0.5977, -0.8946,  0.1787, -1.5807, -0.8018, -0.0344, -0.5570,  0.5967,\n",
      "         1.2563, -1.0759, -0.0108, -0.0743,  0.7375,  0.7725,  0.2043,  0.7326,\n",
      "         1.4883,  0.0807,  1.0423,  0.8856,  0.0791, -0.3188, -1.0754,  0.9012,\n",
      "         0.4854,  1.5339, -1.8279, -0.1373,  0.5984, -0.2368, -0.6832, -1.5471,\n",
      "        -0.8773,  0.9582,  0.0512, -0.2964,  0.8290, -2.1197,  1.8133,  1.2986,\n",
      "        -0.4525,  0.9452, -0.4354, -0.7077, -0.8372,  0.0664,  0.1155, -0.6224,\n",
      "        -1.1697,  1.5109, -1.2747,  1.4745, -0.0428,  2.0860, -0.1665, -0.3470,\n",
      "        -0.3718, -0.8936,  0.9247,  0.7969, -1.4074, -1.2632,  0.0537,  1.8248,\n",
      "        -0.4118,  0.2956, -0.4384, -0.2169,  0.7304,  0.1233,  1.8942,  1.7035,\n",
      "        -0.6798, -1.2605, -0.4983, -1.3956,  0.4167, -0.1067,  0.1577,  2.7163,\n",
      "        -1.7353,  0.2822, -0.7770,  0.3982,  0.8548, -0.2704, -2.0493, -0.0416,\n",
      "        -0.0929,  1.3496,  1.1646, -1.1908, -0.5868, -0.8993,  0.7994,  0.5905,\n",
      "         1.6542,  0.9607, -0.7959, -1.0753, -0.3921, -0.0516,  1.6525,  0.5859,\n",
      "        -0.6145,  0.9814,  0.4500,  0.4984, -0.7425, -0.2593,  0.6590, -1.5778,\n",
      "         1.5265, -0.4368,  0.4488,  1.0978,  0.0783, -1.0564, -1.1361,  1.6323,\n",
      "        -1.4516,  0.2619, -0.0625, -0.9199, -0.4005,  0.4375, -0.8922,  0.7165,\n",
      "         0.2877, -1.3103, -0.5305, -0.7668, -0.6413,  1.1645,  0.4770,  0.3485,\n",
      "        -0.4389, -1.0686, -1.7890, -0.7363,  0.8474,  0.6499,  0.7015,  1.7392,\n",
      "        -0.1435,  0.5069,  0.5512, -0.9406, -2.0046,  0.9964,  0.4281, -0.7624,\n",
      "         0.6969,  0.4667,  1.0798, -0.5038, -1.5204, -1.8240, -0.7562, -0.6930,\n",
      "         0.2506, -1.3818,  1.2894, -1.8379, -0.1269,  0.0224, -0.7941,  0.1797,\n",
      "        -0.7842,  0.7969, -1.1241, -0.3731, -0.7215, -1.0586, -1.6035, -0.4116,\n",
      "        -0.8304,  0.2415,  0.9254,  1.3370,  0.2254,  1.5984,  1.7870, -0.5032,\n",
      "        -1.6018, -1.0314,  0.1251,  0.3846,  0.9117, -1.1872,  0.6653, -0.9943,\n",
      "         0.2520, -0.5477,  1.8773,  0.0847,  1.7911,  0.7552, -0.1566, -0.5186,\n",
      "         0.5227,  1.3386, -1.6684,  0.0711,  1.7735, -0.8203,  0.3386,  0.4626,\n",
      "         0.3727, -0.2903, -1.3480, -0.3690, -1.7858, -0.6324, -1.3497, -0.5543,\n",
      "         0.9356, -0.4613,  1.0646, -1.2807,  0.3574, -1.4274, -0.5620, -0.7700],\n",
      "       grad_fn=<SliceBackward>)\n"
     ]
    }
   ],
   "source": [
    "# What LayerNorm does\n",
    "\n",
    "E = x_add[0,0,:].mean()\n",
    "print(\"E: \", E)\n",
    "V = x_add[0,0,:].var()\n",
    "print(\"V: \", V)\n",
    "y = (x_add[0,0,:]-E)/torch.sqrt(V+1e-5)\n",
    "print(\"LayerNorm by hand: \\n\", y)\n",
    "print(\"LayerNorm: \\n\", x_norm[0,0,:])"
   ]
  },
  {
   "cell_type": "markdown",
   "metadata": {},
   "source": [
    "# Featurewise MaxPooling\n",
    "\n",
    "For each feature, take the maximum value among the pixels."
   ]
  },
  {
   "cell_type": "code",
   "execution_count": 32,
   "metadata": {},
   "outputs": [
    {
     "name": "stdout",
     "output_type": "stream",
     "text": [
      "x.shape (before embed):  torch.Size([1, 1, 14, 14])\n",
      "x.shape (after embed):  torch.Size([1, 1, 14, 14, 3])\n",
      "x.sum in slices:  tensor([0., 0., 0.])\n",
      "x.shape:  torch.Size([1, 1, 3, 14, 14])\n",
      "x.shape:  torch.Size([1, 3, 14, 14])\n",
      "x.shape:  torch.Size([1, 24, 12, 12])\n",
      "x.shape:  torch.Size([1, 26, 12, 12])\n",
      "x.shape:  torch.Size([1, 26, 144])\n",
      "x.shape:  torch.Size([1, 144, 26])\n",
      "x.shape:  torch.Size([1, 144, 256])\n",
      "x.shape:  torch.Size([144, 1, 256])\n",
      "attn_output.shape:  torch.Size([144, 1, 256])\n",
      "x_add.shape:  torch.Size([144, 1, 256])\n",
      "x_norm.shape:  torch.Size([144, 1, 256])\n",
      "x_ff.shape:  torch.Size([144, 1, 256])\n",
      "x.shape:  torch.Size([144, 1, 256])\n",
      "x.shape:  torch.Size([1, 256])\n"
     ]
    }
   ],
   "source": [
    "x = torch.zeros((1,14,14), dtype=int) # this is the structure of the state retrieved by the game\n",
    "if len(x.shape) <= 3:\n",
    "    x = x.unsqueeze(0)\n",
    "print(\"x.shape (before embed): \", x.shape)\n",
    "x = embed(x)\n",
    "print(\"x.shape (after embed): \", x.shape)\n",
    "print(\"x.sum in slices: \", sum_slices(x,(0,1)))\n",
    "x = x.transpose(-1,-3)\n",
    "print(\"x.shape: \", x.shape)\n",
    "x = x.transpose(-1,-2).reshape(x.shape[0],-1,x.shape[-2],x.shape[-1])\n",
    "print(\"x.shape: \", x.shape)\n",
    "x = net(x)\n",
    "print(\"x.shape: \", x.shape)\n",
    "x= add_encoding2D(x)\n",
    "print(\"x.shape: \", x.shape)\n",
    "x = x.view(x.shape[0], x.shape[1],-1)\n",
    "print(\"x.shape: \", x.shape)\n",
    "x = x.transpose(2,1)\n",
    "print(\"x.shape: \", x.shape)\n",
    "x = projection(x)\n",
    "print(\"x.shape: \", x.shape)\n",
    "x = x.transpose(1,0)\n",
    "print(\"x.shape: \", x.shape)\n",
    "\n",
    "x_tmp = x # save it for plotting\n",
    "\n",
    "# From here it has always the same shape\n",
    "attn_output, attn_output_weights =  attn(x,x,x, key_padding_mask=None) # MHA step\n",
    "print(\"attn_output.shape: \", attn_output.shape)\n",
    "x_add = attn_output + x\n",
    "print(\"x_add.shape: \", x_add.shape)\n",
    "x_norm = drop(norm(x_add))\n",
    "print(\"x_norm.shape: \", x_norm.shape)\n",
    "x_ff = ff(x_norm)\n",
    "print(\"x_ff.shape: \", x_ff.shape)\n",
    "x = drop(norm(x_ff))\n",
    "print(\"x.shape: \", x.shape)\n",
    "# Max pooling feature-wise\n",
    "x, _ = torch.max(x, axis=0)\n",
    "print(\"x.shape: \", x.shape)"
   ]
  },
  {
   "cell_type": "markdown",
   "metadata": {},
   "source": [
    "Nothing much to control here."
   ]
  },
  {
   "cell_type": "markdown",
   "metadata": {},
   "source": [
    "# Alternative to max pooling - Linear projection"
   ]
  },
  {
   "cell_type": "code",
   "execution_count": 33,
   "metadata": {},
   "outputs": [
    {
     "data": {
      "text/plain": [
       "<module 'RelationalModule.RelationalNetworks' from '/home/nicola/Nicola_unipd/MasterThesis/RelationalDeepRL/RelationalModule/RelationalNetworks.py'>"
      ]
     },
     "execution_count": 33,
     "metadata": {},
     "output_type": "execute_result"
    }
   ],
   "source": [
    "reload(rnet)"
   ]
  },
  {
   "cell_type": "code",
   "execution_count": 34,
   "metadata": {},
   "outputs": [],
   "source": [
    "linear_proj = nn.Linear(144,1) # needs to know how many pixels there are"
   ]
  },
  {
   "cell_type": "code",
   "execution_count": 35,
   "metadata": {},
   "outputs": [
    {
     "name": "stdout",
     "output_type": "stream",
     "text": [
      "x.shape (before embed):  torch.Size([1, 1, 14, 14])\n",
      "x.shape (after embed):  torch.Size([1, 1, 14, 14, 3])\n",
      "x.sum in slices:  tensor([0., 0., 0.])\n",
      "x.shape:  torch.Size([1, 1, 3, 14, 14])\n",
      "x.shape:  torch.Size([1, 3, 14, 14])\n",
      "x.shape:  torch.Size([1, 24, 12, 12])\n",
      "x.shape:  torch.Size([1, 26, 12, 12])\n",
      "x.shape:  torch.Size([1, 26, 144])\n",
      "x.shape:  torch.Size([1, 144, 26])\n",
      "x.shape:  torch.Size([1, 144, 256])\n",
      "x.shape:  torch.Size([144, 1, 256])\n",
      "attn_output.shape:  torch.Size([144, 1, 256])\n",
      "x_add.shape:  torch.Size([144, 1, 256])\n",
      "x_norm.shape:  torch.Size([144, 1, 256])\n",
      "x_ff.shape:  torch.Size([144, 1, 256])\n",
      "x.shape:  torch.Size([144, 1, 256])\n",
      "x.shape (before linear):  torch.Size([256, 1, 144])\n",
      "x.shape:  torch.Size([256, 1])\n",
      "x.shape:  torch.Size([1, 256])\n"
     ]
    }
   ],
   "source": [
    "x = torch.zeros((1,1,14,14), dtype=int) # this is the structure of the state retrieved by the game\n",
    "if len(x.shape) <= 3:\n",
    "    x = x.unsqueeze(0)\n",
    "print(\"x.shape (before embed): \", x.shape)\n",
    "x = embed(x)\n",
    "print(\"x.shape (after embed): \", x.shape)\n",
    "print(\"x.sum in slices: \", sum_slices(x,(0,1)))\n",
    "x = x.transpose(-1,-3)\n",
    "print(\"x.shape: \", x.shape)\n",
    "x = x.transpose(-1,-2).reshape(x.shape[0],-1,x.shape[-2],x.shape[-1])\n",
    "print(\"x.shape: \", x.shape)\n",
    "x = net(x)\n",
    "print(\"x.shape: \", x.shape)\n",
    "x= add_encoding2D(x)\n",
    "print(\"x.shape: \", x.shape)\n",
    "x = x.view(x.shape[0], x.shape[1],-1)\n",
    "print(\"x.shape: \", x.shape)\n",
    "x = x.transpose(2,1)\n",
    "print(\"x.shape: \", x.shape)\n",
    "x = projection(x)\n",
    "print(\"x.shape: \", x.shape)\n",
    "x = x.transpose(1,0)\n",
    "print(\"x.shape: \", x.shape)\n",
    "\n",
    "x_tmp = x # save it for plotting\n",
    "\n",
    "# From here it has always the same shape\n",
    "attn_output, attn_output_weights =  attn(x,x,x, key_padding_mask=None) # MHA step\n",
    "print(\"attn_output.shape: \", attn_output.shape)\n",
    "x_add = attn_output + x\n",
    "print(\"x_add.shape: \", x_add.shape)\n",
    "x_norm = drop(norm(x_add))\n",
    "print(\"x_norm.shape: \", x_norm.shape)\n",
    "x_ff = ff(x_norm)\n",
    "print(\"x_ff.shape: \", x_ff.shape)\n",
    "x = drop(norm(x_ff))\n",
    "print(\"x.shape: \", x.shape)\n",
    "\n",
    "# Feature-wise projection\n",
    "x = x.transpose(-1,0)\n",
    "print(\"x.shape (before linear): \", x.shape)\n",
    "shape = x.shape\n",
    "x = linear_proj(x).reshape(shape[0],shape[1])\n",
    "print(\"x.shape: \", x.shape)\n",
    "x = x.transpose(-1,0)\n",
    "print(\"x.shape: \", x.shape)"
   ]
  },
  {
   "cell_type": "markdown",
   "metadata": {},
   "source": [
    "## Residual Layer\n",
    "\n",
    "Here the original paper uses just a Multi-Layer Perceptron, but I thought it would be nice to have sone skip connections in order to make the architecture more flexible."
   ]
  },
  {
   "cell_type": "code",
   "execution_count": 36,
   "metadata": {},
   "outputs": [
    {
     "data": {
      "text/plain": [
       "<module 'RelationalModule.RelationalNetworks' from '/home/nicola/Nicola_unipd/MasterThesis/RelationalDeepRL/RelationalModule/RelationalNetworks.py'>"
      ]
     },
     "execution_count": 36,
     "metadata": {},
     "output_type": "execute_result"
    }
   ],
   "source": [
    "reload(rnet)"
   ]
  },
  {
   "cell_type": "code",
   "execution_count": 37,
   "metadata": {},
   "outputs": [],
   "source": [
    "n_hiddens = 256 \n",
    "residual_layer = rnet.ResidualLayer(n_features, n_hiddens)"
   ]
  },
  {
   "cell_type": "code",
   "execution_count": 38,
   "metadata": {
    "scrolled": true
   },
   "outputs": [
    {
     "data": {
      "text/plain": [
       "tensor([[ 3.5359e-02, -5.2372e-02, -6.9386e-02, -4.2750e-01,  4.0947e-01,\n",
       "          9.6913e-02, -1.9726e-01,  7.8019e-03, -3.0598e-01, -4.3638e-01,\n",
       "          1.1341e-02,  1.2651e-01,  9.3170e-02, -1.8875e-01,  4.1988e-01,\n",
       "          9.9172e-03, -1.7668e-02, -6.9926e-03, -7.2652e-02, -8.5363e-02,\n",
       "          3.4097e-01,  4.5476e-02,  1.9255e-02,  2.4617e-01, -1.3461e-01,\n",
       "          1.8241e-01,  6.6762e-02, -1.2078e-02,  1.4055e-01,  1.0468e-01,\n",
       "          4.7769e-02, -4.4296e-01,  3.3761e-03,  2.9230e-01, -2.7285e-02,\n",
       "          1.7955e-01,  1.9799e-01, -1.3039e-01,  2.0863e-02,  1.5168e-01,\n",
       "         -3.6295e-01, -2.2140e-01, -7.9068e-03, -4.2537e-01, -1.0122e-01,\n",
       "         -1.6212e-01,  2.2975e-01, -6.7166e-02,  2.9083e-01,  1.1415e-01,\n",
       "          6.2059e-02, -1.0421e-02,  1.9792e-01, -3.0289e-01,  4.1176e-01,\n",
       "         -4.7903e-02, -1.2362e-02,  1.2995e-01,  4.1127e-02, -2.0247e-01,\n",
       "          5.8709e-01,  3.4493e-01,  7.7536e-02,  2.4174e-02, -1.3331e-01,\n",
       "          1.4713e-01,  2.2477e-01, -2.6002e-01,  7.3497e-02,  2.1662e-01,\n",
       "          9.7079e-02, -8.4997e-02, -1.4450e-01,  2.5740e-01,  1.2877e-01,\n",
       "         -3.2303e-01,  1.4498e-01, -1.3513e-01,  7.4488e-02,  1.3132e-01,\n",
       "         -9.4673e-02,  9.8995e-02,  7.5873e-03, -2.7240e-01,  8.2387e-02,\n",
       "          1.9233e-01, -2.9371e-01,  2.3321e-01,  6.4384e-02,  1.0750e-01,\n",
       "          9.8270e-02,  1.3525e-01, -1.3456e-02, -3.0862e-01,  2.3263e-01,\n",
       "          2.7762e-01,  1.1113e-01,  9.2738e-02,  1.9052e-01,  2.5569e-01,\n",
       "          4.6220e-02,  8.7834e-02, -5.7421e-02,  8.8292e-02,  2.2424e-01,\n",
       "          3.4476e-01, -3.0158e-01, -2.8981e-02,  2.4620e-01, -5.6846e-02,\n",
       "          1.1912e-01, -1.8706e-01, -9.6750e-02, -3.8256e-01,  1.3955e-01,\n",
       "         -1.6880e-01, -4.0525e-02,  2.8401e-01, -6.2598e-02, -1.3472e-01,\n",
       "          1.2876e-01,  2.6198e-02,  1.3287e-01,  1.1473e-01, -1.4633e-01,\n",
       "         -2.5921e-01,  6.8688e-02,  1.6691e-01, -1.4823e-02,  3.2722e-01,\n",
       "         -1.3017e-01,  3.8878e-02,  2.9185e-01, -5.1019e-02,  1.9647e-02,\n",
       "          1.0263e-01, -2.1762e-01, -1.2199e-01,  1.9528e-01, -6.5602e-02,\n",
       "         -1.4079e-01,  2.7268e-01, -9.0156e-02,  4.8441e-02,  1.3350e-01,\n",
       "          1.0759e-01,  3.8751e-01, -7.8052e-02, -1.4363e-01,  4.5348e-02,\n",
       "         -2.5736e-01,  2.4113e-01, -2.6333e-02, -2.5216e-01, -3.1743e-01,\n",
       "         -1.7747e-01,  1.4036e-01,  2.1665e-01, -1.4005e-01,  2.1943e-04,\n",
       "         -6.2409e-02,  4.6452e-02, -8.3999e-02,  8.5000e-02, -7.0891e-01,\n",
       "         -4.5139e-01, -1.3101e-01,  1.4168e-01, -2.4729e-01,  5.7089e-02,\n",
       "          5.7063e-02,  3.0211e-01, -1.8867e-01,  8.7741e-03, -1.4960e-01,\n",
       "          1.6749e-01, -1.0766e-01,  1.3278e-01,  6.9071e-02, -4.7408e-02,\n",
       "          2.8188e-01,  5.5136e-02,  1.8838e-02,  1.5880e-01, -3.0093e-03,\n",
       "          1.0678e-01, -1.1419e-01,  9.0843e-02, -4.5270e-01, -2.6564e-02,\n",
       "         -7.0139e-02, -3.3647e-01, -1.8724e-03, -1.8810e-01,  1.9885e-01,\n",
       "          4.6349e-01, -2.3045e-01, -1.4292e-01, -4.1282e-02,  1.4322e-01,\n",
       "         -7.2929e-02,  6.0050e-01,  1.1077e-01,  2.5815e-01,  2.3389e-01,\n",
       "          2.3100e-01, -2.3710e-01, -7.7213e-02, -1.1573e-01, -6.6131e-01,\n",
       "         -4.1457e-01,  6.2970e-03,  6.0383e-02, -6.4398e-02, -3.3207e-02,\n",
       "         -1.9789e-01, -7.2651e-02, -1.6410e-02, -1.5087e-01,  1.1225e-01,\n",
       "         -8.0757e-02,  9.7352e-02,  2.4236e-01,  8.3223e-02,  4.3632e-01,\n",
       "          2.1668e-02,  5.6143e-03, -3.1746e-01, -2.5432e-01, -5.0590e-01,\n",
       "         -5.9061e-02, -3.7403e-02,  5.2833e-01,  8.6073e-02, -8.2873e-03,\n",
       "         -2.4671e-01,  1.8787e-02,  1.2230e-01,  8.1412e-02, -5.1632e-02,\n",
       "         -2.5040e-01, -2.9832e-01,  4.7715e-01,  1.7483e-01,  5.1543e-02,\n",
       "         -3.8839e-03, -1.3386e-01,  1.0545e-01,  1.5618e-01,  5.6099e-02,\n",
       "          1.6902e-02,  3.1900e-01, -5.4783e-02,  4.0663e-01,  2.3694e-01,\n",
       "          3.9909e-01]], grad_fn=<SubBackward0>)"
      ]
     },
     "execution_count": 38,
     "metadata": {},
     "output_type": "execute_result"
    }
   ],
   "source": [
    "residual_layer(x) - x # residual after ReLU"
   ]
  },
  {
   "cell_type": "markdown",
   "metadata": {},
   "source": [
    "# Full architecture"
   ]
  },
  {
   "cell_type": "code",
   "execution_count": 55,
   "metadata": {},
   "outputs": [
    {
     "data": {
      "text/plain": [
       "<module 'RelationalModule.ControlNetworks' from '/home/nicola/Nicola_unipd/MasterThesis/RelationalDeepRL/RelationalModule/ControlNetworks.py'>"
      ]
     },
     "execution_count": 55,
     "metadata": {},
     "output_type": "execute_result"
    }
   ],
   "source": [
    "reload(rnet)\n",
    "reload(cnet)"
   ]
  },
  {
   "cell_type": "code",
   "execution_count": 40,
   "metadata": {},
   "outputs": [],
   "source": [
    "box_net = rnet.BoxWorldNet(in_channels=1, n_kernels=24, vocab_size=117, n_dim=3,\n",
    "                              n_features=256, n_attn_modules=2, n_linears=4)"
   ]
  },
  {
   "cell_type": "code",
   "execution_count": 41,
   "metadata": {},
   "outputs": [],
   "source": [
    "box_net_v1 = rnet.BoxWorldNet(in_channels=1, n_kernels=24, vocab_size=117, n_dim=3,\n",
    "                              n_features=256, n_attn_modules=2, n_linears=4, max_pool=False,\n",
    "                              linear_size=14)"
   ]
  },
  {
   "cell_type": "code",
   "execution_count": 56,
   "metadata": {},
   "outputs": [
    {
     "name": "stdout",
     "output_type": "stream",
     "text": [
      "Sequential(\n",
      "  (0): ExtractEntities(\n",
      "    (embed): Embedding(117, 3)\n",
      "    (net): Sequential(\n",
      "      (0): Conv2d(3, 12, kernel_size=(2, 2), stride=(1, 1))\n",
      "      (1): ReLU()\n",
      "      (2): Conv2d(12, 24, kernel_size=(2, 2), stride=(1, 1))\n",
      "      (3): ReLU()\n",
      "    )\n",
      "  )\n",
      "  (1): ControlModule(\n",
      "    (net): Sequential(\n",
      "      (0): PositionalEncoding(\n",
      "        (projection): Linear(in_features=26, out_features=256, bias=True)\n",
      "      )\n",
      "      (1): PositionwiseFeedForward(\n",
      "        (w_1): Linear(in_features=256, out_features=64, bias=True)\n",
      "        (w_2): Linear(in_features=64, out_features=256, bias=True)\n",
      "        (dropout): Dropout(p=0.1, inplace=False)\n",
      "      )\n",
      "      (2): PositionwiseFeedForward(\n",
      "        (w_1): Linear(in_features=256, out_features=64, bias=True)\n",
      "        (w_2): Linear(in_features=64, out_features=256, bias=True)\n",
      "        (dropout): Dropout(p=0.1, inplace=False)\n",
      "      )\n",
      "    )\n",
      "  )\n",
      "  (2): FeaturewiseMaxPool()\n",
      "  (3): ResidualLayer(\n",
      "    (norm): LayerNorm((256,), eps=1e-05, elementwise_affine=True)\n",
      "    (w1): Linear(in_features=256, out_features=256, bias=True)\n",
      "    (w2): Linear(in_features=256, out_features=256, bias=True)\n",
      "  )\n",
      "  (4): ResidualLayer(\n",
      "    (norm): LayerNorm((256,), eps=1e-05, elementwise_affine=True)\n",
      "    (w1): Linear(in_features=256, out_features=256, bias=True)\n",
      "    (w2): Linear(in_features=256, out_features=256, bias=True)\n",
      "  )\n",
      "  (5): ResidualLayer(\n",
      "    (norm): LayerNorm((256,), eps=1e-05, elementwise_affine=True)\n",
      "    (w1): Linear(in_features=256, out_features=256, bias=True)\n",
      "    (w2): Linear(in_features=256, out_features=256, bias=True)\n",
      "  )\n",
      "  (6): ResidualLayer(\n",
      "    (norm): LayerNorm((256,), eps=1e-05, elementwise_affine=True)\n",
      "    (w1): Linear(in_features=256, out_features=256, bias=True)\n",
      "    (w2): Linear(in_features=256, out_features=256, bias=True)\n",
      "  )\n",
      ")\n"
     ]
    }
   ],
   "source": [
    "control_net_v0 = cnet.ControlNet_v0(in_channels=1, n_kernels=24, vocab_size=117, n_dim=3,\n",
    "                              n_features=256, hidden_dim=64, n_control_modules=2, n_linears=4)"
   ]
  },
  {
   "cell_type": "code",
   "execution_count": 57,
   "metadata": {},
   "outputs": [
    {
     "name": "stdout",
     "output_type": "stream",
     "text": [
      "Sequential(\n",
      "  (0): Linear(in_features=588, out_features=768, bias=True)\n",
      "  (1): ResidualLayer(\n",
      "    (norm): LayerNorm((768,), eps=1e-05, elementwise_affine=True)\n",
      "    (w1): Linear(in_features=768, out_features=256, bias=True)\n",
      "    (w2): Linear(in_features=256, out_features=768, bias=True)\n",
      "  )\n",
      "  (2): Linear(in_features=768, out_features=256, bias=True)\n",
      "  (3): ResidualLayer(\n",
      "    (norm): LayerNorm((256,), eps=1e-05, elementwise_affine=True)\n",
      "    (w1): Linear(in_features=256, out_features=256, bias=True)\n",
      "    (w2): Linear(in_features=256, out_features=256, bias=True)\n",
      "  )\n",
      ")\n"
     ]
    }
   ],
   "source": [
    "control_net = cnet.ControlNet(vocab_size=117, n_dim=3, linear_size=14, n_features=256)"
   ]
  },
  {
   "cell_type": "code",
   "execution_count": 58,
   "metadata": {},
   "outputs": [],
   "source": [
    "x = torch.randint(high=116, size = (1,14,14))"
   ]
  },
  {
   "cell_type": "code",
   "execution_count": 59,
   "metadata": {
    "scrolled": true
   },
   "outputs": [
    {
     "name": "stdout",
     "output_type": "stream",
     "text": [
      "y.shape:  torch.Size([1, 256])\n"
     ]
    },
    {
     "data": {
      "text/plain": [
       "tensor([[ 1.6903, -1.4027, -1.3410,  1.7526, -1.0170,  0.6196, -0.0386,  0.3389,\n",
       "         -0.4021,  1.5960, -0.2983,  0.3027,  1.3582,  0.5228,  1.3221, -0.2062,\n",
       "          0.5645, -1.1407, -1.4105,  2.3294,  1.3028,  0.4451,  2.1724, -0.9084,\n",
       "         -0.3646,  0.8256, -1.1756, -1.0561, -1.6565,  2.9887,  0.3883,  0.5261,\n",
       "          0.2457,  0.0184, -0.1527, -1.0871,  1.6245,  1.5488, -1.0199,  0.0458,\n",
       "          0.1062,  1.3897, -2.4950,  0.7037,  1.4688, -0.8145, -1.2048,  1.8326,\n",
       "         -0.1717, -0.2004,  0.6836,  1.7382,  0.2667,  1.1143, -0.2802, -0.5477,\n",
       "         -2.0816,  0.2688, -1.3586, -0.1330,  2.9264,  1.0319,  0.3330,  1.0443,\n",
       "         -1.2271,  0.9555,  0.5892, -1.0241,  1.0865, -0.5503,  0.5833,  0.6140,\n",
       "         -0.2117, -1.6511,  0.8900, -0.0711,  2.6808, -2.0223, -1.8104,  0.1383,\n",
       "         -0.9003,  0.5708,  2.7878, -1.0123,  0.0365, -0.1406,  1.5994,  0.1762,\n",
       "          0.5113,  0.4746, -1.0407,  0.0710,  1.3350,  0.2941, -0.1874, -1.7809,\n",
       "         -0.1450,  0.4813,  0.7314,  0.7492, -1.0159, -0.0314,  1.1945,  0.5852,\n",
       "          0.2799, -1.2717,  1.6156,  0.4341, -0.3561, -1.9646, -2.0718,  0.3320,\n",
       "         -1.8758, -0.6306,  1.1183, -0.8511, -0.3146, -0.1359, -1.9083,  1.0554,\n",
       "         -0.2825, -0.2583,  0.2432, -1.6256, -0.3602, -0.5645, -0.1639,  1.3384,\n",
       "         -1.1138, -0.3285, -0.0645,  0.5569, -1.3928, -2.0939, -0.1666,  0.2613,\n",
       "          0.1443,  0.8027, -0.6769,  1.6357,  0.0929,  0.5514,  1.1285,  0.2900,\n",
       "         -0.5933,  0.6792, -1.9895,  0.2196, -0.4797,  0.5445, -0.8934,  0.6829,\n",
       "          1.1371, -0.3599, -0.7869, -1.4461, -0.0884,  0.6477,  0.1014, -0.3025,\n",
       "          0.3853,  0.0625, -1.0183, -0.1477, -0.8836, -1.3512, -1.1436,  0.9786,\n",
       "         -0.2033, -0.7831,  0.5972, -1.5044, -0.2228,  0.5410,  0.8500,  1.6462,\n",
       "          0.7338, -0.7696,  1.0894,  0.9614,  2.3460, -0.1078, -0.4300,  2.2368,\n",
       "         -0.5290,  1.0603,  1.1963,  1.9044, -0.0981,  1.8074, -0.0866,  1.5722,\n",
       "          1.2132,  1.0977, -0.6871, -0.2501, -0.6634, -0.7709, -0.0148, -0.2280,\n",
       "         -0.7636,  0.0032,  1.6320,  0.4493,  0.0999, -0.5909,  0.9131,  0.9648,\n",
       "         -0.7246,  1.3455, -0.5547, -0.4756, -1.8282,  1.0986, -0.0907,  0.6540,\n",
       "          0.5554,  1.9751, -1.4603, -0.9656,  0.8181,  1.1914, -0.7656, -0.5520,\n",
       "          0.5384,  0.2111,  0.7941,  1.8841, -0.6342, -0.0782, -0.1976,  1.3510,\n",
       "         -0.7464, -1.2467,  2.9357,  2.3111,  1.1447,  1.2366, -0.5484,  1.1926,\n",
       "         -0.8937,  0.0952,  0.4026,  1.2082, -1.3180, -1.1781,  1.2372,  1.6191,\n",
       "          1.2191, -0.3096,  0.5220, -0.7671,  1.9194, -1.6193, -1.1748,  0.4936]],\n",
       "       grad_fn=<AddBackward0>)"
      ]
     },
     "execution_count": 59,
     "metadata": {},
     "output_type": "execute_result"
    }
   ],
   "source": [
    "y = box_net_v1(x)\n",
    "print(\"y.shape: \", y.shape)\n",
    "y"
   ]
  },
  {
   "cell_type": "code",
   "execution_count": 60,
   "metadata": {},
   "outputs": [
    {
     "name": "stdout",
     "output_type": "stream",
     "text": [
      "x.shape (BoxWorldNet):  torch.Size([1, 256])\n",
      "y.shape:  torch.Size([1, 256])\n"
     ]
    },
    {
     "data": {
      "text/plain": [
       "tensor([[-0.0073,  0.1736, -0.4138,  0.7025, -0.2132, -0.6285,  0.2928,  0.4625,\n",
       "         -0.0671, -0.2469,  0.2797, -0.1396,  0.0444,  0.5331,  0.7038, -0.2779,\n",
       "          0.2732,  0.0373,  0.3815,  0.1211, -0.1676, -0.0029, -0.2018, -0.0331,\n",
       "          0.6028,  0.4276, -0.6255,  0.2310,  0.3410,  0.3188,  0.0762, -0.0382,\n",
       "          0.2034, -0.2233,  0.1782,  0.7231,  0.1157, -0.2306,  0.5532, -0.1271,\n",
       "         -0.1953,  0.0680,  0.3952, -0.1848,  0.7794, -0.5490,  0.9035,  0.8184,\n",
       "          0.1103, -0.4442,  0.1170,  0.1032, -0.1467,  0.0352,  0.1293,  0.0548,\n",
       "          0.7944,  0.1201,  0.5881,  0.5394, -0.5332,  0.0056, -0.3873,  0.2050,\n",
       "         -0.0085,  0.3405, -0.4789,  0.0085, -0.3082,  0.5749, -0.5778,  0.3185,\n",
       "         -0.5982,  0.4347, -0.1888,  0.0843, -0.0289, -0.1671,  0.2529,  0.1475,\n",
       "          0.1859, -0.1423, -0.1853,  0.1643, -0.4140,  0.1961,  0.4671, -0.1080,\n",
       "          0.6143,  0.0575,  0.1093, -0.5545,  0.0969, -0.4706,  0.6716,  0.0114,\n",
       "         -0.1209,  0.0312,  0.4056,  0.0327,  0.0692, -0.2055,  0.0717,  0.1997,\n",
       "          0.2761,  0.0591,  0.2864, -0.6491,  0.4671,  0.3678, -0.1543, -0.0050,\n",
       "         -0.3291,  0.3813, -0.0457, -0.2465,  0.1129,  0.0282, -0.4723, -0.1765,\n",
       "          0.3097,  0.6513,  0.2786, -0.3572,  0.9040,  0.2425,  0.3018,  0.0090,\n",
       "          0.3344,  0.0276, -0.0720,  0.1114,  0.0742, -0.0018, -0.1572, -0.3006,\n",
       "         -0.2041,  0.4739,  0.3407,  0.0420,  0.3621,  0.5024, -0.5620,  0.2380,\n",
       "          0.3434,  0.6155,  0.1849,  0.0292, -0.1556, -0.0572,  0.3394, -0.1884,\n",
       "         -0.0386,  0.5532, -0.5099,  0.0803,  0.4358,  0.5031,  0.0500, -0.4986,\n",
       "          0.5579,  0.1425,  0.0634, -0.3529,  0.1175, -0.1323,  0.3516, -0.4221,\n",
       "         -0.1760,  0.7754,  0.0572,  0.1382, -0.5726,  0.3460,  0.4499, -0.4752,\n",
       "          0.6483, -0.0977, -0.3492,  0.1854,  0.1020, -0.1388,  0.4100, -0.3890,\n",
       "         -0.5211, -0.0391,  0.5923, -0.1505, -0.2393,  0.0714, -0.5178,  0.0760,\n",
       "          0.0750,  0.3648,  0.0674,  0.8949, -0.0397, -0.1446,  0.1494, -0.0216,\n",
       "         -0.0496, -0.9723, -0.2565,  0.6833,  0.1881, -0.3501, -0.2536,  0.4370,\n",
       "         -0.3556, -0.0313, -0.1340, -0.6605,  0.3160,  0.0098,  0.1526, -0.3723,\n",
       "          0.4162,  0.2599, -0.1313,  0.0505, -0.0544, -0.2087, -0.0061,  0.2777,\n",
       "         -0.0861, -0.0509,  0.1669, -0.1520, -0.1761,  0.3001, -0.4421,  0.6431,\n",
       "          0.0436, -0.7010, -0.5130,  0.7003, -0.8627, -0.4228, -0.1118, -0.7741,\n",
       "         -0.4272,  0.2238,  0.2505, -0.1558,  0.0142,  0.2864, -0.1172,  0.0785,\n",
       "         -0.2266, -0.4246,  0.6770,  0.3436, -0.2948,  0.9267,  0.0889,  0.0276]],\n",
       "       grad_fn=<AddBackward0>)"
      ]
     },
     "execution_count": 60,
     "metadata": {},
     "output_type": "execute_result"
    }
   ],
   "source": [
    "y = control_net(x)\n",
    "print(\"y.shape: \", y.shape)\n",
    "y"
   ]
  },
  {
   "cell_type": "markdown",
   "metadata": {},
   "source": [
    "# Multi-channel embedding layer test\n",
    "\n",
    "Here I just wanted to see how to embed even images with more than one channel"
   ]
  },
  {
   "cell_type": "code",
   "execution_count": null,
   "metadata": {},
   "outputs": [],
   "source": [
    "reload(rnet)"
   ]
  },
  {
   "cell_type": "code",
   "execution_count": null,
   "metadata": {},
   "outputs": [],
   "source": [
    "get_entities = rnet.ExtractEntities(k_out = 24, k_in=3, n_dim=3)"
   ]
  },
  {
   "cell_type": "code",
   "execution_count": null,
   "metadata": {},
   "outputs": [],
   "source": [
    "embed = nn.Embedding(255,3)"
   ]
  },
  {
   "cell_type": "code",
   "execution_count": null,
   "metadata": {},
   "outputs": [],
   "source": [
    "x = torch.randint(high=116, size = (3,14,14))"
   ]
  },
  {
   "cell_type": "code",
   "execution_count": null,
   "metadata": {},
   "outputs": [],
   "source": [
    "get_entities(x).shape"
   ]
  },
  {
   "cell_type": "code",
   "execution_count": null,
   "metadata": {},
   "outputs": [],
   "source": [
    "x = x.transpose(-1,-2).reshape(x.shape[0],-1,x.shape[-2],x.shape[-1])\n",
    "x.shape"
   ]
  },
  {
   "cell_type": "code",
   "execution_count": null,
   "metadata": {},
   "outputs": [],
   "source": [
    "bw_net = rnet.BoxWorldNet()"
   ]
  },
  {
   "cell_type": "code",
   "execution_count": null,
   "metadata": {},
   "outputs": [],
   "source": [
    "bw_net(x).shape"
   ]
  },
  {
   "cell_type": "code",
   "execution_count": null,
   "metadata": {},
   "outputs": [],
   "source": []
  }
 ],
 "metadata": {
  "kernelspec": {
   "display_name": "torch",
   "language": "python",
   "name": "torch"
  },
  "language_info": {
   "codemirror_mode": {
    "name": "ipython",
    "version": 3
   },
   "file_extension": ".py",
   "mimetype": "text/x-python",
   "name": "python",
   "nbconvert_exporter": "python",
   "pygments_lexer": "ipython3",
   "version": "3.7.6"
  }
 },
 "nbformat": 4,
 "nbformat_minor": 2
}
