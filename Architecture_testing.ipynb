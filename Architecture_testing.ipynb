{
 "cells": [
  {
   "cell_type": "markdown",
   "metadata": {},
   "source": [
    "# Relational Deep Reinforcement Learning\n",
    "\n",
    "**Plan:**\n",
    "1. Architecture\n",
    "2. Agent\n",
    "3. Environment\n",
    "4. Training cycle"
   ]
  },
  {
   "cell_type": "markdown",
   "metadata": {},
   "source": [
    "## Relational architecture\n",
    "\n",
    "**Input: (b,n,n,1)** = (batch length, linear size, linear size, greyscale)\n",
    "\n",
    "**Extract entities: (b,n,n,1) -> (b, m, m, 2k)** \n",
    "* embedding layer: vocab_size = MAX_PIXELS+1, embedding_dim = n_dim\n",
    "* convolutional_layer1(kernel_size = (2,2), input_filters = n_dim, output_filters = k, stride = 1, pad = (1,1))\n",
    "* convolutional_layer2(kernel_size = (2,2), input_filters = k, output_filters = 2k, stride = 1, pad = (1,1))\n",
    "\n",
    "**Relational block: (b, m, m, 2k) -> (b,d_m)**\n",
    "* Positional Encoding: (b, m, m, 2k) -> (b, m^2, d_m)\n",
    "* N Multi-Headed Attention blocks: (b, m^2, d_m) -> (b, m^2, d_m)\n",
    "\n",
    "**Feature-wise max pooling: (b, m^2, d_m) -> (b, d_m)**\n",
    "\n",
    "**Multi-Layer Perceptron: (b, d_m) -> (b, d_m)**\n",
    "* 4 fully connected layers (d_m,d_m) with ReLUs (TODO: add skip-connections)\n",
    "\n",
    "**Actor output: (b,d_m) -> (b,a)** [a = number of possible actions]\n",
    "* Single linear layer with softmax at the end\n",
    "\n",
    "**Critic output: (b,d_m) -> (b,1)** \n",
    "* Single linear layer without activation function"
   ]
  },
  {
   "cell_type": "markdown",
   "metadata": {},
   "source": [
    "## Control architecture\n",
    "\n",
    "**Input: (b,n,n,1)** = (batch length, linear size, linear size, greyscale)\n",
    "\n",
    "**Extract entities: (b,n,n,1) -> (b, m, m, 2k)** \n",
    "* embedding layer: vocab_size = MAX_PIXELS+1, embedding_dim = n_dim\n",
    "* convolutional_layer1(kernel_size = (2,2), input_filters = n_dim, output_filters = k, stride = 1, pad = (1,1))\n",
    "* convolutional_layer2(kernel_size = (2,2), input_filters = k, output_filters = 2k, stride = 1, pad = (1,1))\n",
    "\n",
    "**1D Convolutional block: (b, m, m, 2k) -> (b, m^2, d_m)**\n",
    "* Positional Encoding: (b, m, m, 2k) -> (b, m^2, d_m)\n",
    "* 2 1D convolutional blocks with ReLUs: (b, m^2, d_m) -> (b, m^2, d_m) - pixel-wise\n",
    "\n",
    "**Feature-wise max pooling: (b, m^2, d_m) -> (b, d_m)**\n",
    "\n",
    "**Multi-Layer Perceptron: (b, d_m) -> (b, d_m)**\n",
    "* 4 fully connected layers (d_m,d_m) with ReLUs - feature-wise\n",
    "* (TODO: add skip-connections)\n",
    "\n",
    "**Actor output: (b,d_m) -> (b,a)** [a = number of possible actions]\n",
    "* Single linear layer with softmax at the end\n",
    "\n",
    "**Critic output: (b,d_m) -> (b,1)** \n",
    "* Single linear layer without activation function"
   ]
  },
  {
   "cell_type": "code",
   "execution_count": 1,
   "metadata": {},
   "outputs": [],
   "source": [
    "import numpy as np\n",
    "import torch \n",
    "\n",
    "import torch.nn as nn\n",
    "import torch.nn.functional as F"
   ]
  },
  {
   "cell_type": "code",
   "execution_count": 2,
   "metadata": {},
   "outputs": [],
   "source": [
    "from RelationalModule import RelationalNetworks as rnet\n",
    "from RelationalModule import ControlNetworks as cnet"
   ]
  },
  {
   "cell_type": "code",
   "execution_count": 3,
   "metadata": {},
   "outputs": [
    {
     "data": {
      "text/plain": [
       "<module 'RelationalModule.ControlNetworks' from '/home/nicola/Nicola_unipd/MasterThesis/RelationalDeepRL/RelationalModule/ControlNetworks.py'>"
      ]
     },
     "execution_count": 3,
     "metadata": {},
     "output_type": "execute_result"
    }
   ],
   "source": [
    "from importlib import reload\n",
    "reload(rnet)\n",
    "reload(cnet)"
   ]
  },
  {
   "cell_type": "markdown",
   "metadata": {},
   "source": [
    "# Embedding layer"
   ]
  },
  {
   "cell_type": "code",
   "execution_count": 4,
   "metadata": {},
   "outputs": [],
   "source": [
    "import matplotlib.pyplot as plt"
   ]
  },
  {
   "cell_type": "code",
   "execution_count": 5,
   "metadata": {},
   "outputs": [],
   "source": [
    "vocab_size = 256\n",
    "n_dim = 3\n",
    "embed = nn.Embedding(vocab_size, n_dim)"
   ]
  },
  {
   "cell_type": "code",
   "execution_count": 6,
   "metadata": {
    "scrolled": true
   },
   "outputs": [
    {
     "name": "stdout",
     "output_type": "stream",
     "text": [
      "y_zeros.shape:  torch.Size([10, 10, 3])\n",
      "tensor([[0.9030, 0.9030, 0.9030, 0.9030, 0.9030, 0.9030, 0.9030, 0.9030, 0.9030,\n",
      "         0.9030],\n",
      "        [0.9030, 0.9030, 0.9030, 0.9030, 0.9030, 0.9030, 0.9030, 0.9030, 0.9030,\n",
      "         0.9030],\n",
      "        [0.9030, 0.9030, 0.9030, 0.9030, 0.9030, 0.9030, 0.9030, 0.9030, 0.9030,\n",
      "         0.9030],\n",
      "        [0.9030, 0.9030, 0.9030, 0.9030, 0.9030, 0.9030, 0.9030, 0.9030, 0.9030,\n",
      "         0.9030],\n",
      "        [0.9030, 0.9030, 0.9030, 0.9030, 0.9030, 0.9030, 0.9030, 0.9030, 0.9030,\n",
      "         0.9030],\n",
      "        [0.9030, 0.9030, 0.9030, 0.9030, 0.9030, 0.9030, 0.9030, 0.9030, 0.9030,\n",
      "         0.9030],\n",
      "        [0.9030, 0.9030, 0.9030, 0.9030, 0.9030, 0.9030, 0.9030, 0.9030, 0.9030,\n",
      "         0.9030],\n",
      "        [0.9030, 0.9030, 0.9030, 0.9030, 0.9030, 0.9030, 0.9030, 0.9030, 0.9030,\n",
      "         0.9030],\n",
      "        [0.9030, 0.9030, 0.9030, 0.9030, 0.9030, 0.9030, 0.9030, 0.9030, 0.9030,\n",
      "         0.9030],\n",
      "        [0.9030, 0.9030, 0.9030, 0.9030, 0.9030, 0.9030, 0.9030, 0.9030, 0.9030,\n",
      "         0.9030]], grad_fn=<SelectBackward>)\n",
      "tensor([[0.3922, 0.3922, 0.3922, 0.3922, 0.3922, 0.3922, 0.3922, 0.3922, 0.3922,\n",
      "         0.3922],\n",
      "        [0.3922, 0.3922, 0.3922, 0.3922, 0.3922, 0.3922, 0.3922, 0.3922, 0.3922,\n",
      "         0.3922],\n",
      "        [0.3922, 0.3922, 0.3922, 0.3922, 0.3922, 0.3922, 0.3922, 0.3922, 0.3922,\n",
      "         0.3922],\n",
      "        [0.3922, 0.3922, 0.3922, 0.3922, 0.3922, 0.3922, 0.3922, 0.3922, 0.3922,\n",
      "         0.3922],\n",
      "        [0.3922, 0.3922, 0.3922, 0.3922, 0.3922, 0.3922, 0.3922, 0.3922, 0.3922,\n",
      "         0.3922],\n",
      "        [0.3922, 0.3922, 0.3922, 0.3922, 0.3922, 0.3922, 0.3922, 0.3922, 0.3922,\n",
      "         0.3922],\n",
      "        [0.3922, 0.3922, 0.3922, 0.3922, 0.3922, 0.3922, 0.3922, 0.3922, 0.3922,\n",
      "         0.3922],\n",
      "        [0.3922, 0.3922, 0.3922, 0.3922, 0.3922, 0.3922, 0.3922, 0.3922, 0.3922,\n",
      "         0.3922],\n",
      "        [0.3922, 0.3922, 0.3922, 0.3922, 0.3922, 0.3922, 0.3922, 0.3922, 0.3922,\n",
      "         0.3922],\n",
      "        [0.3922, 0.3922, 0.3922, 0.3922, 0.3922, 0.3922, 0.3922, 0.3922, 0.3922,\n",
      "         0.3922]], grad_fn=<SelectBackward>)\n",
      "tensor([[-1.1286, -1.1286, -1.1286, -1.1286, -1.1286, -1.1286, -1.1286, -1.1286,\n",
      "         -1.1286, -1.1286],\n",
      "        [-1.1286, -1.1286, -1.1286, -1.1286, -1.1286, -1.1286, -1.1286, -1.1286,\n",
      "         -1.1286, -1.1286],\n",
      "        [-1.1286, -1.1286, -1.1286, -1.1286, -1.1286, -1.1286, -1.1286, -1.1286,\n",
      "         -1.1286, -1.1286],\n",
      "        [-1.1286, -1.1286, -1.1286, -1.1286, -1.1286, -1.1286, -1.1286, -1.1286,\n",
      "         -1.1286, -1.1286],\n",
      "        [-1.1286, -1.1286, -1.1286, -1.1286, -1.1286, -1.1286, -1.1286, -1.1286,\n",
      "         -1.1286, -1.1286],\n",
      "        [-1.1286, -1.1286, -1.1286, -1.1286, -1.1286, -1.1286, -1.1286, -1.1286,\n",
      "         -1.1286, -1.1286],\n",
      "        [-1.1286, -1.1286, -1.1286, -1.1286, -1.1286, -1.1286, -1.1286, -1.1286,\n",
      "         -1.1286, -1.1286],\n",
      "        [-1.1286, -1.1286, -1.1286, -1.1286, -1.1286, -1.1286, -1.1286, -1.1286,\n",
      "         -1.1286, -1.1286],\n",
      "        [-1.1286, -1.1286, -1.1286, -1.1286, -1.1286, -1.1286, -1.1286, -1.1286,\n",
      "         -1.1286, -1.1286],\n",
      "        [-1.1286, -1.1286, -1.1286, -1.1286, -1.1286, -1.1286, -1.1286, -1.1286,\n",
      "         -1.1286, -1.1286]], grad_fn=<SelectBackward>)\n"
     ]
    }
   ],
   "source": [
    "zeros = torch.zeros((10,10), dtype=int)\n",
    "y_zeros = embed(zeros)\n",
    "print(\"y_zeros.shape: \", y_zeros.shape)\n",
    "print(y_zeros[:,:,0])\n",
    "print(y_zeros[:,:,1])\n",
    "print(y_zeros[:,:,2])"
   ]
  },
  {
   "cell_type": "markdown",
   "metadata": {},
   "source": [
    "Same integer values get mapped to same vectors, as it should be. "
   ]
  },
  {
   "cell_type": "code",
   "execution_count": 7,
   "metadata": {},
   "outputs": [
    {
     "name": "stderr",
     "output_type": "stream",
     "text": [
      "Clipping input data to the valid range for imshow with RGB data ([0..1] for floats or [0..255] for integers).\n"
     ]
    },
    {
     "data": {
      "text/plain": [
       "<matplotlib.image.AxesImage at 0x7fcf93e93ed0>"
      ]
     },
     "execution_count": 7,
     "metadata": {},
     "output_type": "execute_result"
    },
    {
     "data": {
      "image/png": "[encoded data removed]",
      "text/plain": [
       "<Figure size 432x288 with 1 Axes>"
      ]
     },
     "metadata": {
      "needs_background": "light"
     },
     "output_type": "display_data"
    }
   ],
   "source": [
    "eye = torch.eye(10, dtype=int)\n",
    "y_eye = embed(eye).detach()\n",
    "plt.imshow(y_eye.numpy())"
   ]
  },
  {
   "cell_type": "markdown",
   "metadata": {},
   "source": [
    "Again the embedding works, since each integer value is associated to a particular vector (in this case 3D vector, that can be represented as RGB color once clipped)."
   ]
  },
  {
   "cell_type": "markdown",
   "metadata": {},
   "source": [
    "# Convolution layers"
   ]
  },
  {
   "cell_type": "code",
   "execution_count": 8,
   "metadata": {},
   "outputs": [],
   "source": [
    "k_in = 1\n",
    "k_out = 24\n",
    "kernel_size = 2\n",
    "stride = 1\n",
    "padding = 0\n",
    "\n",
    "layers = []\n",
    "layers.append(nn.Conv2d(n_dim*k_in, k_out//2, kernel_size, stride, padding))\n",
    "layers.append(nn.ReLU())\n",
    "layers.append(nn.Conv2d(k_out//2, k_out, kernel_size, stride, padding))\n",
    "#layers.append(nn.ReLU())\n",
    "net = nn.Sequential(*layers)"
   ]
  },
  {
   "cell_type": "code",
   "execution_count": 9,
   "metadata": {},
   "outputs": [],
   "source": [
    "def sum_slices(x, axes):\n",
    "    return x.squeeze().sum(axis=axes).detach()"
   ]
  },
  {
   "cell_type": "code",
   "execution_count": 10,
   "metadata": {
    "scrolled": true
   },
   "outputs": [
    {
     "name": "stdout",
     "output_type": "stream",
     "text": [
      "x.shape (before embed):  torch.Size([1, 1, 14, 14])\n",
      "x.shape (after embed):  torch.Size([1, 1, 14, 14, 3])\n",
      "x.sum in slices:  tensor([ 176.9918,   76.8794, -221.1962])\n",
      "x.shape:  torch.Size([1, 1, 3, 14, 14])\n",
      "x.shape:  torch.Size([1, 3, 14, 14])\n",
      "y.shape:  torch.Size([1, 24, 12, 12])\n"
     ]
    }
   ],
   "source": [
    "x = torch.zeros((1,14,14), dtype=int) # this is the structure of the state retrieved by the game\n",
    "if len(x.shape) <= 3:\n",
    "    x = x.unsqueeze(0)\n",
    "print(\"x.shape (before embed): \", x.shape)\n",
    "x = embed(x)\n",
    "print(\"x.shape (after embed): \", x.shape)\n",
    "print(\"x.sum in slices: \", sum_slices(x,(0,1)))\n",
    "x = x.transpose(-1,-3)\n",
    "print(\"x.shape: \", x.shape)\n",
    "x = x.transpose(-1,-2).reshape(x.shape[0],-1,x.shape[-2],x.shape[-1])\n",
    "print(\"x.shape: \", x.shape)\n",
    "y = net(x)\n",
    "print(\"y.shape: \", y.shape)"
   ]
  },
  {
   "cell_type": "code",
   "execution_count": 11,
   "metadata": {
    "scrolled": false
   },
   "outputs": [
    {
     "name": "stdout",
     "output_type": "stream",
     "text": [
      "tensor([-35.3239,  -9.3927,  35.7545, -21.0438,  13.3046,  16.2250,  25.0224,\n",
      "         34.7849, -32.5136, -44.9192, -31.9720, -20.1204, -45.4257,  18.9467,\n",
      "        -32.3886,  -9.5785, -18.5796,   7.8179,  34.8244, -29.5308,   0.6400,\n",
      "         17.0077, -13.3558, -25.9338])\n",
      "y[0,:,:]:  tensor([[-0.2453, -0.2453, -0.2453, -0.2453, -0.2453, -0.2453, -0.2453, -0.2453,\n",
      "         -0.2453, -0.2453, -0.2453, -0.2453],\n",
      "        [-0.2453, -0.2453, -0.2453, -0.2453, -0.2453, -0.2453, -0.2453, -0.2453,\n",
      "         -0.2453, -0.2453, -0.2453, -0.2453],\n",
      "        [-0.2453, -0.2453, -0.2453, -0.2453, -0.2453, -0.2453, -0.2453, -0.2453,\n",
      "         -0.2453, -0.2453, -0.2453, -0.2453],\n",
      "        [-0.2453, -0.2453, -0.2453, -0.2453, -0.2453, -0.2453, -0.2453, -0.2453,\n",
      "         -0.2453, -0.2453, -0.2453, -0.2453],\n",
      "        [-0.2453, -0.2453, -0.2453, -0.2453, -0.2453, -0.2453, -0.2453, -0.2453,\n",
      "         -0.2453, -0.2453, -0.2453, -0.2453],\n",
      "        [-0.2453, -0.2453, -0.2453, -0.2453, -0.2453, -0.2453, -0.2453, -0.2453,\n",
      "         -0.2453, -0.2453, -0.2453, -0.2453],\n",
      "        [-0.2453, -0.2453, -0.2453, -0.2453, -0.2453, -0.2453, -0.2453, -0.2453,\n",
      "         -0.2453, -0.2453, -0.2453, -0.2453],\n",
      "        [-0.2453, -0.2453, -0.2453, -0.2453, -0.2453, -0.2453, -0.2453, -0.2453,\n",
      "         -0.2453, -0.2453, -0.2453, -0.2453],\n",
      "        [-0.2453, -0.2453, -0.2453, -0.2453, -0.2453, -0.2453, -0.2453, -0.2453,\n",
      "         -0.2453, -0.2453, -0.2453, -0.2453],\n",
      "        [-0.2453, -0.2453, -0.2453, -0.2453, -0.2453, -0.2453, -0.2453, -0.2453,\n",
      "         -0.2453, -0.2453, -0.2453, -0.2453],\n",
      "        [-0.2453, -0.2453, -0.2453, -0.2453, -0.2453, -0.2453, -0.2453, -0.2453,\n",
      "         -0.2453, -0.2453, -0.2453, -0.2453],\n",
      "        [-0.2453, -0.2453, -0.2453, -0.2453, -0.2453, -0.2453, -0.2453, -0.2453,\n",
      "         -0.2453, -0.2453, -0.2453, -0.2453]])\n"
     ]
    }
   ],
   "source": [
    "y = y.squeeze().detach()\n",
    "print(sum_slices(y,(1,2)))\n",
    "print(\"y[0,:,:]: \", y[0,:,:])"
   ]
  },
  {
   "cell_type": "markdown",
   "metadata": {},
   "source": [
    "So basically each layer is uniform thanks to the input and how convolution works (each slice is the result of the convolution from the same kernel of the same input). All the zeros that can be seen are due to the ReLU activations."
   ]
  },
  {
   "cell_type": "markdown",
   "metadata": {},
   "source": [
    "# Positional Encoding"
   ]
  },
  {
   "cell_type": "code",
   "execution_count": 12,
   "metadata": {},
   "outputs": [],
   "source": [
    "def add_encoding2D(x):\n",
    "    x_ax = x.shape[-2]\n",
    "    y_ax = x.shape[-1]\n",
    "\n",
    "    x_lin = torch.linspace(-1,1,x_ax)\n",
    "    xx = x_lin.repeat(x.shape[0],y_ax,1).view(-1, 1, y_ax, x_ax).transpose(3,2)\n",
    "\n",
    "    y_lin = torch.linspace(-1,1,y_ax).view(-1,1)\n",
    "    yy = y_lin.repeat(x.shape[0],1,x_ax).view(-1, 1, y_ax, x_ax).transpose(3,2)\n",
    "\n",
    "    x = torch.cat((x,xx,yy), axis=1)\n",
    "    return x"
   ]
  },
  {
   "cell_type": "code",
   "execution_count": 13,
   "metadata": {},
   "outputs": [
    {
     "name": "stdout",
     "output_type": "stream",
     "text": [
      "x.shape (before embed):  torch.Size([1, 1, 14, 14])\n",
      "x.shape (after embed):  torch.Size([1, 1, 14, 14, 3])\n",
      "x.sum in slices:  tensor([ 176.9918,   76.8794, -221.1962])\n",
      "x.shape:  torch.Size([1, 1, 3, 14, 14])\n",
      "x.shape:  torch.Size([1, 3, 14, 14])\n",
      "y.shape:  torch.Size([1, 24, 12, 12])\n",
      "y_enc.shape:  torch.Size([1, 26, 12, 12])\n"
     ]
    }
   ],
   "source": [
    "x = torch.zeros((1,14,14), dtype=int) # this is the structure of the state retrieved by the game\n",
    "if len(x.shape) <= 3:\n",
    "    x = x.unsqueeze(0)\n",
    "print(\"x.shape (before embed): \", x.shape)\n",
    "x = embed(x)\n",
    "print(\"x.shape (after embed): \", x.shape)\n",
    "print(\"x.sum in slices: \", sum_slices(x,(0,1)))\n",
    "x = x.transpose(-1,-3)\n",
    "print(\"x.shape: \", x.shape)\n",
    "x = x.transpose(-1,-2).reshape(x.shape[0],-1,x.shape[-2],x.shape[-1])\n",
    "print(\"x.shape: \", x.shape)\n",
    "y = net(x)\n",
    "print(\"y.shape: \", y.shape)\n",
    "y_enc = add_encoding2D(y)\n",
    "print(\"y_enc.shape: \", y_enc.shape)"
   ]
  },
  {
   "cell_type": "markdown",
   "metadata": {},
   "source": [
    "Let's verify that the last 2 layers have a positional encoding:"
   ]
  },
  {
   "cell_type": "code",
   "execution_count": 14,
   "metadata": {},
   "outputs": [
    {
     "name": "stdout",
     "output_type": "stream",
     "text": [
      "y_tmp.shape:  torch.Size([26, 12, 12])\n"
     ]
    },
    {
     "data": {
      "image/png": "[encoded data removed]",
      "text/plain": [
       "<Figure size 432x288 with 1 Axes>"
      ]
     },
     "metadata": {
      "needs_background": "light"
     },
     "output_type": "display_data"
    },
    {
     "data": {
      "image/png": "[encoded data removed]",
      "text/plain": [
       "<Figure size 432x288 with 1 Axes>"
      ]
     },
     "metadata": {
      "needs_background": "light"
     },
     "output_type": "display_data"
    }
   ],
   "source": [
    "y_tmp = y_enc.squeeze().detach()\n",
    "print(\"y_tmp.shape: \", y_tmp.shape)\n",
    "plt.imshow(y_tmp[-2])\n",
    "plt.show()\n",
    "plt.imshow(y_tmp[-1])\n",
    "plt.show()"
   ]
  },
  {
   "cell_type": "markdown",
   "metadata": {},
   "source": [
    "A different approach would be to sum these two layers pixel-wise to all other features. Probably it would amplify the importance of the position, at the risk that if the magnitude is too high we would lose data.\n",
    "\n",
    "Also more complicated encodings are possible; this one is the one I think they used in the paper."
   ]
  },
  {
   "cell_type": "markdown",
   "metadata": {},
   "source": [
    "# Projection from 26 to n_features (default 256)"
   ]
  },
  {
   "cell_type": "code",
   "execution_count": 15,
   "metadata": {},
   "outputs": [],
   "source": [
    "n_features = 256\n",
    "projection = nn.Linear(k_out + 2, n_features)"
   ]
  },
  {
   "cell_type": "code",
   "execution_count": 16,
   "metadata": {},
   "outputs": [
    {
     "name": "stdout",
     "output_type": "stream",
     "text": [
      "x.shape (before embed):  torch.Size([1, 1, 14, 14])\n",
      "x.shape (after embed):  torch.Size([1, 1, 14, 14, 3])\n",
      "x.sum in slices:  tensor([ 176.9918,   76.8794, -221.1962])\n",
      "x.shape:  torch.Size([1, 1, 3, 14, 14])\n",
      "x.shape:  torch.Size([1, 3, 14, 14])\n",
      "x.shape:  torch.Size([1, 24, 12, 12])\n",
      "x.shape:  torch.Size([1, 26, 12, 12])\n",
      "x.shape:  torch.Size([1, 26, 144])\n",
      "x.shape:  torch.Size([1, 144, 26])\n",
      "x.shape:  torch.Size([1, 144, 256])\n",
      "x.shape:  torch.Size([144, 1, 256])\n"
     ]
    }
   ],
   "source": [
    "x = torch.zeros((1,14,14), dtype=int) # this is the structure of the state retrieved by the game\n",
    "if len(x.shape) <= 3:\n",
    "    x = x.unsqueeze(0)\n",
    "print(\"x.shape (before embed): \", x.shape)\n",
    "x = embed(x)\n",
    "print(\"x.shape (after embed): \", x.shape)\n",
    "print(\"x.sum in slices: \", sum_slices(x,(0,1)))\n",
    "x = x.transpose(-1,-3)\n",
    "print(\"x.shape: \", x.shape)\n",
    "x = x.transpose(-1,-2).reshape(x.shape[0],-1,x.shape[-2],x.shape[-1])\n",
    "print(\"x.shape: \", x.shape)\n",
    "x = net(x)\n",
    "print(\"x.shape: \", x.shape)\n",
    "x= add_encoding2D(x)\n",
    "print(\"x.shape: \", x.shape)\n",
    "x = x.view(x.shape[0], x.shape[1],-1)\n",
    "print(\"x.shape: \", x.shape)\n",
    "x = x.transpose(2,1)\n",
    "print(\"x.shape: \", x.shape)\n",
    "x = projection(x)\n",
    "print(\"x.shape: \", x.shape)\n",
    "x = x.transpose(1,0)\n",
    "print(\"x.shape: \", x.shape)"
   ]
  },
  {
   "cell_type": "markdown",
   "metadata": {},
   "source": [
    "Here everything seems clean. Let's see if there is some trace of the positional encoding left. Ideally thanks to the projection now each feature potentially has a positional encoding."
   ]
  },
  {
   "cell_type": "code",
   "execution_count": 17,
   "metadata": {},
   "outputs": [
    {
     "data": {
      "image/png": "[encoded data removed]",
      "text/plain": [
       "<Figure size 432x288 with 1 Axes>"
      ]
     },
     "metadata": {
      "needs_background": "light"
     },
     "output_type": "display_data"
    },
    {
     "data": {
      "image/png": "[encoded data removed]",
      "text/plain": [
       "<Figure size 432x288 with 1 Axes>"
      ]
     },
     "metadata": {
      "needs_background": "light"
     },
     "output_type": "display_data"
    },
    {
     "data": {
      "image/png": "[encoded data removed]",
      "text/plain": [
       "<Figure size 432x288 with 1 Axes>"
      ]
     },
     "metadata": {
      "needs_background": "light"
     },
     "output_type": "display_data"
    }
   ],
   "source": [
    "x_tmp = x.squeeze().detach().view(12,12,256)\n",
    "plt.imshow(x_tmp[:,:,0])\n",
    "plt.show()\n",
    "plt.imshow(x_tmp[:,:,128])\n",
    "plt.show()\n",
    "plt.imshow(x_tmp[:,:,-2])\n",
    "plt.show()"
   ]
  },
  {
   "cell_type": "markdown",
   "metadata": {},
   "source": [
    "Again everything seems fine."
   ]
  },
  {
   "cell_type": "markdown",
   "metadata": {},
   "source": [
    "# Relational Block \n",
    "Implements the relational block, composed by a Multi-Headed Dot-Product Attention layer followed by a Position-wise Feed-Forward layer. I implement here the former one, whereas I just import the latter from the module, since it's very basic."
   ]
  },
  {
   "cell_type": "code",
   "execution_count": 18,
   "metadata": {},
   "outputs": [],
   "source": [
    "hidden_dim = 64\n",
    "dropout = 0\n",
    "n_heads = 4\n",
    "\n",
    "norm = nn.LayerNorm(n_features)\n",
    "drop = nn.Dropout(dropout) # disabled\n",
    "attn = nn.MultiheadAttention(n_features, n_heads, dropout)\n",
    "ff = rnet.PositionwiseFeedForward(n_features, hidden_dim, dropout)"
   ]
  },
  {
   "cell_type": "code",
   "execution_count": 19,
   "metadata": {
    "scrolled": true
   },
   "outputs": [
    {
     "name": "stdout",
     "output_type": "stream",
     "text": [
      "x.shape (before embed):  torch.Size([1, 1, 14, 14])\n",
      "x.shape (after embed):  torch.Size([1, 1, 14, 14, 3])\n",
      "x.sum in slices:  tensor([ 176.9918,   76.8794, -221.1962])\n",
      "x.shape:  torch.Size([1, 1, 3, 14, 14])\n",
      "x.shape:  torch.Size([1, 3, 14, 14])\n",
      "x.shape:  torch.Size([1, 24, 12, 12])\n",
      "x.shape:  torch.Size([1, 26, 12, 12])\n",
      "x.shape:  torch.Size([1, 26, 144])\n",
      "x.shape:  torch.Size([1, 144, 26])\n",
      "x.shape:  torch.Size([1, 144, 256])\n",
      "x.shape:  torch.Size([144, 1, 256])\n",
      "attn_output.shape:  torch.Size([144, 1, 256])\n",
      "x_add.shape:  torch.Size([144, 1, 256])\n",
      "x_norm.shape:  torch.Size([144, 1, 256])\n",
      "x_ff.shape:  torch.Size([144, 1, 256])\n",
      "x.shape:  torch.Size([144, 1, 256])\n"
     ]
    }
   ],
   "source": [
    "x = torch.zeros((1,14,14), dtype=int) # this is the structure of the state retrieved by the game\n",
    "if len(x.shape) <= 3:\n",
    "    x = x.unsqueeze(0)\n",
    "print(\"x.shape (before embed): \", x.shape)\n",
    "x = embed(x)\n",
    "print(\"x.shape (after embed): \", x.shape)\n",
    "print(\"x.sum in slices: \", sum_slices(x,(0,1)))\n",
    "x = x.transpose(-1,-3)\n",
    "print(\"x.shape: \", x.shape)\n",
    "x = x.transpose(-1,-2).reshape(x.shape[0],-1,x.shape[-2],x.shape[-1])\n",
    "print(\"x.shape: \", x.shape)\n",
    "x = net(x)\n",
    "print(\"x.shape: \", x.shape)\n",
    "x= add_encoding2D(x)\n",
    "print(\"x.shape: \", x.shape)\n",
    "x = x.view(x.shape[0], x.shape[1],-1)\n",
    "print(\"x.shape: \", x.shape)\n",
    "x = x.transpose(2,1)\n",
    "print(\"x.shape: \", x.shape)\n",
    "x = projection(x)\n",
    "print(\"x.shape: \", x.shape)\n",
    "x = x.transpose(1,0)\n",
    "print(\"x.shape: \", x.shape)\n",
    "\n",
    "x_tmp = x # save it for plotting\n",
    "\n",
    "# From here it has always the same shape\n",
    "attn_output, attn_output_weights =  attn(x,x,x, key_padding_mask=None) # MHA step\n",
    "print(\"attn_output.shape: \", attn_output.shape)\n",
    "x_add = attn_output + x\n",
    "print(\"x_add.shape: \", x_add.shape)\n",
    "x_norm = drop(norm(x_add))\n",
    "print(\"x_norm.shape: \", x_norm.shape)\n",
    "x_ff = ff(x_norm)\n",
    "print(\"x_ff.shape: \", x_ff.shape)\n",
    "x = drop(norm(x_ff))\n",
    "print(\"x.shape: \", x.shape)"
   ]
  },
  {
   "cell_type": "markdown",
   "metadata": {},
   "source": [
    "We can nonetheless follow the transformation of a single feature along the attention block, to see if something strange happens."
   ]
  },
  {
   "cell_type": "code",
   "execution_count": 20,
   "metadata": {},
   "outputs": [],
   "source": [
    "def plot_layer(x, layer=0):\n",
    "    x = x.squeeze().detach()[:,layer]\n",
    "    plt.imshow(x.view(12,12))\n",
    "    plt.show()"
   ]
  },
  {
   "cell_type": "code",
   "execution_count": 21,
   "metadata": {
    "scrolled": true
   },
   "outputs": [
    {
     "name": "stdout",
     "output_type": "stream",
     "text": [
      "Input\n"
     ]
    },
    {
     "data": {
      "image/png": "[encoded data removed]",
      "text/plain": [
       "<Figure size 432x288 with 1 Axes>"
      ]
     },
     "metadata": {
      "needs_background": "light"
     },
     "output_type": "display_data"
    },
    {
     "name": "stdout",
     "output_type": "stream",
     "text": [
      "Attention output\n"
     ]
    },
    {
     "data": {
      "image/png": "[encoded data removed]",
      "text/plain": [
       "<Figure size 432x288 with 1 Axes>"
      ]
     },
     "metadata": {
      "needs_background": "light"
     },
     "output_type": "display_data"
    },
    {
     "name": "stdout",
     "output_type": "stream",
     "text": [
      "Input + attention\n"
     ]
    },
    {
     "data": {
      "image/png": "[encoded data removed]",
      "text/plain": [
       "<Figure size 432x288 with 1 Axes>"
      ]
     },
     "metadata": {
      "needs_background": "light"
     },
     "output_type": "display_data"
    },
    {
     "name": "stdout",
     "output_type": "stream",
     "text": [
      "After LayerNorm\n"
     ]
    },
    {
     "data": {
      "image/png": "[encoded data removed]",
      "text/plain": [
       "<Figure size 432x288 with 1 Axes>"
      ]
     },
     "metadata": {
      "needs_background": "light"
     },
     "output_type": "display_data"
    },
    {
     "name": "stdout",
     "output_type": "stream",
     "text": [
      "After position-wise FF\n"
     ]
    },
    {
     "data": {
      "image/png": "[encoded data removed]",
      "text/plain": [
       "<Figure size 432x288 with 1 Axes>"
      ]
     },
     "metadata": {
      "needs_background": "light"
     },
     "output_type": "display_data"
    },
    {
     "name": "stdout",
     "output_type": "stream",
     "text": [
      "After LayerNorm\n"
     ]
    },
    {
     "data": {
      "image/png": "[encoded data removed]",
      "text/plain": [
       "<Figure size 432x288 with 1 Axes>"
      ]
     },
     "metadata": {
      "needs_background": "light"
     },
     "output_type": "display_data"
    }
   ],
   "source": [
    "print(\"Input\")\n",
    "plot_layer(x_tmp)\n",
    "print(\"Attention output\")\n",
    "plot_layer(attn_output)\n",
    "print(\"Input + attention\")\n",
    "plot_layer(x_add)\n",
    "print(\"After LayerNorm\")\n",
    "plot_layer(x_norm)\n",
    "print(\"After position-wise FF\")\n",
    "plot_layer(x_ff)\n",
    "print(\"After LayerNorm\")\n",
    "plot_layer(x)"
   ]
  },
  {
   "cell_type": "markdown",
   "metadata": {},
   "source": [
    "Here we didn't see anything suspicious, with the attention layer not doing much and the only real change happening during the positionwise feed forward, in which we make a convolution of the 256 features to obtain new ones, so of course after that we are looking at a different feature plane."
   ]
  },
  {
   "cell_type": "markdown",
   "metadata": {},
   "source": [
    "**LayerNorm formula**\n",
    "$$y = \\frac{x - \\mathrm{E}[x]}{ \\sqrt{\\mathrm{Var}[x] + \\epsilon}} * \\gamma + \\beta$$"
   ]
  },
  {
   "cell_type": "code",
   "execution_count": 22,
   "metadata": {
    "scrolled": true
   },
   "outputs": [
    {
     "name": "stdout",
     "output_type": "stream",
     "text": [
      "E:  tensor(-0.0122, grad_fn=<MeanBackward0>)\n",
      "V:  tensor(0.0493, grad_fn=<VarBackward0>)\n",
      "LayerNorm by hand: \n",
      " tensor([ 0.0284,  1.2157, -1.1573,  0.0688,  0.7310,  0.6031,  0.6676,  1.3835,\n",
      "         0.9950,  1.2959, -0.6308,  1.8772, -0.9499, -0.3141,  1.6242,  0.7809,\n",
      "        -0.1059, -0.3799,  1.3805, -0.6039, -1.3889,  1.2424,  0.4985,  0.7495,\n",
      "         0.7886,  1.9311, -0.6990,  0.4695,  0.1626, -0.4700,  1.2492, -0.2175,\n",
      "        -0.4678, -0.1953,  0.4560, -1.4421, -0.6232, -0.0535, -1.5531, -0.4257,\n",
      "         0.2913, -1.1472, -0.5887,  0.6002,  0.4235,  2.0421,  0.7562, -0.2007,\n",
      "        -0.1215, -0.2481, -1.3256,  1.0848,  0.3430,  0.1390,  0.3757,  0.0451,\n",
      "        -0.7191,  0.6880,  0.4480, -1.5937,  0.4631,  2.0827,  2.0120, -1.4430,\n",
      "         0.1889,  0.7064, -0.6214,  1.0987, -1.6761,  0.5927,  1.3023, -0.6014,\n",
      "         0.0991,  0.2188,  0.5064, -1.1640,  0.3713, -0.6570, -0.5317,  0.1632,\n",
      "        -0.5617,  0.2554, -1.7161, -0.1190, -0.7513,  0.7122,  0.1694, -0.5682,\n",
      "        -1.1030, -1.7633,  1.8225,  0.6666, -0.0743, -0.5638, -0.4150, -1.6814,\n",
      "        -2.0115,  0.0744, -0.8668,  1.3567, -2.1959,  0.6451,  0.2918,  0.3711,\n",
      "        -2.1710, -2.4223, -0.0900,  0.4871,  1.4879, -0.2318, -0.8327, -1.6577,\n",
      "         1.3382,  1.3713, -0.7301, -1.1395,  0.1001,  0.1172,  1.2803,  0.6048,\n",
      "        -1.3390,  0.1222, -0.2058, -0.7597,  1.0593,  0.2987, -0.8467, -1.6432,\n",
      "         0.9460, -0.1942,  0.0308, -1.0530,  0.4171,  0.7168, -0.2404, -0.4735,\n",
      "        -0.2435,  0.7524,  0.7630,  1.3504,  0.6079, -1.0866, -0.5406, -0.4108,\n",
      "         0.8731, -0.3597,  1.2551,  0.4157,  0.7524,  0.0884, -1.3896,  0.4474,\n",
      "        -0.3275,  1.6835, -0.7185, -0.5379, -0.7251, -0.5232, -0.6280, -0.6037,\n",
      "         2.1334, -0.3787, -1.4207,  0.9220, -0.6052, -1.6538,  0.3611, -0.6639,\n",
      "        -0.1332,  1.5398,  1.7272, -0.2689, -0.6406, -0.3183,  0.8851, -1.0095,\n",
      "         0.2590, -1.5697,  1.1777,  1.9412,  0.9545, -1.2996, -0.8257, -1.7603,\n",
      "         0.6024, -0.1671,  0.9581, -0.6505, -0.2864,  0.2900,  0.6487, -0.2617,\n",
      "         0.4438,  1.4356, -1.4566, -0.2845, -0.1078,  1.6545,  1.1492, -1.0416,\n",
      "         0.2684,  0.5595, -0.8422, -0.6773,  0.9721, -0.6101,  0.6987, -0.4246,\n",
      "        -1.9818,  3.3396, -1.5406,  0.4651, -0.8517, -0.3173, -1.2953, -1.1015,\n",
      "         0.8501, -0.0801, -0.3988, -0.8699, -0.8417, -1.3814, -0.1618,  0.6010,\n",
      "         0.7891,  1.3574, -1.2191, -0.2442, -1.5655,  1.3477,  1.2060,  0.7657,\n",
      "        -2.0925,  0.0608, -0.4502, -1.1913,  0.7706,  1.4309,  1.4961,  0.5415,\n",
      "         0.6756, -0.4853, -0.5103,  1.1933,  1.7221, -0.5304, -0.5244,  0.6086,\n",
      "         0.1270,  0.1624,  0.1419,  0.5481, -0.4780, -0.3685, -0.4097, -1.6735],\n",
      "       grad_fn=<DivBackward0>)\n",
      "LayerNorm: \n",
      " tensor([ 0.0284,  1.2181, -1.1596,  0.0690,  0.7324,  0.6043,  0.6689,  1.3863,\n",
      "         0.9970,  1.2985, -0.6321,  1.8809, -0.9518, -0.3147,  1.6274,  0.7824,\n",
      "        -0.1061, -0.3806,  1.3832, -0.6051, -1.3916,  1.2448,  0.4995,  0.7510,\n",
      "         0.7901,  1.9348, -0.7004,  0.4704,  0.1629, -0.4710,  1.2516, -0.2180,\n",
      "        -0.4687, -0.1957,  0.4569, -1.4449, -0.6244, -0.0536, -1.5562, -0.4265,\n",
      "         0.2919, -1.1495, -0.5898,  0.6014,  0.4243,  2.0461,  0.7576, -0.2011,\n",
      "        -0.1218, -0.2486, -1.3282,  1.0869,  0.3436,  0.1393,  0.3765,  0.0451,\n",
      "        -0.7205,  0.6893,  0.4489, -1.5968,  0.4640,  2.0868,  2.0159, -1.4458,\n",
      "         0.1893,  0.7077, -0.6226,  1.1008, -1.6793,  0.5939,  1.3048, -0.6026,\n",
      "         0.0993,  0.2193,  0.5074, -1.1663,  0.3720, -0.6583, -0.5327,  0.1635,\n",
      "        -0.5628,  0.2559, -1.7195, -0.1192, -0.7528,  0.7136,  0.1698, -0.5693,\n",
      "        -1.1051, -1.7667,  1.8260,  0.6679, -0.0744, -0.5649, -0.4158, -1.6847,\n",
      "        -2.0154,  0.0746, -0.8685,  1.3594, -2.2002,  0.6464,  0.2923,  0.3718,\n",
      "        -2.1753, -2.4270, -0.0902,  0.4881,  1.4908, -0.2322, -0.8343, -1.6609,\n",
      "         1.3408,  1.3740, -0.7315, -1.1417,  0.1003,  0.1175,  1.2828,  0.6060,\n",
      "        -1.3416,  0.1224, -0.2062, -0.7612,  1.0614,  0.2993, -0.8483, -1.6464,\n",
      "         0.9478, -0.1945,  0.0309, -1.0550,  0.4179,  0.7182, -0.2409, -0.4745,\n",
      "        -0.2440,  0.7539,  0.7645,  1.3531,  0.6091, -1.0887, -0.5417, -0.4116,\n",
      "         0.8748, -0.3604,  1.2576,  0.4165,  0.7539,  0.0886, -1.3923,  0.4483,\n",
      "        -0.3281,  1.6868, -0.7199, -0.5390, -0.7265, -0.5242, -0.6292, -0.6049,\n",
      "         2.1376, -0.3794, -1.4235,  0.9238, -0.6064, -1.6570,  0.3618, -0.6652,\n",
      "        -0.1335,  1.5428,  1.7306, -0.2694, -0.6419, -0.3189,  0.8869, -1.0115,\n",
      "         0.2595, -1.5728,  1.1800,  1.9451,  0.9564, -1.3021, -0.8273, -1.7638,\n",
      "         0.6036, -0.1674,  0.9600, -0.6517, -0.2870,  0.2906,  0.6500, -0.2622,\n",
      "         0.4447,  1.4384, -1.4595, -0.2850, -0.1080,  1.6578,  1.1514, -1.0437,\n",
      "         0.2690,  0.5606, -0.8439, -0.6786,  0.9740, -0.6113,  0.7000, -0.4254,\n",
      "        -1.9857,  3.3462, -1.5436,  0.4660, -0.8534, -0.3180, -1.2978, -1.1037,\n",
      "         0.8518, -0.0803, -0.3996, -0.8717, -0.8433, -1.3841, -0.1621,  0.6021,\n",
      "         0.7907,  1.3601, -1.2215, -0.2447, -1.5685,  1.3503,  1.2083,  0.7672,\n",
      "        -2.0966,  0.0609, -0.4511, -1.1936,  0.7722,  1.4337,  1.4991,  0.5426,\n",
      "         0.6770, -0.4863, -0.5113,  1.1956,  1.7254, -0.5315, -0.5255,  0.6098,\n",
      "         0.1273,  0.1627,  0.1422,  0.5491, -0.4789, -0.3692, -0.4105, -1.6768],\n",
      "       grad_fn=<SliceBackward>)\n"
     ]
    }
   ],
   "source": [
    "# What LayerNorm does\n",
    "\n",
    "E = x_add[0,0,:].mean()\n",
    "print(\"E: \", E)\n",
    "V = x_add[0,0,:].var()\n",
    "print(\"V: \", V)\n",
    "y = (x_add[0,0,:]-E)/torch.sqrt(V+1e-5)\n",
    "print(\"LayerNorm by hand: \\n\", y)\n",
    "print(\"LayerNorm: \\n\", x_norm[0,0,:])"
   ]
  },
  {
   "cell_type": "markdown",
   "metadata": {},
   "source": [
    "# Featurewise MaxPooling\n",
    "\n",
    "For each feature, take the maximum value among the pixels."
   ]
  },
  {
   "cell_type": "code",
   "execution_count": 101,
   "metadata": {},
   "outputs": [
    {
     "name": "stdout",
     "output_type": "stream",
     "text": [
      "x.shape (before embed):  torch.Size([1, 1, 14, 14])\n",
      "x.shape (after embed):  torch.Size([1, 1, 14, 14, 3])\n",
      "x.sum in slices:  tensor([-298.4777,  -25.8635,  142.6594])\n",
      "x.shape:  torch.Size([1, 1, 3, 14, 14])\n",
      "x.shape:  torch.Size([1, 3, 14, 14])\n",
      "x.shape:  torch.Size([1, 24, 12, 12])\n",
      "x.shape:  torch.Size([1, 26, 12, 12])\n",
      "x.shape:  torch.Size([1, 26, 144])\n",
      "x.shape:  torch.Size([1, 144, 26])\n",
      "x.shape:  torch.Size([1, 144, 256])\n",
      "x.shape:  torch.Size([144, 1, 256])\n",
      "attn_output.shape:  torch.Size([144, 1, 256])\n",
      "x_add.shape:  torch.Size([144, 1, 256])\n",
      "x_norm.shape:  torch.Size([144, 1, 256])\n",
      "x_ff.shape:  torch.Size([144, 1, 256])\n",
      "x.shape:  torch.Size([144, 1, 256])\n",
      "x.shape:  torch.Size([1, 256])\n"
     ]
    }
   ],
   "source": [
    "x = torch.zeros((1,14,14), dtype=int) # this is the structure of the state retrieved by the game\n",
    "if len(x.shape) <= 3:\n",
    "    x = x.unsqueeze(0)\n",
    "print(\"x.shape (before embed): \", x.shape)\n",
    "x = embed(x)\n",
    "print(\"x.shape (after embed): \", x.shape)\n",
    "print(\"x.sum in slices: \", sum_slices(x,(0,1)))\n",
    "x = x.transpose(-1,-3)\n",
    "print(\"x.shape: \", x.shape)\n",
    "x = x.transpose(-1,-2).reshape(x.shape[0],-1,x.shape[-2],x.shape[-1])\n",
    "print(\"x.shape: \", x.shape)\n",
    "x = net(x)\n",
    "print(\"x.shape: \", x.shape)\n",
    "x= add_encoding2D(x)\n",
    "print(\"x.shape: \", x.shape)\n",
    "x = x.view(x.shape[0], x.shape[1],-1)\n",
    "print(\"x.shape: \", x.shape)\n",
    "x = x.transpose(2,1)\n",
    "print(\"x.shape: \", x.shape)\n",
    "x = projection(x)\n",
    "print(\"x.shape: \", x.shape)\n",
    "x = x.transpose(1,0)\n",
    "print(\"x.shape: \", x.shape)\n",
    "\n",
    "x_tmp = x # save it for plotting\n",
    "\n",
    "# From here it has always the same shape\n",
    "attn_output, attn_output_weights =  attn(x,x,x, key_padding_mask=None) # MHA step\n",
    "print(\"attn_output.shape: \", attn_output.shape)\n",
    "x_add = attn_output + x\n",
    "print(\"x_add.shape: \", x_add.shape)\n",
    "x_norm = drop(norm(x_add))\n",
    "print(\"x_norm.shape: \", x_norm.shape)\n",
    "x_ff = ff(x_norm)\n",
    "print(\"x_ff.shape: \", x_ff.shape)\n",
    "x = drop(norm(x_ff))\n",
    "print(\"x.shape: \", x.shape)\n",
    "# Max pooling feature-wise\n",
    "x, _ = torch.max(x, axis=0)\n",
    "print(\"x.shape: \", x.shape)"
   ]
  },
  {
   "cell_type": "markdown",
   "metadata": {},
   "source": [
    "Nothing much to control here."
   ]
  },
  {
   "cell_type": "markdown",
   "metadata": {},
   "source": [
    "# Alternative to max pooling - Linear projection"
   ]
  },
  {
   "cell_type": "code",
   "execution_count": 54,
   "metadata": {},
   "outputs": [
    {
     "data": {
      "text/plain": [
       "<module 'RelationalModule.RelationalNetworks' from '/home/nicola/Nicola_unipd/MasterThesis/RelationalDeepRL/RelationalModule/RelationalNetworks.py'>"
      ]
     },
     "execution_count": 54,
     "metadata": {},
     "output_type": "execute_result"
    }
   ],
   "source": [
    "reload(rnet)"
   ]
  },
  {
   "cell_type": "code",
   "execution_count": 55,
   "metadata": {},
   "outputs": [],
   "source": [
    "linear_proj = nn.Linear(144,1) # needs to know how many pixels there are"
   ]
  },
  {
   "cell_type": "code",
   "execution_count": 58,
   "metadata": {},
   "outputs": [
    {
     "name": "stdout",
     "output_type": "stream",
     "text": [
      "x.shape (before embed):  torch.Size([1, 1, 14, 14])\n",
      "x.shape (after embed):  torch.Size([1, 1, 14, 14, 3])\n",
      "x.sum in slices:  tensor([ 176.9918,   76.8794, -221.1962])\n",
      "x.shape:  torch.Size([1, 1, 3, 14, 14])\n",
      "x.shape:  torch.Size([1, 3, 14, 14])\n",
      "x.shape:  torch.Size([1, 24, 12, 12])\n",
      "x.shape:  torch.Size([1, 26, 12, 12])\n",
      "x.shape:  torch.Size([1, 26, 144])\n",
      "x.shape:  torch.Size([1, 144, 26])\n",
      "x.shape:  torch.Size([1, 144, 256])\n",
      "x.shape:  torch.Size([144, 1, 256])\n",
      "attn_output.shape:  torch.Size([144, 1, 256])\n",
      "x_add.shape:  torch.Size([144, 1, 256])\n",
      "x_norm.shape:  torch.Size([144, 1, 256])\n",
      "x_ff.shape:  torch.Size([144, 1, 256])\n",
      "x.shape:  torch.Size([144, 1, 256])\n",
      "x.shape (before linear):  torch.Size([256, 1, 144])\n",
      "x.shape:  torch.Size([256, 1])\n",
      "x.shape:  torch.Size([1, 256])\n"
     ]
    }
   ],
   "source": [
    "x = torch.zeros((1,1,14,14), dtype=int) # this is the structure of the state retrieved by the game\n",
    "if len(x.shape) <= 3:\n",
    "    x = x.unsqueeze(0)\n",
    "print(\"x.shape (before embed): \", x.shape)\n",
    "x = embed(x)\n",
    "print(\"x.shape (after embed): \", x.shape)\n",
    "print(\"x.sum in slices: \", sum_slices(x,(0,1)))\n",
    "x = x.transpose(-1,-3)\n",
    "print(\"x.shape: \", x.shape)\n",
    "x = x.transpose(-1,-2).reshape(x.shape[0],-1,x.shape[-2],x.shape[-1])\n",
    "print(\"x.shape: \", x.shape)\n",
    "x = net(x)\n",
    "print(\"x.shape: \", x.shape)\n",
    "x= add_encoding2D(x)\n",
    "print(\"x.shape: \", x.shape)\n",
    "x = x.view(x.shape[0], x.shape[1],-1)\n",
    "print(\"x.shape: \", x.shape)\n",
    "x = x.transpose(2,1)\n",
    "print(\"x.shape: \", x.shape)\n",
    "x = projection(x)\n",
    "print(\"x.shape: \", x.shape)\n",
    "x = x.transpose(1,0)\n",
    "print(\"x.shape: \", x.shape)\n",
    "\n",
    "x_tmp = x # save it for plotting\n",
    "\n",
    "# From here it has always the same shape\n",
    "attn_output, attn_output_weights =  attn(x,x,x, key_padding_mask=None) # MHA step\n",
    "print(\"attn_output.shape: \", attn_output.shape)\n",
    "x_add = attn_output + x\n",
    "print(\"x_add.shape: \", x_add.shape)\n",
    "x_norm = drop(norm(x_add))\n",
    "print(\"x_norm.shape: \", x_norm.shape)\n",
    "x_ff = ff(x_norm)\n",
    "print(\"x_ff.shape: \", x_ff.shape)\n",
    "x = drop(norm(x_ff))\n",
    "print(\"x.shape: \", x.shape)\n",
    "\n",
    "# Feature-wise projection\n",
    "x = x.transpose(-1,0)\n",
    "print(\"x.shape (before linear): \", x.shape)\n",
    "shape = x.shape\n",
    "x = linear_proj(x).reshape(shape[0],shape[1])\n",
    "print(\"x.shape: \", x.shape)\n",
    "x = x.transpose(-1,0)\n",
    "print(\"x.shape: \", x.shape)"
   ]
  },
  {
   "cell_type": "markdown",
   "metadata": {},
   "source": [
    "## Residual Layer\n",
    "\n",
    "Here the original paper uses just a Multi-Layer Perceptron, but I thought it would be nice to have sone skip connections in order to make the architecture more flexible."
   ]
  },
  {
   "cell_type": "code",
   "execution_count": 31,
   "metadata": {},
   "outputs": [
    {
     "data": {
      "text/plain": [
       "<module 'RelationalModule.RelationalNetworks' from '/home/nicola/Nicola_unipd/MasterThesis/RelationalDeepRL/RelationalModule/RelationalNetworks.py'>"
      ]
     },
     "execution_count": 31,
     "metadata": {},
     "output_type": "execute_result"
    }
   ],
   "source": [
    "reload(rnet)"
   ]
  },
  {
   "cell_type": "code",
   "execution_count": 32,
   "metadata": {},
   "outputs": [],
   "source": [
    "n_hiddens = 256 \n",
    "residual_layer = rnet.ResidualLayer(n_features, n_hiddens)"
   ]
  },
  {
   "cell_type": "code",
   "execution_count": 33,
   "metadata": {},
   "outputs": [
    {
     "data": {
      "text/plain": [
       "tensor([[-3.0783e-01, -2.6816e-01, -6.9484e-03, -1.0234e-01, -2.0125e-01,\n",
       "          3.2590e-01,  3.4537e-01,  1.6676e-01, -1.4022e-01, -2.4998e-01,\n",
       "         -3.7718e-01,  3.2195e-03, -7.9302e-02, -1.0334e-01, -2.3368e-01,\n",
       "         -1.1705e-01,  2.3923e-01, -3.0261e-02, -8.2137e-02,  2.8402e-01,\n",
       "          2.4387e-01, -4.7626e-03, -1.7411e-01,  3.4484e-01, -8.5775e-02,\n",
       "          1.9343e-02, -4.7676e-02, -1.5612e-02, -1.4513e-01, -1.4677e-02,\n",
       "          4.6080e-01,  9.8367e-02, -1.8759e-01,  2.2664e-01, -3.4613e-01,\n",
       "         -1.9067e-02,  1.2845e-01, -3.5835e-01,  4.6214e-01, -2.5578e-01,\n",
       "          3.3528e-01,  5.1272e-03, -1.3390e-01, -3.3258e-02, -5.0577e-01,\n",
       "          7.5958e-02,  2.8291e-01, -1.9748e-01, -5.2432e-01, -1.7570e-01,\n",
       "         -1.8359e-01,  1.0159e-01,  3.4431e-01,  1.1114e-01, -7.7553e-02,\n",
       "         -1.7894e-01,  7.7040e-02, -5.3591e-01,  2.8884e-01,  4.7581e-02,\n",
       "         -1.4404e-01, -4.6286e-01, -4.0770e-02,  1.6806e-01, -5.2651e-01,\n",
       "          2.4428e-01,  1.6605e-01, -4.3939e-01,  2.0398e-01, -1.5335e-01,\n",
       "          1.1583e-01, -1.4338e-01, -5.5267e-02,  3.7470e-01, -2.6289e-02,\n",
       "         -9.9892e-02, -2.7954e-01,  2.1644e-01,  9.1117e-02,  1.2894e-01,\n",
       "          1.6170e-01, -2.0316e-01,  6.7740e-03, -3.1707e-01,  2.7418e-01,\n",
       "         -3.2257e-01,  4.7017e-02, -1.6046e-01, -1.8010e-01,  1.9892e-01,\n",
       "          6.8171e-01, -3.9773e-01, -2.1881e-01, -1.1713e-01,  6.3342e-02,\n",
       "         -3.7084e-01,  6.8782e-02,  1.3441e-02,  4.5441e-01, -1.4500e-01,\n",
       "          7.5457e-02, -4.0835e-01,  2.6327e-01,  2.1260e-02, -2.2495e-01,\n",
       "          1.6989e-01,  9.1699e-02, -1.1724e-01,  3.3687e-01, -1.6974e-01,\n",
       "         -4.6403e-01,  1.1718e-01,  6.1466e-03, -1.1344e-01, -2.0318e-01,\n",
       "         -4.5961e-01,  1.9854e-01,  3.7347e-01, -5.0878e-01,  5.7603e-01,\n",
       "         -4.2326e-02,  7.9775e-02, -1.6022e-01,  4.8472e-02,  1.2567e-01,\n",
       "          5.1351e-02, -4.1112e-03,  2.0943e-01, -1.2874e-01,  2.2116e-01,\n",
       "         -4.1082e-01,  1.1130e-02,  1.5943e-01,  2.6199e-04,  2.3650e-01,\n",
       "          4.9765e-01, -3.7346e-01, -1.0782e-01, -1.0931e-01, -2.0153e-01,\n",
       "          2.8904e-01, -1.6256e-01, -2.9466e-01, -6.7846e-03,  1.9911e-01,\n",
       "         -3.5937e-01, -3.2421e-02,  8.8059e-02,  4.2355e-02,  4.3486e-01,\n",
       "          8.4558e-02, -6.2520e-01, -3.5952e-02, -8.1737e-02,  2.0618e-02,\n",
       "          4.7420e-01, -1.1011e-01, -8.2249e-02,  2.6246e-01,  1.2959e-01,\n",
       "         -2.7172e-01, -1.2288e-01, -1.2766e-01,  3.0629e-03, -1.9330e-01,\n",
       "         -6.9014e-02, -1.9052e-01,  1.2398e-01, -3.4956e-01, -2.8965e-01,\n",
       "          1.9624e-02,  1.3528e-01, -2.8593e-01,  1.1487e-01, -1.1696e-01,\n",
       "          6.5597e-02,  6.6133e-02, -2.3019e-01, -2.2622e-01,  1.1622e-01,\n",
       "          1.6074e-01, -9.6498e-02,  1.4243e-01, -1.4953e-02,  7.2286e-02,\n",
       "         -9.5630e-02,  2.4320e-02, -3.3431e-01,  7.9424e-02,  5.9572e-02,\n",
       "         -9.3736e-02, -5.4637e-02,  1.8789e-01, -3.3369e-01,  4.9716e-01,\n",
       "         -2.7280e-01,  1.0795e-01, -4.2110e-01, -2.3696e-01, -1.2539e-01,\n",
       "         -2.0983e-01,  1.3645e-01, -3.2106e-01,  2.1756e-02,  9.7357e-03,\n",
       "          1.1370e-01,  1.3793e-02,  1.7356e-01,  5.4054e-01,  1.9129e-01,\n",
       "          4.0157e-02, -6.6467e-02, -6.5669e-02,  1.3808e-01, -4.0999e-01,\n",
       "         -4.7694e-01, -7.1571e-02,  4.4788e-01, -1.4519e-01,  3.9667e-02,\n",
       "         -5.6212e-01,  3.6544e-02,  3.8097e-01, -2.6702e-01, -1.9637e-01,\n",
       "         -3.7070e-01, -1.7567e-01, -1.4444e-01, -6.1568e-03, -3.8962e-01,\n",
       "         -4.1351e-02, -2.1424e-03,  2.0258e-01,  4.9083e-03,  9.7319e-02,\n",
       "         -4.1272e-01,  2.5690e-01, -2.3702e-01, -2.3697e-01, -2.1825e-01,\n",
       "          3.7229e-01,  1.8756e-01,  2.0806e-01,  3.4032e-01,  3.1425e-01,\n",
       "          1.0112e-01,  7.0072e-02,  1.8007e-01,  6.6778e-02, -2.7743e-01,\n",
       "          1.2281e-01,  1.1260e-01,  2.0223e-01,  2.3937e-02, -4.8643e-01,\n",
       "         -3.8376e-02]], grad_fn=<SubBackward0>)"
      ]
     },
     "execution_count": 33,
     "metadata": {},
     "output_type": "execute_result"
    }
   ],
   "source": [
    "residual_layer(x) - x # residual after ReLU"
   ]
  },
  {
   "cell_type": "markdown",
   "metadata": {},
   "source": [
    "# Full architecture"
   ]
  },
  {
   "cell_type": "code",
   "execution_count": 45,
   "metadata": {},
   "outputs": [
    {
     "data": {
      "text/plain": [
       "<module 'RelationalModule.ControlNetworks' from '/home/nicola/Nicola_unipd/MasterThesis/RelationalDeepRL/RelationalModule/ControlNetworks.py'>"
      ]
     },
     "execution_count": 45,
     "metadata": {},
     "output_type": "execute_result"
    }
   ],
   "source": [
    "reload(rnet)\n",
    "reload(cnet)"
   ]
  },
  {
   "cell_type": "code",
   "execution_count": 46,
   "metadata": {},
   "outputs": [
    {
     "name": "stdout",
     "output_type": "stream",
     "text": [
      "Sequential(\n",
      "  (0): ExtractEntities(\n",
      "    (embed): Embedding(117, 3)\n",
      "    (net): Sequential(\n",
      "      (0): Conv2d(3, 12, kernel_size=(2, 2), stride=(1, 1))\n",
      "      (1): ReLU()\n",
      "      (2): Conv2d(12, 24, kernel_size=(2, 2), stride=(1, 1))\n",
      "      (3): ReLU()\n",
      "    )\n",
      "  )\n",
      "  (1): RelationalModule(\n",
      "    (net): Sequential(\n",
      "      (0): PositionalEncoding(\n",
      "        (projection): Linear(in_features=26, out_features=256, bias=True)\n",
      "      )\n",
      "      (1): AttentionBlock(\n",
      "        (norm): LayerNorm((256,), eps=1e-05, elementwise_affine=True)\n",
      "        (dropout): Dropout(p=0.1, inplace=False)\n",
      "        (attn): MultiheadAttention(\n",
      "          (out_proj): Linear(in_features=256, out_features=256, bias=True)\n",
      "        )\n",
      "        (ff): PositionwiseFeedForward(\n",
      "          (w_1): Linear(in_features=256, out_features=64, bias=True)\n",
      "          (w_2): Linear(in_features=64, out_features=256, bias=True)\n",
      "          (dropout): Dropout(p=0.1, inplace=False)\n",
      "        )\n",
      "      )\n",
      "      (2): AttentionBlock(\n",
      "        (norm): LayerNorm((256,), eps=1e-05, elementwise_affine=True)\n",
      "        (dropout): Dropout(p=0.1, inplace=False)\n",
      "        (attn): MultiheadAttention(\n",
      "          (out_proj): Linear(in_features=256, out_features=256, bias=True)\n",
      "        )\n",
      "        (ff): PositionwiseFeedForward(\n",
      "          (w_1): Linear(in_features=256, out_features=64, bias=True)\n",
      "          (w_2): Linear(in_features=64, out_features=256, bias=True)\n",
      "          (dropout): Dropout(p=0.1, inplace=False)\n",
      "        )\n",
      "      )\n",
      "    )\n",
      "  )\n",
      "  (2): FeaturewiseMaxPool()\n",
      "  (3): ResidualLayer(\n",
      "    (norm): LayerNorm((256,), eps=1e-05, elementwise_affine=True)\n",
      "    (w1): Linear(in_features=256, out_features=256, bias=True)\n",
      "    (w2): Linear(in_features=256, out_features=256, bias=True)\n",
      "  )\n",
      "  (4): ResidualLayer(\n",
      "    (norm): LayerNorm((256,), eps=1e-05, elementwise_affine=True)\n",
      "    (w1): Linear(in_features=256, out_features=256, bias=True)\n",
      "    (w2): Linear(in_features=256, out_features=256, bias=True)\n",
      "  )\n",
      "  (5): ResidualLayer(\n",
      "    (norm): LayerNorm((256,), eps=1e-05, elementwise_affine=True)\n",
      "    (w1): Linear(in_features=256, out_features=256, bias=True)\n",
      "    (w2): Linear(in_features=256, out_features=256, bias=True)\n",
      "  )\n",
      "  (6): ResidualLayer(\n",
      "    (norm): LayerNorm((256,), eps=1e-05, elementwise_affine=True)\n",
      "    (w1): Linear(in_features=256, out_features=256, bias=True)\n",
      "    (w2): Linear(in_features=256, out_features=256, bias=True)\n",
      "  )\n",
      ")\n"
     ]
    }
   ],
   "source": [
    "box_net = rnet.BoxWorldNet(in_channels=1, n_kernels=24, vocab_size=117, n_dim=3,\n",
    "                              n_features=256, n_attn_modules=2, n_linears=4)"
   ]
  },
  {
   "cell_type": "code",
   "execution_count": 47,
   "metadata": {},
   "outputs": [
    {
     "name": "stdout",
     "output_type": "stream",
     "text": [
      "Sequential(\n",
      "  (0): ExtractEntities(\n",
      "    (embed): Embedding(117, 3)\n",
      "    (net): Sequential(\n",
      "      (0): Conv2d(3, 12, kernel_size=(2, 2), stride=(1, 1))\n",
      "      (1): ReLU()\n",
      "      (2): Conv2d(12, 24, kernel_size=(2, 2), stride=(1, 1))\n",
      "      (3): ReLU()\n",
      "    )\n",
      "  )\n",
      "  (1): RelationalModule(\n",
      "    (net): Sequential(\n",
      "      (0): PositionalEncoding(\n",
      "        (projection): Linear(in_features=26, out_features=256, bias=True)\n",
      "      )\n",
      "      (1): AttentionBlock(\n",
      "        (norm): LayerNorm((256,), eps=1e-05, elementwise_affine=True)\n",
      "        (dropout): Dropout(p=0.1, inplace=False)\n",
      "        (attn): MultiheadAttention(\n",
      "          (out_proj): Linear(in_features=256, out_features=256, bias=True)\n",
      "        )\n",
      "        (ff): PositionwiseFeedForward(\n",
      "          (w_1): Linear(in_features=256, out_features=64, bias=True)\n",
      "          (w_2): Linear(in_features=64, out_features=256, bias=True)\n",
      "          (dropout): Dropout(p=0.1, inplace=False)\n",
      "        )\n",
      "      )\n",
      "      (2): AttentionBlock(\n",
      "        (norm): LayerNorm((256,), eps=1e-05, elementwise_affine=True)\n",
      "        (dropout): Dropout(p=0.1, inplace=False)\n",
      "        (attn): MultiheadAttention(\n",
      "          (out_proj): Linear(in_features=256, out_features=256, bias=True)\n",
      "        )\n",
      "        (ff): PositionwiseFeedForward(\n",
      "          (w_1): Linear(in_features=256, out_features=64, bias=True)\n",
      "          (w_2): Linear(in_features=64, out_features=256, bias=True)\n",
      "          (dropout): Dropout(p=0.1, inplace=False)\n",
      "        )\n",
      "      )\n",
      "    )\n",
      "  )\n",
      "  (2): FeaturewiseProjection(\n",
      "    (norm): LayerNorm((144,), eps=1e-05, elementwise_affine=True)\n",
      "    (projection): Linear(in_features=144, out_features=1, bias=True)\n",
      "  )\n",
      "  (3): ResidualLayer(\n",
      "    (norm): LayerNorm((256,), eps=1e-05, elementwise_affine=True)\n",
      "    (w1): Linear(in_features=256, out_features=256, bias=True)\n",
      "    (w2): Linear(in_features=256, out_features=256, bias=True)\n",
      "  )\n",
      "  (4): ResidualLayer(\n",
      "    (norm): LayerNorm((256,), eps=1e-05, elementwise_affine=True)\n",
      "    (w1): Linear(in_features=256, out_features=256, bias=True)\n",
      "    (w2): Linear(in_features=256, out_features=256, bias=True)\n",
      "  )\n",
      "  (5): ResidualLayer(\n",
      "    (norm): LayerNorm((256,), eps=1e-05, elementwise_affine=True)\n",
      "    (w1): Linear(in_features=256, out_features=256, bias=True)\n",
      "    (w2): Linear(in_features=256, out_features=256, bias=True)\n",
      "  )\n",
      "  (6): ResidualLayer(\n",
      "    (norm): LayerNorm((256,), eps=1e-05, elementwise_affine=True)\n",
      "    (w1): Linear(in_features=256, out_features=256, bias=True)\n",
      "    (w2): Linear(in_features=256, out_features=256, bias=True)\n",
      "  )\n",
      ")\n"
     ]
    }
   ],
   "source": [
    "box_net_v1 = rnet.BoxWorldNet(in_channels=1, n_kernels=24, vocab_size=117, n_dim=3,\n",
    "                              n_features=256, n_attn_modules=2, n_linears=4, max_pool=False,\n",
    "                              linear_size=14)"
   ]
  },
  {
   "cell_type": "code",
   "execution_count": 48,
   "metadata": {},
   "outputs": [],
   "source": [
    "control_net = cnet.ControlNet(in_channels=1, n_kernels=24, vocab_size=117, n_dim=3,\n",
    "                              n_features=256, hidden_dim=64, n_control_modules=2, n_linears=4)"
   ]
  },
  {
   "cell_type": "code",
   "execution_count": 49,
   "metadata": {},
   "outputs": [],
   "source": [
    "x = torch.randint(high=116, size = (1,14,14))"
   ]
  },
  {
   "cell_type": "code",
   "execution_count": 50,
   "metadata": {},
   "outputs": [
    {
     "name": "stdout",
     "output_type": "stream",
     "text": [
      "x.shape (before ExtractEntities):  torch.Size([1, 14, 14])\n",
      "x.shape (ExtractEntities):  torch.Size([1, 24, 12, 12])\n",
      "x.shape (After encoding):  torch.Size([1, 26, 12, 12])\n",
      "x.shape (Before transposing and projection):  torch.Size([1, 26, 144])\n",
      "x.shape (PositionalEncoding):  torch.Size([144, 1, 256])\n",
      "x.shape (RelationalModule):  torch.Size([144, 1, 256])\n",
      "x.shape (FeaturewiseProjection):  torch.Size([1, 256])\n",
      "x.shape (BoxWorldNet):  torch.Size([1, 256])\n",
      "y.shape:  torch.Size([1, 256])\n"
     ]
    },
    {
     "data": {
      "text/plain": [
       "tensor([[ 1.5390e-01, -7.0952e-01, -6.5533e-01, -2.3280e-01,  1.4070e+00,\n",
       "          1.1377e+00, -5.1626e-01,  6.7379e-01, -2.1708e+00,  4.7738e-01,\n",
       "          1.0760e-01, -8.9058e-01, -1.4046e+00, -5.7237e-01,  1.6635e-01,\n",
       "         -4.1910e-01, -1.1328e+00,  7.0878e-01, -1.7152e+00,  3.3344e-01,\n",
       "         -1.1291e+00,  4.5320e-01,  8.5595e-01,  3.1230e-01,  7.7161e-01,\n",
       "          2.0477e-01,  1.1913e+00,  2.3102e-01,  4.7967e-01,  4.4859e-01,\n",
       "          2.6376e-01, -3.8250e-01,  4.9597e-01,  1.6744e+00, -1.2098e+00,\n",
       "         -6.6775e-01, -1.4222e+00, -1.2581e+00,  5.1194e-01,  1.6870e+00,\n",
       "          6.8565e-01, -4.4087e-01, -2.5555e-01, -8.3321e-02,  9.2260e-01,\n",
       "          1.8577e-01, -3.9201e-01, -6.4735e-01,  1.1492e+00, -6.0591e-01,\n",
       "         -1.0770e+00, -6.9447e-01,  1.1757e+00, -1.4619e+00, -9.9624e-02,\n",
       "         -2.2770e-01,  7.9717e-01, -3.2119e-02,  9.6015e-01,  7.1545e-01,\n",
       "         -1.5834e+00, -1.7014e+00, -8.0918e-01,  2.4594e-02, -1.3880e+00,\n",
       "          6.1104e-01, -1.6140e-01, -1.5142e+00,  4.5374e-01,  1.0029e+00,\n",
       "         -6.8375e-01,  8.5494e-01, -9.3686e-01, -1.2916e+00, -6.3055e-01,\n",
       "         -4.6585e-01, -2.3273e-01, -1.7478e+00,  1.3190e+00,  1.2188e+00,\n",
       "          1.1399e+00,  7.0746e-01,  3.7460e-01, -1.6712e+00, -1.5899e+00,\n",
       "          5.6108e-02, -6.6798e-01,  6.3316e-01, -1.1217e+00,  4.1541e-01,\n",
       "          1.2422e+00,  9.9117e-01, -5.9803e-01,  5.3630e-01, -4.9501e-01,\n",
       "         -6.7523e-01,  4.8744e-01, -7.2168e-02,  8.9370e-01, -7.5807e-01,\n",
       "         -9.4070e-01, -3.4573e-01,  1.3184e+00,  7.7504e-02, -1.4278e-02,\n",
       "          3.6680e-01, -8.7529e-01, -7.1923e-02,  9.0720e-01, -1.1006e+00,\n",
       "          3.9289e-01, -1.1935e+00, -1.3737e+00, -9.9387e-01, -1.0551e+00,\n",
       "         -7.2320e-01,  4.7296e-01, -7.5129e-01,  1.3695e+00,  1.5897e+00,\n",
       "          1.1725e+00,  2.0908e-01,  1.7357e-01, -2.7772e-01,  7.0429e-01,\n",
       "         -6.1249e-01, -8.2956e-01, -3.6264e-01,  7.4018e-01, -1.7093e+00,\n",
       "         -1.7824e+00,  2.3303e-01, -6.3673e-01, -4.3805e-01, -3.6385e-01,\n",
       "         -1.1439e-01,  8.0589e-01,  4.0713e-01,  1.1673e+00,  3.5000e-01,\n",
       "          5.2904e-01, -5.1048e-01, -3.2420e-01, -5.4290e-02, -8.8203e-01,\n",
       "          6.3057e-01,  4.9503e-01, -9.2167e-01, -1.0007e+00, -4.7448e-01,\n",
       "         -1.6646e-01, -2.9448e-04, -3.2978e-01,  1.1968e-01,  4.5078e-01,\n",
       "         -1.2989e+00, -2.5267e-02, -1.4760e+00,  3.6959e-01, -1.2328e+00,\n",
       "         -2.8160e-01,  1.0107e+00,  2.3989e-01,  8.9568e-01, -9.6622e-01,\n",
       "         -7.6097e-01, -1.2622e+00,  1.7727e+00,  2.8790e-01,  4.5610e-01,\n",
       "         -1.1607e+00, -9.5557e-01, -1.6216e-01, -3.9887e-01, -2.2010e+00,\n",
       "          4.6440e-01,  7.2119e-01, -2.6358e-01, -2.0968e-01,  9.8142e-01,\n",
       "          3.2980e-02, -5.4627e-01, -8.2396e-01, -4.3259e-01, -5.2551e-01,\n",
       "         -3.8427e-01, -1.4203e+00, -1.6438e+00, -4.2595e-01, -8.6221e-02,\n",
       "          1.3292e+00, -7.0854e-01, -7.1617e-01, -1.2274e-01,  6.0675e-01,\n",
       "          1.2018e+00, -3.3904e-01, -6.3034e-01, -3.8836e-01,  1.1551e+00,\n",
       "         -4.7881e-01, -1.6740e-01,  1.7712e+00, -1.9414e-01,  5.9549e-01,\n",
       "          7.0060e-01,  5.3663e-01,  6.3504e-01, -9.7534e-01,  3.4964e-01,\n",
       "         -1.4800e+00, -1.0901e+00, -1.1155e+00,  1.6875e-01, -2.8115e-01,\n",
       "          4.7816e-02, -3.5647e-01,  5.3462e-01, -3.9576e-01, -4.7640e-01,\n",
       "         -1.9209e+00, -1.2598e+00,  5.6024e-01, -1.1567e+00, -7.6133e-01,\n",
       "          9.1165e-01, -3.3810e-01,  4.7798e-01,  1.9496e+00,  2.6769e-01,\n",
       "         -6.9183e-02,  7.4193e-02,  1.1802e+00,  1.2897e-01, -6.1182e-01,\n",
       "         -8.8506e-01,  3.8744e-01, -1.7249e+00,  5.0078e-01, -1.1607e-01,\n",
       "         -3.7000e-01,  6.2016e-01,  7.0790e-01, -1.4894e-01, -7.5942e-01,\n",
       "          1.3257e+00,  1.2343e-02,  1.4990e-01,  9.5381e-01,  7.2759e-01,\n",
       "         -5.3601e-01, -4.6851e-01, -8.2727e-01,  1.0327e+00, -1.0080e+00,\n",
       "          1.2947e+00]], grad_fn=<AddBackward0>)"
      ]
     },
     "execution_count": 50,
     "metadata": {},
     "output_type": "execute_result"
    }
   ],
   "source": [
    "y = box_net_v1(x)\n",
    "print(\"y.shape: \", y.shape)\n",
    "y"
   ]
  },
  {
   "cell_type": "code",
   "execution_count": 120,
   "metadata": {},
   "outputs": [
    {
     "name": "stdout",
     "output_type": "stream",
     "text": [
      "y.shape:  torch.Size([1, 256])\n"
     ]
    },
    {
     "data": {
      "text/plain": [
       "tensor([[ 1.4898e+00,  7.7120e-02,  2.4382e-01,  6.4252e-01,  2.1385e-01,\n",
       "          3.1130e-02,  5.5482e-01,  1.6747e-01,  4.6643e-02,  1.6777e+00,\n",
       "          2.1526e+00,  1.2783e-01,  7.6233e-01,  1.9088e-01,  1.9711e-01,\n",
       "          8.4925e-02,  1.6465e-01,  4.0268e-01,  1.4540e-01,  1.5118e-01,\n",
       "          3.4683e-01,  1.6207e+00,  2.1201e-01,  1.0745e-01,  1.5318e-03,\n",
       "          1.1062e+00,  1.6899e+00,  1.3424e-01, -6.7152e-02,  6.5382e-02,\n",
       "          1.1693e-01,  1.4884e-01,  1.0919e-01,  9.0146e-01,  3.5792e-01,\n",
       "          8.5205e-01,  2.1508e-01,  1.0901e-01,  1.2527e-01,  5.7115e-01,\n",
       "          1.4628e-01,  1.0879e+00,  1.0445e+00,  1.3953e-01,  3.5668e-01,\n",
       "          4.2492e-01,  2.5978e-02,  1.3901e-01,  1.1301e+00,  1.4053e-01,\n",
       "          8.8481e-01,  1.0414e+00,  5.5296e-01,  4.3741e-01,  4.7355e-01,\n",
       "          3.6987e-01,  2.3077e-01,  4.9104e-01,  2.8129e-01,  8.3265e-02,\n",
       "          3.0584e-01,  9.3229e-01,  1.5149e-01,  2.7432e-01,  1.1416e-01,\n",
       "          7.6628e-02,  5.5852e-02,  1.3794e+00,  6.9490e-02,  5.3558e-02,\n",
       "          1.2692e-01, -1.1470e-01,  1.3475e-01,  4.1553e-01,  3.8324e-02,\n",
       "          4.6472e-01,  4.2084e-01,  4.7524e-01,  1.6834e+00,  7.2498e-02,\n",
       "          1.8119e+00,  1.3831e-01,  1.9772e-01,  1.4089e-01,  1.4217e-01,\n",
       "          8.1189e-01,  6.6907e-01,  1.1697e-01, -1.0798e-01,  3.8368e-01,\n",
       "          6.0217e-02,  5.5627e-02,  1.1025e+00,  8.7991e-01,  1.0839e-01,\n",
       "          3.0686e-01,  3.0830e-01,  3.2608e-01,  4.7724e-01,  1.1034e-01,\n",
       "          6.2290e-01,  9.6643e-01,  2.8766e-01,  6.4237e-02,  9.4512e-01,\n",
       "          1.2591e-01,  2.1018e-01,  1.1034e-01,  1.5518e-01,  2.5175e-01,\n",
       "          7.0853e-01,  2.8260e-01,  1.7625e-01,  6.7923e-01,  2.8778e-01,\n",
       "          1.5805e-01,  5.9924e-01,  4.8595e-01,  1.5849e+00,  2.1954e-01,\n",
       "          2.2103e+00,  1.0972e-02,  1.1874e+00,  3.0221e-01,  1.0278e-01,\n",
       "          7.6023e-01,  5.4951e-01,  1.3706e+00,  1.8939e-01,  3.4269e-01,\n",
       "          9.9126e-02,  8.1561e-02,  1.1967e+00,  1.9953e+00,  1.0224e+00,\n",
       "          4.3423e-02,  8.1522e-01, -3.0697e-02,  4.7234e-02,  3.8319e-02,\n",
       "          3.7037e-01,  8.4465e-02,  3.9248e-01,  1.1777e+00,  2.9095e-01,\n",
       "          8.4843e-02,  2.5477e-01, -8.2460e-02,  9.3874e-01,  1.2012e-02,\n",
       "         -8.0039e-02,  1.0280e-01, -7.8835e-02,  6.4250e-01,  1.6947e-01,\n",
       "         -2.0316e-02,  3.2613e-01,  6.9924e-01,  5.1973e-01,  2.5886e-01,\n",
       "          1.3260e-02,  3.0627e-01,  5.2134e-01,  3.7092e-02,  5.9571e-01,\n",
       "          2.5470e-01,  7.1644e-01,  1.0584e+00,  1.3832e+00,  2.2297e-03,\n",
       "          1.8725e+00, -2.1926e-02, -1.3263e-02,  6.1085e-01,  2.7734e-02,\n",
       "          2.4098e-01,  4.5899e-01, -7.6106e-02,  2.3499e+00,  4.9207e-02,\n",
       "          6.4980e-01,  4.2604e-01,  1.1126e+00, -5.8744e-02, -2.5146e-02,\n",
       "          3.9123e-03,  5.0893e-01, -4.0834e-02,  3.5782e-02, -5.4309e-03,\n",
       "         -8.1395e-02,  2.8987e-01,  1.0061e-01,  5.1476e-01,  4.4605e-01,\n",
       "          5.1156e-02,  6.6941e-02,  3.5788e-01,  1.3319e-02,  3.6307e-01,\n",
       "          4.0070e-01,  8.8359e-02,  1.1056e-01,  1.2935e-02,  2.3889e-01,\n",
       "          2.0157e-01,  1.0686e+00, -4.3138e-02,  1.0934e-01,  8.1360e-01,\n",
       "          9.1535e-02,  5.0044e-01,  3.3550e-01,  1.1092e-01,  6.5927e-03,\n",
       "          2.1665e-01,  6.9891e-01,  5.8565e-01,  1.0025e+00,  4.0845e-03,\n",
       "          2.3818e-02, -1.1253e-02,  1.3232e+00,  8.6101e-01,  6.1005e-01,\n",
       "          1.2189e+00,  6.0652e-01,  1.4391e+00,  4.7671e-02,  5.6531e-02,\n",
       "         -8.2698e-03,  8.8533e-01,  1.5818e-01, -1.4885e-02,  1.4182e+00,\n",
       "          3.5915e-01,  1.3138e-01,  8.5724e-01,  1.4025e+00, -2.5121e-02,\n",
       "          4.9772e-02,  1.4282e-01, -1.1717e-01, -7.6313e-03,  3.2364e-01,\n",
       "          6.8363e-01,  7.3172e-02,  4.8284e-02, -3.8048e-02,  2.4617e-01,\n",
       "          1.4405e+00,  3.4370e-01,  1.2833e+00,  2.3918e-01,  5.9789e-01,\n",
       "          5.3172e-01]], grad_fn=<AddBackward0>)"
      ]
     },
     "execution_count": 120,
     "metadata": {},
     "output_type": "execute_result"
    }
   ],
   "source": [
    "y = control_net(x)\n",
    "print(\"y.shape: \", y.shape)\n",
    "y"
   ]
  },
  {
   "cell_type": "markdown",
   "metadata": {},
   "source": [
    "# Multi-channel embedding layer test\n",
    "\n",
    "Here I just wanted to see how to embed even images with more than one channel"
   ]
  },
  {
   "cell_type": "code",
   "execution_count": 22,
   "metadata": {},
   "outputs": [
    {
     "data": {
      "text/plain": [
       "<module 'RelationalModule.RelationalNetworks' from '/home/nicola/Nicola_unipd/MasterThesis/RelationalDeepRL/RelationalModule/RelationalNetworks.py'>"
      ]
     },
     "execution_count": 22,
     "metadata": {},
     "output_type": "execute_result"
    }
   ],
   "source": [
    "reload(rnet)"
   ]
  },
  {
   "cell_type": "code",
   "execution_count": 30,
   "metadata": {},
   "outputs": [],
   "source": [
    "get_entities = rnet.ExtractEntities(k_out = 24, k_in=3, n_dim=3)"
   ]
  },
  {
   "cell_type": "code",
   "execution_count": 31,
   "metadata": {},
   "outputs": [],
   "source": [
    "embed = nn.Embedding(255,3)"
   ]
  },
  {
   "cell_type": "code",
   "execution_count": 35,
   "metadata": {},
   "outputs": [],
   "source": [
    "x = torch.randint(high=116, size = (3,14,14))"
   ]
  },
  {
   "cell_type": "code",
   "execution_count": 36,
   "metadata": {},
   "outputs": [
    {
     "data": {
      "text/plain": [
       "torch.Size([1, 24, 12, 12])"
      ]
     },
     "execution_count": 36,
     "metadata": {},
     "output_type": "execute_result"
    }
   ],
   "source": [
    "get_entities(x).shape"
   ]
  },
  {
   "cell_type": "code",
   "execution_count": 21,
   "metadata": {},
   "outputs": [
    {
     "data": {
      "text/plain": [
       "torch.Size([10, 3, 14, 14])"
      ]
     },
     "execution_count": 21,
     "metadata": {},
     "output_type": "execute_result"
    }
   ],
   "source": [
    "x = x.transpose(-1,-2).reshape(x.shape[0],-1,x.shape[-2],x.shape[-1])\n",
    "x.shape"
   ]
  },
  {
   "cell_type": "code",
   "execution_count": 10,
   "metadata": {},
   "outputs": [],
   "source": [
    "bw_net = rnet.BoxWorldNet()"
   ]
  },
  {
   "cell_type": "code",
   "execution_count": 11,
   "metadata": {},
   "outputs": [
    {
     "data": {
      "text/plain": [
       "torch.Size([1, 256])"
      ]
     },
     "execution_count": 11,
     "metadata": {},
     "output_type": "execute_result"
    }
   ],
   "source": [
    "bw_net(x).shape"
   ]
  },
  {
   "cell_type": "code",
   "execution_count": null,
   "metadata": {},
   "outputs": [],
   "source": []
  }
 ],
 "metadata": {
  "kernelspec": {
   "display_name": "torch",
   "language": "python",
   "name": "torch"
  },
  "language_info": {
   "codemirror_mode": {
    "name": "ipython",
    "version": 3
   },
   "file_extension": ".py",
   "mimetype": "text/x-python",
   "name": "python",
   "nbconvert_exporter": "python",
   "pygments_lexer": "ipython3",
   "version": "3.7.6"
  }
 },
 "nbformat": 4,
 "nbformat_minor": 2
}
