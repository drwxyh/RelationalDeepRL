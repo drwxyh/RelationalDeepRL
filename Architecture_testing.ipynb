{
 "cells": [
  {
   "cell_type": "markdown",
   "metadata": {},
   "source": [
    "# Relational Deep Reinforcement Learning\n",
    "\n",
    "**Plan:**\n",
    "1. Architecture\n",
    "2. Agent\n",
    "3. Environment\n",
    "4. Training cycle"
   ]
  },
  {
   "cell_type": "markdown",
   "metadata": {},
   "source": [
    "## Relational architecture\n",
    "\n",
    "**Input: (b,n,n,1)** = (batch length, linear size, linear size, greyscale)\n",
    "\n",
    "**Extract entities: (b,n,n,1) -> (b, m, m, 2k)** \n",
    "* embedding layer: vocab_size = MAX_PIXELS+1, embedding_dim = n_dim\n",
    "* convolutional_layer1(kernel_size = (2,2), input_filters = n_dim, output_filters = k, stride = 1, pad = (1,1))\n",
    "* convolutional_layer2(kernel_size = (2,2), input_filters = k, output_filters = 2k, stride = 1, pad = (1,1))\n",
    "\n",
    "**Relational block: (b, m, m, 2k) -> (b,d_m)**\n",
    "* Positional Encoding: (b, m, m, 2k) -> (b, m^2, d_m)\n",
    "* N Multi-Headed Attention blocks: (b, m^2, d_m) -> (b, m^2, d_m)\n",
    "\n",
    "**Feature-wise max pooling: (b, m^2, d_m) -> (b, d_m)**\n",
    "\n",
    "**Multi-Layer Perceptron: (b, d_m) -> (b, d_m)**\n",
    "* 4 fully connected layers (d_m,d_m) with ReLUs (TODO: add skip-connections)\n",
    "\n",
    "**Actor output: (b,d_m) -> (b,a)** [a = number of possible actions]\n",
    "* Single linear layer with softmax at the end\n",
    "\n",
    "**Critic output: (b,d_m) -> (b,1)** \n",
    "* Single linear layer without activation function"
   ]
  },
  {
   "cell_type": "markdown",
   "metadata": {},
   "source": [
    "## Control architecture\n",
    "\n",
    "**Input: (b,n,n,1)** = (batch length, linear size, linear size, greyscale)\n",
    "\n",
    "**Extract entities: (b,n,n,1) -> (b, m, m, 2k)** \n",
    "* embedding layer: vocab_size = MAX_PIXELS+1, embedding_dim = n_dim\n",
    "* convolutional_layer1(kernel_size = (2,2), input_filters = n_dim, output_filters = k, stride = 1, pad = (1,1))\n",
    "* convolutional_layer2(kernel_size = (2,2), input_filters = k, output_filters = 2k, stride = 1, pad = (1,1))\n",
    "\n",
    "**1D Convolutional block: (b, m, m, 2k) -> (b, m^2, d_m)**\n",
    "* Positional Encoding: (b, m, m, 2k) -> (b, m^2, d_m)\n",
    "* 2 1D convolutional blocks with ReLUs: (b, m^2, d_m) -> (b, m^2, d_m) - pixel-wise\n",
    "\n",
    "**Feature-wise max pooling: (b, m^2, d_m) -> (b, d_m)**\n",
    "\n",
    "**Multi-Layer Perceptron: (b, d_m) -> (b, d_m)**\n",
    "* 4 fully connected layers (d_m,d_m) with ReLUs - feature-wise\n",
    "* (TODO: add skip-connections)\n",
    "\n",
    "**Actor output: (b,d_m) -> (b,a)** [a = number of possible actions]\n",
    "* Single linear layer with softmax at the end\n",
    "\n",
    "**Critic output: (b,d_m) -> (b,1)** \n",
    "* Single linear layer without activation function"
   ]
  },
  {
   "cell_type": "code",
   "execution_count": 1,
   "metadata": {},
   "outputs": [],
   "source": [
    "import numpy as np\n",
    "import torch \n",
    "\n",
    "import torch.nn as nn\n",
    "import torch.nn.functional as F"
   ]
  },
  {
   "cell_type": "code",
   "execution_count": 2,
   "metadata": {},
   "outputs": [],
   "source": [
    "from RelationalModule import RelationalNetworks as rnet\n",
    "from RelationalModule import ControlNetworks as cnet"
   ]
  },
  {
   "cell_type": "code",
   "execution_count": 3,
   "metadata": {},
   "outputs": [
    {
     "data": {
      "text/plain": [
       "<module 'RelationalModule.ControlNetworks' from '/home/nicola/Nicola_unipd/MasterThesis/RelationalDeepRL/RelationalModule/ControlNetworks.py'>"
      ]
     },
     "execution_count": 3,
     "metadata": {},
     "output_type": "execute_result"
    }
   ],
   "source": [
    "from importlib import reload\n",
    "reload(rnet)\n",
    "reload(cnet)"
   ]
  },
  {
   "cell_type": "markdown",
   "metadata": {},
   "source": [
    "# Embedding layer"
   ]
  },
  {
   "cell_type": "code",
   "execution_count": 7,
   "metadata": {},
   "outputs": [],
   "source": [
    "import matplotlib.pyplot as plt"
   ]
  },
  {
   "cell_type": "code",
   "execution_count": 8,
   "metadata": {},
   "outputs": [],
   "source": [
    "vocab_size = 256\n",
    "n_dim = 3\n",
    "embed = nn.Embedding(vocab_size, n_dim)"
   ]
  },
  {
   "cell_type": "code",
   "execution_count": 15,
   "metadata": {
    "scrolled": true
   },
   "outputs": [
    {
     "name": "stdout",
     "output_type": "stream",
     "text": [
      "y_zeros.shape:  torch.Size([10, 10, 3])\n",
      "tensor([[-1.5228, -1.5228, -1.5228, -1.5228, -1.5228, -1.5228, -1.5228, -1.5228,\n",
      "         -1.5228, -1.5228],\n",
      "        [-1.5228, -1.5228, -1.5228, -1.5228, -1.5228, -1.5228, -1.5228, -1.5228,\n",
      "         -1.5228, -1.5228],\n",
      "        [-1.5228, -1.5228, -1.5228, -1.5228, -1.5228, -1.5228, -1.5228, -1.5228,\n",
      "         -1.5228, -1.5228],\n",
      "        [-1.5228, -1.5228, -1.5228, -1.5228, -1.5228, -1.5228, -1.5228, -1.5228,\n",
      "         -1.5228, -1.5228],\n",
      "        [-1.5228, -1.5228, -1.5228, -1.5228, -1.5228, -1.5228, -1.5228, -1.5228,\n",
      "         -1.5228, -1.5228],\n",
      "        [-1.5228, -1.5228, -1.5228, -1.5228, -1.5228, -1.5228, -1.5228, -1.5228,\n",
      "         -1.5228, -1.5228],\n",
      "        [-1.5228, -1.5228, -1.5228, -1.5228, -1.5228, -1.5228, -1.5228, -1.5228,\n",
      "         -1.5228, -1.5228],\n",
      "        [-1.5228, -1.5228, -1.5228, -1.5228, -1.5228, -1.5228, -1.5228, -1.5228,\n",
      "         -1.5228, -1.5228],\n",
      "        [-1.5228, -1.5228, -1.5228, -1.5228, -1.5228, -1.5228, -1.5228, -1.5228,\n",
      "         -1.5228, -1.5228],\n",
      "        [-1.5228, -1.5228, -1.5228, -1.5228, -1.5228, -1.5228, -1.5228, -1.5228,\n",
      "         -1.5228, -1.5228]], grad_fn=<SelectBackward>)\n",
      "tensor([[-0.1320, -0.1320, -0.1320, -0.1320, -0.1320, -0.1320, -0.1320, -0.1320,\n",
      "         -0.1320, -0.1320],\n",
      "        [-0.1320, -0.1320, -0.1320, -0.1320, -0.1320, -0.1320, -0.1320, -0.1320,\n",
      "         -0.1320, -0.1320],\n",
      "        [-0.1320, -0.1320, -0.1320, -0.1320, -0.1320, -0.1320, -0.1320, -0.1320,\n",
      "         -0.1320, -0.1320],\n",
      "        [-0.1320, -0.1320, -0.1320, -0.1320, -0.1320, -0.1320, -0.1320, -0.1320,\n",
      "         -0.1320, -0.1320],\n",
      "        [-0.1320, -0.1320, -0.1320, -0.1320, -0.1320, -0.1320, -0.1320, -0.1320,\n",
      "         -0.1320, -0.1320],\n",
      "        [-0.1320, -0.1320, -0.1320, -0.1320, -0.1320, -0.1320, -0.1320, -0.1320,\n",
      "         -0.1320, -0.1320],\n",
      "        [-0.1320, -0.1320, -0.1320, -0.1320, -0.1320, -0.1320, -0.1320, -0.1320,\n",
      "         -0.1320, -0.1320],\n",
      "        [-0.1320, -0.1320, -0.1320, -0.1320, -0.1320, -0.1320, -0.1320, -0.1320,\n",
      "         -0.1320, -0.1320],\n",
      "        [-0.1320, -0.1320, -0.1320, -0.1320, -0.1320, -0.1320, -0.1320, -0.1320,\n",
      "         -0.1320, -0.1320],\n",
      "        [-0.1320, -0.1320, -0.1320, -0.1320, -0.1320, -0.1320, -0.1320, -0.1320,\n",
      "         -0.1320, -0.1320]], grad_fn=<SelectBackward>)\n",
      "tensor([[0.7279, 0.7279, 0.7279, 0.7279, 0.7279, 0.7279, 0.7279, 0.7279, 0.7279,\n",
      "         0.7279],\n",
      "        [0.7279, 0.7279, 0.7279, 0.7279, 0.7279, 0.7279, 0.7279, 0.7279, 0.7279,\n",
      "         0.7279],\n",
      "        [0.7279, 0.7279, 0.7279, 0.7279, 0.7279, 0.7279, 0.7279, 0.7279, 0.7279,\n",
      "         0.7279],\n",
      "        [0.7279, 0.7279, 0.7279, 0.7279, 0.7279, 0.7279, 0.7279, 0.7279, 0.7279,\n",
      "         0.7279],\n",
      "        [0.7279, 0.7279, 0.7279, 0.7279, 0.7279, 0.7279, 0.7279, 0.7279, 0.7279,\n",
      "         0.7279],\n",
      "        [0.7279, 0.7279, 0.7279, 0.7279, 0.7279, 0.7279, 0.7279, 0.7279, 0.7279,\n",
      "         0.7279],\n",
      "        [0.7279, 0.7279, 0.7279, 0.7279, 0.7279, 0.7279, 0.7279, 0.7279, 0.7279,\n",
      "         0.7279],\n",
      "        [0.7279, 0.7279, 0.7279, 0.7279, 0.7279, 0.7279, 0.7279, 0.7279, 0.7279,\n",
      "         0.7279],\n",
      "        [0.7279, 0.7279, 0.7279, 0.7279, 0.7279, 0.7279, 0.7279, 0.7279, 0.7279,\n",
      "         0.7279],\n",
      "        [0.7279, 0.7279, 0.7279, 0.7279, 0.7279, 0.7279, 0.7279, 0.7279, 0.7279,\n",
      "         0.7279]], grad_fn=<SelectBackward>)\n"
     ]
    }
   ],
   "source": [
    "zeros = torch.zeros((10,10), dtype=int)\n",
    "y_zeros = embed(zeros)\n",
    "print(\"y_zeros.shape: \", y_zeros.shape)\n",
    "print(y_zeros[:,:,0])\n",
    "print(y_zeros[:,:,1])\n",
    "print(y_zeros[:,:,2])"
   ]
  },
  {
   "cell_type": "markdown",
   "metadata": {},
   "source": [
    "Same integer values get mapped to same vectors, as it should be. "
   ]
  },
  {
   "cell_type": "code",
   "execution_count": 17,
   "metadata": {},
   "outputs": [
    {
     "name": "stderr",
     "output_type": "stream",
     "text": [
      "Clipping input data to the valid range for imshow with RGB data ([0..1] for floats or [0..255] for integers).\n"
     ]
    },
    {
     "data": {
      "text/plain": [
       "<matplotlib.image.AxesImage at 0x7f3914d267d0>"
      ]
     },
     "execution_count": 17,
     "metadata": {},
     "output_type": "execute_result"
    },
    {
     "data": {
      "image/png": "[encoded data removed]",
      "text/plain": [
       "<Figure size 432x288 with 1 Axes>"
      ]
     },
     "metadata": {
      "needs_background": "light"
     },
     "output_type": "display_data"
    }
   ],
   "source": [
    "eye = torch.eye(10, dtype=int)\n",
    "y_eye = embed(eye).detach()\n",
    "plt.imshow(y_eye.numpy())"
   ]
  },
  {
   "cell_type": "markdown",
   "metadata": {},
   "source": [
    "Again the embedding works, since each integer value is associated to a particular vector (in this case 3D vector, that can be represented as RGB color once clipped)."
   ]
  },
  {
   "cell_type": "markdown",
   "metadata": {},
   "source": [
    "# Convolution layers"
   ]
  },
  {
   "cell_type": "code",
   "execution_count": 41,
   "metadata": {},
   "outputs": [],
   "source": [
    "k_in = 1\n",
    "k_out = 24\n",
    "kernel_size = 2\n",
    "stride = 1\n",
    "padding = 0\n",
    "\n",
    "layers = []\n",
    "layers.append(nn.Conv2d(n_dim*k_in, k_out//2, kernel_size, stride, padding))\n",
    "layers.append(nn.ReLU())\n",
    "layers.append(nn.Conv2d(k_out//2, k_out, kernel_size, stride, padding))\n",
    "#layers.append(nn.ReLU())\n",
    "net = nn.Sequential(*layers)"
   ]
  },
  {
   "cell_type": "code",
   "execution_count": 42,
   "metadata": {},
   "outputs": [],
   "source": [
    "def sum_slices(x, axes):\n",
    "    return x.squeeze().sum(axis=axes).detach()"
   ]
  },
  {
   "cell_type": "code",
   "execution_count": 43,
   "metadata": {
    "scrolled": true
   },
   "outputs": [
    {
     "name": "stdout",
     "output_type": "stream",
     "text": [
      "x.shape (before embed):  torch.Size([1, 1, 14, 14])\n",
      "x.shape (after embed):  torch.Size([1, 1, 14, 14, 3])\n",
      "x.sum in slices:  tensor([-298.4777,  -25.8635,  142.6594])\n",
      "x.shape:  torch.Size([1, 1, 3, 14, 14])\n",
      "x.shape:  torch.Size([1, 3, 14, 14])\n",
      "y.shape:  torch.Size([1, 24, 12, 12])\n"
     ]
    }
   ],
   "source": [
    "x = torch.zeros((1,14,14), dtype=int) # this is the structure of the state retrieved by the game\n",
    "if len(x.shape) <= 3:\n",
    "    x = x.unsqueeze(0)\n",
    "print(\"x.shape (before embed): \", x.shape)\n",
    "x = embed(x)\n",
    "print(\"x.shape (after embed): \", x.shape)\n",
    "print(\"x.sum in slices: \", sum_slices(x,(0,1)))\n",
    "x = x.transpose(-1,-3)\n",
    "print(\"x.shape: \", x.shape)\n",
    "x = x.transpose(-1,-2).reshape(x.shape[0],-1,x.shape[-2],x.shape[-1])\n",
    "print(\"x.shape: \", x.shape)\n",
    "y = net(x)\n",
    "print(\"y.shape: \", y.shape)"
   ]
  },
  {
   "cell_type": "code",
   "execution_count": 46,
   "metadata": {
    "scrolled": false
   },
   "outputs": [
    {
     "name": "stdout",
     "output_type": "stream",
     "text": [
      "tensor([ 17.0325,  39.3045, -40.1995, -12.9870, -10.8541,  25.2027, -11.6882,\n",
      "        -10.7207,  58.9424,  25.1880,  11.9969,  23.3177, -21.9542,  24.8942,\n",
      "        -20.7884, -37.6083, -86.3818,  -7.9432,  -8.0618,  85.5430,  53.4246,\n",
      "        -36.0938,  -7.5272, -16.7353])\n",
      "y[0,:,:]:  tensor([[0.1183, 0.1183, 0.1183, 0.1183, 0.1183, 0.1183, 0.1183, 0.1183, 0.1183,\n",
      "         0.1183, 0.1183, 0.1183],\n",
      "        [0.1183, 0.1183, 0.1183, 0.1183, 0.1183, 0.1183, 0.1183, 0.1183, 0.1183,\n",
      "         0.1183, 0.1183, 0.1183],\n",
      "        [0.1183, 0.1183, 0.1183, 0.1183, 0.1183, 0.1183, 0.1183, 0.1183, 0.1183,\n",
      "         0.1183, 0.1183, 0.1183],\n",
      "        [0.1183, 0.1183, 0.1183, 0.1183, 0.1183, 0.1183, 0.1183, 0.1183, 0.1183,\n",
      "         0.1183, 0.1183, 0.1183],\n",
      "        [0.1183, 0.1183, 0.1183, 0.1183, 0.1183, 0.1183, 0.1183, 0.1183, 0.1183,\n",
      "         0.1183, 0.1183, 0.1183],\n",
      "        [0.1183, 0.1183, 0.1183, 0.1183, 0.1183, 0.1183, 0.1183, 0.1183, 0.1183,\n",
      "         0.1183, 0.1183, 0.1183],\n",
      "        [0.1183, 0.1183, 0.1183, 0.1183, 0.1183, 0.1183, 0.1183, 0.1183, 0.1183,\n",
      "         0.1183, 0.1183, 0.1183],\n",
      "        [0.1183, 0.1183, 0.1183, 0.1183, 0.1183, 0.1183, 0.1183, 0.1183, 0.1183,\n",
      "         0.1183, 0.1183, 0.1183],\n",
      "        [0.1183, 0.1183, 0.1183, 0.1183, 0.1183, 0.1183, 0.1183, 0.1183, 0.1183,\n",
      "         0.1183, 0.1183, 0.1183],\n",
      "        [0.1183, 0.1183, 0.1183, 0.1183, 0.1183, 0.1183, 0.1183, 0.1183, 0.1183,\n",
      "         0.1183, 0.1183, 0.1183],\n",
      "        [0.1183, 0.1183, 0.1183, 0.1183, 0.1183, 0.1183, 0.1183, 0.1183, 0.1183,\n",
      "         0.1183, 0.1183, 0.1183],\n",
      "        [0.1183, 0.1183, 0.1183, 0.1183, 0.1183, 0.1183, 0.1183, 0.1183, 0.1183,\n",
      "         0.1183, 0.1183, 0.1183]])\n"
     ]
    }
   ],
   "source": [
    "y = y.squeeze().detach()\n",
    "print(sum_slices(y,(1,2)))\n",
    "print(\"y[0,:,:]: \", y[0,:,:])"
   ]
  },
  {
   "cell_type": "markdown",
   "metadata": {},
   "source": [
    "So basically each layer is uniform thanks to the input and how convolution works (each slice is the result of the convolution from the same kernel of the same input). All the zeros that can be seen are due to the ReLU activations."
   ]
  },
  {
   "cell_type": "markdown",
   "metadata": {},
   "source": [
    "# Positional Encoding"
   ]
  },
  {
   "cell_type": "code",
   "execution_count": 47,
   "metadata": {},
   "outputs": [],
   "source": [
    "def add_encoding2D(x):\n",
    "    x_ax = x.shape[-2]\n",
    "    y_ax = x.shape[-1]\n",
    "\n",
    "    x_lin = torch.linspace(-1,1,x_ax)\n",
    "    xx = x_lin.repeat(x.shape[0],y_ax,1).view(-1, 1, y_ax, x_ax).transpose(3,2)\n",
    "\n",
    "    y_lin = torch.linspace(-1,1,y_ax).view(-1,1)\n",
    "    yy = y_lin.repeat(x.shape[0],1,x_ax).view(-1, 1, y_ax, x_ax).transpose(3,2)\n",
    "\n",
    "    x = torch.cat((x,xx,yy), axis=1)\n",
    "    return x"
   ]
  },
  {
   "cell_type": "code",
   "execution_count": 48,
   "metadata": {},
   "outputs": [
    {
     "name": "stdout",
     "output_type": "stream",
     "text": [
      "x.shape (before embed):  torch.Size([1, 1, 14, 14])\n",
      "x.shape (after embed):  torch.Size([1, 1, 14, 14, 3])\n",
      "x.sum in slices:  tensor([-298.4777,  -25.8635,  142.6594])\n",
      "x.shape:  torch.Size([1, 1, 3, 14, 14])\n",
      "x.shape:  torch.Size([1, 3, 14, 14])\n",
      "y.shape:  torch.Size([1, 24, 12, 12])\n",
      "y_enc.shape:  torch.Size([1, 26, 12, 12])\n"
     ]
    }
   ],
   "source": [
    "x = torch.zeros((1,14,14), dtype=int) # this is the structure of the state retrieved by the game\n",
    "if len(x.shape) <= 3:\n",
    "    x = x.unsqueeze(0)\n",
    "print(\"x.shape (before embed): \", x.shape)\n",
    "x = embed(x)\n",
    "print(\"x.shape (after embed): \", x.shape)\n",
    "print(\"x.sum in slices: \", sum_slices(x,(0,1)))\n",
    "x = x.transpose(-1,-3)\n",
    "print(\"x.shape: \", x.shape)\n",
    "x = x.transpose(-1,-2).reshape(x.shape[0],-1,x.shape[-2],x.shape[-1])\n",
    "print(\"x.shape: \", x.shape)\n",
    "y = net(x)\n",
    "print(\"y.shape: \", y.shape)\n",
    "y_enc = add_encoding2D(y)\n",
    "print(\"y_enc.shape: \", y_enc.shape)"
   ]
  },
  {
   "cell_type": "markdown",
   "metadata": {},
   "source": [
    "Let's verify that the last 2 layers have a positional encoding:"
   ]
  },
  {
   "cell_type": "code",
   "execution_count": 53,
   "metadata": {},
   "outputs": [
    {
     "name": "stdout",
     "output_type": "stream",
     "text": [
      "y_tmp.shape:  torch.Size([26, 12, 12])\n"
     ]
    },
    {
     "data": {
      "image/png": "[encoded data removed]",
      "text/plain": [
       "<Figure size 432x288 with 1 Axes>"
      ]
     },
     "metadata": {
      "needs_background": "light"
     },
     "output_type": "display_data"
    },
    {
     "data": {
      "image/png": "[encoded data removed]",
      "text/plain": [
       "<Figure size 432x288 with 1 Axes>"
      ]
     },
     "metadata": {
      "needs_background": "light"
     },
     "output_type": "display_data"
    }
   ],
   "source": [
    "y_tmp = y_enc.squeeze().detach()\n",
    "print(\"y_tmp.shape: \", y_tmp.shape)\n",
    "plt.imshow(y_tmp[-2])\n",
    "plt.show()\n",
    "plt.imshow(y_tmp[-1])\n",
    "plt.show()"
   ]
  },
  {
   "cell_type": "markdown",
   "metadata": {},
   "source": [
    "A different approach would be to sum these two layers pixel-wise to all other features. Probably it would amplify the importance of the position, at the risk that if the magnitude is too high we would lose data.\n",
    "\n",
    "Also more complicated encodings are possible; this one is the one I think they used in the paper."
   ]
  },
  {
   "cell_type": "markdown",
   "metadata": {},
   "source": [
    "# Projection from 26 to n_features (default 256)"
   ]
  },
  {
   "cell_type": "code",
   "execution_count": 55,
   "metadata": {},
   "outputs": [],
   "source": [
    "n_features = 256\n",
    "projection = nn.Linear(k_out + 2, n_features)"
   ]
  },
  {
   "cell_type": "code",
   "execution_count": 57,
   "metadata": {},
   "outputs": [
    {
     "name": "stdout",
     "output_type": "stream",
     "text": [
      "x.shape (before embed):  torch.Size([1, 1, 14, 14])\n",
      "x.shape (after embed):  torch.Size([1, 1, 14, 14, 3])\n",
      "x.sum in slices:  tensor([-298.4777,  -25.8635,  142.6594])\n",
      "x.shape:  torch.Size([1, 1, 3, 14, 14])\n",
      "x.shape:  torch.Size([1, 3, 14, 14])\n",
      "x.shape:  torch.Size([1, 24, 12, 12])\n",
      "x.shape:  torch.Size([1, 26, 12, 12])\n",
      "x.shape:  torch.Size([1, 26, 144])\n",
      "x.shape:  torch.Size([1, 144, 26])\n",
      "x.shape:  torch.Size([1, 144, 256])\n",
      "x.shape:  torch.Size([144, 1, 256])\n"
     ]
    }
   ],
   "source": [
    "x = torch.zeros((1,14,14), dtype=int) # this is the structure of the state retrieved by the game\n",
    "if len(x.shape) <= 3:\n",
    "    x = x.unsqueeze(0)\n",
    "print(\"x.shape (before embed): \", x.shape)\n",
    "x = embed(x)\n",
    "print(\"x.shape (after embed): \", x.shape)\n",
    "print(\"x.sum in slices: \", sum_slices(x,(0,1)))\n",
    "x = x.transpose(-1,-3)\n",
    "print(\"x.shape: \", x.shape)\n",
    "x = x.transpose(-1,-2).reshape(x.shape[0],-1,x.shape[-2],x.shape[-1])\n",
    "print(\"x.shape: \", x.shape)\n",
    "x = net(x)\n",
    "print(\"x.shape: \", x.shape)\n",
    "x= add_encoding2D(x)\n",
    "print(\"x.shape: \", x.shape)\n",
    "x = x.view(x.shape[0], x.shape[1],-1)\n",
    "print(\"x.shape: \", x.shape)\n",
    "x = x.transpose(2,1)\n",
    "print(\"x.shape: \", x.shape)\n",
    "x = projection(x)\n",
    "print(\"x.shape: \", x.shape)\n",
    "x = x.transpose(1,0)\n",
    "print(\"x.shape: \", x.shape)"
   ]
  },
  {
   "cell_type": "markdown",
   "metadata": {},
   "source": [
    "Here everything seems clean. Let's see if there is some trace of the positional encoding left. Ideally thanks to the projection now each feature potentially has a positional encoding."
   ]
  },
  {
   "cell_type": "code",
   "execution_count": 61,
   "metadata": {},
   "outputs": [
    {
     "data": {
      "image/png": "[encoded data removed]",
      "text/plain": [
       "<Figure size 432x288 with 1 Axes>"
      ]
     },
     "metadata": {
      "needs_background": "light"
     },
     "output_type": "display_data"
    },
    {
     "data": {
      "image/png": "[encoded data removed]",
      "text/plain": [
       "<Figure size 432x288 with 1 Axes>"
      ]
     },
     "metadata": {
      "needs_background": "light"
     },
     "output_type": "display_data"
    },
    {
     "data": {
      "image/png": "[encoded data removed]",
      "text/plain": [
       "<Figure size 432x288 with 1 Axes>"
      ]
     },
     "metadata": {
      "needs_background": "light"
     },
     "output_type": "display_data"
    }
   ],
   "source": [
    "x_tmp = x.squeeze().detach().view(12,12,256)\n",
    "plt.imshow(x_tmp[:,:,0])\n",
    "plt.show()\n",
    "plt.imshow(x_tmp[:,:,128])\n",
    "plt.show()\n",
    "plt.imshow(x_tmp[:,:,-2])\n",
    "plt.show()"
   ]
  },
  {
   "cell_type": "markdown",
   "metadata": {},
   "source": [
    "Again everything seems fine."
   ]
  },
  {
   "cell_type": "markdown",
   "metadata": {},
   "source": [
    "# Relational Block \n",
    "Implements the relational block, composed by a Multi-Headed Dot-Product Attention layer followed by a Position-wise Feed-Forward layer. I implement here the former one, whereas I just import the latter from the module, since it's very basic."
   ]
  },
  {
   "cell_type": "code",
   "execution_count": 65,
   "metadata": {},
   "outputs": [],
   "source": [
    "hidden_dim = 64\n",
    "dropout = 0\n",
    "n_heads = 4\n",
    "\n",
    "norm = nn.LayerNorm(n_features)\n",
    "drop = nn.Dropout(dropout) # disabled\n",
    "attn = nn.MultiheadAttention(n_features, n_heads, dropout)\n",
    "ff = rnet.PositionwiseFeedForward(n_features, hidden_dim, dropout)"
   ]
  },
  {
   "cell_type": "code",
   "execution_count": 96,
   "metadata": {
    "scrolled": true
   },
   "outputs": [
    {
     "name": "stdout",
     "output_type": "stream",
     "text": [
      "x.shape (before embed):  torch.Size([1, 1, 14, 14])\n",
      "x.shape (after embed):  torch.Size([1, 1, 14, 14, 3])\n",
      "x.sum in slices:  tensor([-298.4777,  -25.8635,  142.6594])\n",
      "x.shape:  torch.Size([1, 1, 3, 14, 14])\n",
      "x.shape:  torch.Size([1, 3, 14, 14])\n",
      "x.shape:  torch.Size([1, 24, 12, 12])\n",
      "x.shape:  torch.Size([1, 26, 12, 12])\n",
      "x.shape:  torch.Size([1, 26, 144])\n",
      "x.shape:  torch.Size([1, 144, 26])\n",
      "x.shape:  torch.Size([1, 144, 256])\n",
      "x.shape:  torch.Size([144, 1, 256])\n",
      "attn_output.shape:  torch.Size([144, 1, 256])\n",
      "x_add.shape:  torch.Size([144, 1, 256])\n",
      "x_norm.shape:  torch.Size([144, 1, 256])\n",
      "x_ff.shape:  torch.Size([144, 1, 256])\n",
      "x.shape:  torch.Size([144, 1, 256])\n"
     ]
    }
   ],
   "source": [
    "x = torch.zeros((1,14,14), dtype=int) # this is the structure of the state retrieved by the game\n",
    "if len(x.shape) <= 3:\n",
    "    x = x.unsqueeze(0)\n",
    "print(\"x.shape (before embed): \", x.shape)\n",
    "x = embed(x)\n",
    "print(\"x.shape (after embed): \", x.shape)\n",
    "print(\"x.sum in slices: \", sum_slices(x,(0,1)))\n",
    "x = x.transpose(-1,-3)\n",
    "print(\"x.shape: \", x.shape)\n",
    "x = x.transpose(-1,-2).reshape(x.shape[0],-1,x.shape[-2],x.shape[-1])\n",
    "print(\"x.shape: \", x.shape)\n",
    "x = net(x)\n",
    "print(\"x.shape: \", x.shape)\n",
    "x= add_encoding2D(x)\n",
    "print(\"x.shape: \", x.shape)\n",
    "x = x.view(x.shape[0], x.shape[1],-1)\n",
    "print(\"x.shape: \", x.shape)\n",
    "x = x.transpose(2,1)\n",
    "print(\"x.shape: \", x.shape)\n",
    "x = projection(x)\n",
    "print(\"x.shape: \", x.shape)\n",
    "x = x.transpose(1,0)\n",
    "print(\"x.shape: \", x.shape)\n",
    "\n",
    "x_tmp = x # save it for plotting\n",
    "\n",
    "# From here it has always the same shape\n",
    "attn_output, attn_output_weights =  attn(x,x,x, key_padding_mask=None) # MHA step\n",
    "print(\"attn_output.shape: \", attn_output.shape)\n",
    "x_add = attn_output + x\n",
    "print(\"x_add.shape: \", x_add.shape)\n",
    "x_norm = drop(norm(x_add))\n",
    "print(\"x_norm.shape: \", x_norm.shape)\n",
    "x_ff = ff(x_norm)\n",
    "print(\"x_ff.shape: \", x_ff.shape)\n",
    "x = drop(norm(x_ff))\n",
    "print(\"x.shape: \", x.shape)"
   ]
  },
  {
   "cell_type": "markdown",
   "metadata": {},
   "source": [
    "We can nonetheless follow the transformation of a single feature along the attention block, to see if something strange happens."
   ]
  },
  {
   "cell_type": "code",
   "execution_count": 98,
   "metadata": {},
   "outputs": [],
   "source": [
    "def plot_layer(x, layer=0):\n",
    "    x = x.squeeze().detach()[:,layer]\n",
    "    plt.imshow(x.view(12,12))\n",
    "    plt.show()"
   ]
  },
  {
   "cell_type": "code",
   "execution_count": 100,
   "metadata": {
    "scrolled": true
   },
   "outputs": [
    {
     "name": "stdout",
     "output_type": "stream",
     "text": [
      "Input\n"
     ]
    },
    {
     "data": {
      "image/png": "[encoded data removed]",
      "text/plain": [
       "<Figure size 432x288 with 1 Axes>"
      ]
     },
     "metadata": {
      "needs_background": "light"
     },
     "output_type": "display_data"
    },
    {
     "name": "stdout",
     "output_type": "stream",
     "text": [
      "Attention output\n"
     ]
    },
    {
     "data": {
      "image/png": "[encoded data removed]",
      "text/plain": [
       "<Figure size 432x288 with 1 Axes>"
      ]
     },
     "metadata": {
      "needs_background": "light"
     },
     "output_type": "display_data"
    },
    {
     "name": "stdout",
     "output_type": "stream",
     "text": [
      "Input + attention\n"
     ]
    },
    {
     "data": {
      "image/png": "[encoded data removed]",
      "text/plain": [
       "<Figure size 432x288 with 1 Axes>"
      ]
     },
     "metadata": {
      "needs_background": "light"
     },
     "output_type": "display_data"
    },
    {
     "name": "stdout",
     "output_type": "stream",
     "text": [
      "After LayerNorm\n"
     ]
    },
    {
     "data": {
      "image/png": "[encoded data removed]",
      "text/plain": [
       "<Figure size 432x288 with 1 Axes>"
      ]
     },
     "metadata": {
      "needs_background": "light"
     },
     "output_type": "display_data"
    },
    {
     "name": "stdout",
     "output_type": "stream",
     "text": [
      "After position-wise FF\n"
     ]
    },
    {
     "data": {
      "image/png": "[encoded data removed]",
      "text/plain": [
       "<Figure size 432x288 with 1 Axes>"
      ]
     },
     "metadata": {
      "needs_background": "light"
     },
     "output_type": "display_data"
    },
    {
     "name": "stdout",
     "output_type": "stream",
     "text": [
      "After LayerNorm\n"
     ]
    },
    {
     "data": {
      "image/png": "[encoded data removed]",
      "text/plain": [
       "<Figure size 432x288 with 1 Axes>"
      ]
     },
     "metadata": {
      "needs_background": "light"
     },
     "output_type": "display_data"
    }
   ],
   "source": [
    "print(\"Input\")\n",
    "plot_layer(x_tmp)\n",
    "print(\"Attention output\")\n",
    "plot_layer(attn_output)\n",
    "print(\"Input + attention\")\n",
    "plot_layer(x_add)\n",
    "print(\"After LayerNorm\")\n",
    "plot_layer(x_norm)\n",
    "print(\"After position-wise FF\")\n",
    "plot_layer(x_ff)\n",
    "print(\"After LayerNorm\")\n",
    "plot_layer(x)"
   ]
  },
  {
   "cell_type": "markdown",
   "metadata": {},
   "source": [
    "Here we didn't see anything suspicious, with the attention layer not doing much and the only real change happening during the positionwise feed forward, in which we make a convolution of the 256 features to obtain new ones, so of course after that we are looking at a different feature plane."
   ]
  },
  {
   "cell_type": "markdown",
   "metadata": {},
   "source": [
    "**LayerNorm formula**\n",
    "$$y = \\frac{x - \\mathrm{E}[x]}{ \\sqrt{\\mathrm{Var}[x] + \\epsilon}} * \\gamma + \\beta$$"
   ]
  },
  {
   "cell_type": "code",
   "execution_count": 95,
   "metadata": {
    "scrolled": true
   },
   "outputs": [
    {
     "name": "stdout",
     "output_type": "stream",
     "text": [
      "E:  tensor(-0.0057, grad_fn=<MeanBackward0>)\n",
      "V:  tensor(0.0630, grad_fn=<VarBackward0>)\n",
      "LayerNorm by hand: \n",
      " tensor([-0.1097,  0.5985, -0.0529,  0.4241, -0.1863,  1.0067, -0.8776, -0.3728,\n",
      "         0.6371, -0.0566, -0.1603,  0.0820, -0.3364,  0.5795,  1.2318,  1.7298,\n",
      "        -0.2748, -0.2333, -1.3408,  0.5035,  0.5455, -0.8004,  1.0167,  0.6844,\n",
      "        -0.2715, -0.1186,  0.5464, -1.9290,  0.1185, -0.7554,  0.8551,  0.8051,\n",
      "         0.5615,  0.1843, -0.8093, -1.5232,  0.3864,  0.7175,  1.1091, -0.2669,\n",
      "         0.3662, -0.0429, -1.5048,  0.4402, -1.4973, -0.9646, -1.5426, -1.0193,\n",
      "        -0.7960,  0.2227, -0.7431, -1.6468, -0.0766, -0.3604, -1.5031, -0.0588,\n",
      "         0.1881, -1.5088, -1.4771, -0.4335,  0.0950,  0.1067,  1.2203,  0.8696,\n",
      "         1.7458,  0.4591, -0.9965,  0.6098, -2.0424, -0.6842,  0.4231, -1.9262,\n",
      "        -0.3400,  1.1109,  0.6188,  1.1081,  0.7060,  2.0070, -0.2416, -1.0795,\n",
      "        -0.1637,  0.5035, -0.1719,  1.1671,  0.6507,  0.1682, -1.6508, -0.1560,\n",
      "        -2.0787,  0.5701, -0.5594, -1.4425,  0.1442, -0.3646, -0.1660, -1.5646,\n",
      "         0.1595,  0.9796, -0.4171, -2.1000, -0.8281, -0.3591, -0.1239, -0.2166,\n",
      "         0.0654,  1.4840, -0.5085, -0.5614,  1.4553, -0.6200,  0.2593, -0.6490,\n",
      "         0.4460,  1.8839, -0.4701,  1.0211,  1.8140, -0.4935,  1.0528,  1.7479,\n",
      "         0.3282,  1.6896, -0.8386,  0.2000,  0.7817,  0.1823, -0.4948, -0.3416,\n",
      "        -0.6467, -1.4813,  0.9194,  1.2296, -0.0213, -0.3508,  0.3903, -0.2971,\n",
      "         0.3360,  1.0543,  0.0757,  1.2869,  0.4593, -0.8757, -0.5010, -0.7936,\n",
      "         1.5579,  1.1973, -0.0942, -0.3275,  1.2362,  0.3525,  0.0805,  0.7418,\n",
      "        -0.1430,  0.4303, -1.7046, -0.5300,  1.8645, -1.6217, -0.3806, -0.7489,\n",
      "        -0.4650,  0.1720,  0.7228,  0.4945,  0.5895, -0.1070,  0.4070, -1.8505,\n",
      "         1.3452, -0.3202,  0.8000, -1.4400, -0.2603, -1.5735, -0.9201,  1.0910,\n",
      "         2.4823,  0.0619,  0.0790, -0.0636, -1.6617,  1.1439,  1.7073,  1.0093,\n",
      "         2.9794, -0.1952, -0.5691, -2.9134,  1.6263, -1.2126,  0.1348, -0.4290,\n",
      "        -0.4098, -1.0554, -1.5398, -1.5197, -1.0346,  1.0909, -0.8689,  0.9232,\n",
      "        -0.9771, -0.4273, -0.0145,  1.0510,  0.7838,  0.0618, -0.3527, -0.6684,\n",
      "         0.9225, -0.0525, -0.5709,  0.2755, -1.0076,  0.3986, -0.6292, -0.3006,\n",
      "        -0.3345,  1.1080,  0.0739,  0.6459, -0.0681, -1.7104, -0.1712,  1.5259,\n",
      "         1.3471, -0.2682, -1.6416, -0.4598, -0.3734, -1.8327,  1.1017, -1.4583,\n",
      "        -1.2854,  1.6895, -0.2249,  0.5689,  1.9744,  2.6647, -1.3282,  0.5027,\n",
      "        -0.0249,  1.0269,  1.3998,  0.4715,  0.2326, -0.1846,  0.2900, -0.7834,\n",
      "        -0.3866, -0.1222, -1.4264, -0.6757,  0.8425, -0.5054,  2.0522,  1.0372],\n",
      "       grad_fn=<DivBackward0>)\n",
      "LayerNorm: \n",
      " tensor([-0.1100,  0.5997, -0.0530,  0.4249, -0.1866,  1.0087, -0.8793, -0.3735,\n",
      "         0.6383, -0.0568, -0.1606,  0.0822, -0.3371,  0.5806,  1.2342,  1.7332,\n",
      "        -0.2754, -0.2338, -1.3435,  0.5045,  0.5466, -0.8019,  1.0187,  0.6857,\n",
      "        -0.2721, -0.1188,  0.5475, -1.9328,  0.1188, -0.7569,  0.8568,  0.8067,\n",
      "         0.5626,  0.1847, -0.8109, -1.5262,  0.3871,  0.7189,  1.1113, -0.2674,\n",
      "         0.3669, -0.0430, -1.5077,  0.4410, -1.5002, -0.9665, -1.5457, -1.0213,\n",
      "        -0.7976,  0.2232, -0.7446, -1.6501, -0.0767, -0.3611, -1.5061, -0.0589,\n",
      "         0.1885, -1.5118, -1.4800, -0.4344,  0.0952,  0.1069,  1.2227,  0.8713,\n",
      "         1.7493,  0.4600, -0.9984,  0.6110, -2.0464, -0.6855,  0.4240, -1.9300,\n",
      "        -0.3407,  1.1130,  0.6200,  1.1102,  0.7074,  2.0109, -0.2420, -1.0816,\n",
      "        -0.1640,  0.5044, -0.1722,  1.1694,  0.6520,  0.1685, -1.6540, -0.1563,\n",
      "        -2.0828,  0.5712, -0.5605, -1.4453,  0.1445, -0.3653, -0.1663, -1.5676,\n",
      "         0.1599,  0.9815, -0.4180, -2.1041, -0.8297, -0.3598, -0.1242, -0.2170,\n",
      "         0.0655,  1.4869, -0.5095, -0.5625,  1.4582, -0.6212,  0.2598, -0.6502,\n",
      "         0.4469,  1.8876, -0.4710,  1.0231,  1.8175, -0.4944,  1.0548,  1.7513,\n",
      "         0.3289,  1.6929, -0.8402,  0.2004,  0.7832,  0.1827, -0.4958, -0.3423,\n",
      "        -0.6480, -1.4842,  0.9212,  1.2320, -0.0213, -0.3515,  0.3911, -0.2977,\n",
      "         0.3366,  1.0563,  0.0758,  1.2894,  0.4602, -0.8774, -0.5019, -0.7951,\n",
      "         1.5610,  1.1997, -0.0944, -0.3282,  1.2386,  0.3532,  0.0806,  0.7433,\n",
      "        -0.1433,  0.4311, -1.7079, -0.5311,  1.8681, -1.6249, -0.3813, -0.7504,\n",
      "        -0.4659,  0.1723,  0.7242,  0.4955,  0.5907, -0.1072,  0.4078, -1.8541,\n",
      "         1.3478, -0.3208,  0.8015, -1.4428, -0.2608, -1.5766, -0.9219,  1.0931,\n",
      "         2.4871,  0.0621,  0.0791, -0.0637, -1.6649,  1.1461,  1.7106,  1.0112,\n",
      "         2.9852, -0.1955, -0.5702, -2.9191,  1.6295, -1.2150,  0.1351, -0.4298,\n",
      "        -0.4106, -1.0575, -1.5428, -1.5226, -1.0366,  1.0931, -0.8706,  0.9250,\n",
      "        -0.9790, -0.4281, -0.0146,  1.0530,  0.7853,  0.0619, -0.3534, -0.6697,\n",
      "         0.9243, -0.0526, -0.5720,  0.2760, -1.0096,  0.3994, -0.6304, -0.3012,\n",
      "        -0.3351,  1.1102,  0.0740,  0.6472, -0.0682, -1.7137, -0.1716,  1.5289,\n",
      "         1.3498, -0.2687, -1.6448, -0.4607, -0.3741, -1.8363,  1.1038, -1.4612,\n",
      "        -1.2879,  1.6928, -0.2254,  0.5700,  1.9783,  2.6699, -1.3308,  0.5037,\n",
      "        -0.0249,  1.0289,  1.4026,  0.4725,  0.2330, -0.1850,  0.2906, -0.7849,\n",
      "        -0.3874, -0.1225, -1.4292, -0.6770,  0.8441, -0.5064,  2.0562,  1.0393],\n",
      "       grad_fn=<SliceBackward>)\n"
     ]
    }
   ],
   "source": [
    "# What LayerNorm does\n",
    "\n",
    "E = x_add[0,0,:].mean()\n",
    "print(\"E: \", E)\n",
    "V = x_add[0,0,:].var()\n",
    "print(\"V: \", V)\n",
    "y = (x_add[0,0,:]-E)/torch.sqrt(V+1e-5)\n",
    "print(\"LayerNorm by hand: \\n\", y)\n",
    "print(\"LayerNorm: \\n\", x_norm[0,0,:])"
   ]
  },
  {
   "cell_type": "markdown",
   "metadata": {},
   "source": [
    "# Featurewise MaxPooling\n",
    "\n",
    "For each feature, take the maximum value among the pixels."
   ]
  },
  {
   "cell_type": "code",
   "execution_count": 101,
   "metadata": {},
   "outputs": [
    {
     "name": "stdout",
     "output_type": "stream",
     "text": [
      "x.shape (before embed):  torch.Size([1, 1, 14, 14])\n",
      "x.shape (after embed):  torch.Size([1, 1, 14, 14, 3])\n",
      "x.sum in slices:  tensor([-298.4777,  -25.8635,  142.6594])\n",
      "x.shape:  torch.Size([1, 1, 3, 14, 14])\n",
      "x.shape:  torch.Size([1, 3, 14, 14])\n",
      "x.shape:  torch.Size([1, 24, 12, 12])\n",
      "x.shape:  torch.Size([1, 26, 12, 12])\n",
      "x.shape:  torch.Size([1, 26, 144])\n",
      "x.shape:  torch.Size([1, 144, 26])\n",
      "x.shape:  torch.Size([1, 144, 256])\n",
      "x.shape:  torch.Size([144, 1, 256])\n",
      "attn_output.shape:  torch.Size([144, 1, 256])\n",
      "x_add.shape:  torch.Size([144, 1, 256])\n",
      "x_norm.shape:  torch.Size([144, 1, 256])\n",
      "x_ff.shape:  torch.Size([144, 1, 256])\n",
      "x.shape:  torch.Size([144, 1, 256])\n",
      "x.shape:  torch.Size([1, 256])\n"
     ]
    }
   ],
   "source": [
    "x = torch.zeros((1,14,14), dtype=int) # this is the structure of the state retrieved by the game\n",
    "if len(x.shape) <= 3:\n",
    "    x = x.unsqueeze(0)\n",
    "print(\"x.shape (before embed): \", x.shape)\n",
    "x = embed(x)\n",
    "print(\"x.shape (after embed): \", x.shape)\n",
    "print(\"x.sum in slices: \", sum_slices(x,(0,1)))\n",
    "x = x.transpose(-1,-3)\n",
    "print(\"x.shape: \", x.shape)\n",
    "x = x.transpose(-1,-2).reshape(x.shape[0],-1,x.shape[-2],x.shape[-1])\n",
    "print(\"x.shape: \", x.shape)\n",
    "x = net(x)\n",
    "print(\"x.shape: \", x.shape)\n",
    "x= add_encoding2D(x)\n",
    "print(\"x.shape: \", x.shape)\n",
    "x = x.view(x.shape[0], x.shape[1],-1)\n",
    "print(\"x.shape: \", x.shape)\n",
    "x = x.transpose(2,1)\n",
    "print(\"x.shape: \", x.shape)\n",
    "x = projection(x)\n",
    "print(\"x.shape: \", x.shape)\n",
    "x = x.transpose(1,0)\n",
    "print(\"x.shape: \", x.shape)\n",
    "\n",
    "x_tmp = x # save it for plotting\n",
    "\n",
    "# From here it has always the same shape\n",
    "attn_output, attn_output_weights =  attn(x,x,x, key_padding_mask=None) # MHA step\n",
    "print(\"attn_output.shape: \", attn_output.shape)\n",
    "x_add = attn_output + x\n",
    "print(\"x_add.shape: \", x_add.shape)\n",
    "x_norm = drop(norm(x_add))\n",
    "print(\"x_norm.shape: \", x_norm.shape)\n",
    "x_ff = ff(x_norm)\n",
    "print(\"x_ff.shape: \", x_ff.shape)\n",
    "x = drop(norm(x_ff))\n",
    "print(\"x.shape: \", x.shape)\n",
    "# Max pooling feature-wise\n",
    "x, _ = torch.max(x, axis=0)\n",
    "print(\"x.shape: \", x.shape)"
   ]
  },
  {
   "cell_type": "markdown",
   "metadata": {},
   "source": [
    "Nothing much to control here."
   ]
  },
  {
   "cell_type": "markdown",
   "metadata": {},
   "source": [
    "## Residual Layer\n",
    "\n",
    "Here the original paper uses just a Multi-Layer Perceptron, but I thought it would be nice to have sone skip connections in order to make the architecture more flexible."
   ]
  },
  {
   "cell_type": "code",
   "execution_count": 105,
   "metadata": {},
   "outputs": [
    {
     "data": {
      "text/plain": [
       "<module 'RelationalModule.RelationalNetworks' from '/home/nicola/Nicola_unipd/MasterThesis/RelationalDeepRL/RelationalModule/RelationalNetworks.py'>"
      ]
     },
     "execution_count": 105,
     "metadata": {},
     "output_type": "execute_result"
    }
   ],
   "source": [
    "reload(rnet)"
   ]
  },
  {
   "cell_type": "code",
   "execution_count": 106,
   "metadata": {},
   "outputs": [],
   "source": [
    "n_hiddens = 256 \n",
    "residual_layer = rnet.ResidualLayer(n_features, n_hiddens)"
   ]
  },
  {
   "cell_type": "code",
   "execution_count": 108,
   "metadata": {},
   "outputs": [
    {
     "data": {
      "text/plain": [
       "tensor([[0.5277, 0.0000, 0.0000, 0.0000, 0.0000, 0.2818, 0.0000, 0.0000, 0.4963,\n",
       "         0.0000, 0.0000, 0.0511, 0.0121, 0.0790, 0.0000, 0.1443, 0.2334, 0.0000,\n",
       "         0.1117, 0.3520, 0.0000, 0.0796, 0.0700, 0.2826, 0.0000, 0.0525, 0.4071,\n",
       "         0.1279, 0.0000, 0.1458, 0.0000, 0.6286, 0.0000, 0.1750, 0.0065, 0.0000,\n",
       "         0.3355, 0.3812, 0.0000, 0.0000, 0.0000, 0.1701, 0.1177, 0.0000, 0.0000,\n",
       "         0.0158, 0.0068, 0.5690, 0.0000, 0.0700, 0.0481, 0.0000, 0.0000, 0.1515,\n",
       "         0.0000, 0.0000, 0.0929, 0.1023, 0.0000, 0.0881, 0.0000, 0.0000, 0.0018,\n",
       "         0.3734, 0.0000, 0.0000, 0.1856, 0.1543, 0.0000, 0.0000, 0.0567, 0.0285,\n",
       "         0.0363, 0.0000, 0.5475, 0.0000, 0.1344, 0.0784, 0.0000, 0.0000, 0.0000,\n",
       "         0.2394, 0.0000, 0.0000, 0.0082, 0.0688, 0.4740, 0.1430, 0.0000, 0.5956,\n",
       "         0.4772, 0.0000, 0.3693, 0.0000, 0.0000, 0.1798, 0.0000, 0.0000, 0.0000,\n",
       "         0.4212, 0.1160, 0.3427, 0.0054, 0.0311, 0.2423, 0.2773, 0.2005, 0.0000,\n",
       "         0.0000, 0.0000, 0.5221, 0.0000, 0.2622, 0.0471, 0.0000, 0.0000, 0.0000,\n",
       "         0.0028, 0.0000, 0.0627, 0.0000, 0.0000, 0.3287, 0.0000, 0.0207, 0.0000,\n",
       "         0.0000, 0.0000, 0.2060, 0.0000, 0.0000, 0.0000, 0.2264, 0.4188, 0.0000,\n",
       "         0.1813, 0.0000, 0.0000, 0.3797, 0.0159, 0.3103, 0.1728, 0.2342, 0.1794,\n",
       "         0.0000, 0.3602, 0.0000, 0.0000, 0.0000, 0.0434, 0.0137, 0.0000, 0.0000,\n",
       "         0.0305, 0.0950, 0.1569, 0.0000, 0.3162, 0.0000, 0.0000, 0.0938, 0.2131,\n",
       "         0.0000, 0.5907, 0.0000, 0.1813, 0.0903, 0.0000, 0.0000, 0.1559, 0.1345,\n",
       "         0.2323, 0.0092, 0.3154, 0.1407, 0.0000, 0.0000, 0.1496, 0.0000, 0.1624,\n",
       "         0.0000, 0.0000, 0.2627, 0.0000, 0.0000, 0.0655, 0.0000, 0.0000, 0.1257,\n",
       "         0.3073, 0.0000, 0.0000, 0.1120, 0.1420, 0.0000, 0.0587, 0.1678, 0.1695,\n",
       "         0.0000, 0.0000, 0.0000, 0.0000, 0.0000, 0.2468, 0.0690, 0.0000, 0.3018,\n",
       "         0.0000, 0.0000, 0.0000, 0.2666, 0.1933, 0.3389, 0.0491, 0.2346, 0.1445,\n",
       "         0.1847, 0.0000, 0.0000, 0.0000, 0.2670, 0.0000, 0.3263, 0.1304, 0.0000,\n",
       "         0.0000, 0.0452, 0.0000, 0.0000, 0.3078, 0.3746, 0.1312, 0.0000, 0.0000,\n",
       "         0.2168, 0.0325, 0.0000, 0.1171, 0.0000, 0.0000, 0.2987, 0.2842, 0.0000,\n",
       "         0.2320, 0.1927, 0.1142, 0.0000, 0.1270, 0.0068, 0.0000, 0.9862, 0.0337,\n",
       "         0.0000, 0.0000, 0.0000, 0.0413]], grad_fn=<SubBackward0>)"
      ]
     },
     "execution_count": 108,
     "metadata": {},
     "output_type": "execute_result"
    }
   ],
   "source": [
    "residual_layer(x) - x # residual after ReLU"
   ]
  },
  {
   "cell_type": "markdown",
   "metadata": {},
   "source": [
    "# Full architecture"
   ]
  },
  {
   "cell_type": "code",
   "execution_count": 115,
   "metadata": {},
   "outputs": [
    {
     "data": {
      "text/plain": [
       "<module 'RelationalModule.ControlNetworks' from '/home/nicola/Nicola_unipd/MasterThesis/RelationalDeepRL/RelationalModule/ControlNetworks.py'>"
      ]
     },
     "execution_count": 115,
     "metadata": {},
     "output_type": "execute_result"
    }
   ],
   "source": [
    "reload(rnet)\n",
    "reload(cnet)"
   ]
  },
  {
   "cell_type": "code",
   "execution_count": 116,
   "metadata": {},
   "outputs": [
    {
     "name": "stdout",
     "output_type": "stream",
     "text": [
      "Sequential(\n",
      "  (0): ExtractEntities(\n",
      "    (embed): Embedding(117, 3)\n",
      "    (net): Sequential(\n",
      "      (0): Conv2d(3, 12, kernel_size=(2, 2), stride=(1, 1))\n",
      "      (1): ReLU()\n",
      "      (2): Conv2d(12, 24, kernel_size=(2, 2), stride=(1, 1))\n",
      "      (3): ReLU()\n",
      "    )\n",
      "  )\n",
      "  (1): RelationalModule(\n",
      "    (net): Sequential(\n",
      "      (0): PositionalEncoding(\n",
      "        (projection): Linear(in_features=26, out_features=256, bias=True)\n",
      "      )\n",
      "      (1): AttentionBlock(\n",
      "        (norm): LayerNorm((256,), eps=1e-05, elementwise_affine=True)\n",
      "        (dropout): Dropout(p=0.1, inplace=False)\n",
      "        (attn): MultiheadAttention(\n",
      "          (out_proj): Linear(in_features=256, out_features=256, bias=True)\n",
      "        )\n",
      "        (ff): PositionwiseFeedForward(\n",
      "          (w_1): Linear(in_features=256, out_features=64, bias=True)\n",
      "          (w_2): Linear(in_features=64, out_features=256, bias=True)\n",
      "          (dropout): Dropout(p=0.1, inplace=False)\n",
      "        )\n",
      "      )\n",
      "      (2): AttentionBlock(\n",
      "        (norm): LayerNorm((256,), eps=1e-05, elementwise_affine=True)\n",
      "        (dropout): Dropout(p=0.1, inplace=False)\n",
      "        (attn): MultiheadAttention(\n",
      "          (out_proj): Linear(in_features=256, out_features=256, bias=True)\n",
      "        )\n",
      "        (ff): PositionwiseFeedForward(\n",
      "          (w_1): Linear(in_features=256, out_features=64, bias=True)\n",
      "          (w_2): Linear(in_features=64, out_features=256, bias=True)\n",
      "          (dropout): Dropout(p=0.1, inplace=False)\n",
      "        )\n",
      "      )\n",
      "    )\n",
      "  )\n",
      "  (2): FeaturewiseMaxPool()\n",
      "  (3): ResidualLayer(\n",
      "    (norm): LayerNorm((256,), eps=1e-05, elementwise_affine=True)\n",
      "    (w1): Linear(in_features=256, out_features=256, bias=True)\n",
      "    (w2): Linear(in_features=256, out_features=256, bias=True)\n",
      "  )\n",
      "  (4): ResidualLayer(\n",
      "    (norm): LayerNorm((256,), eps=1e-05, elementwise_affine=True)\n",
      "    (w1): Linear(in_features=256, out_features=256, bias=True)\n",
      "    (w2): Linear(in_features=256, out_features=256, bias=True)\n",
      "  )\n",
      "  (5): ResidualLayer(\n",
      "    (norm): LayerNorm((256,), eps=1e-05, elementwise_affine=True)\n",
      "    (w1): Linear(in_features=256, out_features=256, bias=True)\n",
      "    (w2): Linear(in_features=256, out_features=256, bias=True)\n",
      "  )\n",
      "  (6): ResidualLayer(\n",
      "    (norm): LayerNorm((256,), eps=1e-05, elementwise_affine=True)\n",
      "    (w1): Linear(in_features=256, out_features=256, bias=True)\n",
      "    (w2): Linear(in_features=256, out_features=256, bias=True)\n",
      "  )\n",
      ")\n"
     ]
    }
   ],
   "source": [
    "box_net = rnet.BoxWorldNet(in_channels=1, n_kernels=24, vocab_size=117, n_dim=3,\n",
    "                              n_features=256, n_attn_modules=2, n_linears=4)"
   ]
  },
  {
   "cell_type": "code",
   "execution_count": 117,
   "metadata": {},
   "outputs": [],
   "source": [
    "control_net = cnet.ControlNet(in_channels=1, n_kernels=24, vocab_size=117, n_dim=3,\n",
    "                              n_features=256, hidden_dim=64, n_control_modules=2, n_linears=4)"
   ]
  },
  {
   "cell_type": "code",
   "execution_count": 118,
   "metadata": {},
   "outputs": [],
   "source": [
    "x = torch.randint(high=116, size = (1,14,14))"
   ]
  },
  {
   "cell_type": "code",
   "execution_count": 119,
   "metadata": {},
   "outputs": [
    {
     "name": "stdout",
     "output_type": "stream",
     "text": [
      "x.shape (before ExtractEntities):  torch.Size([1, 14, 14])\n",
      "x.shape (ExtractEntities):  torch.Size([1, 24, 12, 12])\n",
      "x.shape (After encoding):  torch.Size([1, 26, 12, 12])\n",
      "x.shape (Before transposing and projection):  torch.Size([1, 26, 144])\n",
      "x.shape (PositionalEncoding):  torch.Size([144, 1, 256])\n",
      "x.shape (RelationalModule):  torch.Size([144, 1, 256])\n",
      "x.shape (FeaturewiseMaxPool):  torch.Size([1, 256])\n",
      "x.shape (BoxWorldNet):  torch.Size([1, 256])\n",
      "y.shape:  torch.Size([1, 256])\n"
     ]
    },
    {
     "data": {
      "text/plain": [
       "tensor([[2.1413, 1.2785, 1.0213, 1.7728, 2.7960, 2.4920, 1.6293, 2.4684, 2.4795,\n",
       "         1.3176, 1.4832, 3.2310, 3.2560, 4.2809, 1.3668, 2.4729, 2.3128, 0.9311,\n",
       "         1.6285, 2.0290, 2.1026, 1.4330, 1.5022, 4.4372, 2.2200, 0.3774, 4.5704,\n",
       "         2.2312, 1.2767, 0.0000, 2.9210, 2.5671, 2.8698, 2.3435, 1.8621, 2.8838,\n",
       "         2.5298, 2.9466, 2.1792, 3.2845, 2.4219, 1.6184, 1.4829, 2.5161, 4.0639,\n",
       "         2.5992, 2.9042, 2.1152, 1.4267, 1.8735, 1.6291, 0.9670, 1.6569, 1.4304,\n",
       "         3.2014, 2.3246, 2.5876, 2.6086, 3.9025, 1.7578, 3.1152, 2.6188, 2.4097,\n",
       "         1.5008, 2.1847, 3.1250, 3.1184, 3.4660, 2.4193, 3.1545, 3.5528, 0.6011,\n",
       "         1.7911, 2.1971, 3.4132, 3.6126, 1.1386, 1.4837, 3.0750, 3.3530, 1.6671,\n",
       "         2.9308, 2.5513, 2.0862, 2.1082, 2.4556, 1.1471, 2.8751, 1.2799, 1.1734,\n",
       "         2.2927, 1.9368, 2.6024, 2.6551, 3.1400, 0.1245, 2.6024, 0.7741, 0.9317,\n",
       "         0.8034, 0.6148, 2.2110, 3.0198, 1.3401, 1.2415, 0.4779, 3.6879, 2.7104,\n",
       "         2.3766, 1.1993, 3.5824, 2.5847, 3.3643, 1.4236, 2.8884, 1.1753, 2.2259,\n",
       "         0.8895, 1.4163, 0.8030, 3.2425, 3.3465, 2.1314, 3.3569, 2.9054, 1.5383,\n",
       "         1.6268, 2.8117, 2.6409, 2.0211, 2.1563, 1.1665, 3.5870, 0.9011, 1.9112,\n",
       "         2.1489, 2.0871, 0.7784, 0.9573, 0.1256, 1.3330, 2.9458, 2.0555, 2.3538,\n",
       "         2.2250, 1.0324, 2.2572, 2.3111, 2.6181, 1.7229, 2.7448, 1.3453, 2.2591,\n",
       "         1.4339, 3.7448, 2.5564, 2.8251, 2.3304, 4.0021, 2.8744, 3.1631, 2.6330,\n",
       "         2.7959, 3.7893, 6.0066, 3.7734, 1.8097, 1.0367, 1.6410, 0.7602, 1.9286,\n",
       "         0.0207, 1.8072, 1.9095, 2.5280, 1.0679, 3.9857, 1.9714, 2.8319, 1.5153,\n",
       "         0.8852, 2.3332, 0.0126, 1.2806, 1.2023, 1.8395, 2.1298, 4.4019, 2.7889,\n",
       "         4.2131, 2.2319, 3.9715, 0.4325, 1.4497, 1.5960, 1.6794, 3.4284, 1.9368,\n",
       "         0.0000, 4.3389, 2.8824, 1.8267, 0.2461, 2.9263, 1.7586, 1.5796, 1.3631,\n",
       "         3.0902, 2.1432, 0.4645, 3.8512, 2.3315, 1.0825, 3.2268, 0.0000, 2.1402,\n",
       "         0.5804, 3.4970, 1.0724, 2.0968, 3.2897, 2.1195, 2.4188, 3.5624, 3.2687,\n",
       "         1.7169, 1.8111, 1.6375, 1.3092, 3.6650, 1.2753, 2.3703, 2.9866, 1.3600,\n",
       "         2.5145, 1.6735, 3.8171, 2.4706, 2.2987, 1.9870, 0.0940, 2.5961, 3.6790,\n",
       "         2.3011, 1.9454, 2.5955, 1.6307, 3.0551, 2.3080, 1.7244, 2.5311, 3.4231,\n",
       "         2.9296, 1.3500, 3.2983, 4.9076]], grad_fn=<AddBackward0>)"
      ]
     },
     "execution_count": 119,
     "metadata": {},
     "output_type": "execute_result"
    }
   ],
   "source": [
    "y = box_net(x)\n",
    "print(\"y.shape: \", y.shape)\n",
    "y"
   ]
  },
  {
   "cell_type": "code",
   "execution_count": 120,
   "metadata": {},
   "outputs": [
    {
     "name": "stdout",
     "output_type": "stream",
     "text": [
      "y.shape:  torch.Size([1, 256])\n"
     ]
    },
    {
     "data": {
      "text/plain": [
       "tensor([[ 1.4898e+00,  7.7120e-02,  2.4382e-01,  6.4252e-01,  2.1385e-01,\n",
       "          3.1130e-02,  5.5482e-01,  1.6747e-01,  4.6643e-02,  1.6777e+00,\n",
       "          2.1526e+00,  1.2783e-01,  7.6233e-01,  1.9088e-01,  1.9711e-01,\n",
       "          8.4925e-02,  1.6465e-01,  4.0268e-01,  1.4540e-01,  1.5118e-01,\n",
       "          3.4683e-01,  1.6207e+00,  2.1201e-01,  1.0745e-01,  1.5318e-03,\n",
       "          1.1062e+00,  1.6899e+00,  1.3424e-01, -6.7152e-02,  6.5382e-02,\n",
       "          1.1693e-01,  1.4884e-01,  1.0919e-01,  9.0146e-01,  3.5792e-01,\n",
       "          8.5205e-01,  2.1508e-01,  1.0901e-01,  1.2527e-01,  5.7115e-01,\n",
       "          1.4628e-01,  1.0879e+00,  1.0445e+00,  1.3953e-01,  3.5668e-01,\n",
       "          4.2492e-01,  2.5978e-02,  1.3901e-01,  1.1301e+00,  1.4053e-01,\n",
       "          8.8481e-01,  1.0414e+00,  5.5296e-01,  4.3741e-01,  4.7355e-01,\n",
       "          3.6987e-01,  2.3077e-01,  4.9104e-01,  2.8129e-01,  8.3265e-02,\n",
       "          3.0584e-01,  9.3229e-01,  1.5149e-01,  2.7432e-01,  1.1416e-01,\n",
       "          7.6628e-02,  5.5852e-02,  1.3794e+00,  6.9490e-02,  5.3558e-02,\n",
       "          1.2692e-01, -1.1470e-01,  1.3475e-01,  4.1553e-01,  3.8324e-02,\n",
       "          4.6472e-01,  4.2084e-01,  4.7524e-01,  1.6834e+00,  7.2498e-02,\n",
       "          1.8119e+00,  1.3831e-01,  1.9772e-01,  1.4089e-01,  1.4217e-01,\n",
       "          8.1189e-01,  6.6907e-01,  1.1697e-01, -1.0798e-01,  3.8368e-01,\n",
       "          6.0217e-02,  5.5627e-02,  1.1025e+00,  8.7991e-01,  1.0839e-01,\n",
       "          3.0686e-01,  3.0830e-01,  3.2608e-01,  4.7724e-01,  1.1034e-01,\n",
       "          6.2290e-01,  9.6643e-01,  2.8766e-01,  6.4237e-02,  9.4512e-01,\n",
       "          1.2591e-01,  2.1018e-01,  1.1034e-01,  1.5518e-01,  2.5175e-01,\n",
       "          7.0853e-01,  2.8260e-01,  1.7625e-01,  6.7923e-01,  2.8778e-01,\n",
       "          1.5805e-01,  5.9924e-01,  4.8595e-01,  1.5849e+00,  2.1954e-01,\n",
       "          2.2103e+00,  1.0972e-02,  1.1874e+00,  3.0221e-01,  1.0278e-01,\n",
       "          7.6023e-01,  5.4951e-01,  1.3706e+00,  1.8939e-01,  3.4269e-01,\n",
       "          9.9126e-02,  8.1561e-02,  1.1967e+00,  1.9953e+00,  1.0224e+00,\n",
       "          4.3423e-02,  8.1522e-01, -3.0697e-02,  4.7234e-02,  3.8319e-02,\n",
       "          3.7037e-01,  8.4465e-02,  3.9248e-01,  1.1777e+00,  2.9095e-01,\n",
       "          8.4843e-02,  2.5477e-01, -8.2460e-02,  9.3874e-01,  1.2012e-02,\n",
       "         -8.0039e-02,  1.0280e-01, -7.8835e-02,  6.4250e-01,  1.6947e-01,\n",
       "         -2.0316e-02,  3.2613e-01,  6.9924e-01,  5.1973e-01,  2.5886e-01,\n",
       "          1.3260e-02,  3.0627e-01,  5.2134e-01,  3.7092e-02,  5.9571e-01,\n",
       "          2.5470e-01,  7.1644e-01,  1.0584e+00,  1.3832e+00,  2.2297e-03,\n",
       "          1.8725e+00, -2.1926e-02, -1.3263e-02,  6.1085e-01,  2.7734e-02,\n",
       "          2.4098e-01,  4.5899e-01, -7.6106e-02,  2.3499e+00,  4.9207e-02,\n",
       "          6.4980e-01,  4.2604e-01,  1.1126e+00, -5.8744e-02, -2.5146e-02,\n",
       "          3.9123e-03,  5.0893e-01, -4.0834e-02,  3.5782e-02, -5.4309e-03,\n",
       "         -8.1395e-02,  2.8987e-01,  1.0061e-01,  5.1476e-01,  4.4605e-01,\n",
       "          5.1156e-02,  6.6941e-02,  3.5788e-01,  1.3319e-02,  3.6307e-01,\n",
       "          4.0070e-01,  8.8359e-02,  1.1056e-01,  1.2935e-02,  2.3889e-01,\n",
       "          2.0157e-01,  1.0686e+00, -4.3138e-02,  1.0934e-01,  8.1360e-01,\n",
       "          9.1535e-02,  5.0044e-01,  3.3550e-01,  1.1092e-01,  6.5927e-03,\n",
       "          2.1665e-01,  6.9891e-01,  5.8565e-01,  1.0025e+00,  4.0845e-03,\n",
       "          2.3818e-02, -1.1253e-02,  1.3232e+00,  8.6101e-01,  6.1005e-01,\n",
       "          1.2189e+00,  6.0652e-01,  1.4391e+00,  4.7671e-02,  5.6531e-02,\n",
       "         -8.2698e-03,  8.8533e-01,  1.5818e-01, -1.4885e-02,  1.4182e+00,\n",
       "          3.5915e-01,  1.3138e-01,  8.5724e-01,  1.4025e+00, -2.5121e-02,\n",
       "          4.9772e-02,  1.4282e-01, -1.1717e-01, -7.6313e-03,  3.2364e-01,\n",
       "          6.8363e-01,  7.3172e-02,  4.8284e-02, -3.8048e-02,  2.4617e-01,\n",
       "          1.4405e+00,  3.4370e-01,  1.2833e+00,  2.3918e-01,  5.9789e-01,\n",
       "          5.3172e-01]], grad_fn=<AddBackward0>)"
      ]
     },
     "execution_count": 120,
     "metadata": {},
     "output_type": "execute_result"
    }
   ],
   "source": [
    "y = control_net(x)\n",
    "print(\"y.shape: \", y.shape)\n",
    "y"
   ]
  },
  {
   "cell_type": "markdown",
   "metadata": {},
   "source": [
    "# Multi-channel embedding layer test\n",
    "\n",
    "Here I just wanted to see how to embed even images with more than one channel"
   ]
  },
  {
   "cell_type": "code",
   "execution_count": 22,
   "metadata": {},
   "outputs": [
    {
     "data": {
      "text/plain": [
       "<module 'RelationalModule.RelationalNetworks' from '/home/nicola/Nicola_unipd/MasterThesis/RelationalDeepRL/RelationalModule/RelationalNetworks.py'>"
      ]
     },
     "execution_count": 22,
     "metadata": {},
     "output_type": "execute_result"
    }
   ],
   "source": [
    "reload(rnet)"
   ]
  },
  {
   "cell_type": "code",
   "execution_count": 30,
   "metadata": {},
   "outputs": [],
   "source": [
    "get_entities = rnet.ExtractEntities(k_out = 24, k_in=3, n_dim=3)"
   ]
  },
  {
   "cell_type": "code",
   "execution_count": 31,
   "metadata": {},
   "outputs": [],
   "source": [
    "embed = nn.Embedding(255,3)"
   ]
  },
  {
   "cell_type": "code",
   "execution_count": 35,
   "metadata": {},
   "outputs": [],
   "source": [
    "x = torch.randint(high=116, size = (3,14,14))"
   ]
  },
  {
   "cell_type": "code",
   "execution_count": 36,
   "metadata": {},
   "outputs": [
    {
     "data": {
      "text/plain": [
       "torch.Size([1, 24, 12, 12])"
      ]
     },
     "execution_count": 36,
     "metadata": {},
     "output_type": "execute_result"
    }
   ],
   "source": [
    "get_entities(x).shape"
   ]
  },
  {
   "cell_type": "code",
   "execution_count": 21,
   "metadata": {},
   "outputs": [
    {
     "data": {
      "text/plain": [
       "torch.Size([10, 3, 14, 14])"
      ]
     },
     "execution_count": 21,
     "metadata": {},
     "output_type": "execute_result"
    }
   ],
   "source": [
    "x = x.transpose(-1,-2).reshape(x.shape[0],-1,x.shape[-2],x.shape[-1])\n",
    "x.shape"
   ]
  },
  {
   "cell_type": "code",
   "execution_count": 10,
   "metadata": {},
   "outputs": [],
   "source": [
    "bw_net = rnet.BoxWorldNet()"
   ]
  },
  {
   "cell_type": "code",
   "execution_count": 11,
   "metadata": {},
   "outputs": [
    {
     "data": {
      "text/plain": [
       "torch.Size([1, 256])"
      ]
     },
     "execution_count": 11,
     "metadata": {},
     "output_type": "execute_result"
    }
   ],
   "source": [
    "bw_net(x).shape"
   ]
  },
  {
   "cell_type": "code",
   "execution_count": null,
   "metadata": {},
   "outputs": [],
   "source": []
  }
 ],
 "metadata": {
  "kernelspec": {
   "display_name": "torch",
   "language": "python",
   "name": "torch"
  },
  "language_info": {
   "codemirror_mode": {
    "name": "ipython",
    "version": 3
   },
   "file_extension": ".py",
   "mimetype": "text/x-python",
   "name": "python",
   "nbconvert_exporter": "python",
   "pygments_lexer": "ipython3",
   "version": "3.7.6"
  }
 },
 "nbformat": 4,
 "nbformat_minor": 2
}
