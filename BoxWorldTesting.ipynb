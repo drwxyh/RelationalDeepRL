{
  "nbformat": 4,
  "nbformat_minor": 0,
  "metadata": {
    "accelerator": "GPU",
    "colab": {
      "name": "BoxWorldTesting.ipynb",
      "provenance": [],
      "include_colab_link": true
    },
    "kernelspec": {
      "display_name": "torch",
      "language": "python",
      "name": "torch"
    },
    "language_info": {
      "codemirror_mode": {
        "name": "ipython",
        "version": 3
      },
      "file_extension": ".py",
      "mimetype": "text/x-python",
      "name": "python",
      "nbconvert_exporter": "python",
      "pygments_lexer": "ipython3",
      "version": "3.7.6"
    }
  },
  "cells": [
    {
      "cell_type": "markdown",
      "metadata": {
        "id": "view-in-github",
        "colab_type": "text"
      },
      "source": [
        "<a href=\"https://colab.research.google.com/github/nicoladainese96/RelationalDeepRL/blob/master/BoxWorldTesting.ipynb\" target=\"_parent\"><img src=\"https://colab.research.google.com/assets/colab-badge.svg\" alt=\"Open In Colab\"/></a>"
      ]
    },
    {
      "cell_type": "code",
      "metadata": {
        "colab_type": "code",
        "id": "R9EYGzHsgtK6",
        "outputId": "0a7b2841-a8fa-4be4-a28c-a2b7306bdf51",
        "colab": {
          "base_uri": "https://localhost:8080/",
          "height": 471
        }
      },
      "source": [
        "colab = True\n",
        "\n",
        "if colab:\n",
        "    from google.colab import drive\n",
        "    drive.mount('/content/gdrive')\n",
        "    !git clone https://github.com/deepmind/pycolab.git\n",
        "    !git clone https://github.com/nicoladainese96/RelationalModule.git\n",
        "    !pip install pycolab"
      ],
      "execution_count": 2,
      "outputs": [
        {
          "output_type": "stream",
          "text": [
            "Go to this URL in a browser: https://accounts.google.com/o/oauth2/auth?client_id=947318989803-6bn6qk8qdgf4n4g3pfee6491hc0brc4i.apps.googleusercontent.com&redirect_uri=urn%3aietf%3awg%3aoauth%3a2.0%3aoob&response_type=code&scope=email%20https%3a%2f%2fwww.googleapis.com%2fauth%2fdocs.test%20https%3a%2f%2fwww.googleapis.com%2fauth%2fdrive%20https%3a%2f%2fwww.googleapis.com%2fauth%2fdrive.photos.readonly%20https%3a%2f%2fwww.googleapis.com%2fauth%2fpeopleapi.readonly\n",
            "\n",
            "Enter your authorization code:\n",
            "··········\n",
            "Mounted at /content/gdrive\n",
            "Cloning into 'pycolab'...\n",
            "remote: Enumerating objects: 13, done.\u001b[K\n",
            "remote: Counting objects: 100% (13/13), done.\u001b[K\n",
            "remote: Compressing objects: 100% (11/11), done.\u001b[K\n",
            "remote: Total 218 (delta 2), reused 10 (delta 2), pack-reused 205\u001b[K\n",
            "Receiving objects: 100% (218/218), 461.22 KiB | 644.00 KiB/s, done.\n",
            "Resolving deltas: 100% (120/120), done.\n",
            "Cloning into 'RelationalModule'...\n",
            "remote: Enumerating objects: 12, done.\u001b[K\n",
            "remote: Counting objects: 100% (12/12), done.\u001b[K\n",
            "remote: Compressing objects: 100% (10/10), done.\u001b[K\n",
            "remote: Total 12 (delta 2), reused 8 (delta 1), pack-reused 0\u001b[K\n",
            "Unpacking objects: 100% (12/12), done.\n",
            "Collecting pycolab\n",
            "\u001b[?25l  Downloading https://files.pythonhosted.org/packages/bf/6c/aa23f61a1aa6be0b53765ff5edae59db8fcc6b98952a41abe6de8982eaa3/pycolab-1.2-py3-none-any.whl (165kB)\n",
            "\u001b[K     |████████████████████████████████| 174kB 1.4MB/s \n",
            "\u001b[?25hRequirement already satisfied: numpy>=1.9 in /usr/local/lib/python3.6/dist-packages (from pycolab) (1.18.2)\n",
            "Requirement already satisfied: six in /usr/local/lib/python3.6/dist-packages (from pycolab) (1.12.0)\n",
            "Installing collected packages: pycolab\n",
            "Successfully installed pycolab-1.2\n"
          ],
          "name": "stdout"
        }
      ]
    },
    {
      "cell_type": "code",
      "metadata": {
        "colab_type": "code",
        "id": "YhQ0STsMfTkc",
        "colab": {}
      },
      "source": [
        "import numpy as np\n",
        "import matplotlib.pyplot as plt\n",
        "import torch\n",
        "from RelationalModule import ActorCritic\n",
        "from RelationalModule import train_agent as train\n",
        "from importlib import reload"
      ],
      "execution_count": 0,
      "outputs": []
    },
    {
      "cell_type": "code",
      "metadata": {
        "colab_type": "code",
        "id": "6iwtqRC6fTkx",
        "outputId": "3b67d72e-77ed-40bb-aef1-15e8ef9da357",
        "colab": {
          "base_uri": "https://localhost:8080/",
          "height": 34
        }
      },
      "source": [
        "reload(train)"
      ],
      "execution_count": 4,
      "outputs": [
        {
          "output_type": "execute_result",
          "data": {
            "text/plain": [
              "<module 'RelationalModule.train_agent' from '/content/RelationalModule/train_agent.py'>"
            ]
          },
          "metadata": {
            "tags": []
          },
          "execution_count": 4
        }
      ]
    },
    {
      "cell_type": "code",
      "metadata": {
        "colab_type": "code",
        "id": "bec0WsZRfTlG",
        "colab": {}
      },
      "source": [
        "game_params = dict(grid_size=12,\n",
        "                solution_length=[1],\n",
        "                num_forward = [1], # number of distractors\n",
        "                num_backward=[0], # just set to 0 for now\n",
        "                branch_length=1 # length of forward distractors\n",
        "               )"
      ],
      "execution_count": 0,
      "outputs": []
    },
    {
      "cell_type": "code",
      "metadata": {
        "colab_type": "code",
        "id": "HDHaeLwhfTlT",
        "scrolled": true,
        "outputId": "6fbb7677-577b-4f05-cdac-3d458a7ca317",
        "colab": {
          "base_uri": "https://localhost:8080/",
          "height": 34
        }
      },
      "source": [
        "\n",
        "HPs = dict(action_space=4,\n",
        "           lr=1e-2,\n",
        "           gamma=0.99,\n",
        "           TD=True,\n",
        "           twin=True,\n",
        "           n_steps = 3\n",
        "           )\n",
        "if colab:\n",
        "    HPs['device'] = 'cuda'\n",
        "else:\n",
        "    HPs['device'] = 'cpu'\n",
        "\n",
        "print('device: ', HPs['device'])  \n",
        "agent = ActorCritic.BoxWorldA2C(**HPs)"
      ],
      "execution_count": 6,
      "outputs": [
        {
          "output_type": "stream",
          "text": [
            "device:  cuda\n"
          ],
          "name": "stdout"
        }
      ]
    },
    {
      "cell_type": "code",
      "metadata": {
        "colab_type": "code",
        "id": "qVBbpzplfTlr",
        "outputId": "7e8bc7cb-2a93-4609-b1f7-96fd7e0a3228",
        "scrolled": false,
        "colab": {
          "base_uri": "https://localhost:8080/",
          "height": 627
        }
      },
      "source": [
        "%%time\n",
        "results = train.train_boxworld(agent, game_params, n_episodes = 10, return_agent=True)\n",
        "score, asymptotic_score, asymptotic_std, trained_agent, time_profile = results"
      ],
      "execution_count": 7,
      "outputs": [
        {
          "output_type": "stream",
          "text": [
            "/usr/local/lib/python3.6/dist-packages/pycolab/ascii_art.py:318: FutureWarning: arrays to stack must be passed as a \"sequence\" type such as list or tuple. Support for non-sequence iterables such as generators is deprecated as of NumPy 1.16 and will raise an error in the future.\n",
            "  art = np.vstack(np.fromstring(line, dtype=np.uint8) for line in art)\n"
          ],
          "name": "stderr"
        },
        {
          "output_type": "stream",
          "text": [
            "Time playing the episode: 0.88 s\n",
            "Episode 1 - reward: 0\n",
            "Time updating the agent: 0.57 s\n",
            "Time playing the episode: 0.38 s\n",
            "Episode 2 - reward: 0\n",
            "Time updating the agent: 0.51 s\n",
            "Time playing the episode: 0.37 s\n",
            "Episode 3 - reward: 0\n",
            "Time updating the agent: 0.51 s\n",
            "Time playing the episode: 0.37 s\n",
            "Episode 4 - reward: 0\n",
            "Time updating the agent: 0.51 s\n",
            "Time playing the episode: 0.37 s\n",
            "Episode 5 - reward: 0\n",
            "Time updating the agent: 0.51 s\n",
            "Time playing the episode: 0.38 s\n",
            "Episode 6 - reward: 0\n",
            "Time updating the agent: 0.50 s\n",
            "Time playing the episode: 0.40 s\n",
            "Episode 7 - reward: 0\n",
            "Time updating the agent: 0.50 s\n",
            "Time playing the episode: 0.39 s\n",
            "Episode 8 - reward: 0\n",
            "Time updating the agent: 0.50 s\n",
            "Time playing the episode: 0.37 s\n",
            "Episode 9 - reward: 0\n",
            "Time updating the agent: 0.50 s\n",
            "Time playing the episode: 0.37 s\n",
            "Episode 10 - reward: 0\n",
            "Time updating the agent: 0.51 s\n",
            "CPU times: user 8.25 s, sys: 630 ms, total: 8.88 s\n",
            "Wall time: 9.43 s\n"
          ],
          "name": "stdout"
        }
      ]
    },
    {
      "cell_type": "markdown",
      "metadata": {
        "colab_type": "text",
        "id": "CSND18K4fTmD"
      },
      "source": [
        "On my PC:\n",
        "\n",
        " Average time for playing an episode: 1.97428691 <br>\n",
        " Average time for updating the agent: 26.46678982\n",
        "\n",
        " On Colab notebook:\n",
        "\n",
        " Average time for playing an episode:  1.11658633 <br>\n",
        " Average time for updating the agent: 18.63836179\n"
      ]
    },
    {
      "cell_type": "markdown",
      "metadata": {
        "colab_type": "text",
        "id": "xxejRxWmjv9v"
      },
      "source": [
        "With GPU\n",
        "\n",
        "Average time for playing an episode: 0.43020332 <br>\n",
        "Average time for updating the agent: 0.64481306\n"
      ]
    },
    {
      "cell_type": "code",
      "metadata": {
        "colab_type": "code",
        "id": "rkdAxrzyfTmG",
        "outputId": "630698dd-9c1a-485c-f830-8a896b8c35f2",
        "colab": {
          "base_uri": "https://localhost:8080/",
          "height": 411
        }
      },
      "source": [
        "plt.figure(figsize=(8,6))\n",
        "n_epochs = np.arange(len(score))\n",
        "plt.plot(n_epochs, score, alpha=0.9)\n",
        "plt.title(\"Performance\", fontsize=16)\n",
        "plt.xlabel(\"Number of epochs\", fontsize=16)\n",
        "plt.ylabel(\"Total reward (max=500)\", fontsize=16)\n",
        "plt.show()"
      ],
      "execution_count": 8,
      "outputs": [
        {
          "output_type": "display_data",
          "data": {
            "image/png": "[encoded data removed]",
            "text/plain": [
              "<Figure size 576x432 with 1 Axes>"
            ]
          },
          "metadata": {
            "tags": []
          }
        }
      ]
    },
    {
      "cell_type": "code",
      "metadata": {
        "id": "kYk9rauagJzN",
        "colab_type": "code",
        "outputId": "37574b07-aa56-47e7-f926-095f152e44b0",
        "colab": {
          "base_uri": "https://localhost:8080/",
          "height": 34
        }
      },
      "source": [
        "%cd '~'"
      ],
      "execution_count": 25,
      "outputs": [
        {
          "output_type": "stream",
          "text": [
            "/root\n"
          ],
          "name": "stdout"
        }
      ]
    },
    {
      "cell_type": "code",
      "metadata": {
        "colab_type": "code",
        "id": "fwlccS3ifTmO",
        "outputId": "5b9cc1d4-5177-401a-d9d1-d7cc98a08d73",
        "colab": {
          "base_uri": "https://localhost:8080/",
          "height": 34
        }
      },
      "source": [
        "parent_dir = \"/content/gdrive/My Drive/Colab Notebooks\"\n",
        "%cd \"{parent_dir}\""
      ],
      "execution_count": 29,
      "outputs": [
        {
          "output_type": "stream",
          "text": [
            "/content/gdrive/My Drive/Colab Notebooks\n"
          ],
          "name": "stdout"
        }
      ]
    },
    {
      "cell_type": "code",
      "metadata": {
        "id": "q3Y-2Gizfna9",
        "colab_type": "code",
        "outputId": "cf6479e7-c984-459f-d763-a1e8c13239b4",
        "colab": {
          "base_uri": "https://localhost:8080/",
          "height": 52
        }
      },
      "source": [
        "%ls"
      ],
      "execution_count": 30,
      "outputs": [
        {
          "output_type": "stream",
          "text": [
            "6_transformer.ipynb    cartpole_HP_tuning.ipynb  \u001b[0m\u001b[01;34mParametri\u001b[0m/\n",
            "BoxWorldTesting.ipynb  \u001b[01;34mcheckpoint\u001b[0m/               \u001b[01;34mRelationalDeepRL\u001b[0m/\n"
          ],
          "name": "stdout"
        }
      ]
    },
    {
      "cell_type": "code",
      "metadata": {
        "id": "Bd_eBTQWf3dU",
        "colab_type": "code",
        "outputId": "fb9cee9a-0c0d-42e1-8132-925cb18eefca",
        "colab": {
          "base_uri": "https://localhost:8080/",
          "height": 121
        }
      },
      "source": [
        "!if [ ! -d \"RelationalDeepRL\" ]; then git clone https://github.com/nicoladainese96/RelationalDeepRL.git; fi"
      ],
      "execution_count": 26,
      "outputs": [
        {
          "output_type": "stream",
          "text": [
            "Cloning into 'RelationalDeepRL'...\n",
            "remote: Enumerating objects: 43, done.\u001b[K\n",
            "remote: Counting objects: 100% (43/43), done.\u001b[K\n",
            "remote: Compressing objects: 100% (28/28), done.\u001b[K\n",
            "remote: Total 43 (delta 16), reused 38 (delta 11), pack-reused 0\u001b[K\n",
            "Unpacking objects: 100% (43/43), done.\n"
          ],
          "name": "stdout"
        }
      ]
    },
    {
      "cell_type": "code",
      "metadata": {
        "id": "GLfMk0segvZG",
        "colab_type": "code",
        "colab": {
          "base_uri": "https://localhost:8080/",
          "height": 34
        },
        "outputId": "63b506b9-feb3-45cb-f280-7738fe4333d6"
      },
      "source": [
        "%ls"
      ],
      "execution_count": 27,
      "outputs": [
        {
          "output_type": "stream",
          "text": [
            "\u001b[0m\u001b[01;34mRelationalDeepRL\u001b[0m/\n"
          ],
          "name": "stdout"
        }
      ]
    },
    {
      "cell_type": "code",
      "metadata": {
        "id": "sYFskCeJkiR0",
        "colab_type": "code",
        "colab": {
          "base_uri": "https://localhost:8080/",
          "height": 34
        },
        "outputId": "20310d18-cfe6-4dec-aaaf-fd290d9222af"
      },
      "source": [
        "%cp BoxWorldTesting.ipynb RelationalDeepRL/"
      ],
      "execution_count": 28,
      "outputs": [
        {
          "output_type": "stream",
          "text": [
            "cp: cannot stat 'BoxWorldTesting.ipynb': No such file or directory\n"
          ],
          "name": "stdout"
        }
      ]
    },
    {
      "cell_type": "code",
      "metadata": {
        "id": "Pvshth7lkuuJ",
        "colab_type": "code",
        "colab": {
          "base_uri": "https://localhost:8080/",
          "height": 34
        },
        "outputId": "fd682a81-f755-4788-8db0-3f05e17fc034"
      },
      "source": [
        "%cd RelationalDeepRL/\n",
        "\n"
      ],
      "execution_count": 31,
      "outputs": [
        {
          "output_type": "stream",
          "text": [
            "/content/gdrive/My Drive/Colab Notebooks/RelationalDeepRL\n"
          ],
          "name": "stdout"
        }
      ]
    },
    {
      "cell_type": "code",
      "metadata": {
        "id": "J7SOsufUmERu",
        "colab_type": "code",
        "colab": {}
      },
      "source": [
        "!git remote set-url origin https://github.com/nicoladainese96/RelationalDeepRL.git"
      ],
      "execution_count": 0,
      "outputs": []
    },
    {
      "cell_type": "code",
      "metadata": {
        "id": "A3vM-lXRk5ib",
        "colab_type": "code",
        "colab": {
          "base_uri": "https://localhost:8080/",
          "height": 34
        },
        "outputId": "21be13ca-4a73-4326-9338-9e34ae80a54a"
      },
      "source": [
        "!git config --global user.email \"nicola.dainese96@gmail.com\"\n",
        "!git config --global user.name \"nicoladainese96\"\n",
        "!git push origin master"
      ],
      "execution_count": 24,
      "outputs": [
        {
          "output_type": "stream",
          "text": [
            "fatal: could not read Username for 'https://github.com': No such device or address\n"
          ],
          "name": "stdout"
        }
      ]
    },
    {
      "cell_type": "code",
      "metadata": {
        "id": "gxxEj3WnlPTc",
        "colab_type": "code",
        "colab": {}
      },
      "source": [
        ""
      ],
      "execution_count": 0,
      "outputs": []
    }
  ]
}