{
 "cells": [
  {
   "cell_type": "code",
   "execution_count": 1,
   "metadata": {
    "colab": {
     "base_uri": "https://localhost:8080/",
     "height": 124
    },
    "colab_type": "code",
    "id": "R9EYGzHsgtK6",
    "outputId": "f30d5080-4670-4ba8-f80b-b5afb360e48e"
   },
   "outputs": [],
   "source": [
    "colab = False\n",
    "\n",
    "if colab:\n",
    "    from google.colab import drive\n",
    "    drive.mount('/content/gdrive')\n",
    "    !git clone https://github.com/deepmind/pycolab.git\n",
    "    !pip install pycolab"
   ]
  },
  {
   "cell_type": "code",
   "execution_count": 2,
   "metadata": {
    "colab": {},
    "colab_type": "code",
    "id": "YhQ0STsMfTkc"
   },
   "outputs": [],
   "source": [
    "import numpy as np\n",
    "import matplotlib.pyplot as plt\n",
    "import torch\n",
    "import ActorCritic\n",
    "import train_agent as train\n",
    "from importlib import reload"
   ]
  },
  {
   "cell_type": "code",
   "execution_count": 3,
   "metadata": {
    "colab": {
     "base_uri": "https://localhost:8080/",
     "height": 34
    },
    "colab_type": "code",
    "id": "6iwtqRC6fTkx",
    "outputId": "cb2cf346-a328-4aac-870d-7623f1fbb06f"
   },
   "outputs": [
    {
     "data": {
      "text/plain": [
       "<module 'train_agent' from '/home/nicola/Nicola_unipd/MasterThesis/RelationalDeepRL/train_agent.py'>"
      ]
     },
     "execution_count": 3,
     "metadata": {},
     "output_type": "execute_result"
    }
   ],
   "source": [
    "reload(train)"
   ]
  },
  {
   "cell_type": "code",
   "execution_count": 4,
   "metadata": {
    "colab": {},
    "colab_type": "code",
    "id": "bec0WsZRfTlG"
   },
   "outputs": [],
   "source": [
    "game_params = dict(grid_size=12,\n",
    "                solution_length=[1],\n",
    "                num_forward = [1], # number of distractors\n",
    "                num_backward=[0], # just set to 0 for now\n",
    "                branch_length=1 # length of forward distractors\n",
    "               )"
   ]
  },
  {
   "cell_type": "code",
   "execution_count": 5,
   "metadata": {
    "colab": {},
    "colab_type": "code",
    "id": "HDHaeLwhfTlT",
    "scrolled": true
   },
   "outputs": [],
   "source": [
    "HPs = dict(action_space=4,\n",
    "           lr=1e-2,\n",
    "           gamma=0.99,\n",
    "           TD=True,\n",
    "           twin=True,\n",
    "           n_steps = 3\n",
    "           )\n",
    "agent = ActorCritic.BoxWorldA2C(**HPs)"
   ]
  },
  {
   "cell_type": "code",
   "execution_count": 5,
   "metadata": {
    "colab": {
     "base_uri": "https://localhost:8080/",
     "height": 627
    },
    "colab_type": "code",
    "id": "qVBbpzplfTlr",
    "outputId": "549cffc8-3855-4d00-d7d3-e615ebfc8702",
    "scrolled": false
   },
   "outputs": [
    {
     "name": "stderr",
     "output_type": "stream",
     "text": [
      "/usr/local/lib/python3.6/dist-packages/pycolab/ascii_art.py:318: FutureWarning: arrays to stack must be passed as a \"sequence\" type such as list or tuple. Support for non-sequence iterables such as generators is deprecated as of NumPy 1.16 and will raise an error in the future.\n",
      "  art = np.vstack(np.fromstring(line, dtype=np.uint8) for line in art)\n"
     ]
    },
    {
     "name": "stdout",
     "output_type": "stream",
     "text": [
      "Time playing the episode: 1.78 s\n",
      "Episode 1 - reward: 0\n",
      "Time updating the agent: 13.66 s\n",
      "Time playing the episode: 1.06 s\n",
      "Episode 2 - reward: 0\n",
      "Time updating the agent: 12.43 s\n",
      "Time playing the episode: 1.06 s\n",
      "Episode 3 - reward: 0\n",
      "Time updating the agent: 12.47 s\n",
      "Time playing the episode: 1.06 s\n",
      "Episode 4 - reward: 0\n",
      "Time updating the agent: 74.13 s\n",
      "Time playing the episode: 1.03 s\n",
      "Episode 5 - reward: 0\n",
      "Time updating the agent: 12.25 s\n",
      "Time playing the episode: 1.04 s\n",
      "Episode 6 - reward: 0\n",
      "Time updating the agent: 12.33 s\n",
      "Time playing the episode: 1.04 s\n",
      "Episode 7 - reward: 0\n",
      "Time updating the agent: 12.29 s\n",
      "Time playing the episode: 1.04 s\n",
      "Episode 8 - reward: 0\n",
      "Time updating the agent: 12.36 s\n",
      "Time playing the episode: 1.01 s\n",
      "Episode 9 - reward: 0\n",
      "Time updating the agent: 12.22 s\n",
      "Time playing the episode: 1.04 s\n",
      "Episode 10 - reward: 0\n",
      "Time updating the agent: 12.25 s\n",
      "CPU times: user 3min 11s, sys: 5.64 s, total: 3min 16s\n",
      "Wall time: 3min 17s\n"
     ]
    }
   ],
   "source": [
    "%%time\n",
    "results = train.train_boxworld(agent, game_params, n_episodes = 10, return_agent=True)\n",
    "score, asymptotic_score, asymptotic_std, trained_agent, time_profile = results"
   ]
  },
  {
   "cell_type": "code",
   "execution_count": 7,
   "metadata": {
    "colab": {
     "base_uri": "https://localhost:8080/",
     "height": 34
    },
    "colab_type": "code",
    "id": "uVQWMxPBfTl5",
    "outputId": "123124d4-660b-489c-e612-51aba98aa460"
   },
   "outputs": [
    {
     "data": {
      "text/plain": [
       "array([ 1.11658633, 18.63836179])"
      ]
     },
     "execution_count": 7,
     "metadata": {
      "tags": []
     },
     "output_type": "execute_result"
    }
   ],
   "source": [
    "time_profile.mean(axis=0)"
   ]
  },
  {
   "cell_type": "markdown",
   "metadata": {
    "colab_type": "text",
    "id": "CSND18K4fTmD"
   },
   "source": [
    "On my PC:\n",
    "\n",
    " Average time for playing an episode: 1.97428691 <br>\n",
    " Average time for updating the agent: 26.46678982\n",
    "\n",
    " On Colab notebook:\n",
    "\n",
    " Average time for playing an episode:  1.11658633 <br>\n",
    " Average time for updating the agent: 18.63836179\n"
   ]
  },
  {
   "cell_type": "markdown",
   "metadata": {
    "colab_type": "text",
    "id": "xxejRxWmjv9v"
   },
   "source": [
    "With GPU\n",
    "\n",
    "Average time for playing an episode: 0.43020332 <br>\n",
    "Average time for updating the agent: 0.64481306\n"
   ]
  },
  {
   "cell_type": "code",
   "execution_count": 6,
   "metadata": {
    "colab": {
     "base_uri": "https://localhost:8080/",
     "height": 627
    },
    "colab_type": "code",
    "id": "GYdBB4Lpju4v",
    "outputId": "b01630be-1d18-41d7-b05e-9a1291bcbd85"
   },
   "outputs": [
    {
     "name": "stdout",
     "output_type": "stream",
     "text": [
      "CPU times: user 5 µs, sys: 2 µs, total: 7 µs\n",
      "Wall time: 12.2 µs\n"
     ]
    }
   ],
   "source": [
    "%%time\n",
    "if colab: \n",
    "    HPs = dict(action_space=4,\n",
    "           lr=1e-2,\n",
    "           gamma=0.99,\n",
    "           TD=True,\n",
    "           twin=True,\n",
    "           n_steps = 3,\n",
    "           device='cuda'\n",
    "           )\n",
    "    agent = ActorCritic.BoxWorldA2C(**HPs)\n",
    "\n",
    "    results = train.train_boxworld(agent, game_params, n_episodes = 10, return_agent=True)\n",
    "    score, asymptotic_score, asymptotic_std, trained_agent, time_profile = results"
   ]
  },
  {
   "cell_type": "markdown",
   "metadata": {
    "colab_type": "text",
    "id": "kWqmHoVEfTmF"
   },
   "source": [
    "100 episodes (full 120 steps each) = 1h 20 min"
   ]
  },
  {
   "cell_type": "code",
   "execution_count": 0,
   "metadata": {
    "colab": {},
    "colab_type": "code",
    "id": "rkdAxrzyfTmG",
    "outputId": "fb514aa3-2904-49a9-a863-ae362ca5bac7"
   },
   "outputs": [
    {
     "data": {
      "image/png": "[encoded data removed]",
      "text/plain": [
       "<Figure size 576x432 with 1 Axes>"
      ]
     },
     "metadata": {
      "needs_background": "light",
      "tags": []
     },
     "output_type": "display_data"
    }
   ],
   "source": [
    "plt.figure(figsize=(8,6))\n",
    "n_epochs = np.arange(len(score))\n",
    "plt.plot(n_epochs, score, alpha=0.9)\n",
    "plt.title(\"Performance\", fontsize=16)\n",
    "plt.xlabel(\"Number of epochs\", fontsize=16)\n",
    "plt.ylabel(\"Total reward (max=500)\", fontsize=16)\n",
    "plt.show()"
   ]
  },
  {
   "cell_type": "code",
   "execution_count": 0,
   "metadata": {
    "colab": {},
    "colab_type": "code",
    "id": "fwlccS3ifTmO"
   },
   "outputs": [],
   "source": []
  }
 ],
 "metadata": {
  "accelerator": "GPU",
  "colab": {
   "name": "BoxWorldTesting.ipynb",
   "provenance": []
  },
  "kernelspec": {
   "display_name": "torch",
   "language": "python",
   "name": "torch"
  },
  "language_info": {
   "codemirror_mode": {
    "name": "ipython",
    "version": 3
   },
   "file_extension": ".py",
   "mimetype": "text/x-python",
   "name": "python",
   "nbconvert_exporter": "python",
   "pygments_lexer": "ipython3",
   "version": "3.7.6"
  }
 },
 "nbformat": 4,
 "nbformat_minor": 1
}
