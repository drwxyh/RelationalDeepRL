{
  "nbformat": 4,
  "nbformat_minor": 0,
  "metadata": {
    "accelerator": "GPU",
    "colab": {
      "name": "BoxWorldTesting.ipynb",
      "provenance": []
    },
    "kernelspec": {
      "display_name": "torch",
      "language": "python",
      "name": "torch"
    },
    "language_info": {
      "codemirror_mode": {
        "name": "ipython",
        "version": 3
      },
      "file_extension": ".py",
      "mimetype": "text/x-python",
      "name": "python",
      "nbconvert_exporter": "python",
      "pygments_lexer": "ipython3",
      "version": "3.7.6"
    }
  },
  "cells": [
    {
      "cell_type": "code",
      "metadata": {
        "colab_type": "code",
        "id": "R9EYGzHsgtK6",
        "outputId": "972e0c17-ed98-4a0c-cdfa-66d2bf38eef6",
        "colab": {
          "base_uri": "https://localhost:8080/",
          "height": 471
        }
      },
      "source": [
        "colab = True\n",
        "\n",
        "if colab:\n",
        "    from google.colab import drive\n",
        "    drive.mount('/content/gdrive')\n",
        "    !git clone https://github.com/deepmind/pycolab.git\n",
        "    !git clone https://github.com/nicoladainese96/RelationalModule.git\n",
        "    !pip install pycolab"
      ],
      "execution_count": 1,
      "outputs": [
        {
          "output_type": "stream",
          "text": [
            "Go to this URL in a browser: https://accounts.google.com/o/oauth2/auth?client_id=947318989803-6bn6qk8qdgf4n4g3pfee6491hc0brc4i.apps.googleusercontent.com&redirect_uri=urn%3aietf%3awg%3aoauth%3a2.0%3aoob&response_type=code&scope=email%20https%3a%2f%2fwww.googleapis.com%2fauth%2fdocs.test%20https%3a%2f%2fwww.googleapis.com%2fauth%2fdrive%20https%3a%2f%2fwww.googleapis.com%2fauth%2fdrive.photos.readonly%20https%3a%2f%2fwww.googleapis.com%2fauth%2fpeopleapi.readonly\n",
            "\n",
            "Enter your authorization code:\n",
            "··········\n",
            "Mounted at /content/gdrive\n",
            "Cloning into 'pycolab'...\n",
            "remote: Enumerating objects: 13, done.\u001b[K\n",
            "remote: Counting objects: 100% (13/13), done.\u001b[K\n",
            "remote: Compressing objects: 100% (11/11), done.\u001b[K\n",
            "remote: Total 218 (delta 2), reused 10 (delta 2), pack-reused 205\u001b[K\n",
            "Receiving objects: 100% (218/218), 461.22 KiB | 1.48 MiB/s, done.\n",
            "Resolving deltas: 100% (120/120), done.\n",
            "Cloning into 'RelationalModule'...\n",
            "remote: Enumerating objects: 36, done.\u001b[K\n",
            "remote: Counting objects: 100% (36/36), done.\u001b[K\n",
            "remote: Compressing objects: 100% (23/23), done.\u001b[K\n",
            "remote: Total 36 (delta 21), reused 25 (delta 12), pack-reused 0\u001b[K\n",
            "Unpacking objects: 100% (36/36), done.\n",
            "Collecting pycolab\n",
            "\u001b[?25l  Downloading https://files.pythonhosted.org/packages/bf/6c/aa23f61a1aa6be0b53765ff5edae59db8fcc6b98952a41abe6de8982eaa3/pycolab-1.2-py3-none-any.whl (165kB)\n",
            "\u001b[K     |████████████████████████████████| 174kB 8.8MB/s \n",
            "\u001b[?25hRequirement already satisfied: numpy>=1.9 in /usr/local/lib/python3.6/dist-packages (from pycolab) (1.18.2)\n",
            "Requirement already satisfied: six in /usr/local/lib/python3.6/dist-packages (from pycolab) (1.12.0)\n",
            "Installing collected packages: pycolab\n",
            "Successfully installed pycolab-1.2\n"
          ],
          "name": "stdout"
        }
      ]
    },
    {
      "cell_type": "code",
      "metadata": {
        "colab_type": "code",
        "id": "YhQ0STsMfTkc",
        "colab": {}
      },
      "source": [
        "import numpy as np\n",
        "import matplotlib.pyplot as plt\n",
        "import torch\n",
        "from RelationalModule import ActorCritic, ControlActorCritic\n",
        "from RelationalModule import train_agent as train\n",
        "from importlib import reload"
      ],
      "execution_count": 0,
      "outputs": []
    },
    {
      "cell_type": "code",
      "metadata": {
        "colab_type": "code",
        "id": "6iwtqRC6fTkx",
        "outputId": "49c6b6e7-33d1-4478-cf15-4bdcfaa8e0ad",
        "colab": {
          "base_uri": "https://localhost:8080/",
          "height": 34
        }
      },
      "source": [
        "reload(train)"
      ],
      "execution_count": 3,
      "outputs": [
        {
          "output_type": "execute_result",
          "data": {
            "text/plain": [
              "<module 'RelationalModule.train_agent' from '/content/RelationalModule/train_agent.py'>"
            ]
          },
          "metadata": {
            "tags": []
          },
          "execution_count": 3
        }
      ]
    },
    {
      "cell_type": "code",
      "metadata": {
        "colab_type": "code",
        "id": "bec0WsZRfTlG",
        "colab": {}
      },
      "source": [
        "game_params = dict(grid_size=7,\n",
        "                solution_length=[0],\n",
        "                num_forward = [0], # number of distractors\n",
        "                num_backward=[0], # just set to 0 for now\n",
        "                branch_length=1 # length of forward distractors\n",
        "               )"
      ],
      "execution_count": 0,
      "outputs": []
    },
    {
      "cell_type": "code",
      "metadata": {
        "colab_type": "code",
        "id": "HDHaeLwhfTlT",
        "outputId": "dc95807b-6c0c-4262-ea1a-d74668166ae7",
        "scrolled": true,
        "colab": {
          "base_uri": "https://localhost:8080/",
          "height": 34
        }
      },
      "source": [
        "# Relational Agent\n",
        "\n",
        "HPs = dict(action_space=4,\n",
        "           lr=1e-4,\n",
        "           gamma=0.99,\n",
        "           TD=True,\n",
        "           twin=True,\n",
        "           tau=0.02,\n",
        "           n_steps=50\n",
        "           )\n",
        "if colab:\n",
        "    HPs['device'] = 'cuda'\n",
        "else:\n",
        "    HPs['device'] = 'cpu'\n",
        "\n",
        "print('device: ', HPs['device'])  \n",
        "agent = ActorCritic.BoxWorldA2C(**HPs)"
      ],
      "execution_count": 5,
      "outputs": [
        {
          "output_type": "stream",
          "text": [
            "device:  cuda\n"
          ],
          "name": "stdout"
        }
      ]
    },
    {
      "cell_type": "code",
      "metadata": {
        "id": "lHW68l21pJVl",
        "colab_type": "code",
        "colab": {
          "base_uri": "https://localhost:8080/",
          "height": 34
        },
        "outputId": "8ad24f3b-4c20-4c44-b40a-bc87f2604474"
      },
      "source": [
        "# Control Agent\n",
        "\n",
        "HPs = dict(action_space=4,\n",
        "           lr=1e-4,\n",
        "           gamma=0.99,\n",
        "           TD=True,\n",
        "           twin=True,\n",
        "           tau=0.02,\n",
        "           n_steps=50\n",
        "           )\n",
        "if colab:\n",
        "    HPs['device'] = 'cuda'\n",
        "else:\n",
        "    HPs['device'] = 'cpu'\n",
        "\n",
        "print('device: ', HPs['device'])  \n",
        "control_agent = ControlActorCritic.ControlA2C(**HPs)"
      ],
      "execution_count": 6,
      "outputs": [
        {
          "output_type": "stream",
          "text": [
            "device:  cuda\n"
          ],
          "name": "stdout"
        }
      ]
    },
    {
      "cell_type": "code",
      "metadata": {
        "id": "mgCA3SMwxpcz",
        "colab_type": "code",
        "colab": {}
      },
      "source": [
        "# Random Agent\n",
        "\n",
        "class RandomAgent():\n",
        "    def __init__(self, n_actions):\n",
        "        self.n_actions = n_actions\n",
        "    \n",
        "    def get_action(self,state, *args, **kwargs):\n",
        "        a = np.random.choice(self.n_actions)\n",
        "        log_prob = np.log(1./self.n_actions) # just because it's the standard output of the other agent\n",
        "        return a, log_prob\n",
        "    \n",
        "    def update(self, *args):\n",
        "        return\n",
        "\n",
        "rnd_agent = RandomAgent(4)"
      ],
      "execution_count": 0,
      "outputs": []
    },
    {
      "cell_type": "code",
      "metadata": {
        "id": "Kf30nk3RqdHb",
        "colab_type": "code",
        "colab": {
          "base_uri": "https://localhost:8080/",
          "height": 975
        },
        "outputId": "7560a1b1-99be-44d4-f6ae-03965f065c28"
      },
      "source": [
        "%%time\n",
        "c_results = train.train_boxworld(control_agent, game_params, n_episodes = 5000, return_agent=True)\n",
        "score, asymptotic_score, asymptotic_std, trained_agent, time_profile = c_results"
      ],
      "execution_count": 8,
      "outputs": [
        {
          "output_type": "stream",
          "text": [
            "/usr/local/lib/python3.6/dist-packages/pycolab/ascii_art.py:318: FutureWarning: arrays to stack must be passed as a \"sequence\" type such as list or tuple. Support for non-sequence iterables such as generators is deprecated as of NumPy 1.16 and will raise an error in the future.\n",
            "  art = np.vstack(np.fromstring(line, dtype=np.uint8) for line in art)\n"
          ],
          "name": "stderr"
        },
        {
          "output_type": "stream",
          "text": [
            "Episode 100 - reward: 7.10\n",
            "Episode 200 - reward: 9.00\n",
            "Episode 300 - reward: 7.40\n",
            "Episode 400 - reward: 7.60\n",
            "Episode 500 - reward: 8.20\n",
            "Episode 600 - reward: 7.90\n",
            "Episode 700 - reward: 7.60\n",
            "Episode 800 - reward: 7.20\n",
            "Episode 900 - reward: 8.30\n",
            "Episode 1000 - reward: 8.60\n",
            "Episode 1100 - reward: 8.10\n",
            "Episode 1200 - reward: 8.50\n",
            "Episode 1300 - reward: 8.10\n",
            "Episode 1400 - reward: 8.20\n",
            "Episode 1500 - reward: 8.10\n",
            "Episode 1600 - reward: 8.30\n",
            "Episode 1700 - reward: 7.60\n",
            "Episode 1800 - reward: 7.40\n",
            "Episode 1900 - reward: 8.20\n",
            "Episode 2000 - reward: 7.60\n",
            "Episode 2100 - reward: 7.70\n",
            "Episode 2200 - reward: 7.30\n",
            "Episode 2300 - reward: 8.10\n",
            "Episode 2400 - reward: 8.20\n",
            "Episode 2500 - reward: 7.60\n",
            "Episode 2600 - reward: 6.90\n",
            "Episode 2700 - reward: 7.30\n",
            "Episode 2800 - reward: 8.10\n",
            "Episode 2900 - reward: 7.90\n",
            "Episode 3000 - reward: 8.30\n",
            "Episode 3100 - reward: 7.60\n",
            "Episode 3200 - reward: 8.40\n",
            "Episode 3300 - reward: 7.90\n",
            "Episode 3400 - reward: 8.30\n",
            "Episode 3500 - reward: 8.20\n",
            "Episode 3600 - reward: 8.10\n",
            "Episode 3700 - reward: 8.30\n",
            "Episode 3800 - reward: 7.40\n",
            "Episode 3900 - reward: 7.50\n",
            "Episode 4000 - reward: 7.60\n",
            "Episode 4100 - reward: 8.10\n",
            "Episode 4200 - reward: 8.00\n",
            "Episode 4300 - reward: 8.20\n",
            "Episode 4400 - reward: 8.60\n",
            "Episode 4500 - reward: 8.10\n",
            "Episode 4600 - reward: 8.00\n",
            "Episode 4700 - reward: 8.20\n",
            "Episode 4800 - reward: 8.40\n",
            "Episode 4900 - reward: 7.60\n",
            "Episode 5000 - reward: 7.40\n",
            "CPU times: user 21min 23s, sys: 28.7 s, total: 21min 52s\n",
            "Wall time: 21min 57s\n"
          ],
          "name": "stdout"
        }
      ]
    },
    {
      "cell_type": "markdown",
      "metadata": {
        "colab_type": "text",
        "id": "CSND18K4fTmD"
      },
      "source": [
        "On my PC:\n",
        "\n",
        " Average time for playing an episode: 1.97428691 <br>\n",
        " Average time for updating the agent: 26.46678982\n",
        "\n",
        " On Colab notebook:\n",
        "\n",
        " Average time for playing an episode:  1.11658633 <br>\n",
        " Average time for updating the agent: 18.63836179\n"
      ]
    },
    {
      "cell_type": "markdown",
      "metadata": {
        "colab_type": "text",
        "id": "xxejRxWmjv9v"
      },
      "source": [
        "With GPU\n",
        "\n",
        "Average time for playing an episode: 0.43020332 <br>\n",
        "Average time for updating the agent: 0.64481306\n"
      ]
    },
    {
      "cell_type": "code",
      "metadata": {
        "colab_type": "code",
        "id": "rkdAxrzyfTmG",
        "outputId": "b4ba3529-b2f7-4609-e6d1-217953d63db8",
        "colab": {
          "base_uri": "https://localhost:8080/",
          "height": 411
        }
      },
      "source": [
        "plt.figure(figsize=(8,6))\n",
        "n_epochs = np.arange(100, len(score))\n",
        "average_score = np.array([np.mean(score[i:i+100]) for i in range(len(score)-100)])\n",
        "plt.plot(n_epochs, average_score, alpha=0.9)\n",
        "plt.title(\"Performance\", fontsize=16)\n",
        "plt.xlabel(\"Number of epochs\", fontsize=16)\n",
        "plt.ylabel(\"Total reward\", fontsize=16)\n",
        "plt.show()"
      ],
      "execution_count": 11,
      "outputs": [
        {
          "output_type": "display_data",
          "data": {
            "image/png": "[encoded data removed]",
            "text/plain": [
              "<Figure size 576x432 with 1 Axes>"
            ]
          },
          "metadata": {
            "tags": []
          }
        }
      ]
    },
    {
      "cell_type": "code",
      "metadata": {
        "id": "HRZNea0rKVE_",
        "colab_type": "code",
        "colab": {}
      },
      "source": [
        "save = False\n",
        "if colab and save:\n",
        "    %cd ~\n",
        "    parent_dir = \"/content/gdrive/My Drive/Colab Notebooks/\"\n",
        "    save_dir  = \"RelationalTrained/\"\n",
        "    %cd \"{parent_dir}\"\n",
        "    !mkdir \"{save_dir}\"\n",
        "    torch.save(trained_agent, save_dir+\"trained_agent1\")\n",
        "    np.save(save_dir+\"performance1\", score)\n",
        "    np.save(save_dir+'HP1', HPs)\n",
        "    np.save(save_dir+\"game_params1\", game_params)"
      ],
      "execution_count": 0,
      "outputs": []
    },
    {
      "cell_type": "code",
      "metadata": {
        "id": "ztpNII5zNNqa",
        "colab_type": "code",
        "outputId": "850f6fa3-1c6c-44f2-cb98-07cf90a08ee1",
        "colab": {
          "base_uri": "https://localhost:8080/",
          "height": 34
        }
      },
      "source": [
        "reload = True\n",
        "if reload:\n",
        "    if colab:\n",
        "        %cd ~\n",
        "        parent_dir = \"/content/gdrive/My Drive/Colab Notebooks/\"\n",
        "        save_dir  = \"RelationalTrained/\"\n",
        "    else:\n",
        "        pass\n",
        "    reloaded_agent = torch.load(parent_dir+save_dir+\"trained_agent1\")\n",
        "    reloaded_score = np.load(parent_dir+save_dir+\"performance1.npy\")\n",
        "    reloaded_HPs = np.load(parent_dir+save_dir+\"HP1.npy\", allow_pickle=True).item()\n",
        "    reloaded_game_params = np.load(parent_dir+save_dir+\"game_params1.npy\", allow_pickle=True).item()"
      ],
      "execution_count": 0,
      "outputs": [
        {
          "output_type": "stream",
          "text": [
            "/root\n"
          ],
          "name": "stdout"
        }
      ]
    },
    {
      "cell_type": "code",
      "metadata": {
        "id": "ZkHyFWVpg4Ex",
        "colab_type": "code",
        "colab": {}
      },
      "source": [
        ""
      ],
      "execution_count": 0,
      "outputs": []
    }
  ]
}