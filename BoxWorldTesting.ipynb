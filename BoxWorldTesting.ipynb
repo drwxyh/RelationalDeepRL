{
 "cells": [
  {
   "cell_type": "code",
   "execution_count": null,
   "metadata": {
    "colab": {
     "base_uri": "https://localhost:8080/",
     "height": 471
    },
    "colab_type": "code",
    "id": "R9EYGzHsgtK6",
    "outputId": "0a7b2841-a8fa-4be4-a28c-a2b7306bdf51"
   },
   "outputs": [],
   "source": [
    "colab = False\n",
    "\n",
    "if colab:\n",
    "    from google.colab import drive\n",
    "    drive.mount('/content/gdrive')\n",
    "    !git clone https://github.com/deepmind/pycolab.git\n",
    "    !git clone https://github.com/nicoladainese96/RelationalModule.git\n",
    "    !pip install pycolab"
   ]
  },
  {
   "cell_type": "code",
   "execution_count": null,
   "metadata": {
    "colab": {},
    "colab_type": "code",
    "id": "YhQ0STsMfTkc"
   },
   "outputs": [],
   "source": [
    "import numpy as np\n",
    "import matplotlib.pyplot as plt\n",
    "import torch\n",
    "from RelationalModule import ActorCritic\n",
    "from RelationalModule import train_agent as train\n",
    "from importlib import reload"
   ]
  },
  {
   "cell_type": "code",
   "execution_count": null,
   "metadata": {
    "colab": {
     "base_uri": "https://localhost:8080/",
     "height": 34
    },
    "colab_type": "code",
    "id": "6iwtqRC6fTkx",
    "outputId": "3b67d72e-77ed-40bb-aef1-15e8ef9da357"
   },
   "outputs": [],
   "source": [
    "reload(train)"
   ]
  },
  {
   "cell_type": "code",
   "execution_count": null,
   "metadata": {
    "colab": {},
    "colab_type": "code",
    "id": "bec0WsZRfTlG"
   },
   "outputs": [],
   "source": [
    "game_params = dict(grid_size=12,\n",
    "                solution_length=[1],\n",
    "                num_forward = [1], # number of distractors\n",
    "                num_backward=[0], # just set to 0 for now\n",
    "                branch_length=1 # length of forward distractors\n",
    "               )"
   ]
  },
  {
   "cell_type": "code",
   "execution_count": null,
   "metadata": {
    "colab": {
     "base_uri": "https://localhost:8080/",
     "height": 34
    },
    "colab_type": "code",
    "id": "HDHaeLwhfTlT",
    "outputId": "6fbb7677-577b-4f05-cdac-3d458a7ca317",
    "scrolled": true
   },
   "outputs": [],
   "source": [
    "\n",
    "HPs = dict(action_space=4,\n",
    "           lr=1e-2,\n",
    "           gamma=0.99,\n",
    "           TD=True,\n",
    "           twin=True,\n",
    "           n_steps = 3\n",
    "           )\n",
    "if colab:\n",
    "    HPs['device'] = 'cuda'\n",
    "else:\n",
    "    HPs['device'] = 'cpu'\n",
    "\n",
    "print('device: ', HPs['device'])  \n",
    "agent = ActorCritic.BoxWorldA2C(**HPs)"
   ]
  },
  {
   "cell_type": "code",
   "execution_count": null,
   "metadata": {
    "colab": {
     "base_uri": "https://localhost:8080/",
     "height": 627
    },
    "colab_type": "code",
    "id": "qVBbpzplfTlr",
    "outputId": "7e8bc7cb-2a93-4609-b1f7-96fd7e0a3228",
    "scrolled": false
   },
   "outputs": [],
   "source": [
    "%%time\n",
    "results = train.train_boxworld(agent, game_params, n_episodes = 10, return_agent=True)\n",
    "score, asymptotic_score, asymptotic_std, trained_agent, time_profile = results"
   ]
  },
  {
   "cell_type": "markdown",
   "metadata": {
    "colab_type": "text",
    "id": "CSND18K4fTmD"
   },
   "source": [
    "On my PC:\n",
    "\n",
    " Average time for playing an episode: 1.97428691 <br>\n",
    " Average time for updating the agent: 26.46678982\n",
    "\n",
    " On Colab notebook:\n",
    "\n",
    " Average time for playing an episode:  1.11658633 <br>\n",
    " Average time for updating the agent: 18.63836179\n"
   ]
  },
  {
   "cell_type": "markdown",
   "metadata": {
    "colab_type": "text",
    "id": "xxejRxWmjv9v"
   },
   "source": [
    "With GPU\n",
    "\n",
    "Average time for playing an episode: 0.43020332 <br>\n",
    "Average time for updating the agent: 0.64481306\n"
   ]
  },
  {
   "cell_type": "code",
   "execution_count": null,
   "metadata": {
    "colab": {
     "base_uri": "https://localhost:8080/",
     "height": 411
    },
    "colab_type": "code",
    "id": "rkdAxrzyfTmG",
    "outputId": "630698dd-9c1a-485c-f830-8a896b8c35f2"
   },
   "outputs": [],
   "source": [
    "plt.figure(figsize=(8,6))\n",
    "n_epochs = np.arange(len(score))\n",
    "plt.plot(n_epochs, score, alpha=0.9)\n",
    "plt.title(\"Performance\", fontsize=16)\n",
    "plt.xlabel(\"Number of epochs\", fontsize=16)\n",
    "plt.ylabel(\"Total reward (max=500)\", fontsize=16)\n",
    "plt.show()"
   ]
  }
 ],
 "metadata": {
  "accelerator": "GPU",
  "colab": {
   "name": "BoxWorldTesting.ipynb",
   "provenance": []
  },
  "kernelspec": {
   "display_name": "torch",
   "language": "python",
   "name": "torch"
  },
  "language_info": {
   "codemirror_mode": {
    "name": "ipython",
    "version": 3
   },
   "file_extension": ".py",
   "mimetype": "text/x-python",
   "name": "python",
   "nbconvert_exporter": "python",
   "pygments_lexer": "ipython3",
   "version": "3.7.6"
  }
 },
 "nbformat": 4,
 "nbformat_minor": 1
}
