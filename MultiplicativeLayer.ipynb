{
 "cells": [
  {
   "cell_type": "markdown",
   "metadata": {},
   "source": [
    "# Multiplicative Layer\n",
    "\n",
    "Idea: use some layers to apply global masking on other layers\n",
    "\n",
    "Input (batch, axis_1, ..., axis_k, n_channels)\n",
    "- 1x1 Conv2d + 3x3 Conv2d with padding\n",
    "- Split in info_channels (l) and mask_channels (m) - ReLU for info channels, sigmoid for mask channles\n",
    "- Multiplication of all info_channels with all mask_channels \n",
    "- 1x1 Conv2d with ReLU\n",
    "\n",
    "Learning: How to compute layers of information and layers of filters (and finally make a distinction between them)\n",
    "\n",
    "Interpretation: One Hot Encoding provides us with powerful filters, but linear functions with activation functions applyied to the result lack of the expressive power of boolean filters.\n",
    "\n",
    "If I have a matrix containing some information (e.g. whatever intensive property) and another one containing binary values saying something about the presence or not of a certain property in a certain cell of the first matrix, with standard neural networks I have a hard time to perform logical operations such as:\n",
    "\"If this is 1 then copy the value, otherwise set it to zero\".\n",
    "\n",
    "With multiplication between layers we just need to do:\n",
    "matrix1*matrix2 (element wise) and we will have that only the values of the \"selected\" cells flow, whereas the other ones are set to zero.\n",
    "\n",
    "I think that the layers/channels resulting from a multiplicative layer could easily summarize properties owned by specific entities, so that if the condition is specific enough (i.e. there is just one of those entities), taking the maximum of that channel will easily yield the information that we want."
   ]
  },
  {
   "cell_type": "code",
   "execution_count": 1,
   "metadata": {},
   "outputs": [],
   "source": [
    "import numpy as np\n",
    "import matplotlib.pyplot as plt\n",
    "\n",
    "import torch \n",
    "import torch.nn as nn\n",
    "import torch.nn.functional as F"
   ]
  },
  {
   "cell_type": "code",
   "execution_count": 11,
   "metadata": {},
   "outputs": [],
   "source": [
    "class MultiplicativeLayer(nn.Module):\n",
    "    def __init__(self, n_channels, info_channels, mask_channels, out_channels):\n",
    "        super(MultiplicativeLayer, self).__init__()\n",
    "        self.mask_channels = mask_channels\n",
    "        \n",
    "        self.info_linear = nn.Conv2d(n_channels, info_channels, kernel_size=1)\n",
    "        self.mask_linear = nn.Conv2d(n_channels, mask_channels, kernel_size=1)\n",
    "        self.conv1by1 = nn.Conv2d(info_channels*mask_channels, out_channels, kernel_size=1)\n",
    "        \n",
    "    def forward(self, x):\n",
    "        info_layers = F.relu(self.info_linear(x))\n",
    "        mask_layers = torch.sigmoid(self.mask_linear(x)) \n",
    "        out = []\n",
    "        for m in range(self.mask_channels):\n",
    "            out.append(info_layers*mask_layers[:,m,...].unsqueeze(1))\n",
    "        out = torch.cat(out, axis=1)\n",
    "        out = F.relu(self.conv1by1(out))\n",
    "        return out"
   ]
  },
  {
   "cell_type": "code",
   "execution_count": 12,
   "metadata": {},
   "outputs": [],
   "source": [
    "class MultiplicativeLayer_v1(nn.Module):\n",
    "    def __init__(self, n_channels, info_channels, mask_channels, out_channels):\n",
    "        super(MultiplicativeLayer_v1, self).__init__()\n",
    "        self.mask_channels = mask_channels\n",
    "        \n",
    "        self.info_linear1by1 = nn.Conv2d(n_channels, info_channels, kernel_size=1)\n",
    "        self.mask_linear1by1 = nn.Conv2d(n_channels, mask_channels, kernel_size=1)\n",
    "        self.info_linear3by3 = nn.Conv2d(n_channels, info_channels, kernel_size=3, padding=1)\n",
    "        self.mask_linear3by3 = nn.Conv2d(n_channels, mask_channels, kernel_size=3, padding=1)\n",
    "        self.conv1by1 = nn.Conv2d(info_channels*mask_channels, out_channels, kernel_size=1)\n",
    "        \n",
    "    def forward(self, x):\n",
    "        info_layers = F.relu(self.info_linear1by1(x) + self.info_linear3by3(x))\n",
    "        mask_layers = torch.sigmoid(self.mask_linear1by1(x)+self.mask_linear3by3(x)) \n",
    "        out = []\n",
    "        for m in range(self.mask_channels):\n",
    "            out.append(info_layers*mask_layers[:,m,...].unsqueeze(1))\n",
    "        out = torch.cat(out, axis=1)\n",
    "        out = F.relu(self.conv1by1(out))\n",
    "        return out"
   ]
  },
  {
   "cell_type": "code",
   "execution_count": 13,
   "metadata": {},
   "outputs": [],
   "source": [
    "n_channels = 5\n",
    "info_channels = 3 \n",
    "mask_channels = 2\n",
    "out_channles = 8\n",
    "\n",
    "multi_layer = MultiplicativeLayer_v1(n_channels, info_channels, mask_channels, out_channles)\n",
    "x = torch.rand(5,n_channels,16,16)"
   ]
  },
  {
   "cell_type": "code",
   "execution_count": 14,
   "metadata": {},
   "outputs": [
    {
     "data": {
      "text/plain": [
       "torch.Size([5, 8, 16, 16])"
      ]
     },
     "execution_count": 14,
     "metadata": {},
     "output_type": "execute_result"
    }
   ],
   "source": [
    "multi_layer(x).shape"
   ]
  },
  {
   "cell_type": "markdown",
   "metadata": {},
   "source": [
    "## Simple architecture to test Sandbox Actor"
   ]
  },
  {
   "cell_type": "code",
   "execution_count": 8,
   "metadata": {},
   "outputs": [],
   "source": [
    "from Utils import test_env"
   ]
  },
  {
   "cell_type": "code",
   "execution_count": 9,
   "metadata": {},
   "outputs": [],
   "source": [
    "class PosEncoding(nn.Module):\n",
    "\n",
    "    def __init__(self):\n",
    "        super(PosEncoding, self).__init__()\n",
    "\n",
    "    def forward(self, x):\n",
    "        \"\"\"\n",
    "        Accepts an input of shape (batch_size, linear_size, linear_size, n_channels)\n",
    "        \"\"\"\n",
    "        x_ax = x.shape[-2]\n",
    "        y_ax = x.shape[-1]\n",
    "        \n",
    "        x_lin = torch.linspace(-1,1,x_ax)\n",
    "        xx = x_lin.repeat(x.shape[0],y_ax,1).view(-1, 1, y_ax, x_ax).transpose(3,2)\n",
    "        \n",
    "        y_lin = torch.linspace(-1,1,y_ax).view(-1,1)\n",
    "        yy = y_lin.repeat(x.shape[0],1,x_ax).view(-1, 1, y_ax, x_ax).transpose(3,2)\n",
    "        \n",
    "        if torch.cuda.is_available():\n",
    "            device = torch.device(\"cuda\")\n",
    "        else:\n",
    "            device = torch.device(\"cpu\")\n",
    "    \n",
    "        x = torch.cat((x,xx.to(device),yy.to(device)), axis=1)\n",
    "        return x"
   ]
  },
  {
   "cell_type": "code",
   "execution_count": 15,
   "metadata": {},
   "outputs": [],
   "source": [
    "debug = True\n",
    "\n",
    "class MultiplicativeNet(nn.Module):\n",
    "    def __init__(self, in_channels=3, info_channels=2, mask_channels=2, out_channels=6):\n",
    "        super(MultiplicativeNet, self).__init__()\n",
    "        \n",
    "        self.out_channels = out_channels\n",
    "        \n",
    "        self.pos_enc = PosEncoding()\n",
    "        self.multi_layer = MultiplicativeLayer(in_channels+2, info_channels, mask_channels, out_channels)\n",
    "        self.MLP = nn.Sequential(\n",
    "                                nn.Linear(out_channels, out_channels),\n",
    "                                nn.ReLU(),\n",
    "                                nn.Linear(out_channels, out_channels),\n",
    "                                nn.ReLU(),\n",
    "                                nn.Linear(out_channels, out_channels),\n",
    "                                nn.Sigmoid()\n",
    "                                )\n",
    "        \n",
    "    def forward(self, x):\n",
    "        if len(x.shape) < 4:\n",
    "            x = x.unsqueeze(0)\n",
    "        x = self.pos_enc(x)\n",
    "        if debug: print(\"x.shape (pos enc): \", x.shape)\n",
    "            \n",
    "        x = self.multi_layer(x)\n",
    "        if debug: print(\"x.shape (multi layer): \", x.shape)\n",
    "        \n",
    "        x = x.reshape((x.shape[0], x.shape[1], -1))\n",
    "        if debug: print(\"x.shape (after rehsape): \", x.shape)\n",
    "        \n",
    "        x, _ = torch.max(x, axis=-1)\n",
    "        if debug: print(\"x.shape (after max): \", x.shape)\n",
    "        \n",
    "        x = self.MLP(x)\n",
    "        if debug: print(\"x.shape (after MLP): \", x.shape)\n",
    "            \n",
    "        return x"
   ]
  },
  {
   "cell_type": "code",
   "execution_count": 16,
   "metadata": {},
   "outputs": [],
   "source": [
    "# Variable parameters\n",
    "X = 10\n",
    "Y = 10\n",
    "initial = [2,0]\n",
    "goal = [2,2]\n",
    "MAX_STEPS = 10\n",
    "\n",
    "game_params = dict(x=X, y=Y, initial=initial, goal=goal, max_steps=MAX_STEPS, \n",
    "                   greyscale_state=True, return_ohe=True)"
   ]
  },
  {
   "cell_type": "code",
   "execution_count": 17,
   "metadata": {},
   "outputs": [],
   "source": [
    "env = test_env.Sandbox(**game_params)"
   ]
  },
  {
   "cell_type": "code",
   "execution_count": 18,
   "metadata": {},
   "outputs": [
    {
     "data": {
      "text/plain": [
       "(3, 12, 12)"
      ]
     },
     "execution_count": 18,
     "metadata": {},
     "output_type": "execute_result"
    }
   ],
   "source": [
    "state = env.reset()\n",
    "state.shape"
   ]
  },
  {
   "cell_type": "code",
   "execution_count": 19,
   "metadata": {},
   "outputs": [],
   "source": [
    "HPs = dict(in_channels = 3, info_channels = 3, mask_channels = 2, out_channels = 8)\n",
    "net = MultiplicativeNet(**HPs)"
   ]
  },
  {
   "cell_type": "code",
   "execution_count": 20,
   "metadata": {},
   "outputs": [
    {
     "name": "stdout",
     "output_type": "stream",
     "text": [
      "device:  cuda\n"
     ]
    },
    {
     "data": {
      "text/plain": [
       "MultiplicativeNet(\n",
       "  (pos_enc): PosEncoding()\n",
       "  (multi_layer): MultiplicativeLayer(\n",
       "    (info_linear): Conv2d(5, 3, kernel_size=(1, 1), stride=(1, 1))\n",
       "    (mask_linear): Conv2d(5, 2, kernel_size=(1, 1), stride=(1, 1))\n",
       "    (conv1by1): Conv2d(6, 8, kernel_size=(1, 1), stride=(1, 1))\n",
       "  )\n",
       "  (MLP): Sequential(\n",
       "    (0): Linear(in_features=8, out_features=8, bias=True)\n",
       "    (1): ReLU()\n",
       "    (2): Linear(in_features=8, out_features=8, bias=True)\n",
       "    (3): ReLU()\n",
       "    (4): Linear(in_features=8, out_features=8, bias=True)\n",
       "    (5): Sigmoid()\n",
       "  )\n",
       ")"
      ]
     },
     "execution_count": 20,
     "metadata": {},
     "output_type": "execute_result"
    }
   ],
   "source": [
    "if torch.cuda.is_available():\n",
    "    device = torch.device(\"cuda\")\n",
    "else:\n",
    "    device = torch.device(\"cpu\")\n",
    "    \n",
    "print(\"device: \", device)\n",
    "\n",
    "net.to(device)"
   ]
  },
  {
   "cell_type": "code",
   "execution_count": 21,
   "metadata": {},
   "outputs": [
    {
     "name": "stdout",
     "output_type": "stream",
     "text": [
      "x.shape (pos enc):  torch.Size([1, 5, 12, 12])\n",
      "x.shape (multi layer):  torch.Size([1, 8, 12, 12])\n",
      "x.shape (after rehsape):  torch.Size([1, 8, 144])\n",
      "x.shape (after max):  torch.Size([1, 8])\n",
      "x.shape (after MLP):  torch.Size([1, 8])\n"
     ]
    },
    {
     "data": {
      "text/plain": [
       "tensor([[0.4233, 0.4374, 0.4852, 0.4750, 0.5305, 0.5389, 0.4214, 0.4910]],\n",
       "       device='cuda:0', grad_fn=<SigmoidBackward>)"
      ]
     },
     "execution_count": 21,
     "metadata": {},
     "output_type": "execute_result"
    }
   ],
   "source": [
    "x = torch.tensor(state).unsqueeze(0).float().to(device)\n",
    "net(x)"
   ]
  },
  {
   "cell_type": "code",
   "execution_count": 22,
   "metadata": {},
   "outputs": [],
   "source": [
    "class MultiplicativeBlock(nn.Module):\n",
    "    def __init__(self, in_channels, out_channels, info_channels=None, mask_channels=None,\n",
    "                    hidden_channels=None, kernel_size=3, stride=1, padding=0, version='v0'):\n",
    "        super(MultiplicativeBlock, self).__init__()\n",
    "        \n",
    "        # Set adaptive parameters for multiplicative layer\n",
    "        if info_channels is None:\n",
    "            info_channels = in_channels // 2\n",
    "        if mask_channels is None:\n",
    "            mask_channels = in_channels // 2\n",
    "        if hidden_channels is None:\n",
    "            hidden_channels = 2*in_channels\n",
    "        \n",
    "        if version == 'v0':\n",
    "            self.net = nn.Sequential( \n",
    "                     MultiplicativeLayer(in_channels, info_channels, mask_channels, hidden_channels),\n",
    "                     nn.Conv2d(hidden_channels, out_channels, kernel_size, stride, padding),\n",
    "                     nn.ReLU()  )\n",
    "        else:\n",
    "            self.net = nn.Sequential( \n",
    "                     MultiplicativeLayer_v1(in_channels, info_channels, mask_channels, hidden_channels),\n",
    "                     nn.Conv2d(hidden_channels, out_channels, kernel_size, stride, padding),\n",
    "                     nn.ReLU()  )\n",
    "        \n",
    "    def forward(self, x):\n",
    "        x = self.net(x)\n",
    "        return x"
   ]
  },
  {
   "cell_type": "code",
   "execution_count": 25,
   "metadata": {},
   "outputs": [
    {
     "data": {
      "text/plain": [
       "MultiplicativeBlock(\n",
       "  (net): Sequential(\n",
       "    (0): MultiplicativeLayer(\n",
       "      (info_linear): Conv2d(3, 1, kernel_size=(1, 1), stride=(1, 1))\n",
       "      (mask_linear): Conv2d(3, 1, kernel_size=(1, 1), stride=(1, 1))\n",
       "      (conv1by1): Conv2d(1, 6, kernel_size=(1, 1), stride=(1, 1))\n",
       "    )\n",
       "    (1): Conv2d(6, 16, kernel_size=(3, 3), stride=(1, 1))\n",
       "    (2): ReLU()\n",
       "  )\n",
       ")"
      ]
     },
     "execution_count": 25,
     "metadata": {},
     "output_type": "execute_result"
    }
   ],
   "source": [
    "multi_block = MultiplicativeBlock(in_channels = 3, out_channels = 16)\n",
    "multi_block.to(device)"
   ]
  },
  {
   "cell_type": "code",
   "execution_count": 26,
   "metadata": {},
   "outputs": [
    {
     "data": {
      "text/plain": [
       "torch.Size([1, 16, 10, 10])"
      ]
     },
     "execution_count": 26,
     "metadata": {},
     "output_type": "execute_result"
    }
   ],
   "source": [
    "x = torch.tensor(state).unsqueeze(0).float().to(device)\n",
    "multi_block(x).shape"
   ]
  },
  {
   "cell_type": "code",
   "execution_count": 27,
   "metadata": {},
   "outputs": [],
   "source": [
    "class ResidualLayer(nn.Module):\n",
    "    \"\"\"\n",
    "    Implements residual layer. Use LayerNorm and ReLU activation before applying the layers.\n",
    "    \"\"\"\n",
    "    def __init__(self, n_features, n_hidden):\n",
    "        super(ResidualLayer, self).__init__()\n",
    "        self.norm = nn.LayerNorm(n_features)\n",
    "        self.w1 = nn.Linear(n_features, n_hidden)\n",
    "        self.w2 = nn.Linear(n_hidden, n_features)\n",
    "\n",
    "    def forward(self, x):\n",
    "        out = F.relu(self.w1(self.norm(x)))\n",
    "        out = self.w2(out)\n",
    "        return out + x"
   ]
  },
  {
   "cell_type": "code",
   "execution_count": 28,
   "metadata": {},
   "outputs": [],
   "source": [
    "debug=True\n",
    "\n",
    "class MultiplicativeConvNet(nn.Module):\n",
    "    \n",
    "    def __init__(self, linear_size, in_channels=3, n_multi_blocks=2, hidden_channels=[12,24], max_pool_size=2,\n",
    "                 n_features = 64, n_residual_layers=2, residual_hidden_dim=64):\n",
    "        \n",
    "        super(MultiplicativeConvNet, self).__init__()\n",
    "        \n",
    "        assert len(hidden_channels) == n_multi_blocks, \"Provide a list of hidden_channels of the same length of n_multi_blocks\"\n",
    "        \n",
    "        self.out_channels = hidden_channels[-1]\n",
    "        self.out_size = self.compute_out_size(linear_size, n_multi_blocks, max_pool_size)\n",
    "        self.n_features = n_features\n",
    "        if debug:\n",
    "            print(\"Out channels after forward1: \", self.out_channels)\n",
    "            print(\"Linear size after forward1: \", self.out_size)\n",
    "            \n",
    "        multi_blocks = nn.ModuleList([MultiplicativeBlock(in_channels+2, hidden_channels[0])]+\n",
    "                                          [MultiplicativeBlock(hidden_channels[i], hidden_channels[i+1]) \n",
    "                                           for i in range(n_multi_blocks-1)])\n",
    "        self.forward1 = nn.Sequential( PosEncoding(), *multi_blocks)\n",
    "        self.maxpool = nn.MaxPool2d(max_pool_size)\n",
    "        \n",
    "        residual_MLP = nn.ModuleList([ResidualLayer(n_features, residual_hidden_dim)\n",
    "                                      for _ in range(n_residual_layers)])\n",
    "        self.forward2 = nn.Sequential(nn.Linear(self.out_channels*self.out_size**2, n_features), *residual_MLP)\n",
    "    \n",
    "    def forward(self, x):\n",
    "        if len(x.shape) < 4:\n",
    "            x = x.unsqueeze(0)\n",
    "        x = self.forward1(x)\n",
    "        if debug: print(\"x.shape (after forward1): \", x.shape)\n",
    "            \n",
    "        x = self.maxpool(x)\n",
    "        if debug: print(\"x.shape (after maxpool): \", x.shape)\n",
    "            \n",
    "        x = x.reshape((x.shape[0],-1))\n",
    "        if debug: print(\"x.shape (after rehsape): \", x.shape)\n",
    "        \n",
    "        x = self.forward2(x)\n",
    "        if debug: print(\"x.shape (after residual MLP): \", x.shape)\n",
    "            \n",
    "        return x\n",
    "    \n",
    "    @staticmethod\n",
    "    def compute_out_size(linear_size, n_multi_blocks, max_pool_size):\n",
    "        size = (linear_size - 2*n_multi_blocks) // max_pool_size\n",
    "        return size"
   ]
  },
  {
   "cell_type": "code",
   "execution_count": 29,
   "metadata": {},
   "outputs": [
    {
     "data": {
      "text/plain": [
       "(3, 12, 12)"
      ]
     },
     "execution_count": 29,
     "metadata": {},
     "output_type": "execute_result"
    }
   ],
   "source": [
    "state.shape"
   ]
  },
  {
   "cell_type": "code",
   "execution_count": 30,
   "metadata": {},
   "outputs": [
    {
     "name": "stdout",
     "output_type": "stream",
     "text": [
      "Out channels after forward1:  24\n",
      "Linear size after forward1:  4\n"
     ]
    }
   ],
   "source": [
    "HPs = dict(linear_size = state.shape[-1],\n",
    "           in_channels = state.shape[0]\n",
    "          )\n",
    "\n",
    "multi_convnet = MultiplicativeConvNet(**HPs)"
   ]
  },
  {
   "cell_type": "code",
   "execution_count": 32,
   "metadata": {
    "scrolled": false
   },
   "outputs": [
    {
     "name": "stdout",
     "output_type": "stream",
     "text": [
      "x.shape (after forward1):  torch.Size([1, 24, 8, 8])\n",
      "x.shape (after maxpool):  torch.Size([1, 24, 4, 4])\n",
      "x.shape (after rehsape):  torch.Size([1, 384])\n",
      "x.shape (after residual MLP):  torch.Size([1, 64])\n"
     ]
    },
    {
     "data": {
      "text/plain": [
       "torch.Size([1, 64])"
      ]
     },
     "execution_count": 32,
     "metadata": {},
     "output_type": "execute_result"
    }
   ],
   "source": [
    "x = torch.tensor(state).unsqueeze(0).float().to(device)\n",
    "multi_convnet.to(device)\n",
    "multi_convnet(x).shape"
   ]
  },
  {
   "cell_type": "markdown",
   "metadata": {},
   "source": [
    "# Looking at  a trained network"
   ]
  },
  {
   "cell_type": "code",
   "execution_count": 33,
   "metadata": {},
   "outputs": [],
   "source": [
    "load_dir = 'Results/Sandbox/Supervised/'\n",
    "\n",
    "multi_trained_net = torch.load(load_dir+\"net_S_multiplicative_4x4-channels_sigmoid_10by10_10000-samples_100-epochs_lr5e-3_JRWS\")"
   ]
  },
  {
   "cell_type": "code",
   "execution_count": 34,
   "metadata": {},
   "outputs": [],
   "source": [
    "from Utils import test_env"
   ]
  },
  {
   "cell_type": "code",
   "execution_count": 35,
   "metadata": {},
   "outputs": [],
   "source": [
    "# Variable parameters\n",
    "X = 10\n",
    "Y = 10\n",
    "initial = [0,0]\n",
    "goal = [2,2]\n",
    "MAX_STEPS = 25\n",
    "\n",
    "game_params = dict(x=X, y=Y, initial=initial, goal=goal, max_steps=MAX_STEPS, \n",
    "                   greyscale_state=True, return_ohe=True)"
   ]
  },
  {
   "cell_type": "code",
   "execution_count": 36,
   "metadata": {},
   "outputs": [],
   "source": [
    "env = test_env.Sandbox(**game_params)"
   ]
  },
  {
   "cell_type": "code",
   "execution_count": 37,
   "metadata": {},
   "outputs": [],
   "source": [
    "grey_state = env.enc_to_grey()\n",
    "enc_state = env.grey_to_onehot(grey_state)"
   ]
  },
  {
   "cell_type": "code",
   "execution_count": 38,
   "metadata": {},
   "outputs": [
    {
     "data": {
      "text/plain": [
       "torch.Size([1, 12, 12, 4])"
      ]
     },
     "execution_count": 38,
     "metadata": {},
     "output_type": "execute_result"
    }
   ],
   "source": [
    "#info channels\n",
    "x = torch.tensor(enc_state).float().to(device).unsqueeze(0)\n",
    "x = multi_trained_net.net.pos_enc(x)\n",
    "x = x.permute(0,2,3,1)\n",
    "info_channels = multi_trained_net.net.multi_layer.info_linear(x)\n",
    "info_channels.shape"
   ]
  },
  {
   "cell_type": "code",
   "execution_count": 39,
   "metadata": {},
   "outputs": [
    {
     "data": {
      "image/png": "[encoded data removed]",
      "text/plain": [
       "<Figure size 432x288 with 1 Axes>"
      ]
     },
     "metadata": {
      "needs_background": "light"
     },
     "output_type": "display_data"
    },
    {
     "data": {
      "image/png": "[encoded data removed]",
      "text/plain": [
       "<Figure size 432x288 with 1 Axes>"
      ]
     },
     "metadata": {
      "needs_background": "light"
     },
     "output_type": "display_data"
    },
    {
     "data": {
      "image/png": "[encoded data removed]",
      "text/plain": [
       "<Figure size 432x288 with 1 Axes>"
      ]
     },
     "metadata": {
      "needs_background": "light"
     },
     "output_type": "display_data"
    },
    {
     "data": {
      "image/png": "[encoded data removed]",
      "text/plain": [
       "<Figure size 432x288 with 1 Axes>"
      ]
     },
     "metadata": {
      "needs_background": "light"
     },
     "output_type": "display_data"
    }
   ],
   "source": [
    "for i in range(info_channels.shape[-1]):\n",
    "    im = info_channels[...,i].squeeze().cpu().detach().numpy()\n",
    "    plt.imshow(im, cmap='plasma')\n",
    "    plt.show()"
   ]
  },
  {
   "cell_type": "code",
   "execution_count": 40,
   "metadata": {},
   "outputs": [
    {
     "data": {
      "text/plain": [
       "torch.Size([1, 12, 12, 4])"
      ]
     },
     "execution_count": 40,
     "metadata": {},
     "output_type": "execute_result"
    }
   ],
   "source": [
    "#mask channels\n",
    "sigmoid = True\n",
    "\n",
    "x = torch.tensor(enc_state).float().to(device).unsqueeze(0)\n",
    "x = multi_trained_net.net.pos_enc(x)\n",
    "x = x.permute(0,2,3,1)\n",
    "if sigmoid:\n",
    "    mask_channels = torch.sigmoid(multi_trained_net.net.multi_layer.mask_linear(x))\n",
    "else:\n",
    "    mask_channels = F.relu(multi_trained_net.net.multi_layer.mask_linear(x))\n",
    "mask_channels.shape"
   ]
  },
  {
   "cell_type": "code",
   "execution_count": 41,
   "metadata": {},
   "outputs": [
    {
     "data": {
      "image/png": "[encoded data removed]",
      "text/plain": [
       "<Figure size 432x288 with 1 Axes>"
      ]
     },
     "metadata": {
      "needs_background": "light"
     },
     "output_type": "display_data"
    },
    {
     "data": {
      "image/png": "[encoded data removed]",
      "text/plain": [
       "<Figure size 432x288 with 1 Axes>"
      ]
     },
     "metadata": {
      "needs_background": "light"
     },
     "output_type": "display_data"
    },
    {
     "data": {
      "image/png": "[encoded data removed]",
      "text/plain": [
       "<Figure size 432x288 with 1 Axes>"
      ]
     },
     "metadata": {
      "needs_background": "light"
     },
     "output_type": "display_data"
    },
    {
     "data": {
      "image/png": "[encoded data removed]",
      "text/plain": [
       "<Figure size 432x288 with 1 Axes>"
      ]
     },
     "metadata": {
      "needs_background": "light"
     },
     "output_type": "display_data"
    }
   ],
   "source": [
    "for i in range(mask_channels.shape[-1]):\n",
    "    im = mask_channels[...,i].squeeze().cpu().detach().numpy()\n",
    "    plt.imshow(im, cmap='plasma')\n",
    "    plt.show()"
   ]
  }
 ],
 "metadata": {
  "kernelspec": {
   "display_name": "Python 3",
   "language": "python",
   "name": "python3"
  },
  "language_info": {
   "codemirror_mode": {
    "name": "ipython",
    "version": 3
   },
   "file_extension": ".py",
   "mimetype": "text/x-python",
   "name": "python",
   "nbconvert_exporter": "python",
   "pygments_lexer": "ipython3",
   "version": "3.7.6"
  }
 },
 "nbformat": 4,
 "nbformat_minor": 2
}
